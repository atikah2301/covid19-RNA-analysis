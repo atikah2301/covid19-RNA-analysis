{
 "cells": [
  {
   "cell_type": "markdown",
   "metadata": {
    "slideshow": {
     "slide_type": "-"
    }
   },
   "source": [
    "# MTH5001 Introduction to Computer Programming - Lecture 3\n",
    "Module organisers Dr Lucas Lacasa and Prof. Thomas Prellberg"
   ]
  },
  {
   "cell_type": "code",
   "execution_count": 1,
   "metadata": {},
   "outputs": [],
   "source": [
    "import math # mainly for factorial below\n",
    "import numpy as np # import some standard modules, just in case we need them\n",
    "import matplotlib.pyplot as plt"
   ]
  },
  {
   "cell_type": "markdown",
   "metadata": {},
   "source": [
    "Today: more on sequences (indexing/slicing/list comprehension), plotting, and built-in functions"
   ]
  },
  {
   "cell_type": "markdown",
   "metadata": {},
   "source": [
    "## More on sequences"
   ]
  },
  {
   "cell_type": "markdown",
   "metadata": {},
   "source": [
    "### Reminder: indexing"
   ]
  },
  {
   "cell_type": "code",
   "execution_count": 2,
   "metadata": {},
   "outputs": [
    {
     "name": "stdout",
     "output_type": "stream",
     "text": [
      "1 1\n",
      "5\n",
      "233\n",
      "233\n"
     ]
    }
   ],
   "source": [
    "fibonacci=[1,1,2,3,5,8,13,21,34,55,89,144,233]\n",
    "print(fibonacci[0],fibonacci[1]) # indexing starts at ZERO !!!\n",
    "print(fibonacci[4])\n",
    "print(fibonacci[-1]) # last element of the list\n",
    "print(fibonacci[len(fibonacci)-1])"
   ]
  },
  {
   "cell_type": "markdown",
   "metadata": {},
   "source": [
    "### Slice"
   ]
  },
  {
   "cell_type": "markdown",
   "metadata": {},
   "source": [
    "We can select sublists (slices) from a list by using two indices separated by a colon. The first index is the start index, and the second one is the first excluded index. The indices can also be omitted."
   ]
  },
  {
   "cell_type": "code",
   "execution_count": null,
   "metadata": {},
   "outputs": [],
   "source": [
    "print(fibonacci)\n",
    "print(fibonacci[4:])\n",
    "print(fibonacci[4:4+3])\n",
    "print(fibonacci[:7])\n",
    "print(fibonacci[:])"
   ]
  },
  {
   "cell_type": "markdown",
   "metadata": {},
   "source": [
    "For example, the slice (sublist) `fibonacci[4:7]` consists of `fibonacci[4]`, `fibonacci[5]` and `fibonacci[6]`, but not `fibonacci[7]`, and the number of entries in this slice is equal to $7-4=3$."
   ]
  },
  {
   "cell_type": "markdown",
   "metadata": {},
   "source": [
    "Consistent with this, a slice with both indices being equal is an empty list."
   ]
  },
  {
   "cell_type": "code",
   "execution_count": null,
   "metadata": {},
   "outputs": [],
   "source": [
    "print(fibonacci[5:5])\n",
    "print(len([]))\n",
    "print(fibonacci[5:4])"
   ]
  },
  {
   "cell_type": "markdown",
   "metadata": {},
   "source": [
    "As above, we can also use negative indices. For example, the slice `fibonacci[3:-2]` starts at  the entry with index $3$ and omits the final two entries."
   ]
  },
  {
   "cell_type": "code",
   "execution_count": null,
   "metadata": {},
   "outputs": [],
   "source": [
    "print(fibonacci[3:-2])\n",
    "print(fibonacci[-10:7])"
   ]
  },
  {
   "cell_type": "markdown",
   "metadata": {},
   "source": [
    "Slicing with `[-n,:]` gives the last $n$ entries."
   ]
  },
  {
   "cell_type": "code",
   "execution_count": null,
   "metadata": {},
   "outputs": [],
   "source": [
    "fibonacci[-4:]"
   ]
  },
  {
   "cell_type": "markdown",
   "metadata": {},
   "source": [
    "Finally, by giving a third argument, we can skip over entries. To give out every second entry in the list, we can write the following."
   ]
  },
  {
   "cell_type": "code",
   "execution_count": null,
   "metadata": {},
   "outputs": [],
   "source": [
    "print(fibonacci)\n",
    "print(fibonacci[0:8:2])\n",
    "print(fibonacci[1:13:2])"
   ]
  },
  {
   "cell_type": "markdown",
   "metadata": {},
   "source": [
    "Slicing works also with tuples:"
   ]
  },
  {
   "cell_type": "code",
   "execution_count": null,
   "metadata": {},
   "outputs": [],
   "source": [
    "today=(2019,'February',21)\n",
    "print(today)"
   ]
  },
  {
   "cell_type": "code",
   "execution_count": null,
   "metadata": {
    "scrolled": true
   },
   "outputs": [],
   "source": [
    "print(today[0])\n",
    "print(today[0:1])\n",
    "print(today[1:3])"
   ]
  },
  {
   "cell_type": "code",
   "execution_count": null,
   "metadata": {},
   "outputs": [],
   "source": [
    "(2018+1,)"
   ]
  },
  {
   "cell_type": "markdown",
   "metadata": {},
   "source": [
    "### Creating sequences made easier"
   ]
  },
  {
   "cell_type": "markdown",
   "metadata": {},
   "source": [
    "So far, we have seen that we can create lists in Python by writing them out by hand, which is inefficient, or by using the range object, which is efficient but restricted to equally spaced integers. What if we wanted to generate a list of the first 71 square numbers? There is a nice construction in Python called [list comprehensions](http://docs.python.org/3/tutorial/datastructures.html#list-comprehensions) allowing us to do just this:"
   ]
  },
  {
   "cell_type": "code",
   "execution_count": null,
   "metadata": {},
   "outputs": [],
   "source": [
    "print([n**2 for n in range(1,72)])"
   ]
  },
  {
   "cell_type": "markdown",
   "metadata": {},
   "source": [
    "We have just generated a list using the syntax \"\\[*expression* **for** *item* **in** *iterable*\\]\", where \n",
    "\n",
    "* *iterable* is a range, list, tuple, or any other kind of sequence object\n",
    "* *item* is a variable name which sequentially takes each value in the iterable\n",
    "* *expression* is a Python expression which is evaluated for each value of *item*"
   ]
  },
  {
   "cell_type": "markdown",
   "metadata": {},
   "source": [
    "Lets compare the following three ways of generating a list of the first 20 integers. We can generate this list by hand, create the range object and convert it to a list, or use list comprehension."
   ]
  },
  {
   "cell_type": "code",
   "execution_count": null,
   "metadata": {},
   "outputs": [],
   "source": [
    "list1=[1,2,3,4,5,6,7,8,9,10,11,12,13,14,15,16,17,18,19,20]\n",
    "print(list1)\n",
    "list2=list(range(1,21))\n",
    "print(list2)\n",
    "list3=[n for n in range(1,21)]\n",
    "print(list3)"
   ]
  },
  {
   "cell_type": "markdown",
   "metadata": {},
   "source": [
    "However, the list comprehension syntax is the most useful if we can explicitly express the $n$-th element of a list. Here are some more examples."
   ]
  },
  {
   "cell_type": "code",
   "execution_count": null,
   "metadata": {},
   "outputs": [],
   "source": [
    "print([n%3 for n in range(21)])\n",
    "print([k**k for k in range(1,10)])\n",
    "print([math.factorial(i) for i in range(3,20,2)])\n",
    "print([1 for n in range(30)])"
   ]
  },
  {
   "cell_type": "markdown",
   "metadata": {},
   "source": [
    "Remember that the *iterable* does not need to be a range object, but can be a list."
   ]
  },
  {
   "cell_type": "markdown",
   "metadata": {},
   "source": [
    "#### Local (dummy) variables"
   ]
  },
  {
   "cell_type": "markdown",
   "metadata": {},
   "source": [
    "Note that in the above creation of lists, I have chosen different names for the variable. These variables are called *local* or sometimes *dummy*; they are only locally defined and are forgotten the moment the code has been run, and their name does not matter at all, it is just a place holder."
   ]
  },
  {
   "cell_type": "code",
   "execution_count": null,
   "metadata": {},
   "outputs": [],
   "source": [
    "[a for a in range(3)],[_2 for _2 in range(3)],\\\n",
    "[some_name_I_dont_care_about for some_name_I_dont_care_about in range(3)]"
   ]
  },
  {
   "cell_type": "markdown",
   "metadata": {},
   "source": [
    "Neither `a`, `_2`, or `some_name_I_dont_care_about` are known after the previous code has been run"
   ]
  },
  {
   "cell_type": "code",
   "execution_count": null,
   "metadata": {},
   "outputs": [],
   "source": [
    "# a"
   ]
  },
  {
   "cell_type": "markdown",
   "metadata": {},
   "source": [
    "### Generators"
   ]
  },
  {
   "cell_type": "code",
   "execution_count": 4,
   "metadata": {},
   "outputs": [
    {
     "name": "stdout",
     "output_type": "stream",
     "text": [
      "<class 'int'>\n"
     ]
    }
   ],
   "source": [
    "print(type(3))"
   ]
  },
  {
   "cell_type": "markdown",
   "metadata": {},
   "source": [
    "When writing code, you may already have noticed that sometimes we get as output `< ... >`. This happens because of how Python stores data internally. You may for example have gotten output such as `[<matplotlib.lines.Line2D at 0x124255d90>]` when plotting. Here are more examples, showing that ranges, tuples, and lists are treated differently."
   ]
  },
  {
   "cell_type": "code",
   "execution_count": 5,
   "metadata": {},
   "outputs": [
    {
     "data": {
      "text/plain": [
       "[0, 2, 4, 6, 8]"
      ]
     },
     "execution_count": 5,
     "metadata": {},
     "output_type": "execute_result"
    }
   ],
   "source": [
    "[2*i for i in range(5)]"
   ]
  },
  {
   "cell_type": "code",
   "execution_count": 6,
   "metadata": {},
   "outputs": [
    {
     "data": {
      "text/plain": [
       "<generator object <genexpr> at 0x000001EE6717B1B0>"
      ]
     },
     "execution_count": 6,
     "metadata": {},
     "output_type": "execute_result"
    }
   ],
   "source": [
    "(2*i for i in range(5))"
   ]
  },
  {
   "cell_type": "markdown",
   "metadata": {},
   "source": [
    "If you encounter this, you can get the result you presumably desired by converting the generator to a tuple by using `tuple()`"
   ]
  },
  {
   "cell_type": "code",
   "execution_count": 7,
   "metadata": {},
   "outputs": [
    {
     "data": {
      "text/plain": [
       "(0, 2, 4, 6, 8)"
      ]
     },
     "execution_count": 7,
     "metadata": {},
     "output_type": "execute_result"
    }
   ],
   "source": [
    "tuple((2*i for i in range(5)))"
   ]
  },
  {
   "cell_type": "code",
   "execution_count": 8,
   "metadata": {
    "scrolled": true
   },
   "outputs": [
    {
     "data": {
      "text/plain": [
       "[0, 2, 4, 6, 8]"
      ]
     },
     "execution_count": 8,
     "metadata": {},
     "output_type": "execute_result"
    }
   ],
   "source": [
    "list((2*i for i in range(5)))"
   ]
  },
  {
   "cell_type": "markdown",
   "metadata": {},
   "source": [
    "This is similar to using `list()` or `tuple()` on a range:"
   ]
  },
  {
   "cell_type": "code",
   "execution_count": null,
   "metadata": {},
   "outputs": [],
   "source": [
    "range(5)"
   ]
  },
  {
   "cell_type": "code",
   "execution_count": null,
   "metadata": {},
   "outputs": [],
   "source": [
    "list(range(5))"
   ]
  },
  {
   "cell_type": "code",
   "execution_count": null,
   "metadata": {},
   "outputs": [],
   "source": [
    "tuple(range(5))"
   ]
  },
  {
   "cell_type": "markdown",
   "metadata": {},
   "source": [
    "### Lists and Plotting"
   ]
  },
  {
   "cell_type": "markdown",
   "metadata": {},
   "source": [
    "Now that we have discussed lists in Python, we shall briefly revisit plotting. "
   ]
  },
  {
   "cell_type": "code",
   "execution_count": 9,
   "metadata": {},
   "outputs": [],
   "source": [
    "import matplotlib.pyplot as plt\n",
    "import numpy as np"
   ]
  },
  {
   "cell_type": "markdown",
   "metadata": {},
   "source": [
    "Lets assume we want to plot a function defined only for integer values, such as Euler's totient function $\\varphi(n)$, which counts the number of positive integers $m$ less than a given positive integer $n$ that are relatively prime to it, i.e. $gcd(n,m)=1$:\n",
    "\n",
    "$$\\varphi(n)=\\left|\\left\\{m\\in\\mathbb N: m<n, gcd(n,m)=1\\right\\}\\right|$$"
   ]
  },
  {
   "cell_type": "markdown",
   "metadata": {},
   "source": [
    "A bit of googling shows that the the totient function is defined in the module `sympy`, so we simply load that function."
   ]
  },
  {
   "cell_type": "code",
   "execution_count": 10,
   "metadata": {},
   "outputs": [],
   "source": [
    "import sympy as sp"
   ]
  },
  {
   "cell_type": "markdown",
   "metadata": {},
   "source": [
    "We can compute it for a few examples. For example, $12$ is coprime to $1,5,7,11$ (but not to $2,3,4,6,8,9,10$) so that $\\varphi(12)$ should be $4$."
   ]
  },
  {
   "cell_type": "code",
   "execution_count": 11,
   "metadata": {
    "scrolled": true
   },
   "outputs": [
    {
     "data": {
      "text/plain": [
       "4"
      ]
     },
     "execution_count": 11,
     "metadata": {},
     "output_type": "execute_result"
    }
   ],
   "source": [
    "sp.totient(12)"
   ]
  },
  {
   "cell_type": "markdown",
   "metadata": {},
   "source": [
    "We can use a list to give out $\\varphi(n)$ for a range of values of $n$."
   ]
  },
  {
   "cell_type": "code",
   "execution_count": 12,
   "metadata": {},
   "outputs": [
    {
     "name": "stdout",
     "output_type": "stream",
     "text": [
      "[1, 1, 2, 2, 4, 2, 6, 4, 6, 4, 10, 4, 12, 6, 8, 8, 16, 6, 18, 8, 12, 10, 22, 8, 20, 12, 18, 12, 28, 8, 30, 16, 20, 16, 24, 12, 36, 18, 24, 16, 40, 12, 42, 20, 24, 22, 46, 16, 42, 20, 32, 24, 52, 18, 40, 24, 36, 28, 58, 16, 60, 30, 36, 32, 48, 20, 66, 32, 44, 24, 70, 24, 72, 36, 40, 36, 60, 24, 78, 32, 54, 40, 82, 24, 64, 42, 56, 40, 88, 24, 72, 44, 60, 46, 72, 32, 96, 42, 60, 40]\n"
     ]
    }
   ],
   "source": [
    "print([sp.totient(n) for n in range(1,101)])"
   ]
  },
  {
   "cell_type": "markdown",
   "metadata": {},
   "source": [
    "This doesn't seem to tell us much. To really appreciate this function, we should try plotting it. The plotting function accepts lists of $x$ and $y$ coordinates."
   ]
  },
  {
   "cell_type": "code",
   "execution_count": 13,
   "metadata": {
    "scrolled": false
   },
   "outputs": [
    {
     "data": {
      "image/png": "[encoded data removed]",
      "text/plain": [
       "<Figure size 432x288 with 1 Axes>"
      ]
     },
     "metadata": {
      "needs_background": "light"
     },
     "output_type": "display_data"
    }
   ],
   "source": [
    "x=list(range(1,1001))\n",
    "y=[sp.totient(n) for n in x]\n",
    "plt.plot(x,y,'ro',markersize=1)\n",
    "plt.show()"
   ]
  },
  {
   "cell_type": "markdown",
   "metadata": {},
   "source": [
    "Note that I have used some nice formatting shortcut here: 'ro' means red circles as markers and no lines. For details, and help on everything pyplot related, see https://matplotlib.org/tutorials/introductory/pyplot.html."
   ]
  },
  {
   "cell_type": "code",
   "execution_count": null,
   "metadata": {
    "scrolled": false
   },
   "outputs": [],
   "source": [
    "x=list(range(1,100001))\n",
    "y=[sp.totient(n) for n in x]\n",
    "plt.plot(x,y,'ro',markersize=0.1)\n",
    "plt.show()"
   ]
  },
  {
   "cell_type": "markdown",
   "metadata": {},
   "source": [
    "This shows that the behaviour of $\\varphi(n)$ seems to show some structure but is also intriguingly complicated. You can read up on this function [here](https://en.wikipedia.org/wiki/Euler's_totient_function)."
   ]
  },
  {
   "cell_type": "markdown",
   "metadata": {},
   "source": [
    "### Points and Plotting"
   ]
  },
  {
   "cell_type": "markdown",
   "metadata": {},
   "source": [
    "Lets assume we are given a sequence of points with $x$ and $y$ coordinates, say for a circle."
   ]
  },
  {
   "cell_type": "code",
   "execution_count": null,
   "metadata": {},
   "outputs": [],
   "source": [
    "circle_coordinates=[(np.cos(np.pi/180*phi),np.sin(np.pi/180*phi)) for phi in range(360)]"
   ]
  },
  {
   "cell_type": "markdown",
   "metadata": {},
   "source": [
    "To practice slicing, lets look at angles that are multiples of 90 degrees."
   ]
  },
  {
   "cell_type": "code",
   "execution_count": null,
   "metadata": {
    "scrolled": true
   },
   "outputs": [],
   "source": [
    "circle_coordinates[0:360:90]"
   ]
  },
  {
   "cell_type": "markdown",
   "metadata": {},
   "source": [
    "How can we plot the points? Unfortunately we cannot simply plot tuples, we need to separate this into $x$ and $y$ coordinates."
   ]
  },
  {
   "cell_type": "code",
   "execution_count": null,
   "metadata": {},
   "outputs": [],
   "source": [
    "x_coord = [point[0] for point in circle_coordinates]\n",
    "y_coord = [point[1] for point in circle_coordinates]"
   ]
  },
  {
   "cell_type": "markdown",
   "metadata": {},
   "source": [
    "Now we are ready for plotting."
   ]
  },
  {
   "cell_type": "code",
   "execution_count": null,
   "metadata": {
    "scrolled": false
   },
   "outputs": [],
   "source": [
    "plt.plot(x_coord,y_coord)\n",
    "# the following line can be found searching Google for \"matplotlib axes equal\"\n",
    "plt.gca().axis('equal')\n",
    "plt.show()"
   ]
  },
  {
   "cell_type": "markdown",
   "metadata": {},
   "source": [
    "Finally, lets turn this into a clock by adding hour and minute markers (using appropriate slicing)"
   ]
  },
  {
   "cell_type": "code",
   "execution_count": null,
   "metadata": {
    "scrolled": false
   },
   "outputs": [],
   "source": [
    "plt.plot(x_coord,y_coord,color='cyan')\n",
    "plt.plot(x_coord[0:360:30],y_coord[0:360:30],'or',markersize=12)\n",
    "plt.plot(x_coord[0:360:5],y_coord[0:360:5],'.k')\n",
    "plt.gca().axis('equal')\n",
    "plt.show()"
   ]
  },
  {
   "cell_type": "markdown",
   "metadata": {},
   "source": [
    "And if you have fun with this sort of stuff, try adding more details..."
   ]
  },
  {
   "cell_type": "code",
   "execution_count": null,
   "metadata": {
    "scrolled": true
   },
   "outputs": [],
   "source": [
    "plt.plot(x_coord,y_coord,color='cyan')\n",
    "plt.plot(x_coord[0:360:30],y_coord[0:360:30],'or',markersize=12)\n",
    "plt.plot(x_coord[0:360:5],y_coord[0:360:5],'.k')\n",
    "plt.gca().axis('equal')\n",
    "# some more googling suggests the following code for some clock hands\n",
    "plt.arrow(0,0,0.35,0.35,head_width=0.15, head_length=0.2, linewidth=3, fc='orange', ec='black')\n",
    "plt.arrow(0,0,0,-0.65,head_width=0.1, head_length=0.25, linewidth=2, fc='lightblue', ec='black')\n",
    "plt.plot([0],[0],'oy',markersize=20,markeredgecolor='black',markeredgewidth=1.5)\n",
    "plt.show()"
   ]
  },
  {
   "cell_type": "markdown",
   "metadata": {},
   "source": [
    "## Functions"
   ]
  },
  {
   "cell_type": "markdown",
   "metadata": {},
   "source": [
    "We discussed sequence types and how to use these. We encountered situations where we repeated the same calculation for all entries of a sequence. Using the same calculation repeatedly for different input values is efficiently done with *functions*."
   ]
  },
  {
   "cell_type": "markdown",
   "metadata": {},
   "source": [
    "More importantly, as you will perhaps have noticed, all fancy things we have done so far such as graph plotting has bee done with the help of functions. We will first discuss existing built-in functions in more detail. Then we will describe a really important part of programming, which is writing your own functions. In fact, **you will write many functions** yourself, in exercises, tests, and the final project, so you really will have to come to terms with this."
   ]
  },
  {
   "cell_type": "markdown",
   "metadata": {},
   "source": [
    "### Built-in Functions for Sequences"
   ]
  },
  {
   "cell_type": "markdown",
   "metadata": {},
   "source": [
    "Python has useful [built-in functions](http://docs.python.org/3/library/functions.html) for working with sequences. You have already seen in the tutorial that we can compute the length of a list, sum up all the entries in a list of numbers, or determine their minimum and maximum values."
   ]
  },
  {
   "cell_type": "code",
   "execution_count": null,
   "metadata": {},
   "outputs": [],
   "source": [
    "list0=[j for j in range(1,41,2)]\n",
    "print(list0)\n",
    "print('this list has', len(list0), 'entries')\n",
    "print('the smallest value is', min(list0), 'and the largest value is', max(list0))\n",
    "print('the sum of all the entries is', sum(list0))"
   ]
  },
  {
   "cell_type": "markdown",
   "metadata": {},
   "source": [
    "We can also sort the entries in a list."
   ]
  },
  {
   "cell_type": "code",
   "execution_count": null,
   "metadata": {},
   "outputs": [],
   "source": [
    "list0=[j*(-1)**j for j in range(1,10,1)]\n",
    "print(list0)\n",
    "print(sorted(list0))"
   ]
  },
  {
   "cell_type": "markdown",
   "metadata": {},
   "source": [
    "### Further Built-in Functions"
   ]
  },
  {
   "cell_type": "markdown",
   "metadata": {},
   "source": [
    "We already encountered a selection of other built-in functions, such as `type()` and `print()`. The following is a list of frequently used [built-in functions](http://docs.python.org/3.3/library/functions.html) in these lectures."
   ]
  },
  {
   "cell_type": "markdown",
   "metadata": {},
   "source": [
    "| Function | Description|\n",
    "|----------|------------|\n",
    "|`print(object)`| print `object` to output |\n",
    "|`type(object)`| return the type of `object` |\n",
    "|`abs(x)`|\treturn the absolute value of `x` (or magnitude if `x` is complex)|\n",
    "|`int(x)`|\treturn the integer constructed from float `x` by truncating decimal|\n",
    "|`len(sequence)`|\treturn the length of the `sequence`|\n",
    "|`sum(sequence)`|\treturn the sum of the entries of `sequence`|\n",
    "|`max(sequence)`|\treturn the maximum value in `sequence`|\n",
    "|`min(sequence)`|\treturn the minimum value in `sequence`|\n",
    "|`range(a,b,step)`|\treturn the range object of integers from `a` to `b` (exclusive) by `step`|\n",
    "|`list(sequence)`|\treturn a list constructed from `sequence`|\n",
    "|`sorted(sequence)`|\treturn the sorted list from the items in `sequence`|\n",
    "|`reversed(`sequence`)`|\treturn the reversed iterator object from the items in `sequence`|\n",
    "|`enumerate(sequence)`|\treturn the enumerate object constructed from `sequence`|\n",
    "|`zip(a,b)`|\treturn an iterator that aggregates items from sequences `a` and `b`|"
   ]
  },
  {
   "cell_type": "markdown",
   "metadata": {},
   "source": [
    "Some of the functions we have not encountered yet. `abs()` computes the absolute value (or magnitude) of a number. Note that the absolute value of an integer is returned as an integer, but that the absolute values of floats and complex numbers are returned as floats."
   ]
  },
  {
   "cell_type": "code",
   "execution_count": null,
   "metadata": {},
   "outputs": [],
   "source": [
    "print(abs(-3))\n",
    "print(abs(-3.0))\n",
    "print(abs(3+4j))"
   ]
  },
  {
   "cell_type": "markdown",
   "metadata": {},
   "source": [
    "We have learned that division of integers produces floats. What if we want to convert a float result back to integer? We can do this either with `int()`. Note that the function `int()` truncates towards zero."
   ]
  },
  {
   "cell_type": "code",
   "execution_count": null,
   "metadata": {},
   "outputs": [],
   "source": [
    "print(int(-1.414))\n",
    "print(int(1.414))"
   ]
  },
  {
   "cell_type": "markdown",
   "metadata": {},
   "source": [
    "We encountered several functions involving sequences, such as `range()`, `list()`, and `sorted()`. The function `reversed()` does what you would expect it to do, but note that `reversed()` does not return a list, so we need to use `list()` if we want the output to be a list. This is similar to having to convert a range object to a list."
   ]
  },
  {
   "cell_type": "code",
   "execution_count": null,
   "metadata": {},
   "outputs": [],
   "source": [
    "print(reversed([1,5,8,-10]))\n",
    "print(list(reversed([1,5,8,-10])))\n",
    "print(list(reversed(range(1,11))))"
   ]
  },
  {
   "cell_type": "markdown",
   "metadata": {},
   "source": [
    "The function `zip()` combines sequences into a list of pairs."
   ]
  },
  {
   "cell_type": "code",
   "execution_count": null,
   "metadata": {
    "scrolled": true
   },
   "outputs": [],
   "source": [
    "list_a=[3,55,1,2]\n",
    "list_b=[4,5,2,-7]\n",
    "print(zip(list_a,list_b))\n",
    "print(list(zip(list_a,list_b)))"
   ]
  },
  {
   "cell_type": "code",
   "execution_count": null,
   "metadata": {
    "scrolled": true
   },
   "outputs": [],
   "source": [
    "print(list(zip(x_coord,y_coord))[:5])\n",
    "print(circle_coordinates[:5])"
   ]
  },
  {
   "cell_type": "markdown",
   "metadata": {},
   "source": [
    "Finally, the function `enumerate()` enumerates a sequence by zipping it with `range(len(sequence))`."
   ]
  },
  {
   "cell_type": "code",
   "execution_count": null,
   "metadata": {},
   "outputs": [],
   "source": [
    "print(list_a)\n",
    "range_a=range(len(list_a))\n",
    "print(list(zip(range_a,list_a)))\n",
    "print(list(enumerate(list_a)))\n",
    "print(enumerate(list_a))"
   ]
  },
  {
   "cell_type": "markdown",
   "metadata": {},
   "source": [
    "## Conclusion and Outlook"
   ]
  },
  {
   "cell_type": "markdown",
   "metadata": {},
   "source": [
    "In this lecture we have discussed sequences and built-in functions. Next week we will discuss user-defined functions."
   ]
  }
 ],
 "metadata": {
  "kernelspec": {
   "display_name": "Python 3",
   "language": "python",
   "name": "python3"
  },
  "language_info": {
   "codemirror_mode": {
    "name": "ipython",
    "version": 3
   },
   "file_extension": ".py",
   "mimetype": "text/x-python",
   "name": "python",
   "nbconvert_exporter": "python",
   "pygments_lexer": "ipython3",
   "version": "3.7.3"
  }
 },
 "nbformat": 4,
 "nbformat_minor": 2
}
