{
 "cells": [
  {
   "cell_type": "markdown",
   "metadata": {
    "slideshow": {
     "slide_type": "-"
    }
   },
   "source": [
    "# MTH5001 Introduction to Computer Programming - Lab 9\n",
    "Dr Lucas Lacasa and Prof. Thomas Prellberg\n",
    "\n",
    "## Exercises"
   ]
  },
  {
   "cell_type": "markdown",
   "metadata": {},
   "source": [
    "In these exercises, we will do less maths than usual and focus more on the \"technology\" of dealing with strings and files."
   ]
  },
  {
   "cell_type": "markdown",
   "metadata": {},
   "source": [
    "You should check repeatedly whether the functions you are writing actually work. For this, it might be easiest to give out the content of the files you work with. Here is a function to help you with this. You should recognise some of it from the lecture notes."
   ]
  },
  {
   "cell_type": "code",
   "execution_count": 1,
   "metadata": {},
   "outputs": [],
   "source": [
    "def print_file(filename):\n",
    "    try:\n",
    "        with open(filename,'r') as f:\n",
    "            for line in f:\n",
    "                print(line.rstrip())\n",
    "    except:\n",
    "        print(\"Error: File not found\")"
   ]
  },
  {
   "cell_type": "markdown",
   "metadata": {},
   "source": [
    "I have again introduced another Python feature: If you write the keyword `try`, Python will try to run the code following it, and if there is an error it will not produce the lengthy error message it normally shows, but continue with the code following the `except` keyword. This is quite handy in a situation like this, where you might mistype a filename."
   ]
  },
  {
   "cell_type": "markdown",
   "metadata": {},
   "source": [
    "Lets download a sample text file directly from the qmplus page and have a look at it."
   ]
  },
  {
   "cell_type": "code",
   "execution_count": 2,
   "metadata": {},
   "outputs": [
    {
     "name": "stdout",
     "output_type": "stream",
     "text": [
      "One morning, when Gregor Samsa\n",
      "woke from troubled dreams, he found himself transformed in his bed\n",
      "into a horrible vermin.\n",
      "\n",
      "He lay on his armour-like back, and if he lifted his\n",
      "head a little he could see his brown belly, slightly domed and divided by arches into stiff sections.\n",
      "\n",
      "The bedding was hardly able to cover it and seemed ready to slide off any moment.\n",
      "\n",
      "His many legs, pitifully thin compared with\n",
      "the size of the rest of him, waved about helplessly as he looked. \"What's happened to me? \" he thought. It wasn't a dream. His room, a proper\n",
      "human room although a little too small, lay peacefully between its four familiar walls.\n"
     ]
    }
   ],
   "source": [
    "import urllib.request\n",
    "urllib.request.urlretrieve(\n",
    "    \"https://qmplus.qmul.ac.uk/pluginfile.php/2553088/mod_folder/content/0/Week%2009/loremipsum.txt\",\n",
    "    \"loremipsum.txt\")\n",
    "print_file(\"loremipsum.txt\")"
   ]
  },
  {
   "cell_type": "markdown",
   "metadata": {},
   "source": [
    "This text file has text lines of varying lengths in it. **I would like you to write a function that can read this file and give out a formatted file where lines are formatted to a maximal given length.** How would you begin such a task? To start with, let's not worry about doing anything to the text yet, but focus on reading the content of a file and writing it into another file."
   ]
  },
  {
   "cell_type": "markdown",
   "metadata": {},
   "source": [
    "### Exercise 1.: A function to copy files"
   ]
  },
  {
   "cell_type": "markdown",
   "metadata": {},
   "source": [
    "#### Exercise 1.a.: Write a function `copy_file(filename1,filename2)` that reads the content of a file and writes it into another file.\n",
    "\n",
    "Don't forget to test that it works."
   ]
  },
  {
   "cell_type": "code",
   "execution_count": null,
   "metadata": {},
   "outputs": [],
   "source": []
  },
  {
   "cell_type": "markdown",
   "metadata": {},
   "source": [
    "#### Exercise 1.b.: If you haven't done so yet, modify your function so that it prints out \"Error: File not found\" if you use it with a non-existing file name."
   ]
  },
  {
   "cell_type": "code",
   "execution_count": null,
   "metadata": {},
   "outputs": [],
   "source": []
  },
  {
   "cell_type": "markdown",
   "metadata": {},
   "source": [
    "### Exercise 2.: A function to split a text file into individual words."
   ]
  },
  {
   "cell_type": "markdown",
   "metadata": {},
   "source": [
    "The next step is to work on your text. I suggest to split the text into individual words using `.split()`."
   ]
  },
  {
   "cell_type": "markdown",
   "metadata": {},
   "source": [
    "#### Exercise 2.a: By modifying `copy_file(filename1,filename2)` from above, write a function `words_from_file(filename1,filename2)` that splits the text from a file into words and writes these one word per line to a new file.\n",
    "\n",
    "You will have to (1) read in the text, (2) split the lines into words and create a list of words, (3) append newline characters to all the words, and (4) print out all the words.\n",
    "\n",
    "Hint: to append newline characters, you could use formatting and list comprehension such as\n",
    "```python\n",
    "['{0}\\n'.format(word) for word in words]\n",
    "```"
   ]
  },
  {
   "cell_type": "code",
   "execution_count": null,
   "metadata": {},
   "outputs": [],
   "source": []
  },
  {
   "cell_type": "markdown",
   "metadata": {},
   "source": [
    "#### Exercise 2.b.: It's likely that empty lines have disappeared when you wrote the above code. If that happened, please modify your function so that it preserves the empty lines."
   ]
  },
  {
   "cell_type": "code",
   "execution_count": null,
   "metadata": {},
   "outputs": [],
   "source": []
  },
  {
   "cell_type": "markdown",
   "metadata": {},
   "source": [
    "### Exercise 3.: Reformat paragraphs."
   ]
  },
  {
   "cell_type": "markdown",
   "metadata": {},
   "source": [
    "Now, that we have successfully split the text into individual words, let's put these together again to produce a more nicely formatted text."
   ]
  },
  {
   "cell_type": "markdown",
   "metadata": {},
   "source": [
    "#### Exercise 3.a.: Write a function `wrapped_lines_from_file(filename1,filename2,length)` that reads text from a file and gives out reformatted paragraphs with lines no longer than a given linelength.\n",
    "\n",
    "Include an empty line after each paragraph, and indent the beginning of every new paragraph by three spaces."
   ]
  },
  {
   "cell_type": "code",
   "execution_count": null,
   "metadata": {},
   "outputs": [],
   "source": []
  },
  {
   "cell_type": "markdown",
   "metadata": {},
   "source": [
    "## Submit your Jupyter Notebook to QMPLUS"
   ]
  },
  {
   "cell_type": "markdown",
   "metadata": {},
   "source": [
    "Once you are done, save the jupyter notebook and submit it to QMPLUS under Lab Report Week 9."
   ]
  }
 ],
 "metadata": {
  "kernelspec": {
   "display_name": "Python 3",
   "language": "python",
   "name": "python3"
  },
  "language_info": {
   "codemirror_mode": {
    "name": "ipython",
    "version": 3
   },
   "file_extension": ".py",
   "mimetype": "text/x-python",
   "name": "python",
   "nbconvert_exporter": "python",
   "pygments_lexer": "ipython3",
   "version": "3.8.5"
  }
 },
 "nbformat": 4,
 "nbformat_minor": 2
}
