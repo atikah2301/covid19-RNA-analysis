{
 "cells": [
  {
   "cell_type": "markdown",
   "metadata": {},
   "source": [
    "# MTH5001: Introduction to Computer Programming\n",
    "\n",
    "## Excerpts from the 2018/19 Sample Final Project\n",
    "\n",
    "## \"Least Squares Regression\""
   ]
  },
  {
   "cell_type": "markdown",
   "metadata": {},
   "source": [
    "## Background information\n",
    "\n",
    "In many applications, we might be given a set of data points\n",
    "\n",
    "$$(x_1,y_1), (x_2,y_2), \\ldots, (x_n,y_n)$$\n",
    "\n",
    "in the $x,y$-plane, and required to determine whether there is a relationship between the $x$ variable and the $y$ variable. \n",
    "For example, a financial analyst might need to determine whether there is a relationship between two stock prices, while a climate scientist might need to know whether temperatures are related to levels of a certain pollutant in the atmosphere.\n",
    "\n",
    "A common way to determine whether two data sets $x_1, x_2, \\ldots, x_n$ and $y_1, y_2, \\ldots, y_n$ are related is to find a function\n",
    "\n",
    "$$y = f(x)$$\n",
    "\n",
    "that 'best fits' the data, so that each $y_i$ is approximately equal to $f(x_i)$, with very small error. \n",
    "The function $f(x)$ usually depends on certain parameters for which we need to solve. \n",
    "For example, to determine whether the $x$- and $y$-variables have a linear relationship, we would use a linear function\n",
    "\n",
    "$$f(x) = a_0 + a_1 x$$\n",
    "\n",
    "and try to find the parameters $a_0$ and $a_1$ that make $f(x)$ 'best fit' the data. \n",
    "This means that we want to find the coefficients $a_0$ and $a_1$ for which the quantity\n",
    "\n",
    "$$SSE = \\sum_{i=1}^n (y_i - f(x_i))^2$$\n",
    "\n",
    "is as small as possible. \n",
    "In other words, we want to minimise the sum of squares of the errors (or \"SSE\") between the actual $y$-values (the $y_i$) and the $y$-values 'predicted' by substituting the corresponding $x_i$ values into the equation $y = f(x)$.\n",
    "\n",
    "This process is called **linear least squares regression**, or simply **linear regression**. \n",
    "More generally, **polynomial (least squares) regression** involves assuming that\n",
    "\n",
    "$$f(x) = a_0 + a_1 x + a_2 x^2 + \\cdots + a_m x^m$$\n",
    "\n",
    "for some integer $m \\geq 2$, and finding the parameters $a_0, a_1, a_2 \\ldots, a_m$ that minimise SSE."
   ]
  },
  {
   "cell_type": "markdown",
   "metadata": {},
   "source": [
    "# The Complete Sample Project"
   ]
  },
  {
   "cell_type": "markdown",
   "metadata": {},
   "source": [
    "### Part I: Auxiliary code\n",
    "\n",
    "In Parts II-IV (below), you will need to use matrix algebra to solve least squares regression problems. (You learned how to do this in your second-year linear algebra module; if you don't remember the details, you will need to do some revision/reading.) Therefore, you will first need to write some Python functions to perform basic matrix operations.\n",
    "\n",
    "Your code should assume that matrices are represented as nested lists, e.g. the matrices \n",
    "$$\\left[ \\begin{array}{ll} 1&2 \\\\ 3&4 \\\\ 5&6 \\end{array} \\right] \\quad \\text{and} \\quad \n",
    "\\left[ \\begin{array}{l} 7 \\\\ 8 \\end{array} \\right]$$\n",
    "would be input and/or output as the nested lists `[[1, 2], [3, 4], [5, 6]]` and `[[7], [8]]`, respectively.\n",
    "\n",
    "**1. [5 marks]** Write a function `matrix_transpose` which computes the transpose of a matrix. \n",
    "\n",
    "**2. [5 marks]** Write a function `matrix_multiplication` which computes the (matrix) product of two matrices.\n",
    "\n",
    "**3. [10 marks]** Write a function `matrix_system_solver` which solves a system of linear equations of the form $A\\mathbf{x} = \\mathbf{b}$ for the vector $\\mathbf{x}$. \n",
    "You may restrict to the case where the (input) matrix $A$ is square, and assume that the system has a unique solution. (These assumptions will be valid when you use your code in Parts II-IV.)\n",
    "\n",
    "Again, you must write your functions 'from scratch', using their mathematical definitions. In the submitted report,\n",
    "you **must not** use any `numpy` functions (e.g. `matmul` for matrix multiplication) which would obviously 'short cut' your code, but you may use basic functions for manipulating lists (e.g. `len`, `append`). \n",
    "(If in doubt about what is allowed, please ask.) Of course, when testing your code, it might be a good idea to compare your result with the one produced by `numpy` functions to detect any errors."
   ]
  },
  {
   "cell_type": "markdown",
   "metadata": {},
   "source": [
    "### Part II: Linear regression\n",
    "\n",
    "**4. [10 marks]** Write a brief review of linear regression, explaining, in particular, how one finds the parameters $a_0$ and $a_1$ described above.\n",
    "\n",
    "**5. [10 marks]** Write a function `least_squares_solver_linear` which calculates the linear regression coefficients for an input data set. The input of your function must be a list of the form `[[x1, y1], [x2, y2], ... , [xn, yn]]`, to represent a set of data points $(x_1,y_1), (x_2,y_2), \\ldots, (x_n,y_n)$. The output should be a list of the form `[[a0], [a1]]` containing the corresponding coefficients $a_0$ and $a_1$ (in that order).\n",
    "\n",
    "**6. [5 marks]** Run the function `data_linear` from the file \"data.py\". The input must be your student ID, enterred as a string, e.g. `data1('abc123')`; the output will be a set of $n$ data points, in the form of a list as described in question 5. Use your function from question 5 to calculate the linear regression coefficients $a_0$ and $a_1$ for this data, and display the data and the line of best fit on a single, well-labelled plot."
   ]
  },
  {
   "cell_type": "markdown",
   "metadata": {},
   "source": [
    "### Part III: Quadratic regression\n",
    "\n",
    "**7. [10 marks]** Explain how to extend linear regression to quadratic regression (i.e. to the case $m=2$).\n",
    "\n",
    "**8. [10 marks]** Write a function `least_squares_solver_quadratic` which calculates the quadratic regression coefficients for an input data set. The input should have the same form as in question 5. The output should be a list of the form `[[a0], [a1], [a2]]` containing the corresponding coefficients $a_0$, $a_1$ and $a_2$ (in that order).\n",
    "\n",
    "**9. [5 marks]** Run the function `data_quadratic` from the file \"data.py\". The input must be your student ID, enterred as a string, e.g. `data1('abc123')`; the output will be a set of $n$ data points, in the form of a list as described in question 5. Use your function from question 8 to calculate the quadratic regression coefficients $a_0$, $a_1$ and $a_2$ for this data, and display the data and the best-fit quadratic polynomial on a single, well-labelled plot."
   ]
  },
  {
   "cell_type": "markdown",
   "metadata": {},
   "source": [
    "### Part IV: General polynomial regression\n",
    "\n",
    "**10. [10 marks]** Explain how to extend linear and quadratic regression to general polynomial regression.\n",
    "\n",
    "**11. [10 marks]** Write a function `least_squares_solver_polynomial` which takes as input a data set (in the same form as in question 5) and the degree $m$ of a polynomial (a positive integer), and computes the corresponding polynomial regression coefficients $a_0, a_1, a_2, \\ldots, a_m$. The output of your function should be a list of the form `[[a0], [a1], [a2], ..., [am]]` containing the $m+1$ coefficients $a_0, a_1, a_2, \\ldots, a_m$ in that order.\n",
    "\n",
    "**12. [10 marks]** Run the function `data_polynomial` from the file \"data.py\". The input must be your student ID, enterred as a string, e.g. `data1('abc123')`; the output will be a set of $n$ data points, in the form of a list as described in question 5. Use your function from question 11 for $m=3,4,5,6$ to calculate the regression coefficients $a_0, a_1, \\cdots, a_m$ for this data, and display the data and the best-fit polynomials on four well-labelled plot.\n",
    "Decide which fit is the best and explain why."
   ]
  },
  {
   "cell_type": "markdown",
   "metadata": {},
   "source": [
    "## This Week's Exercises\n",
    "\n",
    "### Below is a partially completed sample solution. We'll provide much of the work, but you should look below for the answers that we left blank and try to complete them. These are questions 5, 8, and 11 (worth 30 of 100 marks).\n",
    "\n",
    "\n",
    "\n",
    "### Part I: Auxiliary code\n",
    "\n",
    "**1. [5 marks]** Write a function `matrix_transpose` which computes the transpose of a matrix. "
   ]
  },
  {
   "cell_type": "code",
   "execution_count": 1,
   "metadata": {
    "collapsed": true
   },
   "outputs": [],
   "source": [
    "def matrix_transpose(A):\n",
    "    \"Returns the transpose of the input matrix A.\"\n",
    "    # calculate the number of rows and columns in A\n",
    "    rows_in_A = len(A)\n",
    "    cols_in_A = len(A[0])\n",
    "    # initialise a list to represent A transpose\n",
    "    AT = []\n",
    "    # A transpose has cols_of_A rows: fill them in row by row\n",
    "    for i in range(cols_in_A):\n",
    "        AT.append([A[j][i] for j in range(rows_in_A)])\n",
    "    return AT"
   ]
  },
  {
   "cell_type": "code",
   "execution_count": 2,
   "metadata": {},
   "outputs": [
    {
     "name": "stdout",
     "output_type": "stream",
     "text": [
      "[1.0, 2.0]\n",
      "[3.0, 4.0]\n",
      "[5.0, 6.0]\n",
      "\n",
      "[1.0, 3.0, 5.0]\n",
      "[2.0, 4.0, 6.0]\n"
     ]
    }
   ],
   "source": [
    "# test an example\n",
    "matrix=[[1.0, 2.0], [3.0, 4.0], [5.0, 6.0]]\n",
    "print(*matrix, sep='\\n')\n",
    "print()\n",
    "print(*matrix_transpose(matrix), sep='\\n')"
   ]
  },
  {
   "cell_type": "markdown",
   "metadata": {},
   "source": [
    "**2. [5 marks]** Write a function `matrix_multiplication` which computes the (matrix) product of two matrices."
   ]
  },
  {
   "cell_type": "code",
   "execution_count": 3,
   "metadata": {
    "collapsed": true
   },
   "outputs": [],
   "source": [
    "def matrix_multiplication(A, B):\n",
    "    \"Returns the matrix product of the input matrices.\"\n",
    "    # calculate the number of rows and columns in AB\n",
    "    # AB has the same number of rows as A, and the same number of columns as B\n",
    "    rows = len(A)\n",
    "    cols = len(B[0])\n",
    "    # initialise a nested list of length rows to represent the matrix product AB\n",
    "    AB = [[] for i in range(rows)]\n",
    "    # calculate the number of rows in B (equivalently, the number of columns in A)\n",
    "    m = len(B)\n",
    "    # fill in each row of AB using the definition of matrix multiplication\n",
    "    for i in range(rows):\n",
    "        for j in range(cols):\n",
    "            # fill in entry (i,j) of AB\n",
    "            AB[i].append(sum([A[i][k]*B[k][j] for k in range(m)]))\n",
    "    return AB"
   ]
  },
  {
   "cell_type": "code",
   "execution_count": 4,
   "metadata": {},
   "outputs": [
    {
     "name": "stdout",
     "output_type": "stream",
     "text": [
      "[1.0, 0.0]\n",
      "[0.0, 1.0]\n",
      "[1.0, 0.0]\n",
      "\n",
      "[1.0, 0.0, -1.0]\n",
      "[0.0, 1.0, 0.0]\n",
      "\n",
      "[1.0, 0.0, -1.0]\n",
      "[0.0, 1.0, 0.0]\n",
      "[1.0, 0.0, -1.0]\n"
     ]
    }
   ],
   "source": [
    "# test an example\n",
    "matrix1=[[1.0, 0.0], [0.0, 1.0], [1.0, 0.0]]\n",
    "matrix2=[[1.0, 0.0, -1.0], [0.0, 1.0, 0.0]]\n",
    "print(*matrix1, sep='\\n')\n",
    "print()\n",
    "print(*matrix2, sep='\\n')\n",
    "print()\n",
    "print(*matrix_multiplication(matrix1,matrix2), sep='\\n')"
   ]
  },
  {
   "cell_type": "markdown",
   "metadata": {},
   "source": [
    "**3. [10 marks]** Write a function `matrix_system_solver` which solves a system of linear equations of the form $A\\mathbf{x} = \\mathbf{b}$ for the vector $\\mathbf{x}$. \n",
    "You may restrict to the case where the (input) matrix $A$ is square, and assume that the system has a unique solution. "
   ]
  },
  {
   "cell_type": "code",
   "execution_count": 5,
   "metadata": {
    "collapsed": true
   },
   "outputs": [],
   "source": [
    "def matrix_system_solver(A, b): \n",
    "    \n",
    "    \"\"\"\n",
    "    Solves the system of linear equations Ax=b for x.\n",
    "    Code adapted from:\n",
    "    https://martin-thoma.com/solving-linear-equations-with-gaussian-elimination/\n",
    "    \"\"\"\n",
    "    \n",
    "    # calculate the number of rows and columns in A (assuming A is square)\n",
    "    n = len(A)\n",
    "    \n",
    "    # construct the augmented matrix M=[A|b]\n",
    "    # intialise a nested list to represent M\n",
    "    M = [[] for i in range(n)]\n",
    "    # fill in one row at a time\n",
    "    for i in range(n):\n",
    "        # fill in each entry in the current row\n",
    "        for j in range(n):\n",
    "            # fill in the (i,j) entry of A\n",
    "            M[i].append(A[i][j])\n",
    "        # put coordinate i of the vector b in the final column of M\n",
    "        M[i].append(b[i][0])\n",
    "\n",
    "    # begin Gaussian elimination\n",
    "    # look at the columns of M one by one\n",
    "    for i in range(n):\n",
    "        # find the largest absolute value element in the \n",
    "        # current column (column i) in row i or below\n",
    "        max_element = abs(M[i][i])\n",
    "        max_row = i\n",
    "        for k in range(i+1, n):\n",
    "            if abs(M[k][i]) > max_element:\n",
    "                max_element = abs(M[k][i])\n",
    "                max_row = k\n",
    "        # swap the 'maximum' row with row i\n",
    "        for k in range(i, n+1):\n",
    "            element_to_swap = M[max_row][k]\n",
    "            M[max_row][k] = M[i][k]\n",
    "            M[i][k] = element_to_swap\n",
    "        # apply row operations to make all entries below row i in column i zero\n",
    "        for k in range(i+1, n):\n",
    "            # define the constant term in the row operation\n",
    "            constant = -M[k][i]/M[i][i]\n",
    "            # apply the row operation \"R_k -> R_k+constant*R_i\" column by column \n",
    "            for j in range(i, n+1):\n",
    "                if j == i:\n",
    "                    M[k][j] = 0\n",
    "                else:\n",
    "                    M[k][j] = M[k][j] + (constant * M[i][j])\n",
    "    # end Gaussian elimination\n",
    "\n",
    "    # begin back substitution\n",
    "    # initialise a nested list to represent the solution vector x\n",
    "    x = [[] for i in range(n)]\n",
    "    # start at row n of the augmented matrix M and work up\n",
    "    for i in range(n-1, -1, -1):\n",
    "        # fill in coordinate i of x\n",
    "        x[i].append(M[i][n]/M[i][i])\n",
    "        # update 'b' values before next step of outer loop so that\n",
    "        # x[i] will be correctly computed via the above line of code \n",
    "        # on the next pass\n",
    "        for k in range(i-1, -1, -1):\n",
    "            M[k][n] = M[k][n] - (M[k][i] * x[i][0])\n",
    "    # end back substitution\n",
    "    \n",
    "    return x"
   ]
  },
  {
   "cell_type": "code",
   "execution_count": 6,
   "metadata": {
    "scrolled": true
   },
   "outputs": [
    {
     "name": "stdout",
     "output_type": "stream",
     "text": [
      "[1.0, 1.0]\n",
      "[1.5, 1.0]\n",
      "\n",
      "[2.0]\n",
      "[1.0]\n",
      "\n",
      "[-2.0]\n",
      "[4.0]\n",
      "\n",
      "[2.0]\n",
      "[1.0]\n"
     ]
    }
   ],
   "source": [
    "# test an example\n",
    "example_A,example_b = [[1.0, 1.0], [1.5, 1.0]],[[2.0], [1.0]]\n",
    "example_x = matrix_system_solver(example_A, example_b)\n",
    "example_Ax = matrix_multiplication(example_A, example_x)\n",
    "print(*example_A,sep='\\n')\n",
    "print()\n",
    "print(*example_b,sep='\\n')\n",
    "print()\n",
    "print(*example_x,sep='\\n')\n",
    "print()\n",
    "print(*example_Ax,sep='\\n')"
   ]
  },
  {
   "cell_type": "markdown",
   "metadata": {},
   "source": [
    "### Part II: Linear regression\n",
    "\n",
    "**4. [10 marks]** Write a brief review of linear regression, explaining, in particular, how one finds the parameters $a_0$ and $a_1$ described above.\n",
    "\n",
    "We use the notation introduced in the \"Background information\" section above. \n",
    "Given the data points $(x_1,y_1), (x_2,y_2), \\ldots, (x_n,y_n)$, consider the matrices\n",
    "\n",
    "$$X = \\left[ \\begin{array}{ll} 1&x_0 \\\\ 1&x_1 \\\\ \\vdots&\\vdots \\\\ 1&x_n \\end{array} \\right], \\quad\n",
    "\\mathbf{y} = \\left[ \\begin{array}{l} y_1 \\\\ y_2 \\\\ \\vdots \\\\ y_n \\end{array} \\right], \\quad \\text{and} \\quad\n",
    "\\mathbf{a} = \\left[ \\begin{array}{l} a_0 \\\\ a_1 \\end{array} \\right].$$\n",
    "\n",
    "Then, by definition of matrix multiplication, we have\n",
    "\n",
    "$$SSE = ||\\mathbf{y} - X\\mathbf{a}||^2,$$\n",
    "\n",
    "where $||\\cdot||$ is the usual Euclidean norm of a vector. \n",
    "We need to choose the vector $\\mathbf{a}$ such that SSE is minimised. \n",
    "In other words, $\\mathbf{a}$ should be a *least squares solution* of the system of linear equations\n",
    "\n",
    "$$X\\mathbf{a} = \\mathbf{y}.$$\n",
    "\n",
    "By using the theory of orthogonal projections from linear algebra, it can be shown that $\\mathbf{a}$ must therefore be an (actual) solution of the corresponding *normal equations*, i.e. the system of linear equations\n",
    "\n",
    "$$(X^TX)\\mathbf{a} = X^T\\mathbf{y}.$$\n",
    "\n",
    "A detailed proof may be found in, e.g. Theorem 7.33 on p.101 of the following linear algebra notes:\n",
    "\n",
    "https://qmplus.qmul.ac.uk/mod/resource/view.php?id=1367999\n",
    "\n",
    "In summary, starting with our data set, we should form the matrices $X$ and $\\mathbf{y}$ as above, and solve the system of equations $(X^TX)\\mathbf{a} = X^T\\mathbf{y}$ for the vector $\\mathbf{a}$."
   ]
  },
  {
   "cell_type": "markdown",
   "metadata": {},
   "source": [
    "**5. [10 marks]** Write a function `least_squares_solver_linear` which calculates the linear regression coefficients for an input data set. The input of your function must be a list of the form `[[x1, y1], [x2, y2], ... , [xn, yn]]`, to represent a set of data points $(x_1,y_1), (x_2,y_2), \\ldots, (x_n,y_n)$. The output should be a list of the form `[[a0], [a1]]` containing the corresponding coefficients $a_0$ and $a_1$ (in that order)."
   ]
  },
  {
   "cell_type": "code",
   "execution_count": null,
   "metadata": {
    "collapsed": true
   },
   "outputs": [],
   "source": []
  },
  {
   "cell_type": "markdown",
   "metadata": {},
   "source": [
    "**6. [5 marks]** Run the function `data_linear` from the file \"data.py\". The input must be your student ID, enterred as a string, e.g. `data1('abc123')`; the output will be a set of $n$ data points, in the form of a list as described in question 5. Use your function from question 5 to calculate the linear regression coefficients $a_0$ and $a_1$ for this data, and display the data and the line of best fit on a single, well-labelled plot."
   ]
  },
  {
   "cell_type": "code",
   "execution_count": 2,
   "metadata": {},
   "outputs": [],
   "source": [
    "import data\n",
    "# sort the data by x value (smallest to largest) to make plotting easier\n",
    "data_linear = sorted(data.data_linear('abc123'))\n",
    "sol_linear = least_squares_solver_linear(data_linear)\n",
    "a0 = sol_linear[0][0]\n",
    "a1 = sol_linear[1][0]\n",
    "print('a0 =', a0)\n",
    "print('a1 =', a1)"
   ]
  },
  {
   "cell_type": "code",
   "execution_count": 9,
   "metadata": {},
   "outputs": [
    {
     "data": {
      "image/png": "[encoded data removed]",
      "text/plain": [
       "<Figure size 432x288 with 1 Axes>"
      ]
     },
     "metadata": {},
     "output_type": "display_data"
    }
   ],
   "source": [
    "import matplotlib.pyplot as plt\n",
    "# construct lists of x and y values from the data\n",
    "xi_linear = [data_linear[i][0] for i in range(len(data_linear))]\n",
    "yi_linear = [data_linear[i][1] for i in range(len(data_linear))]\n",
    "# plot the (x,y) data\n",
    "plt.scatter(xi_linear, yi_linear, label='sample data')\n",
    "# construct a list of predicted y values using the line of best fit\n",
    "yi_predicted_linear = [a0 + a1*xi_linear[i] for i in range(len(data_linear))]\n",
    "# plot the line of best fit\n",
    "plt.plot(xi_linear, yi_predicted_linear, color='red', label='line of best fit')\n",
    "# add title/labels and show plot\n",
    "plt.title('Linear sample data and line of best fit')\n",
    "plt.xlabel('x_i')\n",
    "plt.ylabel('y_i')\n",
    "plt.legend()\n",
    "plt.show()"
   ]
  },
  {
   "cell_type": "markdown",
   "metadata": {},
   "source": [
    "### Part III: Quadratic regression\n",
    "\n",
    "**7. [10 marks]** Explain how to extend linear regression to quadratic regression (i.e. to the case $m=2$).\n",
    "\n",
    "Here we again use the notation introduced in the \"Background information\" section above. \n",
    "We now wish to fit a function\n",
    "\n",
    "$$f(x) = a_0 + a_1x + a_2x^2$$\n",
    "\n",
    "to our data points $(x_1,y_1), (x_2,y_2), \\ldots, (x_n,y_n)$, in such a way that\n",
    "\n",
    "$$SSE = ||y_i - f(x_i)||^2$$\n",
    "\n",
    "is minimised.\n",
    "If we now consider the matrices\n",
    "\n",
    "$$X = \\left[ \\begin{array}{ll} 1&x_0&x_0^2 \\\\ 1&x_1&x_1^2 \\\\ \\vdots&\\vdots \\\\ 1&x_n&x_n^2 \\end{array} \\right], \\quad\n",
    "\\mathbf{y} = \\left[ \\begin{array}{l} y_1 \\\\ y_2 \\\\ \\vdots \\\\ y_n \\end{array} \\right], \\quad \\text{and} \\quad\n",
    "\\mathbf{a} = \\left[ \\begin{array}{l} a_0 \\\\ a_1 \\\\ a_2 \\end{array} \\right],$$\n",
    "\n",
    "then we again find that\n",
    "\n",
    "$$SSE = ||\\mathbf{y} - X\\mathbf{a}||^2.$$\n",
    "\n",
    "Therefore, $\\mathbf{a}$ must again be chosen to be a least squares solution of the system\n",
    "\n",
    "$$X\\mathbf{a} = \\mathbf{y},$$\n",
    "\n",
    "and so we can again calculate $\\mathbf{a}$ as a solution of the normal equations\n",
    "\n",
    "$$(X^TX)\\mathbf{a} = X^T\\mathbf{y}.$$\n",
    "\n",
    "This again follows from Theorem 7.33 on p.101 of the following linear algebra notes:\n",
    "\n",
    "https://qmplus.qmul.ac.uk/mod/resource/view.php?id=1367999"
   ]
  },
  {
   "cell_type": "markdown",
   "metadata": {},
   "source": [
    "**8. [10 marks]** Write a function `least_squares_solver_quadratic` which calculates the quadratic regression coefficients for an input data set. The input should have the same form as in question 5. The output should be a list of the form `[[a0], [a1], [a2]]` containing the corresponding coefficients $a_0$, $a_1$ and $a_2$ (in that order)."
   ]
  },
  {
   "cell_type": "code",
   "execution_count": null,
   "metadata": {
    "collapsed": true
   },
   "outputs": [],
   "source": []
  },
  {
   "cell_type": "markdown",
   "metadata": {},
   "source": [
    "**9. [5 marks]** Run the function `data_quadratic` from the file \"data.py\". The input must be your student ID, enterred as a string, e.g. `data1('abc123')`; the output will be a set of $n$ data points, in the form of a list as described in question 5. Use your function from question 8 to calculate the quadratic regression coefficients $a_0$, $a_1$ and $a_2$ for this data, and display the data and the best-fit quadratic polynomial on a single, well-labelled plot."
   ]
  },
  {
   "cell_type": "code",
   "execution_count": null,
   "metadata": {
    "collapsed": true
   },
   "outputs": [],
   "source": [
    "import data\n",
    "# sort the data by x value to make plotting easier\n",
    "data_quadratic = sorted(data.data_quadratic('abc123'))\n",
    "sol_quadratic = least_squares_solver_quadratic(data_quadratic)\n",
    "a0 = sol_quadratic[0][0]\n",
    "a1 = sol_quadratic[1][0]\n",
    "a2 = sol_quadratic[2][0]\n",
    "print('a0 =', a0)\n",
    "print('a1 =', a1)\n",
    "print('a2 =', a2)"
   ]
  },
  {
   "cell_type": "code",
   "execution_count": null,
   "metadata": {
    "collapsed": true
   },
   "outputs": [],
   "source": [
    "import matplotlib.pyplot as plt\n",
    "# construct lists of x and y values from the data\n",
    "xi_quadratic = [data_quadratic[i][0] for i in range(len(data_quadratic))]\n",
    "yi_quadratic = [data_quadratic[i][1] for i in range(len(data_quadratic))]\n",
    "# plot the (x,y) data\n",
    "plt.scatter(xi_quadratic, yi_quadratic, label='sample data')\n",
    "# construct a list of predicted y values using the quadrtic of best fit\n",
    "yi_predicted_quadratic = [a0 + a1*xi_quadratic[i] + a2*xi_quadratic[i]**2 for i in range(len(data_quadratic))]\n",
    "# plot the quadratic of best fit\n",
    "plt.plot(xi_quadratic, yi_predicted_quadratic, color='red', label='best-fit quadratic')\n",
    "# add title/labels and show plot\n",
    "plt.title('Quadratic sample data and best-fit quadratic polynomial')\n",
    "plt.xlabel('x_i')\n",
    "plt.ylabel('y_i')\n",
    "plt.legend()\n",
    "plt.show()"
   ]
  },
  {
   "cell_type": "markdown",
   "metadata": {},
   "source": [
    "### Part IV: General polynomial regression\n",
    "\n",
    "**10. [10 marks]** Explain how to extend linear and quadratic regression to general polynomial regression.\n",
    "\n",
    "In the general case, we wish to fit a function\n",
    "\n",
    "$$f(x) = a_0 + a_1x + a_2x^2 + \\cdots a_mx^m$$\n",
    "\n",
    "to our data points $(x_1,y_1), (x_2,y_2), \\ldots, (x_n,y_n)$, where $m$ is some (chosen but arbitrarily large) positive integer. \n",
    "Observe that $m=1$ for linear regression, and $m=2$ for quadratic regression. \n",
    "As in those previous cases, we once again need to minimise\n",
    "\n",
    "$$SSE = ||y_i - f(x_i)||^2.$$\n",
    "\n",
    "We now consider the matrices\n",
    "\n",
    "$$X = \\left[ \\begin{array}{ll} 1&x_0&x_0^2&\\cdots&x_0^m \\\\ 1&x_1&x_1^2&\\cdots&x_1^m \\\\ \\vdots&\\vdots \\\\ 1&x_n&x_n^2&\\cdots&x_n^m \\end{array} \\right], \\quad\n",
    "\\mathbf{y} = \\left[ \\begin{array}{l} y_1 \\\\ y_2 \\\\ \\vdots \\\\ y_n \\end{array} \\right], \\quad \\text{and} \\quad\n",
    "\\mathbf{a} = \\left[ \\begin{array}{l} a_0 \\\\ a_1 \\\\ a_2 \\\\ \\vdots \\\\ a_m \\end{array} \\right],$$\n",
    "\n",
    "and we again find that\n",
    "\n",
    "$$SSE = ||\\mathbf{y} - X\\mathbf{a}||^2,$$\n",
    "\n",
    "meaning that $\\mathbf{a}$ should again be chosen to be a least squares solution of the system $X\\mathbf{a} = \\mathbf{y}$. \n",
    "Hence, we can once again find $\\mathbf{a}$ by solving the normal equations\n",
    "\n",
    "$$(X^TX)\\mathbf{a} = X^T\\mathbf{y}.$$\n",
    "\n",
    "As before, this follows from, e.g. Theorem 7.33 on p.101 of the following linear algebra notes:\n",
    "\n",
    "https://qmplus.qmul.ac.uk/mod/resource/view.php?id=1367999"
   ]
  },
  {
   "cell_type": "markdown",
   "metadata": {},
   "source": [
    "**11. [10 marks]** Write a function `least_squares_solver_polynomial` which takes as input a data set (in the same form as in question 5) and the degree $m$ of a polynomial (a positive integer), and computes the corresponding polynomial regression coefficients $a_0, a_1, a_2, \\ldots, a_m$. The output of your function should be a list of the form `[[a0], [a1], [a2], ..., [am]]` containing the $m+1$ coefficients $a_0, a_1, a_2, \\ldots, a_m$ in that order."
   ]
  },
  {
   "cell_type": "code",
   "execution_count": 3,
   "metadata": {
    "collapsed": true
   },
   "outputs": [],
   "source": [
    "def least_squares_solver_polynomial(data, m):\n",
    "    \"\"\"\n",
    "    Returns a list [a0, a1, a2, ..., am] of coefficients of best fit polynomial\n",
    "    y = a0 + a1*x + a2*x**2 + ... + am*x**m for general polynomial least squares regression.\n",
    "    \"\"\"\n",
    "    # calculate the number of data points\n",
    "    n = len(data)\n",
    "    # construct the matrix X column by column\n",
    "    # column 1 contains all 1's\n",
    "    X = [[1] for i in range(n)]\n",
    "    # construct the other columns\n",
    "    for j in range(1,m+1):\n",
    "        for i in range(n):\n",
    "            X[i].append(data[i][0]**j)\n",
    "    # construct the matrix (vector) y\n",
    "    y = [[data[i][1]] for i in range(n)]\n",
    "    # construct the transpose X, X^TX and X^Ty\n",
    "    XT = matrix_transpose(X)\n",
    "    XTX = matrix_multiplication(XT, X)\n",
    "    XTy = matrix_multiplication(XT, y)\n",
    "    # solve X^TXa = X^Ty for the vector a = (a0, a1, a2, ..., am)^T\n",
    "    a = matrix_system_solver(XTX, XTy) \n",
    "    return a"
   ]
  },
  {
   "cell_type": "markdown",
   "metadata": {},
   "source": [
    "**12. [10 marks]** Run the function `data_polynomial` from the file \"data.py\". The input must be your student ID, enterred as a string, e.g. `data1('abc123')`; the output will be a set of $n$ data points, in the form of a list as described in question 5. Use your function from question 11 for $m=3,4,5,6$ to calculate the regression coefficients $a_0, a_1, \\cdots, a_m$ for this data, and display the data and the best-fit polynomials on four well-labelled plot.\n",
    "Decide which fit is the best and explain why."
   ]
  },
  {
   "cell_type": "code",
   "execution_count": null,
   "metadata": {
    "collapsed": true,
    "scrolled": false
   },
   "outputs": [],
   "source": [
    "import data\n",
    "import matplotlib.pyplot as plt\n",
    "# sort the data by x value to make plotting easier\n",
    "data_polynomial = sorted(data.data_polynomial('abc123'))\n",
    "for m in range(2,7):\n",
    "    sol_polynomial = least_squares_solver_polynomial(data_polynomial, m)\n",
    "    sol=matrix_transpose(sol_polynomial)[0]\n",
    "    print(\"Fit polynomial of degree\", m)\n",
    "    print(*zip(range(len(sol)),sol),sep='\\n')\n",
    "    # construct lists of x and y values from the data\n",
    "    xi_polynomial = [data_polynomial[i][0] for i in range(len(data_polynomial))]\n",
    "    yi_polynomial = [data_polynomial[i][1] for i in range(len(data_polynomial))]\n",
    "    # plot the (x,y) data\n",
    "    plt.scatter(xi_polynomial, yi_polynomial, label='sample data')\n",
    "    # construct a list of predicted y values using the quintic of best fit\n",
    "    yi_predicted_polynomial = [sum(\n",
    "        [sol[j]*xi_polynomial[i]**j for j in range(m+1)]\n",
    "    ) for i in range(len(data_polynomial))]\n",
    "    # plot the quintic of best fit\n",
    "    plt.plot(xi_polynomial, yi_predicted_polynomial, color='red', label='best-fit')\n",
    "    # add title/labels and show plot\n",
    "    plt.title('Polynomial sample data and best-fit polynomial')\n",
    "    plt.xlabel('x_i')\n",
    "    plt.ylabel('y_i')\n",
    "    plt.legend()\n",
    "    plt.show()"
   ]
  },
  {
   "cell_type": "markdown",
   "metadata": {},
   "source": []
  }
 ],
 "metadata": {
  "kernelspec": {
   "display_name": "Python 3",
   "language": "python",
   "name": "python3"
  },
  "language_info": {
   "codemirror_mode": {
    "name": "ipython",
    "version": 3
   },
   "file_extension": ".py",
   "mimetype": "text/x-python",
   "name": "python",
   "nbconvert_exporter": "python",
   "pygments_lexer": "ipython3",
   "version": "3.6.3"
  }
 },
 "nbformat": 4,
 "nbformat_minor": 2
}
