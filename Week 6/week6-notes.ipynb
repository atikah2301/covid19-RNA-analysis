{
 "cells": [
  {
   "cell_type": "markdown",
   "metadata": {
    "slideshow": {
     "slide_type": "-"
    }
   },
   "source": [
    "# MTH5001 Introduction to Computer Programming - Lecture 6\n",
    "Module organisers Dr Lucas Lacasa and Prof. Thomas Prellberg"
   ]
  },
  {
   "cell_type": "markdown",
   "metadata": {},
   "source": [
    "## Loops"
   ]
  },
  {
   "cell_type": "markdown",
   "metadata": {},
   "source": [
    "Last week, we discussed logical statements and used them to construct if statements, enabling **flow control** in our programs, i.e. the ability to execute different code dependent on the value of logical expressions. In this lecture, we will introduce **loops**, another example of flow control."
   ]
  },
  {
   "cell_type": "markdown",
   "metadata": {},
   "source": [
    "### For Loops"
   ]
  },
  {
   "cell_type": "markdown",
   "metadata": {},
   "source": [
    "The first loop structure we shall descripe is a [for loop](http://docs.python.org/3/reference/compound_stmts.html#for)."
   ]
  },
  {
   "cell_type": "markdown",
   "metadata": {},
   "source": [
    "A for loop executes a block of code multiple times with some parameters updated each time through the loop."
   ]
  },
  {
   "cell_type": "code",
   "execution_count": 1,
   "metadata": {},
   "outputs": [
    {
     "name": "stdout",
     "output_type": "stream",
     "text": [
      "some\n",
      "iterable\n",
      "such\n",
      "as\n",
      "a\n",
      "list\n"
     ]
    }
   ],
   "source": [
    "iterable=['some','iterable','such','as','a','list']\n",
    "for item in iterable:\n",
    "    print(item)"
   ]
  },
  {
   "cell_type": "markdown",
   "metadata": {},
   "source": [
    "A for loop begins with a `for` statement. The main points to observe are:\n",
    "- `for` and `in` keywords\n",
    "- `iterable` is a sequence object such as a list, tuple or range\n",
    "- `item` is a variable which takes each value in `iterable`\n",
    "- end `for` statement with a colon `:`\n",
    "- code block indented 4 spaces which executes once for each value in `iterable`\n",
    "\n",
    "Note that the name of `item` is a variable which retains its value once the for loop is done (this is unlike the use of local variables in the list comprehension)."
   ]
  },
  {
   "cell_type": "code",
   "execution_count": 2,
   "metadata": {},
   "outputs": [
    {
     "name": "stdout",
     "output_type": "stream",
     "text": [
      "list\n"
     ]
    }
   ],
   "source": [
    "print(item)"
   ]
  },
  {
   "cell_type": "markdown",
   "metadata": {},
   "source": [
    "Lets start with an example squaring numbers from 1 to 4."
   ]
  },
  {
   "cell_type": "code",
   "execution_count": 3,
   "metadata": {},
   "outputs": [
    {
     "name": "stdout",
     "output_type": "stream",
     "text": [
      "1\n",
      "4\n",
      "9\n",
      "16\n"
     ]
    }
   ],
   "source": [
    "for x in [1,2,3,4]:\n",
    "    print(x**2)"
   ]
  },
  {
   "cell_type": "markdown",
   "metadata": {},
   "source": [
    "You actually have encountered this before when we used list comprehension to create a list, for example with"
   ]
  },
  {
   "cell_type": "code",
   "execution_count": 4,
   "metadata": {},
   "outputs": [
    {
     "name": "stdout",
     "output_type": "stream",
     "text": [
      "[1, 4, 9, 16]\n"
     ]
    }
   ],
   "source": [
    "my_lst=[x**2 for x in [1,2,3,4]]\n",
    "print(my_lst)"
   ]
  },
  {
   "cell_type": "markdown",
   "metadata": {},
   "source": [
    "The output of this code contains the squares of all elements in the list `[1,2,3,4]`. When you run this code, the output appears all at once, but what is hidden here is that the output is actually constructed sequentially one by one."
   ]
  },
  {
   "cell_type": "code",
   "execution_count": 5,
   "metadata": {},
   "outputs": [
    {
     "name": "stdout",
     "output_type": "stream",
     "text": [
      "[1, 4, 9, 16]\n"
     ]
    }
   ],
   "source": [
    "my_lst=[]\n",
    "for x in [1,2,3,4]:\n",
    "    my_lst.append(x**2)\n",
    "print(my_lst)"
   ]
  },
  {
   "cell_type": "markdown",
   "metadata": {},
   "source": [
    "Remember that `.append()` appends an item to the list `mylist` by modifying `mylist` itself. \n",
    "\n",
    "If you want to understand code in more detail, it is helpful to add a few print commands while you are testing your code."
   ]
  },
  {
   "cell_type": "code",
   "execution_count": 6,
   "metadata": {},
   "outputs": [
    {
     "name": "stdout",
     "output_type": "stream",
     "text": [
      "[1]\n",
      "[1, 4]\n",
      "[1, 4, 9]\n",
      "[1, 4, 9, 16]\n"
     ]
    }
   ],
   "source": [
    "my_lst=[]\n",
    "for x in [1,2,3,4]:\n",
    "    my_lst.append(x**2)\n",
    "    print(my_lst)"
   ]
  },
  {
   "cell_type": "markdown",
   "metadata": {},
   "source": [
    "Note that the only difference between the last two code boxes is the indentation of the `print()` statement. Once you indent it, it becomes part of the code block in the for loop and therefore gets executed repeatedly and not just at the end of the program."
   ]
  },
  {
   "cell_type": "markdown",
   "metadata": {},
   "source": [
    "If you want to understand it in still more detail, you can add even more print commands!"
   ]
  },
  {
   "cell_type": "code",
   "execution_count": 7,
   "metadata": {},
   "outputs": [
    {
     "name": "stdout",
     "output_type": "stream",
     "text": [
      "START code block with x = 1\n",
      "my_lst has value []\n",
      "now append 1 to my_lst\n",
      "my_lst has value [1]\n",
      "FINISH code block\n",
      "START code block with x = 2\n",
      "my_lst has value [1]\n",
      "now append 4 to my_lst\n",
      "my_lst has value [1, 4]\n",
      "FINISH code block\n",
      "START code block with x = 3\n",
      "my_lst has value [1, 4]\n",
      "now append 9 to my_lst\n",
      "my_lst has value [1, 4, 9]\n",
      "FINISH code block\n",
      "START code block with x = 4\n",
      "my_lst has value [1, 4, 9]\n",
      "now append 16 to my_lst\n",
      "my_lst has value [1, 4, 9, 16]\n",
      "FINISH code block\n"
     ]
    }
   ],
   "source": [
    "my_lst=[]\n",
    "for x in [1,2,3,4]:\n",
    "    print('START code block with x =',x)\n",
    "    print('my_lst has value',my_lst)\n",
    "    print('now append',x**2,'to my_lst')\n",
    "    my_lst.append(x**2)\n",
    "    print('my_lst has value', my_lst)\n",
    "    print('FINISH code block')"
   ]
  },
  {
   "cell_type": "markdown",
   "metadata": {},
   "source": [
    "As you can see, this can be helpful if you have trouble understanding your how your code is executed. But at the same time, too many print statements can look confusing. A great alternative to this is the [Python visualizer](http://www.pythontutor.com/visualize.html), which allows you to paste your code and see each step of the execution. Try it with the above code, but without any print statements:\n",
    "```python\n",
    "lst=[]\n",
    "for x in [1,2,3,4]:\n",
    "    lst.append(x**2)\n",
    "```"
   ]
  },
  {
   "cell_type": "markdown",
   "metadata": {},
   "source": [
    "### While Loops"
   ]
  },
  {
   "cell_type": "markdown",
   "metadata": {},
   "source": [
    "For loops are useful if we know exactly how often we want to execute a block of code, as we normally use it with a given iterable of fixed length. If we don't know how many times we want to execute a block of code, a [while loop](http://docs.python.org/3/reference/compound_stmts.html#the-while-statement) is more useful, because it allows us to repeat a block of code as long as a logical statement remains true."
   ]
  },
  {
   "cell_type": "code",
   "execution_count": 8,
   "metadata": {},
   "outputs": [
    {
     "name": "stdout",
     "output_type": "stream",
     "text": [
      "1\n",
      "4\n",
      "9\n",
      "16\n"
     ]
    }
   ],
   "source": [
    "x=1\n",
    "while x<5:\n",
    "    print(x**2)\n",
    "    x=x+1"
   ]
  },
  {
   "cell_type": "markdown",
   "metadata": {},
   "source": [
    "The main points to observe are:\n",
    "\n",
    "- `while` keyword\n",
    "- a logical expression followed by a colon `:`\n",
    "- loop executes its code block if the logical expression evaluates to `True`\n",
    "- update the variable in the logical expression each time through the loop\n",
    "- Note: If the logical expression always evaluates to True, then you get an **infinite loop**."
   ]
  },
  {
   "cell_type": "markdown",
   "metadata": {},
   "source": [
    "The previous example shows you that you sometimes can construct the same loop using a for loop or a while loop. Whenever possible, you should use for loops instead of while loops, as the former will not normally cause an infinite loop."
   ]
  },
  {
   "cell_type": "markdown",
   "metadata": {},
   "source": [
    "A genuinely different example of a while loop that cannot be written as a for loop is the following loop (which actually numerically solves $\\cos(x)=x$ - we'll come back to this later)."
   ]
  },
  {
   "cell_type": "code",
   "execution_count": 9,
   "metadata": {},
   "outputs": [
    {
     "name": "stdout",
     "output_type": "stream",
     "text": [
      "0.7503638678402439\n",
      "0.7391128909113617\n",
      "0.739085133385284\n",
      "0.7390851332151607\n",
      "0.7390851332151607\n"
     ]
    }
   ],
   "source": [
    "import numpy as np\n",
    "x=1\n",
    "y=0\n",
    "while abs(x-y)>1e-10:\n",
    "    y=x\n",
    "    x=x+(np.cos(x)-x)/(np.sin(x)+1)\n",
    "    print(x)"
   ]
  },
  {
   "cell_type": "markdown",
   "metadata": {},
   "source": [
    "### Comparing Sequence Constructions"
   ]
  },
  {
   "cell_type": "markdown",
   "metadata": {},
   "source": [
    "We now have introduced several constructions that allow us to create sequences. Lets first recap three ways we used earlier when we discussed iterables, namely writing lists directly, using ranges, and list construction."
   ]
  },
  {
   "cell_type": "code",
   "execution_count": 10,
   "metadata": {},
   "outputs": [
    {
     "name": "stdout",
     "output_type": "stream",
     "text": [
      "[5, 11, 17, 23, 29, 35]\n",
      "[5, 11, 17, 23, 29, 35]\n",
      "[5, 11, 17, 23, 29, 35]\n"
     ]
    }
   ],
   "source": [
    "print([5,11,17,23,29,35])\n",
    "print(list(range(5,36,6)))\n",
    "print([5+6*n for n in range (6)])"
   ]
  },
  {
   "cell_type": "markdown",
   "metadata": {},
   "source": [
    "Writing lists directly is something we can always do (assuming we know the items explicitly), ranges are useful for integer data that is evenly spaced, and list comprehension can be used when we know a formula for the $n$-th item. "
   ]
  },
  {
   "cell_type": "markdown",
   "metadata": {},
   "source": [
    "As we have just seen, instead of a list comprehension we can use a for loop that appends items sequentially. To do so, you need to create an empty list before you start the loop (so you have something to append to), and then in the loop repeatedly compute the next list item and append it to your list."
   ]
  },
  {
   "cell_type": "code",
   "execution_count": 11,
   "metadata": {},
   "outputs": [
    {
     "name": "stdout",
     "output_type": "stream",
     "text": [
      "[5, 11, 17, 23, 29, 35]\n"
     ]
    }
   ],
   "source": [
    "my_list=[]\n",
    "for n in range(6):\n",
    "    new_item=5+6*n\n",
    "    my_list.append(new_item)\n",
    "print(my_list)"
   ]
  },
  {
   "cell_type": "markdown",
   "metadata": {},
   "source": [
    "As we have also just seen above, this can also be written using a while loop."
   ]
  },
  {
   "cell_type": "code",
   "execution_count": 12,
   "metadata": {},
   "outputs": [
    {
     "name": "stdout",
     "output_type": "stream",
     "text": [
      "[5, 11, 17, 23, 29, 35]\n"
     ]
    }
   ],
   "source": [
    "my_list=[]\n",
    "n=0\n",
    "while n<6:\n",
    "    new_item=5+6*n\n",
    "    my_list.append(new_item)\n",
    "    n=n+1\n",
    "print(my_list)"
   ]
  },
  {
   "cell_type": "markdown",
   "metadata": {},
   "source": [
    "Note that if you can write a sequence using list comprehension instead of using loops, you should choose to do this. It is the most efficient way."
   ]
  },
  {
   "cell_type": "markdown",
   "metadata": {},
   "source": [
    "### Recursive Sequences"
   ]
  },
  {
   "cell_type": "markdown",
   "metadata": {},
   "source": [
    "For loops and while loops are very useful when we don't know an explicit formula but can compute new items in the sequence from the previous one. Such a sequence is called a recursive sequence."
   ]
  },
  {
   "cell_type": "markdown",
   "metadata": {},
   "source": [
    "The items $x_n=5+6n$ in the above example also satisfy the recursion $$x_n=x_{n-1}+6\\;.$$ This recursion can be used in a for or while loop to compute the next list item, once we know the initial item."
   ]
  },
  {
   "cell_type": "code",
   "execution_count": 13,
   "metadata": {},
   "outputs": [
    {
     "name": "stdout",
     "output_type": "stream",
     "text": [
      "[5, 11, 17, 23, 29, 35]\n"
     ]
    }
   ],
   "source": [
    "my_list=[5]\n",
    "for n in range(1,6):\n",
    "    new_item=my_list[-1]+6\n",
    "    my_list.append(new_item)\n",
    "print(my_list)"
   ]
  },
  {
   "cell_type": "markdown",
   "metadata": {},
   "source": [
    "Note that Python makes it very easy to refer to the last entry of our list as `mylist[-1]` using the convention of negative indices. Alternatively, we could have written `mylist[len(mylist)-1]`, or in this case also `mylist[n-1]` as the length of the list in this particular loop is `n`. \n",
    "\n",
    "(Please remember that using negative indices was covered in Lecture 2.)"
   ]
  },
  {
   "cell_type": "code",
   "execution_count": 14,
   "metadata": {},
   "outputs": [
    {
     "name": "stdout",
     "output_type": "stream",
     "text": [
      "[5, 11, 17, 23, 29, 35]\n"
     ]
    }
   ],
   "source": [
    "my_list=[5]\n",
    "n=1\n",
    "while n<6:\n",
    "    new_item=5+6*n\n",
    "    my_list.append(new_item)\n",
    "    n=n+1\n",
    "print(my_list)"
   ]
  },
  {
   "cell_type": "markdown",
   "metadata": {},
   "source": [
    "Let us look at a slightly more complicated example: the Fibonacci numbers $1,1,2,3,5,8,13,21,34,55,\\ldots$ are recursively defined by $x_0=1$, $x_1=1$, and\n",
    "$$x_n=x_{n-1}+x_{n-2}\\text{ for $n>1$.}$$\n",
    "\n",
    "While there is an explicit formula for the $n$-th Fibonacci number involving powers of the golden ratio, the recursive description, where the next term depends on the two previous ones, is again easy to code using the `for` loop together with `append`. The structure of the for loop is precisely as above, except that we need two starting values."
   ]
  },
  {
   "cell_type": "code",
   "execution_count": 15,
   "metadata": {
    "scrolled": true
   },
   "outputs": [
    {
     "name": "stdout",
     "output_type": "stream",
     "text": [
      "[1, 1, 2, 3, 5, 8, 13, 21, 34, 55, 89, 144, 233, 377, 610]\n"
     ]
    }
   ],
   "source": [
    "fibonacci_numbers=[1,1]\n",
    "for n in range(2,15):\n",
    "    next_fibonacci=fibonacci_numbers[-1]+fibonacci_numbers[-2]\n",
    "    fibonacci_numbers.append(next_fibonacci)\n",
    "print(fibonacci_numbers)"
   ]
  },
  {
   "cell_type": "markdown",
   "metadata": {},
   "source": [
    "If you paid attention last week, you will already have realised that I could also have formulated the Fibonacci number computation as a recursive function:"
   ]
  },
  {
   "cell_type": "code",
   "execution_count": 16,
   "metadata": {},
   "outputs": [
    {
     "data": {
      "text/plain": [
       "[1, 1, 2, 3, 5, 8, 13, 21, 34, 55, 89, 144, 233, 377, 610]"
      ]
     },
     "execution_count": 16,
     "metadata": {},
     "output_type": "execute_result"
    }
   ],
   "source": [
    "def fibonacci(n):\n",
    "    if n<=1:\n",
    "        f=1\n",
    "    else:\n",
    "        f=fibonacci(n-1)+fibonacci(n-2)\n",
    "    return f\n",
    "\n",
    "[fibonacci(n) for n in range(15)]"
   ]
  },
  {
   "cell_type": "markdown",
   "metadata": {},
   "source": [
    "### Computing Sums"
   ]
  },
  {
   "cell_type": "markdown",
   "metadata": {},
   "source": [
    "Lets assume we want to numerically evaluate $$\\frac1e=\\sum\\limits_{n=0}^\\infty\\frac{(-1)^n}{n!}\\;.$$\n",
    "\n",
    "To start with, we need to a define function compute the factorial of $n$. A few weeks ago, we used for this the black-box function `math.factorial`, and in the last lecture we used a recursive function. Here we implement the recursive description $n!=n\\cdot(n-1)!$ with a while loop."
   ]
  },
  {
   "cell_type": "code",
   "execution_count": 17,
   "metadata": {},
   "outputs": [
    {
     "name": "stdout",
     "output_type": "stream",
     "text": [
      "1 24 3628800\n"
     ]
    }
   ],
   "source": [
    "def factorial(N):\n",
    "    'computes N! = 1*2*...*(N-1)*N'\n",
    "    product=1\n",
    "    for n in range(1,N+1):\n",
    "        product=n*product\n",
    "    return product\n",
    "\n",
    "print(factorial(1),factorial(4),factorial(10))"
   ]
  },
  {
   "cell_type": "markdown",
   "metadata": {},
   "source": [
    "(Alternatively, we could also have used `np.prod(range(1,N+1))`. There are usually different ways to write code for the same problem.)"
   ]
  },
  {
   "cell_type": "markdown",
   "metadata": {},
   "source": [
    "Now we want to compute $1/e$ by approximating the infinite sum by finite partial sums\n",
    "$$\\sum_{n=0}^N\\frac{(-1)^n}{n!}\\;.$$\n",
    "We can of course do it by summing up a list of coefficients generated by list comprehension via\n",
    "```python\n",
    "sum([(-1)**n/factorial(n) for n in range(N+1)])\n",
    "```\n",
    "but we want to practice writing loops, so lets do the summation with a while loop."
   ]
  },
  {
   "cell_type": "code",
   "execution_count": 18,
   "metadata": {},
   "outputs": [
    {
     "name": "stdout",
     "output_type": "stream",
     "text": [
      "0.3678794642857144\n"
     ]
    }
   ],
   "source": [
    "def euler(N):\n",
    "    summation=0\n",
    "    n=0\n",
    "    while n<=N:\n",
    "        summation=summation+(-1)**n/factorial(n)\n",
    "        n=n+1\n",
    "    return(summation)\n",
    "\n",
    "print(euler(10))"
   ]
  },
  {
   "cell_type": "markdown",
   "metadata": {},
   "source": [
    "But how good is this approximation? How large do we need to choose $N$? Fortunately, for alternating sums we have the [Leibniz criterion](http://en.wikipedia.org/wiki/Alternating_series_test) stating that if the absolute value of the summands strictly decreases to zero then the error is smaller than the first omitted term.\n",
    "\n",
    "We can therefore conclude that $$\\left|\\sum_{n=0}^N\\frac{(-1)^n}{n!}-\\frac1e\\right|<\\frac1{(N+1)!}\\;.$$ This means that if we want to compute $1/e$ up to some accuracy, we need to keep summing terms *while* these are greater than this accuracy, which is perfect for a using a while loop."
   ]
  },
  {
   "cell_type": "code",
   "execution_count": 19,
   "metadata": {},
   "outputs": [
    {
     "name": "stdout",
     "output_type": "stream",
     "text": [
      "0.3678819444444445\n"
     ]
    }
   ],
   "source": [
    "def euler2(accuracy):\n",
    "    summation=0\n",
    "    n=0\n",
    "    while 1/factorial(n)>accuracy:\n",
    "        summation=summation+(-1)**n/factorial(n)\n",
    "        n=n+1\n",
    "    return(summation)\n",
    "\n",
    "print(euler2(1e-5))"
   ]
  },
  {
   "cell_type": "markdown",
   "metadata": {},
   "source": [
    "You see that the only part of the code that has changed is the logical condition after the `while`. \n",
    "\n",
    "Does this work as we want? Lets compare the actual error with the given accuracy:"
   ]
  },
  {
   "cell_type": "code",
   "execution_count": 20,
   "metadata": {},
   "outputs": [
    {
     "name": "stdout",
     "output_type": "stream",
     "text": [
      "accuracy: 1e-06\n",
      "computed: 0.3678791887125221 error: 2.5245892021352745e-07\n",
      "\n",
      "accuracy: 1e-09\n",
      "computed: 0.3678794413212817 error: 1.498393631393924e-10\n",
      "\n",
      "accuracy: 1e-12\n",
      "computed: 0.36787944117216204 error: 7.197020757132577e-13\n",
      "\n",
      "    1/e = 0.36787944117144233\n"
     ]
    }
   ],
   "source": [
    "def pretty_print(accuracy, compute, actual):\n",
    "    print('accuracy:', accuracy)\n",
    "    print('computed:', compute(accuracy),\\\n",
    "          'error:', abs(compute(accuracy)-actual))\n",
    "    print()\n",
    "\n",
    "pretty_print(1e-6,euler2,np.exp(-1))\n",
    "pretty_print(1e-9,euler2,np.exp(-1))\n",
    "pretty_print(1e-12,euler2,np.exp(-1))\n",
    "print('    1/e =',np.exp(-1))"
   ]
  },
  {
   "cell_type": "markdown",
   "metadata": {},
   "source": [
    "We see that indeed the error is less than the given accuracy."
   ]
  },
  {
   "cell_type": "markdown",
   "metadata": {},
   "source": [
    "### The danger of infinite while loops"
   ]
  },
  {
   "cell_type": "markdown",
   "metadata": {},
   "source": [
    "When using while loops, it is important to make sure that the logical condition in the while loop will eventially become false, otherwise your loop will run forever. When this happens you will keep seeing an asterisk in `In[*]` and you need to stop Python by interrupting the kernel by hand (as explained last week)."
   ]
  },
  {
   "cell_type": "markdown",
   "metadata": {},
   "source": [
    "Lets assume we tried to compute Euler's constant up to machine precision, i.e. as long as the evaluation of 1/n! was indistinguishable from `0.0`:"
   ]
  },
  {
   "cell_type": "code",
   "execution_count": 21,
   "metadata": {},
   "outputs": [
    {
     "name": "stdout",
     "output_type": "stream",
     "text": [
      "0.36787944117144245\n",
      "1/e = 0.36787944117144233\n"
     ]
    }
   ],
   "source": [
    "def euler3():\n",
    "    summation=0\n",
    "    n=0\n",
    "    while 1/factorial(n)>0:\n",
    "        summation=summation+(-1)**n/factorial(n)\n",
    "        n=n+1\n",
    "    return(summation)\n",
    "\n",
    "print(euler3())\n",
    "print('1/e =',np.exp(-1))"
   ]
  },
  {
   "cell_type": "markdown",
   "metadata": {},
   "source": [
    "There are some expected rounding errors, but this works reasonably well. But now assume we had a minor mistake in the code:"
   ]
  },
  {
   "cell_type": "code",
   "execution_count": null,
   "metadata": {
    "collapsed": true
   },
   "outputs": [],
   "source": [
    "def euler4():\n",
    "    summation=0\n",
    "    n=0\n",
    "    while 1/factorial(n)>=0:\n",
    "        summation=summation+(-1)**n/factorial(n)\n",
    "        n=n+1\n",
    "    return(summation)\n",
    "\n",
    "print(euler4())\n",
    "print('1/e =',np.exp(-1))"
   ]
  },
  {
   "cell_type": "markdown",
   "metadata": {},
   "source": [
    "Nothing happens, and we have to interrupt by hand. Did you find the mistake? \n",
    "\n",
    "This kind of endless loop did happen to some people in one of the in-term tests..."
   ]
  },
  {
   "cell_type": "markdown",
   "metadata": {},
   "source": [
    "## Conclusion and Outlook"
   ]
  },
  {
   "cell_type": "markdown",
   "metadata": {},
   "source": [
    "In this lecture we have introduced loops and used them for the creation of lists and numerical evaluation of sums. After the midterm we shall continue with applications."
   ]
  }
 ],
 "metadata": {
  "kernelspec": {
   "display_name": "Python 3",
   "language": "python",
   "name": "python3"
  },
  "language_info": {
   "codemirror_mode": {
    "name": "ipython",
    "version": 3
   },
   "file_extension": ".py",
   "mimetype": "text/x-python",
   "name": "python",
   "nbconvert_exporter": "python",
   "pygments_lexer": "ipython3",
   "version": "3.6.3"
  }
 },
 "nbformat": 4,
 "nbformat_minor": 2
}
