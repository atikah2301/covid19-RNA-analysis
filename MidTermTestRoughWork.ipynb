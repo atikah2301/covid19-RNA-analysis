{
 "cells": [
  {
   "cell_type": "markdown",
   "metadata": {},
   "source": [
    "# Mid Term Test - 09/03/21 - Atikah Hussain\n",
    "\n",
    "## Question 1 - Collatz"
   ]
  },
  {
   "cell_type": "markdown",
   "metadata": {},
   "source": [
    "Answer: a & c"
   ]
  },
  {
   "cell_type": "code",
   "execution_count": 10,
   "metadata": {},
   "outputs": [
    {
     "name": "stdout",
     "output_type": "stream",
     "text": [
      "10\n"
     ]
    }
   ],
   "source": [
    "def collatz(x):\n",
    "    if x==int(x):        \n",
    "        if  x%2==0:      \n",
    "            return int(x/2)     \n",
    "        else:\n",
    "            return int(3*x+1)\n",
    "    else:\n",
    "        print(\"not defined\")\n",
    "print(collatz(3))\n",
    "\n",
    "# option a -- success!"
   ]
  },
  {
   "cell_type": "code",
   "execution_count": 14,
   "metadata": {},
   "outputs": [
    {
     "name": "stdout",
     "output_type": "stream",
     "text": [
      "7\n"
     ]
    }
   ],
   "source": [
    "def collatz(x):\n",
    "    if  x%2==0:      \n",
    "        return int(x/2)     \n",
    "    else:\n",
    "        return int(3*x+1)\n",
    "print(collatz(2.3))\n",
    "\n",
    "# option b -- fail -- does not deal with exceptions\n",
    "# option d -- fail -- takes no arguments\n",
    "# option e -- fail -- does not narrow its input"
   ]
  },
  {
   "cell_type": "code",
   "execution_count": 13,
   "metadata": {},
   "outputs": [
    {
     "name": "stdout",
     "output_type": "stream",
     "text": [
      "not defined\n",
      "None\n"
     ]
    }
   ],
   "source": [
    "def collatz(x):\n",
    "    if abs(x-int(x))>0:        \n",
    "        print(\"not defined\")  \n",
    "    else:\n",
    "        if  x%2==0:      \n",
    "            return int(x/2)     \n",
    "        else:\n",
    "            return int(3*x+1)\n",
    "print(collatz(2.3))\n",
    "\n",
    "# option c -- success!"
   ]
  },
  {
   "cell_type": "markdown",
   "metadata": {},
   "source": [
    "## Question 2 - True or False on Python"
   ]
  },
  {
   "cell_type": "markdown",
   "metadata": {},
   "source": [
    "* a -- false -- numpy has no attribute prime()\n",
    "* b -- false -- numpy and pandas are modules / libraries, not functions\n",
    "* c -- **true** -- cam reassign a variable with data of different type\n",
    "* d -- **true** -- sorted(x) puts list elements in increasing order\n",
    "* e -- false -- tuples and lists can both store any data type\n",
    "* f -- false -- python is slower than programming languages like C or Fortran\n",
    "* g -- **true** -- python IS case sensitive i.e. x is different from X\n",
    "* h -- **true** -- algorithm is logic, code is implementation\n",
    "* i -- **true** -- python is interpreted\n",
    "* j -- false??? -- \"python is compiled\"\n",
    "\n",
    "10 options, 5 true, 5 false"
   ]
  },
  {
   "cell_type": "code",
   "execution_count": 15,
   "metadata": {},
   "outputs": [
    {
     "ename": "AttributeError",
     "evalue": "module 'numpy' has no attribute 'prime'",
     "output_type": "error",
     "traceback": [
      "\u001b[1;31m---------------------------------------------------------------------------\u001b[0m",
      "\u001b[1;31mAttributeError\u001b[0m                            Traceback (most recent call last)",
      "\u001b[1;32m<ipython-input-15-e5a2dd540c1a>\u001b[0m in \u001b[0;36m<module>\u001b[1;34m\u001b[0m\n\u001b[0;32m      1\u001b[0m \u001b[1;31m# a - the function prime() belongs to numpy\u001b[0m\u001b[1;33m\u001b[0m\u001b[1;33m\u001b[0m\u001b[1;33m\u001b[0m\u001b[0m\n\u001b[0;32m      2\u001b[0m \u001b[1;32mimport\u001b[0m \u001b[0mnumpy\u001b[0m \u001b[1;32mas\u001b[0m \u001b[0mnp\u001b[0m\u001b[1;33m\u001b[0m\u001b[1;33m\u001b[0m\u001b[0m\n\u001b[1;32m----> 3\u001b[1;33m \u001b[0mnp\u001b[0m\u001b[1;33m.\u001b[0m\u001b[0mprime\u001b[0m\u001b[1;33m(\u001b[0m\u001b[1;36m2\u001b[0m\u001b[1;33m)\u001b[0m\u001b[1;33m\u001b[0m\u001b[1;33m\u001b[0m\u001b[0m\n\u001b[0m",
      "\u001b[1;32mL:\\Anaconda\\mini_3.7\\lib\\site-packages\\numpy\\__init__.py\u001b[0m in \u001b[0;36m__getattr__\u001b[1;34m(attr)\u001b[0m\n\u001b[0;32m    213\u001b[0m             \u001b[1;32melse\u001b[0m\u001b[1;33m:\u001b[0m\u001b[1;33m\u001b[0m\u001b[1;33m\u001b[0m\u001b[0m\n\u001b[0;32m    214\u001b[0m                 raise AttributeError(\"module {!r} has no attribute \"\n\u001b[1;32m--> 215\u001b[1;33m                                      \"{!r}\".format(__name__, attr))\n\u001b[0m\u001b[0;32m    216\u001b[0m \u001b[1;33m\u001b[0m\u001b[0m\n\u001b[0;32m    217\u001b[0m         \u001b[1;32mdef\u001b[0m \u001b[0m__dir__\u001b[0m\u001b[1;33m(\u001b[0m\u001b[1;33m)\u001b[0m\u001b[1;33m:\u001b[0m\u001b[1;33m\u001b[0m\u001b[1;33m\u001b[0m\u001b[0m\n",
      "\u001b[1;31mAttributeError\u001b[0m: module 'numpy' has no attribute 'prime'"
     ]
    }
   ],
   "source": [
    "# a - the function prime() belongs to numpy\n",
    "import numpy as np; np.prime(2)"
   ]
  },
  {
   "cell_type": "code",
   "execution_count": 16,
   "metadata": {},
   "outputs": [
    {
     "data": {
      "text/plain": [
       "str"
      ]
     },
     "execution_count": 16,
     "metadata": {},
     "output_type": "execute_result"
    }
   ],
   "source": [
    "# c - python is dynamically typed\n",
    "x = 2.1; x = \"hello\"; type(x)"
   ]
  },
  {
   "cell_type": "code",
   "execution_count": 17,
   "metadata": {},
   "outputs": [
    {
     "data": {
      "text/plain": [
       "[1, 2, 3, 4, 5]"
      ]
     },
     "execution_count": 17,
     "metadata": {},
     "output_type": "execute_result"
    }
   ],
   "source": [
    "# d - sorted function returns elements of list in increasing order\n",
    "x = [5,3,4,1,2]; sorted(x)"
   ]
  },
  {
   "cell_type": "markdown",
   "metadata": {},
   "source": [
    "## Question 3 - Identify the function\n",
    "\n",
    "Answer - harmonic mean - n/sum(1/x) - see week 4 lab sheet"
   ]
  },
  {
   "cell_type": "markdown",
   "metadata": {},
   "source": [
    "## Question 4 - Select Code Output\n",
    "Answer - final value in x is 23"
   ]
  },
  {
   "cell_type": "code",
   "execution_count": null,
   "metadata": {},
   "outputs": [],
   "source": [
    "x=1; y=1\n",
    "while not y>10:\n",
    "    x=x+y\n",
    "    y=y+3\n",
    "    \n",
    "# y=1,4,7,10,13(loop ends)  # x=1,2,6,13,23"
   ]
  },
  {
   "cell_type": "markdown",
   "metadata": {},
   "source": [
    "## Question 5 - Match Code to Plot\n",
    "* 1 -- ranges from 0 to 9, uses \"o\" markers\n",
    "* 2 -- ranges from 1 to 10, no markers\n",
    "* 3 -- range from 1 to 9, uses \"o\" markers"
   ]
  },
  {
   "cell_type": "markdown",
   "metadata": {},
   "source": [
    "## Question 6 - Numerical Derivative Functions\n",
    "Answer -- -- df1 = 12.148, df2 = 11.568"
   ]
  },
  {
   "cell_type": "code",
   "execution_count": 19,
   "metadata": {},
   "outputs": [
    {
     "name": "stdout",
     "output_type": "stream",
     "text": [
      "12.148077705285054 11.567996882427716\n"
     ]
    }
   ],
   "source": [
    "import numpy as np\n",
    "def df1(f,x,h):\n",
    "    return (f(x+h)-f(x))/h\n",
    "def df2(f,x,h):\n",
    "    return (f(x+h)-f(x-h))/(2*h)\n",
    "\n",
    "print( df1(np.cosh,np.pi,0.1) , df2(np.cosh,np.pi,0.1) )"
   ]
  },
  {
   "cell_type": "markdown",
   "metadata": {},
   "source": [
    "## Question 7 - Ranges of Sums\n",
    "```python\n",
    "sum( [sum( [f(k) for k in range(n)] ) for n in range(m)] )\n",
    "```\n",
    "* Inner sum has range 0 to n-1\n",
    "* Outer sum has range 0 to m-1\n",
    "\n",
    "Answer -- option a"
   ]
  },
  {
   "cell_type": "markdown",
   "metadata": {},
   "source": [
    "## Question 8 - Implement ID Code\n",
    "Answer -- output is 3"
   ]
  },
  {
   "cell_type": "code",
   "execution_count": 33,
   "metadata": {
    "scrolled": true
   },
   "outputs": [
    {
     "name": "stdout",
     "output_type": "stream",
     "text": [
      "Enter ID: 190057394\n",
      "Enter year of birth: 2000\n",
      "2.25 3\n"
     ]
    }
   ],
   "source": [
    "import math\n",
    "\n",
    "def F(n):\n",
    "    if n%2==0:\n",
    "        return n/2\n",
    "    elif n%2==1:\n",
    "        return 3*n+1\n",
    "\n",
    "ID = int(input(\"Enter ID: \"))\n",
    "year = int(input(\"Enter year of birth: \"))\n",
    "\n",
    "f = F(ID)\n",
    "storage_list = [F(ID)] # divergent sequence ending with repetitions of 4,1,2\n",
    "for i in range(year-1):\n",
    "    f = F(f)\n",
    "    storage_list.append(f)\n",
    "    \n",
    "# print(len(storage_list))\n",
    "    \n",
    "limit_list = []\n",
    "for k in range(1,20+1):\n",
    "    limit_list.append(storage_list[-k])\n",
    "\n",
    "# print((limit_list))\n",
    "\n",
    "raw_average = sum(limit_list)/len(limit_list)\n",
    "rounded_up = math.ceil(raw_average)\n",
    "\n",
    "print(raw_average, rounded_up)\n",
    "    \n"
   ]
  },
  {
   "cell_type": "markdown",
   "metadata": {},
   "source": [
    "## Question 9 - Syntax Errors\n",
    "4 Answers: a,b,c,e"
   ]
  },
  {
   "cell_type": "code",
   "execution_count": 43,
   "metadata": {},
   "outputs": [
    {
     "ename": "SyntaxError",
     "evalue": "invalid syntax (<ipython-input-43-02ce5d084347>, line 1)",
     "output_type": "error",
     "traceback": [
      "\u001b[1;36m  File \u001b[1;32m\"<ipython-input-43-02ce5d084347>\"\u001b[1;36m, line \u001b[1;32m1\u001b[0m\n\u001b[1;33m    def messy(x,[]): # can't have a list an argument, only variables (option e)\u001b[0m\n\u001b[1;37m                ^\u001b[0m\n\u001b[1;31mSyntaxError\u001b[0m\u001b[1;31m:\u001b[0m invalid syntax\n"
     ]
    }
   ],
   "source": [
    "def messy(x,[]): # can't have a list an argument, only variables (option e)\n",
    "    print(1)\n",
    "    if(x>0 and x<0):\n",
    "        print(2)\n",
    "        else       \n",
    "        print(3)\n",
    "    while(x<0):    \n",
    "        x = x-1\n",
    "return x         "
   ]
  },
  {
   "cell_type": "code",
   "execution_count": 42,
   "metadata": {},
   "outputs": [
    {
     "ename": "SyntaxError",
     "evalue": "invalid syntax (<ipython-input-42-5ba0a998d3e8>, line 5)",
     "output_type": "error",
     "traceback": [
      "\u001b[1;36m  File \u001b[1;32m\"<ipython-input-42-5ba0a998d3e8>\"\u001b[1;36m, line \u001b[1;32m5\u001b[0m\n\u001b[1;33m    else        # missing colon (option c)\u001b[0m\n\u001b[1;37m       ^\u001b[0m\n\u001b[1;31mSyntaxError\u001b[0m\u001b[1;31m:\u001b[0m invalid syntax\n"
     ]
    }
   ],
   "source": [
    "def messy(x): \n",
    "    print(1)\n",
    "    if(x>0 and x<0):\n",
    "        print(2)\n",
    "        else        # missing colon (option c)\n",
    "        print(3)\n",
    "    while(x<0):   \n",
    "        x = x-1\n",
    "return x       "
   ]
  },
  {
   "cell_type": "code",
   "execution_count": 44,
   "metadata": {},
   "outputs": [
    {
     "ename": "SyntaxError",
     "evalue": "invalid syntax (<ipython-input-44-d4cea8acfffa>, line 5)",
     "output_type": "error",
     "traceback": [
      "\u001b[1;36m  File \u001b[1;32m\"<ipython-input-44-d4cea8acfffa>\"\u001b[1;36m, line \u001b[1;32m5\u001b[0m\n\u001b[1;33m    else:        # too indented (option a)\u001b[0m\n\u001b[1;37m       ^\u001b[0m\n\u001b[1;31mSyntaxError\u001b[0m\u001b[1;31m:\u001b[0m invalid syntax\n"
     ]
    }
   ],
   "source": [
    "def messy(x): \n",
    "    print(1)\n",
    "    if(x>0 and x<0):\n",
    "        print(2)\n",
    "        else:        # too indented (option a)\n",
    "        print(3)\n",
    "    while(x<0):    \n",
    "        x = x-1\n",
    "return x       "
   ]
  },
  {
   "cell_type": "code",
   "execution_count": 45,
   "metadata": {},
   "outputs": [
    {
     "ename": "SyntaxError",
     "evalue": "'return' outside function (<ipython-input-45-a8774aec5ea9>, line 9)",
     "output_type": "error",
     "traceback": [
      "\u001b[1;36m  File \u001b[1;32m\"<ipython-input-45-a8774aec5ea9>\"\u001b[1;36m, line \u001b[1;32m9\u001b[0m\n\u001b[1;33m    return x         # not indented enough (option b)\u001b[0m\n\u001b[1;37m                                                     ^\u001b[0m\n\u001b[1;31mSyntaxError\u001b[0m\u001b[1;31m:\u001b[0m 'return' outside function\n"
     ]
    }
   ],
   "source": [
    "def messy(x): \n",
    "    print(1)\n",
    "    if(x>0 and x<0):\n",
    "        print(2)\n",
    "    else:        \n",
    "        print(3)\n",
    "    while(x<0):    \n",
    "        x = x-1\n",
    "return x         # not indented enough (option b)"
   ]
  },
  {
   "cell_type": "code",
   "execution_count": null,
   "metadata": {},
   "outputs": [],
   "source": [
    "def messy(x): \n",
    "    print(1)\n",
    "    if(x>0 and x<0):\n",
    "        print(2)\n",
    "    else:       \n",
    "        print(3)\n",
    "    while(x<0):    # infinite while loop if x starts as negative (option g) however this is not a syntax error!\n",
    "        x = x-1\n",
    "        print(x)\n",
    "        if x = -100:\n",
    "            break\n",
    "    #return x\n",
    "\n",
    "messy(-10)"
   ]
  },
  {
   "cell_type": "markdown",
   "metadata": {},
   "source": [
    "## Question 10 - More Syntax Errors\n",
    "Answers: \n",
    "\n",
    "* a -- false -- input is an in-built function\n",
    "* b -- false -- input function does not need any arguments to run\n",
    "* c -- false -- libraries can take any alias\n",
    "* d -- **true** -- input needs to be onverted to integer before calculation\n",
    "* e -- **true** -- need to call numpy function using alias.exp\n",
    "* f -- **true** -- function arguments in (), list index in [] \n",
    "* g -- false -- exp() is not an in-built function"
   ]
  },
  {
   "cell_type": "code",
   "execution_count": 7,
   "metadata": {},
   "outputs": [
    {
     "name": "stdout",
     "output_type": "stream",
     "text": [
      "2\n",
      "7.38905609893065\n"
     ]
    }
   ],
   "source": [
    "    # correction\n",
    "import numpy as npy\n",
    "x = int(input())\n",
    "print(npy.exp(x))"
   ]
  },
  {
   "cell_type": "code",
   "execution_count": null,
   "metadata": {},
   "outputs": [],
   "source": [
    "    # original\n",
    "import numpy as npy\n",
    "x = input()         # x is not a number (option d)\n",
    "print(exp[x])       # need npy.exp (option e) \n",
    "                    # need round brackets (option f)"
   ]
  },
  {
   "cell_type": "code",
   "execution_count": 8,
   "metadata": {},
   "outputs": [
    {
     "ename": "NameError",
     "evalue": "name 'exp' is not defined",
     "output_type": "error",
     "traceback": [
      "\u001b[1;31m---------------------------------------------------------------------------\u001b[0m",
      "\u001b[1;31mNameError\u001b[0m                                 Traceback (most recent call last)",
      "\u001b[1;32m<ipython-input-8-86d8c7b4300b>\u001b[0m in \u001b[0;36m<module>\u001b[1;34m\u001b[0m\n\u001b[1;32m----> 1\u001b[1;33m \u001b[0mexp\u001b[0m\u001b[1;33m(\u001b[0m\u001b[1;36m10\u001b[0m\u001b[1;33m)\u001b[0m\u001b[1;33m\u001b[0m\u001b[1;33m\u001b[0m\u001b[0m\n\u001b[0m",
      "\u001b[1;31mNameError\u001b[0m: name 'exp' is not defined"
     ]
    }
   ],
   "source": [
    "exp(10)"
   ]
  },
  {
   "cell_type": "markdown",
   "metadata": {},
   "source": [
    "## Question 11 - Identify Correct Code\n",
    "Answers:\n",
    "\n",
    "* a -- false -- ```a[1]``` would print ```2``` from list ```a=[1,2,3]```\n",
    "* b -- **true** -- ```a[1]``` would print ```2``` from tuple ```a=(1,2,3)```\n",
    "* c -- false -- firstly, because len(v) is 9 not 10; secondly, k not defined\n",
    "* d -- **true** -- see code below\n",
    "* e -- false -- they meant \"iterable\" not \"enumerable\""
   ]
  },
  {
   "cell_type": "code",
   "execution_count": 9,
   "metadata": {},
   "outputs": [
    {
     "name": "stdout",
     "output_type": "stream",
     "text": [
      "2\n"
     ]
    }
   ],
   "source": [
    "# option a\n",
    "a=[1,2,3]; print(a[1])"
   ]
  },
  {
   "cell_type": "code",
   "execution_count": 10,
   "metadata": {},
   "outputs": [
    {
     "name": "stdout",
     "output_type": "stream",
     "text": [
      "2\n"
     ]
    }
   ],
   "source": [
    "# option b\n",
    "a=(1,2,3); print(a[1])"
   ]
  },
  {
   "cell_type": "code",
   "execution_count": 12,
   "metadata": {},
   "outputs": [
    {
     "data": {
      "text/plain": [
       "9"
      ]
     },
     "execution_count": 12,
     "metadata": {},
     "output_type": "execute_result"
    }
   ],
   "source": [
    "# option c\n",
    "V=[k for i in range(1,10)]; len(V)"
   ]
  },
  {
   "cell_type": "code",
   "execution_count": 19,
   "metadata": {},
   "outputs": [
    {
     "name": "stdout",
     "output_type": "stream",
     "text": [
      "2 4 6 8 10 12 14 16 18 20 "
     ]
    }
   ],
   "source": [
    "# option d\n",
    "V=(2,4,6,8,10,12,14,16,18,20)\n",
    "for i in range(0,10):\n",
    "    print(V[i], end=\" \")"
   ]
  },
  {
   "cell_type": "markdown",
   "metadata": {},
   "source": [
    "## Question 12 - Select Code Output\n",
    "Answer: 5"
   ]
  },
  {
   "cell_type": "code",
   "execution_count": 20,
   "metadata": {},
   "outputs": [
    {
     "name": "stdout",
     "output_type": "stream",
     "text": [
      "5\n"
     ]
    }
   ],
   "source": [
    "x=10; y=5\n",
    "if x<20 and y>10: #false\n",
    "    if x>5:\n",
    "        z=z-1\n",
    "    elif x>5:\n",
    "        z=z-1\n",
    "elif x<20 or y>10: # true\n",
    "    z=6\n",
    "    if x*y>20: # true\n",
    "        z=x-y # z=10-5=5\n",
    "    else:\n",
    "        z=x+y\n",
    "else:\n",
    "    z=-1\n",
    "print(z)"
   ]
  },
  {
   "cell_type": "markdown",
   "metadata": {},
   "source": [
    "## Question 13 - Select Correct Implementation\n",
    "Answers: a,b,d\n",
    "\n",
    "* ask user for 2 integer inputs\n",
    "* if x>y and x is even, then print(x*y)\n",
    "* alteratively, if x-y>0 and x is odd, print(x-y)\n",
    "\n",
    "* a -- (x+1)%2==0 does check for odd numbers\n",
    "* a -- x>y is equivalent to x-y>0\n",
    "* b -- using elif for second statement is fine\n",
    "* c -- second statement should not be indented!\n",
    "* d -- splitting \"and\" up into further ifs is fine\n",
    "* e -- indentation all wrong\n",
    "* f -- can't use & instead of *and*\n",
    "* g -- forgets exception where x==y\n"
   ]
  },
  {
   "cell_type": "code",
   "execution_count": null,
   "metadata": {},
   "outputs": [],
   "source": [
    "x = int(input(\"x = \")); y = int(input(\"y = \"))\n",
    "if x<y and x%2==0:\n",
    "    print(x*y)\n",
    "if x>y and x%2==1:\n",
    "    print(x-y)"
   ]
  },
  {
   "cell_type": "code",
   "execution_count": null,
   "metadata": {},
   "outputs": [],
   "source": []
  }
 ],
 "metadata": {
  "kernelspec": {
   "display_name": "Python 3",
   "language": "python",
   "name": "python3"
  },
  "language_info": {
   "codemirror_mode": {
    "name": "ipython",
    "version": 3
   },
   "file_extension": ".py",
   "mimetype": "text/x-python",
   "name": "python",
   "nbconvert_exporter": "python",
   "pygments_lexer": "ipython3",
   "version": "3.7.3"
  }
 },
 "nbformat": 4,
 "nbformat_minor": 4
}
