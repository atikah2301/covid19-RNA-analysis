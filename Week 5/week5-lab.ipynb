{
  "metadata" : {
    "language_info" : {
      "file_extension" : ".py",
      "codemirror_mode" : {
        "name" : "ipython",
        "version" : 3
      },
      "mimetype" : "text\/x-python",
      "pygments_lexer" : "ipython3",
      "version" : "3.7.4",
      "nbconvert_exporter" : "python",
      "name" : "python"
    },
    "kernelspec" : {
      "name" : "python3",
      "language" : "python",
      "display_name" : "Python 3"
    }
  },
  "nbformat" : 4,
  "nbformat_minor" : 2,
  "cells" : [
    {
      "cell_type" : "markdown",
      "source" : [
        "# MTH5001 Introduction to Computer Programming - Lab 5\n",
        "Dr Lucas Lacasa and Prof. Thomas Prellberg\n",
        "\n",
        "## Exercises"
      ],
      "metadata" : {
        "slideshow" : {
          "slide_type" : "-"
        }
      }
    },
    {
      "cell_type" : "markdown",
      "source" : [
        "### Exercise 1: Translating mathematical statements into Python code"
      ],
      "metadata" : {

      }
    },
    {
      "cell_type" : "markdown",
      "source" : [
        "You will recall that the statement \"A implies B\" is equivalent to \"B or not A\". In Python you can write a function `implies(A,B)` which computes the truth of \"A implies B\" as follows:\n",
        "```python\n",
        "def implies(A,B):\n",
        "    \"returns the truth of 'A implies B'\"\n",
        "    return B or not A\n",
        "```"
      ],
      "metadata" : {

      }
    },
    {
      "cell_type" : "markdown",
      "source" : [
        "#### Exercise 1.a: Test that this Python function works by evaluating it for all four possible inputs."
      ],
      "metadata" : {

      }
    },
    {
      "metadata" : {

      },
      "source" : [

      ],
      "cell_type" : "code",
      "execution_count" : null,
      "outputs" : [

      ]
    },
    {
      "cell_type" : "markdown",
      "source" : [
        "#### Exercise 1.b.: Write a function `not_implies(A,B)` for the negation of \"A implies B\" which computes the truth of \"not (A implies B)\" and evaluate it for all four possible inputs."
      ],
      "metadata" : {

      }
    },
    {
      "metadata" : {

      },
      "source" : [

      ],
      "cell_type" : "code",
      "execution_count" : null,
      "outputs" : [

      ]
    },
    {
      "cell_type" : "markdown",
      "source" : [
        "We say that an integer $a$ divides an integer $m$, and write $a|m$, if $m=ka$ for some integer $k$. In Python you can write a function `divides(a,m)` which computes the truth of `a divides m` for integer `a` and `m` as follows:\n",
        "```python\n",
        "def divides(a,m):\n",
        "    \"returns the truth of 'a divides m'\"\n",
        "    return(m%a==0)\n",
        "```"
      ],
      "metadata" : {

      }
    },
    {
      "cell_type" : "markdown",
      "source" : [
        "#### Exercise 1.c: Test that this Python function works by evaluating it for four well-chosen inputs."
      ],
      "metadata" : {

      }
    },
    {
      "metadata" : {

      },
      "source" : [

      ],
      "cell_type" : "code",
      "execution_count" : null,
      "outputs" : [

      ]
    },
    {
      "cell_type" : "markdown",
      "source" : [
        "Last year, you will have encountered the following fact about integer division:\n",
        "\n",
        "**Theorem:** Let $a,b,m,n\\in\\mathbb Z$. If $a|m$ and $b|n$ then $ab|mn$. \n",
        "\n",
        "According to this theorem\n",
        "\n",
        "    if 7 divides 14 and 2 divides 4 then 14 divides 56  \n",
        "is a true statement, and\n",
        "\n",
        "    if 7 divides 14 and 2 divides 3 then 14 divides 42 \n",
        "is also a true statement (why?)."
      ],
      "metadata" : {

      }
    },
    {
      "cell_type" : "markdown",
      "source" : [
        "#### Exercise 1.d: Using `implies()` and `divides()` defined above, write a function `test_theorem(a,b,m,n)` which tests the truth of this Theorem. Evaluate this function by evaluating it for four well-chosen examples."
      ],
      "metadata" : {

      }
    },
    {
      "metadata" : {
        "scrolled" : true
      },
      "source" : [

      ],
      "cell_type" : "code",
      "execution_count" : null,
      "outputs" : [

      ]
    },
    {
      "cell_type" : "markdown",
      "source" : [
        "Now consider the following claim, which is different from the theorem above:\n",
        "\n",
        "**Claim:** Let $a,b,n\\in\\mathbb Z$. If $a|n$ and $b|n$ then $ab|n$."
      ],
      "metadata" : {

      }
    },
    {
      "cell_type" : "markdown",
      "source" : [
        "#### Exercise 1.e: Write a function `test_theorem2(a,b,n)` which tests the truth of this claim. Find input values that result in the function producing the output `False`, and hence disprove the statement."
      ],
      "metadata" : {

      }
    },
    {
      "metadata" : {

      },
      "source" : [

      ],
      "cell_type" : "code",
      "execution_count" : null,
      "outputs" : [

      ]
    },
    {
      "cell_type" : "markdown",
      "source" : [
        "### Exercise 2: Roots of a cubic polynomial"
      ],
      "metadata" : {

      }
    },
    {
      "cell_type" : "markdown",
      "source" : [
        "The discriminant of a cubic polynomial $p(x)=ax^3+bx^2+cx+d$ is\n",
        "$$\\Delta=b^2c^2-4ac^3-4b^3d-27a^2d^2+18abcd\\;.$$\n",
        "The discriminant gives us information about the roots of the polynomial $p(x)$:\n",
        "\n",
        "- if $\\Delta>0$, then $p(x)$ has 3 distinct real roots,\n",
        "- if $\\Delta<0$, then $p(x)$ has 2 distinct complex roots and 1 real root,\n",
        "- if $\\Delta=0$, then $p(x)$ has at least 2 (real or complex) roots which are the same.\n"
      ],
      "metadata" : {

      }
    },
    {
      "cell_type" : "markdown",
      "source" : [
        "Represent a cubic polynomial $p(x)=ax^3+bx^2+cx+d$ by the coefficients `a,b,c,d` of numbers. For example, the polynomial $p(x)=x^3-x+1$ is represented as `1,0,-1,1`."
      ],
      "metadata" : {

      }
    },
    {
      "cell_type" : "markdown",
      "source" : [
        "#### Exercise 2.a: Write a function called `has_three_real_roots()` which takes as input the four coefficients of a cubic polynomial in decreasing order, and returns `True` if $p(x)$ has 3 real distinct roots and `False` otherwise. "
      ],
      "metadata" : {

      }
    },
    {
      "metadata" : {

      },
      "source" : [

      ],
      "cell_type" : "code",
      "execution_count" : null,
      "outputs" : [

      ]
    },
    {
      "cell_type" : "markdown",
      "source" : [
        "#### Exercise 2.b.: Test this function on the polynomials $x^3$, $x(1-x)^2$, $x^3-x+1$ and $x^3-x$. "
      ],
      "metadata" : {

      }
    },
    {
      "metadata" : {

      },
      "source" : [

      ],
      "cell_type" : "code",
      "execution_count" : null,
      "outputs" : [

      ]
    },
    {
      "cell_type" : "markdown",
      "source" : [
        "### Exercise 3: Recursive Functions"
      ],
      "metadata" : {

      }
    },
    {
      "cell_type" : "markdown",
      "source" : [
        "In the lecture you encountered the recursive definition of binomial coefficients $\\binom nk$.\n",
        "Of course you know also that these are just the coefficients in the expansion of $(1+x)^n$, i.e.\n",
        "$$(1+x)^n=\\sum_{k=0}^n\\binom nkx^k.$$\n",
        "This approach allows us to define $\\binom nk=0$ whenever $k<0$ or $k>n$ and leads to a slightly different\n",
        "implementation of `binom(n,k)` from the one given in the lecture."
      ],
      "metadata" : {

      }
    },
    {
      "metadata" : {

      },
      "source" : [
        "def binom(n,k):\n",
        "    if k<0 or k>n:\n",
        "        b=0\n",
        "    elif n==0:\n",
        "        b=1\n",
        "    else:\n",
        "        b=binom(n-1,k-1)+binom(n-1,k)\n",
        "    return b\n",
        "\n",
        "[[binom(n,k) for k in range(n+1)] for n in range(8)]"
      ],
      "cell_type" : "code",
      "execution_count" : 1,
      "outputs" : [
        {
          "metadata" : {

          },
          "data" : {
            "text\/plain" : [
              "[[1],\n",
              " [1, 1],\n",
              " [1, 2, 1],\n",
              " [1, 3, 3, 1],\n",
              " [1, 4, 6, 4, 1],\n",
              " [1, 5, 10, 10, 5, 1],\n",
              " [1, 6, 15, 20, 15, 6, 1],\n",
              " [1, 7, 21, 35, 35, 21, 7, 1]]"
            ]
          },
          "output_type" : "execute_result",
          "execution_count" : 1
        }
      ]
    },
    {
      "cell_type" : "markdown",
      "source" : [
        "\n",
        "Similarly, the **trinomial coefficients** $\\binom nk_2$ are defined by the coefficients in the expansion of $(1+x+x^2)^n$, i.e.\n",
        "$$(1+x+x^2)^n=\\sum_{k=-n}^{n}\\binom nk_2x^{n+k}.$$\n",
        "They satisfy a recursion similar to the one of binomial coefficients,\n",
        "$$\\binom nk_2=\\binom{n-1}{k-1}_2+\\binom{n-1}k_2+\\binom{n-1}{k+1}_2.$$"
      ],
      "metadata" : {

      }
    },
    {
      "cell_type" : "markdown",
      "source" : [
        "#### Exercise 3.a.: Write a Python function `trinom(n,k)` that computes the trinomial coefficients $\\binom nk_2$. (Note that you still need to determine the correct conditions at the boundary for the recurrence: for example, what happens if k is too small or too large?)"
      ],
      "metadata" : {

      }
    },
    {
      "metadata" : {

      },
      "source" : [

      ],
      "cell_type" : "code",
      "execution_count" : null,
      "outputs" : [

      ]
    },
    {
      "cell_type" : "markdown",
      "source" : [
        "#### Exercise 3.b.: Using `trinom(n,k)`, compute the first eight rows of the trinomial triangle defined in analogy to Pascal's triangle."
      ],
      "metadata" : {

      }
    },
    {
      "metadata" : {
        "scrolled" : true
      },
      "source" : [

      ],
      "cell_type" : "code",
      "execution_count" : null,
      "outputs" : [

      ]
    },
    {
      "cell_type" : "markdown",
      "source" : [
        "## Submit your Jupyter Notebook to QMPLUS"
      ],
      "metadata" : {

      }
    },
    {
      "cell_type" : "markdown",
      "source" : [
        "Once you are done, save the jupyter notebook and submit it to QMPLUS under Lab Report Week 5."
      ],
      "metadata" : {

      }
    }
  ]
}