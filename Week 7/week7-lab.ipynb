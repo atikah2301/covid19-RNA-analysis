{
 "cells": [
  {
   "cell_type": "markdown",
   "metadata": {
    "slideshow": {
     "slide_type": "-"
    }
   },
   "source": [
    "# MTH5001 Introduction to Computer Programming - Lab 7\n",
    "Dr Lucas Lacasa and Prof. Thomas Prellberg\n",
    "\n",
    "## Exercises"
   ]
  },
  {
   "cell_type": "code",
   "execution_count": 1,
   "metadata": {},
   "outputs": [],
   "source": [
    "import numpy as np\n",
    "import matplotlib.pyplot as plt"
   ]
  },
  {
   "cell_type": "markdown",
   "metadata": {},
   "source": [
    "### Exercise 1: Convergence of root-finding algorithms"
   ]
  },
  {
   "cell_type": "markdown",
   "metadata": {},
   "source": [
    "In the lecture we showed that the root finding algorithms converge at different rates. In particular, we showed that the error $\\epsilon_n$ after $n$ iterations behaves as $$|\\epsilon_{n+1}|\\approx C|\\epsilon_n|^p$$\n",
    "with $$p=\\begin{cases}1&\\text{Bisection method}\\\\ 1.618&\\text{Secant method}\\\\2&\\text{Newton method}\\end{cases}$$"
   ]
  },
  {
   "cell_type": "markdown",
   "metadata": {},
   "source": [
    "We shall now test this numerically by producing two different plots.\n",
    "\n",
    "1. a double-logarithmic plot of $|\\epsilon_{n+1}|$ versus $|\\epsilon_n|$. We should see points that lie on a straight line with slope given by the exponent).\n",
    "2. a semi-logarithmic plot of $|\\epsilon_n|$ versus $n$. What do you expect to see?"
   ]
  },
  {
   "cell_type": "markdown",
   "metadata": {},
   "source": [
    "In the lecture, you were given the code for the bisection algorithm. Here, we will use a very simplified version."
   ]
  },
  {
   "cell_type": "code",
   "execution_count": 2,
   "metadata": {},
   "outputs": [],
   "source": [
    "def bisection(f,a,b,N):\n",
    "    for n in range(N):\n",
    "        m=(a+b)/2\n",
    "        if f(a)*f(m)<0:\n",
    "            b=m\n",
    "        else:\n",
    "            a=m\n",
    "    return (a+b)/2"
   ]
  },
  {
   "cell_type": "markdown",
   "metadata": {},
   "source": [
    "To show how the error decreases, we compute the root of $f(x)=\\cos x-x$ with the bisection algorithm starting with $x_0=0$ and $x_1=\\pi/2$ ($f(0)=1$ and $f(\\pi/2)=-\\pi/2$ ensures that the algorithm will find the root)."
   ]
  },
  {
   "cell_type": "markdown",
   "metadata": {},
   "source": [
    "As we are interested in the error, we need the root and compute it numerically by iterating sufficiently often."
   ]
  },
  {
   "cell_type": "code",
   "execution_count": 3,
   "metadata": {
    "scrolled": true
   },
   "outputs": [
    {
     "name": "stdout",
     "output_type": "stream",
     "text": [
      "0.7390851332151607\n"
     ]
    }
   ],
   "source": [
    "root=bisection(lambda x: np.cos(x)-x,0,np.pi/2,100)\n",
    "print(root)"
   ]
  },
  {
   "cell_type": "markdown",
   "metadata": {},
   "source": [
    "We now create a list containing the list of the logarithms of the absolute values of the error, i.e. a list $\\log|\\epsilon_n|$, where $\\epsilon_n=x_n-a$ (with $a$ being the root of the function $f$, i.e. $f(a)=0$):"
   ]
  },
  {
   "cell_type": "code",
   "execution_count": 4,
   "metadata": {},
   "outputs": [],
   "source": [
    "logeps=[np.log(abs(0-root)),np.log(abs(np.pi/2-root))]\n",
    "for n in range(50):\n",
    "    x_new=bisection(lambda x: np.cos(x)-x,0,np.pi/2,n)\n",
    "    logeps.append(np.log(abs(x_new-root)))"
   ]
  },
  {
   "cell_type": "markdown",
   "metadata": {},
   "source": [
    "When plotting $\\log|\\epsilon_{n+1}|$ versus $\\log|\\epsilon_n|$, we see a straight line with slope 1 as expected."
   ]
  },
  {
   "cell_type": "code",
   "execution_count": 5,
   "metadata": {
    "scrolled": true
   },
   "outputs": [
    {
     "data": {
      "image/png": "[encoded data removed]",
      "text/plain": [
       "<Figure size 432x288 with 1 Axes>"
      ]
     },
     "metadata": {
      "needs_background": "light"
     },
     "output_type": "display_data"
    }
   ],
   "source": [
    "plt.plot(logeps[:-1],logeps[1:],'x')\n",
    "plt.plot([-40,0],[-40,0],'r')\n",
    "plt.xlabel('log|eps(n)|')\n",
    "plt.ylabel('log|eps(n+1)|')\n",
    "plt.show()"
   ]
  },
  {
   "cell_type": "markdown",
   "metadata": {},
   "source": [
    "Correspondingly, the error decreases as a function of the number of iterations as shown in the graph below."
   ]
  },
  {
   "cell_type": "code",
   "execution_count": 6,
   "metadata": {},
   "outputs": [
    {
     "data": {
      "image/png": "[encoded data removed]",
      "text/plain": [
       "<Figure size 432x288 with 1 Axes>"
      ]
     },
     "metadata": {
      "needs_background": "light"
     },
     "output_type": "display_data"
    }
   ],
   "source": [
    "plt.plot(logeps,'x')\n",
    "plt.xlabel('n')\n",
    "plt.ylabel('log|eps(n)|')\n",
    "plt.show()"
   ]
  },
  {
   "cell_type": "markdown",
   "metadata": {},
   "source": [
    "#### Exercise 1.a.: Produce corresponding plots for the secant and Newton method (starting with $x_0=0$ for the Newton method). Compare convergence rates."
   ]
  },
  {
   "cell_type": "code",
   "execution_count": null,
   "metadata": {
    "scrolled": false
   },
   "outputs": [],
   "source": []
  },
  {
   "cell_type": "markdown",
   "metadata": {},
   "source": [
    "#### Exercise 1.b.: Repeat 1.a. for two other functions of your choice, i.e. replace the function $f(x)=\\cos(x)-x$ by some other functions. If you are unsure about roots, try plotting the graph of your functions first."
   ]
  },
  {
   "cell_type": "code",
   "execution_count": null,
   "metadata": {},
   "outputs": [],
   "source": []
  },
  {
   "cell_type": "markdown",
   "metadata": {},
   "source": [
    "### Optional Exercise 2.: Producing pictures."
   ]
  },
  {
   "cell_type": "markdown",
   "metadata": {},
   "source": [
    "To create images pixel by pixel, we will simply import a module and use it as a black box. Study the following code (and note the US spelling of color)."
   ]
  },
  {
   "cell_type": "code",
   "execution_count": 7,
   "metadata": {},
   "outputs": [
    {
     "data": {
      "image/png": "[encoded data removed]",
      "text/plain": [
       "<PIL.Image.Image image mode=RGB size=100x200 at 0x1D83414B880>"
      ]
     },
     "metadata": {},
     "output_type": "display_data"
    },
    {
     "data": {
      "image/png": "[encoded data removed]",
      "text/plain": [
       "<PIL.Image.Image image mode=RGB size=200x100 at 0x1D834121FA0>"
      ]
     },
     "metadata": {},
     "output_type": "display_data"
    }
   ],
   "source": [
    "# import some picture stuff\n",
    "from PIL import Image\n",
    "from IPython.core.display import display\n",
    "\n",
    "# define some colors using RGB notation (red, green, blue) with color values from 0 to 255\n",
    "colors = [(180, 30, 30), (30, 180, 30), (30, 30, 180)]\n",
    "\n",
    "# create an image of size 100x200 to manipulate\n",
    "img=Image.new(\"RGB\", (100,200))\n",
    "\n",
    "# color all the pixels\n",
    "for j in range(200):\n",
    "        for i in range(100):\n",
    "            if j<50:\n",
    "                img.putpixel((i,j),colors[0])\n",
    "            elif j>150:\n",
    "                img.putpixel((i,j),colors[1])\n",
    "            else:\n",
    "                img.putpixel((i,j),colors[2])\n",
    "            \n",
    "# and display the picture\n",
    "display(img)\n",
    "\n",
    "# create an image of size 200x100 to manipulate\n",
    "img=Image.new(\"RGB\", (200,100))\n",
    "\n",
    "# color all the pixels\n",
    "for i in range(200):\n",
    "        for j in range(100):\n",
    "            if i<j:\n",
    "                img.putpixel((i,j),colors[0])\n",
    "            elif i>j+100:\n",
    "                img.putpixel((i,j),colors[1])\n",
    "            else:\n",
    "                img.putpixel((i,j),colors[2])\n",
    "            \n",
    "# and display the picture\n",
    "display(img)\n"
   ]
  },
  {
   "cell_type": "markdown",
   "metadata": {},
   "source": [
    "If you understand the code above, you should find the next two exercises fairly easy. To draw a circle, you can use $(x-x_0)^2+(y-y_0)^2<r^2$, and to draw a square, you can use $\\max(|x-x_0|,|y-y_0|)<d$ with suitable values of $x_0$, $y_0$, $r$ and $a$."
   ]
  },
  {
   "cell_type": "markdown",
   "metadata": {},
   "source": [
    "#### Exercise 2.1.: Draw a square shaped picture of a blue circle inside a green background."
   ]
  },
  {
   "cell_type": "code",
   "execution_count": null,
   "metadata": {},
   "outputs": [],
   "source": []
  },
  {
   "cell_type": "markdown",
   "metadata": {},
   "source": [
    "#### Exercise 2.2.: Draw a square shaped picture of a yellow square inside a red background."
   ]
  },
  {
   "cell_type": "code",
   "execution_count": null,
   "metadata": {},
   "outputs": [],
   "source": []
  },
  {
   "cell_type": "markdown",
   "metadata": {},
   "source": [
    "### Optional Exercise 3.: Complex Newton Iteration"
   ]
  },
  {
   "cell_type": "markdown",
   "metadata": {},
   "source": [
    "For the remainder of this tutorial, you should have fun creating some [fractals](https://en.wikipedia.org/wiki/Fractal). Lets consider the function $f(z)=z^3-1$. It has roots at $z=1$ and $z=\\frac12(-1\\pm i\\sqrt{3})$:"
   ]
  },
  {
   "cell_type": "code",
   "execution_count": 8,
   "metadata": {},
   "outputs": [],
   "source": [
    "roots=[1,complex(-1/2,3*(1/2)/2),complex(-1/2,-3**(1/2)/2)]"
   ]
  },
  {
   "cell_type": "markdown",
   "metadata": {},
   "source": [
    "For any complex number, we can identify which of these roots it is closest to as follows."
   ]
  },
  {
   "cell_type": "code",
   "execution_count": 9,
   "metadata": {},
   "outputs": [],
   "source": [
    "def index(z):\n",
    "    j=0\n",
    "    dist=abs(z-roots[0])\n",
    "    for i in range(1,len(roots)):\n",
    "        # check if $z$ is closer to other root\n",
    "        if abs(z-roots[i])<dist:\n",
    "            dist=abs(z-roots[i])\n",
    "            j=i\n",
    "    return j      "
   ]
  },
  {
   "cell_type": "markdown",
   "metadata": {},
   "source": [
    "Lets test this. We want to map pixels $(i,j)$ to a complex number in the grid we want to plot, say a square of sidelength 2 centered about the origin."
   ]
  },
  {
   "cell_type": "code",
   "execution_count": 10,
   "metadata": {},
   "outputs": [],
   "source": [
    "def z(i,j,size):\n",
    "    return complex(-1+2*i/size,-1+2*j/size)"
   ]
  },
  {
   "cell_type": "markdown",
   "metadata": {},
   "source": [
    "Finally we can create the picture."
   ]
  },
  {
   "cell_type": "code",
   "execution_count": 11,
   "metadata": {},
   "outputs": [
    {
     "data": {
      "image/png": "[encoded data removed]",
      "text/plain": [
       "<PIL.Image.Image image mode=RGB size=255x255 at 0x1D834137C40>"
      ]
     },
     "metadata": {},
     "output_type": "display_data"
    }
   ],
   "source": [
    "size=255\n",
    "\n",
    "# create an image to manipulate\n",
    "img=Image.new(\"RGB\", (size,size))\n",
    "\n",
    "# define some colors using RGB notation (red, green, blue)\n",
    "colors = [(255,0,0), (0,255,0), (0,0,255)]\n",
    "\n",
    "# color all the pixels\n",
    "for j in range(size):\n",
    "    for i in range(size):\n",
    "        img.putpixel((i,j),colors[index(z(i,j,size))])\n",
    "    \n",
    "# and display the picture\n",
    "display(img)"
   ]
  },
  {
   "cell_type": "markdown",
   "metadata": {},
   "source": [
    "You see the points closest to $1$ are red, the points closest to $\n",
    "\\frac12(-1-i\\sqrt3)$ are green, and the points closest to $\\frac12(-1+i\\sqrt3)$ are blue. Do make sure you understand this!"
   ]
  },
  {
   "cell_type": "markdown",
   "metadata": {},
   "source": [
    "Now for the fun bit, and over to you. Recall from the lecture on root finding that `newton()` takes as arguments a function, its derivative, a starting value, and the number of iterations."
   ]
  },
  {
   "cell_type": "code",
   "execution_count": 12,
   "metadata": {},
   "outputs": [],
   "source": [
    "def newton(f,df,a,N):\n",
    "    for n in range(N):\n",
    "        a=a-f(a)/df(a)\n",
    "    return a\n",
    "\n",
    "f=lambda z: z**3-1\n",
    "df=lambda z: 3*z**2"
   ]
  },
  {
   "cell_type": "markdown",
   "metadata": {},
   "source": [
    "#### Exercise 3.1.: Create a picture of the points that after one Newton iteration for $f(z)=z^3-1$ are closest to the roots of this polynomial."
   ]
  },
  {
   "cell_type": "code",
   "execution_count": null,
   "metadata": {},
   "outputs": [],
   "source": []
  },
  {
   "cell_type": "markdown",
   "metadata": {},
   "source": [
    "#### Exercise 3.2.: Now create similar pictures for more iterations. Write a function `draw(size,iterations)` for this task, and run\n",
    "```python\n",
    "draw(255,0)\n",
    "draw(255,1)\n",
    "draw(255,2)\n",
    "draw(255,3)\n",
    "draw(255,4)\n",
    "```\n",
    "You should see a hierarchical fractal structure emerging. "
   ]
  },
  {
   "cell_type": "code",
   "execution_count": null,
   "metadata": {},
   "outputs": [],
   "source": []
  },
  {
   "cell_type": "markdown",
   "metadata": {},
   "source": [
    "#### Exercise 3.3.: Lets finish with creating a larger picture and more iterations, using\n",
    "```python\n",
    "draw(501,100)\n",
    "```\n",
    "This should look like the picture in the lecture notes."
   ]
  },
  {
   "cell_type": "code",
   "execution_count": null,
   "metadata": {},
   "outputs": [],
   "source": []
  },
  {
   "cell_type": "markdown",
   "metadata": {},
   "source": [
    "If you are intrigued by this, you may want to search online for more examples of using Python to display fractal structures, such as this randomly selected [example](http://0pointer.de/blog/projects/mandelbrot.html)."
   ]
  },
  {
   "cell_type": "markdown",
   "metadata": {},
   "source": [
    "## Submit your Jupyter Notebook to QMPLUS"
   ]
  },
  {
   "cell_type": "markdown",
   "metadata": {},
   "source": [
    "Once you are done, save the jupyter notebook and submit it to QMPLUS under Lab Report Week 7."
   ]
  }
 ],
 "metadata": {
  "kernelspec": {
   "display_name": "Python 3",
   "language": "python",
   "name": "python3"
  },
  "language_info": {
   "codemirror_mode": {
    "name": "ipython",
    "version": 3
   },
   "file_extension": ".py",
   "mimetype": "text/x-python",
   "name": "python",
   "nbconvert_exporter": "python",
   "pygments_lexer": "ipython3",
   "version": "3.8.5"
  }
 },
 "nbformat": 4,
 "nbformat_minor": 2
}
