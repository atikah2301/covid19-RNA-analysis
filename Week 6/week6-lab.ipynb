{
 "cells": [
  {
   "cell_type": "markdown",
   "metadata": {
    "slideshow": {
     "slide_type": "-"
    }
   },
   "source": [
    "# MTH5001 Introduction to Computer Programming - Lab 6\n",
    "Dr Lucas Lacasa and Prof. Thomas Prellberg\n",
    "\n",
    "## Exercises"
   ]
  },
  {
   "cell_type": "markdown",
   "metadata": {},
   "source": [
    "### Exercise 1: The Collatz conjecture"
   ]
  },
  {
   "cell_type": "markdown",
   "metadata": {},
   "source": [
    "For a positive integer $a$, consider the sequence defined by $x_0=a$ and\n",
    "$$x_{n+1}=\\begin{cases}3x_n+1&\\text{if $x_n$ is odd,}\\\\ x_n/2&\\text{if $x_n$ is even.}\\end{cases}$$\n",
    "\n",
    "The [Collatz conjecture](http://en.wikipedia.org/wiki/Collatz_conjecture) states that this sequence will *always* reach $1$, no matter what the given value of $a$ is."
   ]
  },
  {
   "cell_type": "markdown",
   "metadata": {},
   "source": [
    "#### Exercise 1.a.: Write a Python function `f(x)` that computes the function $f:\\mathbb Z\\to\\mathbb Z$ given by \n",
    "\n",
    "$$f(x)=\\begin{cases}3x+1&\\text{if $x$ is odd,}\\\\ x/2&\\text{if $x$ is even.}\\end{cases}$$\n",
    "Test this function by computing $f(n)$ for $1\\leq n\\leq 20$. (Note that the output should be integer, not floating point!)"
   ]
  },
  {
   "cell_type": "code",
   "execution_count": null,
   "metadata": {
    "scrolled": false
   },
   "outputs": [],
   "source": []
  },
  {
   "cell_type": "markdown",
   "metadata": {},
   "source": [
    "From the output you will be able to see that iteration starting with $x=10$, say, will produce you $10\\to5\\to16\\to8\\to4\\to2\\to1\\to4\\to2\\to1\\ldots$."
   ]
  },
  {
   "cell_type": "markdown",
   "metadata": {},
   "source": [
    "### Exercise 2: Writing for and while loops"
   ]
  },
  {
   "cell_type": "markdown",
   "metadata": {},
   "source": [
    "#### Exercise 2.a.: Using a `for` loop, write a function `iterate_Collatz(a,N)` that creates a list of the iterates $x_0=a,x_1,\\ldots x_N$ for $0\\leq n\\leq N$.\n",
    "\n",
    "For example, `iterate_Collatz(10,10)` should produce the output `[10, 5, 16, 8, 4, 2, 1, 4, 2, 1, 4]`"
   ]
  },
  {
   "cell_type": "code",
   "execution_count": null,
   "metadata": {},
   "outputs": [],
   "source": []
  },
  {
   "cell_type": "markdown",
   "metadata": {},
   "source": [
    "#### Exercise 2.b.: Evaluate  this function for several values of $a$ and $N$. Try in particular $a=27$, $a=231$, and $a=703$. Try to find $N$ such that the sequence ends precisely at the first occurrence of  $1$."
   ]
  },
  {
   "cell_type": "code",
   "execution_count": null,
   "metadata": {},
   "outputs": [],
   "source": []
  },
  {
   "cell_type": "markdown",
   "metadata": {},
   "source": [
    "#### Exercise 2.c.: Using a `while` loop, write a function `iterate_Collatz2(a)` that creates a list of the iterates $x_0=a,x_1,\\ldots$ up to the first occurrence of $x_N=1$.\n",
    "\n",
    "For example, `iterate_Collatz2(10)` should produce the output `[10, 5, 16, 8, 4, 2, 1]`"
   ]
  },
  {
   "cell_type": "code",
   "execution_count": null,
   "metadata": {},
   "outputs": [],
   "source": []
  },
  {
   "cell_type": "markdown",
   "metadata": {},
   "source": [
    "#### Exercise 2.d.: Evaluate  this function for several values of $a$. Try in particular $a=27$, $a=231$, and $a=703$. "
   ]
  },
  {
   "cell_type": "code",
   "execution_count": null,
   "metadata": {
    "scrolled": true
   },
   "outputs": [],
   "source": []
  },
  {
   "cell_type": "markdown",
   "metadata": {},
   "source": [
    "### Exercise 3.: Using `f(x)`, write a (recursive) function `recursive_Collatz(a)` that takes as input a parameter `a`, ***prints*** our the values  $x_{n+1}=f(x_n)$, starting with $x_0=a$ and ending with the first occurrence of $x_N=1$ and ***outputs*** the number of iterations $N$.\n",
    "\n",
    "For example, `recursive_Collatz(10)` should print out the numbers 10, 5, 16, 8, 4, 2, 1, and give as output the number of iterations 6."
   ]
  },
  {
   "cell_type": "code",
   "execution_count": null,
   "metadata": {},
   "outputs": [],
   "source": []
  },
  {
   "cell_type": "markdown",
   "metadata": {},
   "source": [
    "## Submit your Jupyter Notebook to QMPLUS"
   ]
  },
  {
   "cell_type": "markdown",
   "metadata": {},
   "source": [
    "Once you are done, save the jupyter notebook and submit it to QMPLUS under Lab Report Week 6."
   ]
  }
 ],
 "metadata": {
  "kernelspec": {
   "display_name": "Python 3",
   "language": "python",
   "name": "python3"
  },
  "language_info": {
   "codemirror_mode": {
    "name": "ipython",
    "version": 3
   },
   "file_extension": ".py",
   "mimetype": "text/x-python",
   "name": "python",
   "nbconvert_exporter": "python",
   "pygments_lexer": "ipython3",
   "version": "3.8.5"
  }
 },
 "nbformat": 4,
 "nbformat_minor": 2
}
