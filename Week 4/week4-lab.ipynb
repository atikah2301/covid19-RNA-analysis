{
 "cells": [
  {
   "cell_type": "markdown",
   "metadata": {
    "slideshow": {
     "slide_type": "-"
    }
   },
   "source": [
    "# MTH5001 Introduction to Computer Programming - Lab 4\n",
    "Dr Lucas Lacasa and Prof. Thomas Prellberg\n",
    "\n",
    "## Exercises"
   ]
  },
  {
   "cell_type": "code",
   "execution_count": null,
   "metadata": {},
   "outputs": [],
   "source": [
    "import numpy as np\n",
    "from sympy import prime"
   ]
  },
  {
   "cell_type": "markdown",
   "metadata": {},
   "source": [
    "### Exercise 1: Comparing the Arithmetic, Harmonic, and Geometric Means"
   ]
  },
  {
   "cell_type": "markdown",
   "metadata": {},
   "source": [
    "In the lecture, we saw how to define a function computing the average (also called arithmetic mean) $$\\frac1n\\sum_{k=1}^nx_k$$ of a sequence of numbers $x_1,x_2,\\ldots,x_n$. I am writing this here slightly different than in the lecture."
   ]
  },
  {
   "cell_type": "code",
   "execution_count": null,
   "metadata": {},
   "outputs": [],
   "source": [
    "def arithmetic_mean(x): \n",
    "    \"Compute the average of the values in the sequence x.\" \n",
    "    n=len(x)\n",
    "    return sum(x)/n"
   ]
  },
  {
   "cell_type": "markdown",
   "metadata": {},
   "source": [
    "#### Exercise 1.a: Define two functions computing the harmonic mean $$\\frac n{\\sum\\limits_{k=1}^n\\dfrac1{x_k}}$$ and the geometric mean $$\\sqrt[n]{\\prod_{k=1}^nx_k}$$ of a sequence of positive numbers $x_1,x_2,\\ldots,x_n$. (Remember that you can access individual entries of a list `lst` by their index `i` by writing `lst[i]`.)"
   ]
  },
  {
   "cell_type": "code",
   "execution_count": null,
   "metadata": {},
   "outputs": [],
   "source": []
  },
  {
   "cell_type": "markdown",
   "metadata": {},
   "source": [
    "#### Exercise 1.b: With numerical experimentation (i.e. by plugging in a few sequences of numbers), compare the sizes of these three means. Which one seems biggest, which one smallest?"
   ]
  },
  {
   "cell_type": "code",
   "execution_count": null,
   "metadata": {
    "scrolled": true
   },
   "outputs": [],
   "source": []
  },
  {
   "cell_type": "markdown",
   "metadata": {},
   "source": []
  },
  {
   "cell_type": "markdown",
   "metadata": {},
   "source": [
    "### Exercise 2: Series Summation made Easier with Functions"
   ]
  },
  {
   "cell_type": "markdown",
   "metadata": {},
   "source": [
    "Now that we have introduced functions, we can also simplify the code from previous weeks considerably. Consider for example your work on computing the Riemann Zeta function $$\\zeta(s)=\\sum_{n=1}^\\infty\\frac1{n^s}\\;.$$ \n",
    "You already simplified your code considerably by using variable assignment, list comprehension, and the `sum()` function, writing code like the following to compute the $100$-th partial sum of the series for $\\zeta(2)$."
   ]
  },
  {
   "cell_type": "code",
   "execution_count": null,
   "metadata": {},
   "outputs": [],
   "source": [
    "s=2\n",
    "print(sum([1/n**s for n in range(1,101)]))"
   ]
  },
  {
   "cell_type": "markdown",
   "metadata": {},
   "source": [
    "But if I asked you to now do this computation for the $n$-th partial sum of the series of $\\zeta(s)$ for several values of $n$ and $s$, you would not want to repeatedly type the same bit of code (as you will likely have done last week). So let us define a function instead."
   ]
  },
  {
   "cell_type": "code",
   "execution_count": null,
   "metadata": {},
   "outputs": [],
   "source": [
    "def zeta_sum(s,N):\n",
    "    \"Compute the N-th partial sum of the zeta function at s\"\n",
    "    terms=[n**-s for n in range(1,N+1)]\n",
    "    partial_sum=sum(terms)\n",
    "    return partial_sum"
   ]
  },
  {
   "cell_type": "markdown",
   "metadata": {},
   "source": [
    "Now you can easily repeat last week's Exercise 4 using this function."
   ]
  },
  {
   "cell_type": "code",
   "execution_count": null,
   "metadata": {},
   "outputs": [],
   "source": [
    "print(zeta_sum(2,100))\n",
    "print(zeta_sum(2,200))\n",
    "print(zeta_sum(2,400))\n",
    "print(np.pi**2/6)"
   ]
  },
  {
   "cell_type": "markdown",
   "metadata": {},
   "source": [
    "I think you will agree that this code is an improvement over what you were doing last week and convinces you that Python functions are useful."
   ]
  },
  {
   "cell_type": "markdown",
   "metadata": {},
   "source": [
    "#### Exercise 2.a: Write a function for the partial product of the Riemann zeta function, using the function name `zeta_prod`."
   ]
  },
  {
   "cell_type": "code",
   "execution_count": null,
   "metadata": {},
   "outputs": [],
   "source": []
  },
  {
   "cell_type": "markdown",
   "metadata": {},
   "source": [
    "#### Exercise 2.b: Using the function you have just defined, compute the $100$th, $200$th and $400$th partial products for $s=2,3,4$, and compare against the exact values of $\\zeta(s)$."
   ]
  },
  {
   "cell_type": "code",
   "execution_count": null,
   "metadata": {},
   "outputs": [],
   "source": []
  },
  {
   "cell_type": "markdown",
   "metadata": {},
   "source": [
    "### Exercise 3: Zipping and Unzipping."
   ]
  },
  {
   "cell_type": "markdown",
   "metadata": {},
   "source": [
    "You have encountered the built-in function `zip()` which takes two lists of the same length and returns a list of paired tuples."
   ]
  },
  {
   "cell_type": "code",
   "execution_count": null,
   "metadata": {},
   "outputs": [],
   "source": [
    "list(zip([1,2,3,4],['a','b','c','d']))"
   ]
  },
  {
   "cell_type": "markdown",
   "metadata": {},
   "source": [
    "#### Exercise 3.a: Write your own version of this function (without using the built-in one).  Test your function on `[1,2,3,4]` and `['a','b','c','d']`. "
   ]
  },
  {
   "cell_type": "code",
   "execution_count": null,
   "metadata": {
    "scrolled": true
   },
   "outputs": [],
   "source": []
  },
  {
   "cell_type": "markdown",
   "metadata": {},
   "source": [
    "If the sequences are of different length, you will likely get a  `list index out of range` error."
   ]
  },
  {
   "cell_type": "markdown",
   "metadata": {},
   "source": [
    "#### Exercise 3.b: Test your function also on `[1,2,3]` and `['a','b','c','d']`, and also on `[1,2,3,4]` and `['a','b','c']`."
   ]
  },
  {
   "cell_type": "code",
   "execution_count": null,
   "metadata": {},
   "outputs": [],
   "source": []
  },
  {
   "cell_type": "markdown",
   "metadata": {},
   "source": [
    "#### Exercise 3.c: Change your function such that it does not produce an error, by restricting the range over which you zip, and test all three cases."
   ]
  },
  {
   "cell_type": "code",
   "execution_count": null,
   "metadata": {},
   "outputs": [],
   "source": []
  },
  {
   "cell_type": "markdown",
   "metadata": {},
   "source": [
    "### Exercise 4: Approximating the derivative"
   ]
  },
  {
   "cell_type": "markdown",
   "metadata": {},
   "source": [
    "The derivative of a function $f$ at a point $x$ is defined as\n",
    "$$f'(x)=\\lim_{h\\to0}\\frac{f(x+h)-f(x)}h\\;.$$\n",
    "We want to numerically study the quotient on the right-hand side as $h$ tends to zero."
   ]
  },
  {
   "cell_type": "markdown",
   "metadata": {},
   "source": [
    "#### Exercise 4.a: Using the function `g(f,x,h)` defined in the lecture, compute the difference quotient for $f(x)=x^2$ at $x=1$ for $h=10^{-n}$ with $n=1,2,\\ldots,17$. Explain what you observe. (It may be useful to remind yourself of the discussion of the precision of floating point integers from week 2. To how many significant digits is $f(x+h)-f(x)$ computed for a given $h=10^{-n}$?)"
   ]
  },
  {
   "cell_type": "code",
   "execution_count": null,
   "metadata": {},
   "outputs": [],
   "source": []
  },
  {
   "cell_type": "markdown",
   "metadata": {},
   "source": []
  },
  {
   "cell_type": "markdown",
   "metadata": {},
   "source": [
    "## Submit your Jupyter Notebook to QMPLUS"
   ]
  },
  {
   "cell_type": "markdown",
   "metadata": {},
   "source": [
    "Once you are done, save the jupyter notebook and submit it to QMPLUS under Lab Report Week 4."
   ]
  }
 ],
 "metadata": {
  "kernelspec": {
   "display_name": "Python 3",
   "language": "python",
   "name": "python3"
  },
  "language_info": {
   "codemirror_mode": {
    "name": "ipython",
    "version": 3
   },
   "file_extension": ".py",
   "mimetype": "text/x-python",
   "name": "python",
   "nbconvert_exporter": "python",
   "pygments_lexer": "ipython3",
   "version": "3.7.4"
  }
 },
 "nbformat": 4,
 "nbformat_minor": 2
}
