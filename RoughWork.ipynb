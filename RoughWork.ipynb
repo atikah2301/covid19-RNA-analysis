{
 "cells": [
  {
   "cell_type": "code",
   "execution_count": 9,
   "metadata": {},
   "outputs": [
    {
     "data": {
      "text/plain": [
       "-0.7676160071111582"
      ]
     },
     "execution_count": 9,
     "metadata": {},
     "output_type": "execute_result"
    }
   ],
   "source": [
    "import numpy as np\n",
    "def f(x):\n",
    "    return np.exp(-x**3)\n",
    "def df(f,x,h):\n",
    "    return (f(x+h)-f(x))/h\n",
    "\n",
    "df(f,0.5,0.1)    "
   ]
  },
  {
   "cell_type": "code",
   "execution_count": 10,
   "metadata": {},
   "outputs": [
    {
     "data": {
      "text/plain": [
       "2.0"
      ]
     },
     "execution_count": 10,
     "metadata": {},
     "output_type": "execute_result"
    }
   ],
   "source": [
    "(lambda x: sum(x)/len(x))([1,2,3])"
   ]
  },
  {
   "cell_type": "code",
   "execution_count": 11,
   "metadata": {},
   "outputs": [
    {
     "name": "stdout",
     "output_type": "stream",
     "text": [
      "name: atikah\n",
      "surname: hussain\n",
      "your name is atikah hussain\n"
     ]
    }
   ],
   "source": [
    "def my_name():\n",
    "    name = input(\"name: \")\n",
    "    surname = input(\"surname: \")\n",
    "    print(\"your name is\", name+ \" \" +surname)\n",
    "    \n",
    "my_name()"
   ]
  },
  {
   "cell_type": "code",
   "execution_count": 13,
   "metadata": {},
   "outputs": [
    {
     "data": {
      "text/plain": [
       "[1, 2, 3, 9]"
      ]
     },
     "execution_count": 13,
     "metadata": {},
     "output_type": "execute_result"
    }
   ],
   "source": [
    "sorted([1,9,2,3])"
   ]
  },
  {
   "cell_type": "code",
   "execution_count": 10,
   "metadata": {},
   "outputs": [
    {
     "data": {
      "text/plain": [
       "59.3306483193094"
      ]
     },
     "execution_count": 10,
     "metadata": {},
     "output_type": "execute_result"
    }
   ],
   "source": [
    "import numpy as np; from math import factorial as fact\n",
    "\n",
    "def f(x):\n",
    "    if x <= 0:\n",
    "        f = (x**3)*np.cosh(x)\n",
    "    else:\n",
    "        f = (x**2)*np.tan(x)*fact(12)*0.00012345\n",
    "    return f\n",
    "\n",
    "f(0.1)"
   ]
  },
  {
   "cell_type": "code",
   "execution_count": 1,
   "metadata": {},
   "outputs": [],
   "source": [
    "i=0\n",
    "while(False):\n",
    "    print(i)"
   ]
  },
  {
   "cell_type": "code",
   "execution_count": 2,
   "metadata": {},
   "outputs": [
    {
     "name": "stdout",
     "output_type": "stream",
     "text": [
      "eh\n"
     ]
    },
    {
     "ename": "ValueError",
     "evalue": "could not convert string to float: 'eh'",
     "output_type": "error",
     "traceback": [
      "\u001b[1;31m---------------------------------------------------------------------------\u001b[0m",
      "\u001b[1;31mValueError\u001b[0m                                Traceback (most recent call last)",
      "\u001b[1;32m<ipython-input-2-28b8c9de1226>\u001b[0m in \u001b[0;36m<module>\u001b[1;34m\u001b[0m\n\u001b[0;32m      1\u001b[0m \u001b[0mx\u001b[0m\u001b[1;33m=\u001b[0m\u001b[1;36m2.1\u001b[0m\u001b[1;33m\u001b[0m\u001b[1;33m\u001b[0m\u001b[0m\n\u001b[0;32m      2\u001b[0m \u001b[1;32mwhile\u001b[0m\u001b[1;33m(\u001b[0m\u001b[0mx\u001b[0m\u001b[1;33m**\u001b[0m\u001b[1;36m2\u001b[0m\u001b[1;33m>=\u001b[0m\u001b[1;36m0\u001b[0m\u001b[1;33m)\u001b[0m\u001b[1;33m:\u001b[0m\u001b[1;33m\u001b[0m\u001b[1;33m\u001b[0m\u001b[0m\n\u001b[1;32m----> 3\u001b[1;33m     \u001b[0mx\u001b[0m\u001b[1;33m=\u001b[0m\u001b[0mfloat\u001b[0m\u001b[1;33m(\u001b[0m\u001b[0minput\u001b[0m\u001b[1;33m(\u001b[0m\u001b[1;33m)\u001b[0m\u001b[1;33m)\u001b[0m\u001b[1;33m\u001b[0m\u001b[1;33m\u001b[0m\u001b[0m\n\u001b[0m",
      "\u001b[1;31mValueError\u001b[0m: could not convert string to float: 'eh'"
     ]
    }
   ],
   "source": [
    "x=2.1\n",
    "while(x**2>=0):\n",
    "    x=float(input())"
   ]
  },
  {
   "cell_type": "code",
   "execution_count": 32,
   "metadata": {},
   "outputs": [
    {
     "data": {
      "text/plain": [
       "2.9999542236328125"
      ]
     },
     "execution_count": 32,
     "metadata": {},
     "output_type": "execute_result"
    }
   ],
   "source": [
    "def bisection(f,a,b,n):\n",
    "    '''Use bisection method for approximating the roots of a function\n",
    "    Arguments:\n",
    "        f : lambda function\n",
    "        a : upper bound of domain interval\n",
    "        b : lower bound of domain interval\n",
    "        n : degree of accuracy\n",
    "    '''\n",
    "\n",
    "    # check if interval bounds are the root\n",
    "    if f(a)==0:\n",
    "        print(a,\"is the root\")\n",
    "        return a\n",
    "    elif f(b)==0:\n",
    "        print(b,\"is the root\")\n",
    "        return b\n",
    "    \n",
    "    # check if interval [a,b] contains exactly 1 root\n",
    "    elif f(a)*f(b)>0:\n",
    "        print(\"Failed\")\n",
    "        return None\n",
    "        \n",
    "    else:\n",
    "        # iterate until a specificed level of precision is reached\n",
    "        while abs(a-b)>n:\n",
    "            # bisect the interval\n",
    "            m = (a+b)/2\n",
    "            if f(m)==0:\n",
    "                print(m,\"is the root\")\n",
    "                return m\n",
    "            else:\n",
    "                # check which half the change of sign occurs in\n",
    "                if f(a)*f(m)<0:\n",
    "                    b = m\n",
    "                elif f(m)*f(b)<0:\n",
    "                    a = m\n",
    "                else:\n",
    "                    print(\"Failed\")\n",
    "                    return None\n",
    "        return m\n",
    "                    \n",
    "bisection(lambda x: x-3,0,10,0.0001)"
   ]
  },
  {
   "cell_type": "code",
   "execution_count": null,
   "metadata": {},
   "outputs": [],
   "source": []
  }
 ],
 "metadata": {
  "kernelspec": {
   "display_name": "Python 3",
   "language": "python",
   "name": "python3"
  },
  "language_info": {
   "codemirror_mode": {
    "name": "ipython",
    "version": 3
   },
   "file_extension": ".py",
   "mimetype": "text/x-python",
   "name": "python",
   "nbconvert_exporter": "python",
   "pygments_lexer": "ipython3",
   "version": "3.7.3"
  }
 },
 "nbformat": 4,
 "nbformat_minor": 4
}
