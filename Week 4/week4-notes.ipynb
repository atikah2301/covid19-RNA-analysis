{
 "cells": [
  {
   "cell_type": "markdown",
   "metadata": {
    "slideshow": {
     "slide_type": "-"
    }
   },
   "source": [
    "# MTH5001 Introduction to Computer Programming - Lecture 4\n",
    "Module organisers Dr Lucas Lacasa and Prof. Thomas Prellberg"
   ]
  },
  {
   "cell_type": "code",
   "execution_count": 1,
   "metadata": {},
   "outputs": [],
   "source": [
    "import numpy as np # import some standard modules, just in case we need them\n",
    "import matplotlib.pyplot as plt"
   ]
  },
  {
   "cell_type": "markdown",
   "metadata": {},
   "source": [
    "## Functions"
   ]
  },
  {
   "cell_type": "markdown",
   "metadata": {},
   "source": [
    "We discussed sequence types and how to use these. We encountered situations where we repeated the same calculation for all entries of a sequence. Using the same calculation repeatedly for different input values is efficiently done with *functions*."
   ]
  },
  {
   "cell_type": "markdown",
   "metadata": {},
   "source": [
    "More importantly, as you will perhaps have noticed, all fancy things we have done so far such as graph plotting has bee done with the help of functions. We will first discuss existing built-in functions in more detail. Then we will describe a really important part of programming, which is writing your own functions. In fact, **you will write many functions** yourself, in exercises, tests, and the final project, so you really will have to come to terms with this."
   ]
  },
  {
   "cell_type": "markdown",
   "metadata": {},
   "source": [
    "### Built-in Functions for Sequences"
   ]
  },
  {
   "cell_type": "markdown",
   "metadata": {},
   "source": [
    "Python has useful [built-in functions](http://docs.python.org/3/library/functions.html) for working with sequences. You have already seen in the tutorial that we can compute the length of a list, sum up all the entries in a list of numbers, or determine their minimum and maximum values."
   ]
  },
  {
   "cell_type": "markdown",
   "metadata": {},
   "source": [
    "We already encountered a selection of other built-in functions, such as `type()` and `print()`. The following is a list of frequently used [built-in functions](http://docs.python.org/3.3/library/functions.html) in these lectures."
   ]
  },
  {
   "cell_type": "markdown",
   "metadata": {},
   "source": [
    "| Function | Description|\n",
    "|----------|------------|\n",
    "|`print(object)`| print `object` to output |\n",
    "|`type(object)`| return the type of `object` |\n",
    "|`abs(x)`|\treturn the absolute value of `x` (or magnitude if `x` is complex)|\n",
    "|`int(x)`|\treturn the integer constructed from float `x` by truncating decimal|\n",
    "|`len(sequence)`|\treturn the length of the `sequence`|\n",
    "|`sum(sequence)`|\treturn the sum of the entries of `sequence`|\n",
    "|`max(sequence)`|\treturn the maximum value in `sequence`|\n",
    "|`min(sequence)`|\treturn the minimum value in `sequence`|\n",
    "|`range(a,b,step)`|\treturn the range object of integers from `a` to `b` (exclusive) by `step`|\n",
    "|`list(sequence)`|\treturn a list constructed from `sequence`|\n",
    "|`sorted(sequence)`|\treturn the sorted list from the items in `sequence`|\n",
    "|`reversed(`sequence`)`|\treturn the reversed iterator object from the items in `sequence`|\n",
    "|`enumerate(sequence)`|\treturn the enumerate object constructed from `sequence`|\n",
    "|`zip(a,b)`|\treturn an iterator that aggregates items from sequences `a` and `b`|"
   ]
  },
  {
   "cell_type": "markdown",
   "metadata": {},
   "source": [
    "Some of the functions we have not encountered yet. `abs()` computes the absolute value (or magnitude) of a number. Note that the absolute value of an integer is returned as an integer, but that the absolute values of floats and complex numbers are returned as floats."
   ]
  },
  {
   "cell_type": "code",
   "execution_count": 2,
   "metadata": {},
   "outputs": [
    {
     "name": "stdout",
     "output_type": "stream",
     "text": [
      "3\n",
      "3.0\n",
      "5.0\n"
     ]
    }
   ],
   "source": [
    "print(abs(-3))\n",
    "print(abs(-3.0))\n",
    "print(abs(3+4j))"
   ]
  },
  {
   "cell_type": "markdown",
   "metadata": {},
   "source": [
    "We have learned that division of integers produces floats. What if we want to convert a float result back to integer? We can do this either with `int()`. Note that the function `int()` truncates towards zero."
   ]
  },
  {
   "cell_type": "code",
   "execution_count": 3,
   "metadata": {},
   "outputs": [
    {
     "name": "stdout",
     "output_type": "stream",
     "text": [
      "-1\n",
      "1\n"
     ]
    }
   ],
   "source": [
    "print(int(-1.414))\n",
    "print(int(1.414))"
   ]
  },
  {
   "cell_type": "markdown",
   "metadata": {},
   "source": [
    "We encountered several functions involving sequences, such as `range()`, `list()`, and `sorted()`. The function `reversed()` does what you would expect it to do, but note that `reversed()` does not return a list, so we need to use `list()` if we want the output to be a list. This is similar to having to convert a range object to a list."
   ]
  },
  {
   "cell_type": "code",
   "execution_count": 4,
   "metadata": {},
   "outputs": [
    {
     "name": "stdout",
     "output_type": "stream",
     "text": [
      "[-10, 1, 5, 8]\n",
      "<list_reverseiterator object at 0x7fecebf19190>\n",
      "[-10, 8, 5, 1]\n",
      "[10, 9, 8, 7, 6, 5, 4, 3, 2, 1]\n"
     ]
    }
   ],
   "source": [
    "print(sorted([1,5,8,-10]))\n",
    "print(reversed([1,5,8,-10]))\n",
    "print(list(reversed([1,5,8,-10])))\n",
    "print(list(reversed(range(1,11))))"
   ]
  },
  {
   "cell_type": "markdown",
   "metadata": {},
   "source": [
    "The function `zip()` combines sequences into a list of pairs."
   ]
  },
  {
   "cell_type": "code",
   "execution_count": 5,
   "metadata": {
    "scrolled": true
   },
   "outputs": [
    {
     "name": "stdout",
     "output_type": "stream",
     "text": [
      "<zip object at 0x7fecebf18d70>\n",
      "[(3, 4), (55, 5), (1, 2), (2, -7)]\n"
     ]
    }
   ],
   "source": [
    "list_a=[3,55,1,2]\n",
    "list_b=[4,5,2,-7]\n",
    "print(zip(list_a,list_b))\n",
    "print(list(zip(list_a,list_b)))"
   ]
  },
  {
   "cell_type": "markdown",
   "metadata": {},
   "source": [
    "Finally, the function `enumerate()` enumerates a sequence by zipping it with `range(len(sequence))`."
   ]
  },
  {
   "cell_type": "code",
   "execution_count": 6,
   "metadata": {},
   "outputs": [
    {
     "name": "stdout",
     "output_type": "stream",
     "text": [
      "[3, 55, 1, 2]\n",
      "[(0, 3), (1, 55), (2, 1), (3, 2)]\n",
      "[(0, 3), (1, 55), (2, 1), (3, 2)]\n",
      "<enumerate object at 0x7fecebf1f780>\n"
     ]
    }
   ],
   "source": [
    "print(list_a)\n",
    "range_a=range(len(list_a))\n",
    "print(list(zip(range_a,list_a)))\n",
    "print(list(enumerate(list_a)))\n",
    "print(enumerate(list_a))"
   ]
  },
  {
   "cell_type": "markdown",
   "metadata": {},
   "source": [
    "### User-defined functions"
   ]
  },
  {
   "cell_type": "markdown",
   "metadata": {},
   "source": [
    "Python lets you define your own functions. To give a simple example, assume you want to compute the average value of the entries of a numerical sequence. For this you need to sum all the entries in the sequence, and then divide by the total number of entries."
   ]
  },
  {
   "cell_type": "code",
   "execution_count": 7,
   "metadata": {},
   "outputs": [
    {
     "name": "stdout",
     "output_type": "stream",
     "text": [
      "4.5\n"
     ]
    }
   ],
   "source": [
    "x=[1,2,3,4,5,6,7,8]\n",
    "x_sum=sum(x)\n",
    "x_len=len(x)\n",
    "x_ave=x_sum/x_len\n",
    "print(x_ave)"
   ]
  },
  {
   "cell_type": "markdown",
   "metadata": {},
   "source": [
    "A function allows you to easily repeat this calculation (just as `sum()` allows you to easily sum up the terms). The Python code to define such as function is as follows. (Note that the function `numpy.mean()` does the same thing.)"
   ]
  },
  {
   "cell_type": "code",
   "execution_count": 8,
   "metadata": {},
   "outputs": [],
   "source": [
    "def average(x): \n",
    "    \"Compute the average of the values in the sequence x.\" \n",
    "    # compute the sum of the sequence entries\n",
    "    x_sum=sum(x)\n",
    "    # compute the number of the sequence entries\n",
    "    x_len=len(x)\n",
    "    # return the quotient\n",
    "    return x_sum/x_len"
   ]
  },
  {
   "cell_type": "markdown",
   "metadata": {},
   "source": [
    "Lets have a closer look at this definition.\n",
    "\n",
    "* The keyword `def` starts the definition of the function.\n",
    "* The *name* of the function follows `def`.\n",
    "* Input parameters are given in parentheses after the *name*, separated by commas.\n",
    "* The definition statement is ended with `:`.\n",
    "* The *body* of the definition is indented. All lines start with an equal number of spaces.\n",
    "* The output of the function is specified by the keyword `return`.\n",
    "* The line following the definition statement is an optional *documentation string* in quotation marks describing the function.\n",
    "* The hash '#' starts a line of *comments* which you can use to explain the code"
   ]
  },
  {
   "cell_type": "markdown",
   "metadata": {},
   "source": [
    "We can now test the function."
   ]
  },
  {
   "cell_type": "code",
   "execution_count": 9,
   "metadata": {
    "scrolled": true
   },
   "outputs": [
    {
     "data": {
      "text/plain": [
       "4.5"
      ]
     },
     "execution_count": 9,
     "metadata": {},
     "output_type": "execute_result"
    }
   ],
   "source": [
    "average([1,2,3,4,5,6,7,8])"
   ]
  },
  {
   "cell_type": "markdown",
   "metadata": {},
   "source": [
    "Of course, in practice, you sometimes skip most of the above detail, especially when the resulting code still looks understandable such as in:"
   ]
  },
  {
   "cell_type": "code",
   "execution_count": 10,
   "metadata": {},
   "outputs": [],
   "source": [
    "def ave(x):\n",
    "    return sum(x)/len(x)"
   ]
  },
  {
   "cell_type": "code",
   "execution_count": 11,
   "metadata": {},
   "outputs": [
    {
     "data": {
      "text/plain": [
       "4.5"
      ]
     },
     "execution_count": 11,
     "metadata": {},
     "output_type": "execute_result"
    }
   ],
   "source": [
    "ave([1,2,3,4,5,6,7,8])"
   ]
  },
  {
   "cell_type": "markdown",
   "metadata": {},
   "source": [
    "### Document string and comments"
   ]
  },
  {
   "cell_type": "markdown",
   "metadata": {},
   "source": [
    "It is good practice to document your code well, and I encourage you to make use of the documentation string as well as the comment lines. The documentation string of any function is accessible using the question mark `?`. "
   ]
  },
  {
   "cell_type": "code",
   "execution_count": 12,
   "metadata": {},
   "outputs": [],
   "source": [
    "?average"
   ]
  },
  {
   "cell_type": "markdown",
   "metadata": {},
   "source": [
    "This also works for built-in functions."
   ]
  },
  {
   "cell_type": "code",
   "execution_count": 13,
   "metadata": {},
   "outputs": [],
   "source": [
    "?len"
   ]
  },
  {
   "cell_type": "markdown",
   "metadata": {},
   "source": [
    "If we use triple quotes, we can extend the document string over several lines. Lets add more documentation to our function."
   ]
  },
  {
   "cell_type": "code",
   "execution_count": 14,
   "metadata": {},
   "outputs": [],
   "source": [
    "def average(x): \n",
    "    \"\"\"Compute the average of the values in the sequence x.\n",
    "    \n",
    "    Parameters\n",
    "        x: any iterable with numerical values\n",
    "    \n",
    "    Returns:\n",
    "        the average value of all the values in the iterable\n",
    "    \n",
    "    Examples\n",
    "        >>> average([1,2,3])\n",
    "        2.0\n",
    "    \"\"\"\n",
    "    x_sum=sum(x)\n",
    "    x_len=len(x)\n",
    "    return x_sum/x_len"
   ]
  },
  {
   "cell_type": "code",
   "execution_count": 15,
   "metadata": {},
   "outputs": [],
   "source": [
    "?average"
   ]
  },
  {
   "cell_type": "markdown",
   "metadata": {},
   "source": [
    "More information about documentation string conventions can be found [here](http://www.python.org/dev/peps/pep-0257/).\n"
   ]
  },
  {
   "cell_type": "markdown",
   "metadata": {},
   "source": [
    "### Input parameters"
   ]
  },
  {
   "cell_type": "markdown",
   "metadata": {},
   "source": [
    "You can have one or more input parameters (or arguments) in a function definition."
   ]
  },
  {
   "cell_type": "code",
   "execution_count": 16,
   "metadata": {},
   "outputs": [],
   "source": [
    "def cartesian(r,phi):\n",
    "    \"Compute the Cartesian coordinates (x,y) from polar coordinates (r,phi)\"\n",
    "    return (r*np.cos(phi),r*np.sin(phi))"
   ]
  },
  {
   "cell_type": "code",
   "execution_count": 17,
   "metadata": {},
   "outputs": [
    {
     "data": {
      "text/plain": [
       "(0.7071067811865476, 0.7071067811865475)"
      ]
     },
     "execution_count": 17,
     "metadata": {},
     "output_type": "execute_result"
    }
   ],
   "source": [
    "cartesian(1,np.pi/4)"
   ]
  },
  {
   "cell_type": "markdown",
   "metadata": {},
   "source": [
    "Note that functions can also be used as arguments. This feature will need some getting used to, but it allows us to write some very nice code. For example, the derivative of a function $f$ at a point $x$ is defined as\n",
    "$$f'(x)=\\lim_{h\\to0}\\frac{f(x+h)-f(x)}h$$ and we can write a Python function for the quotient on the right hand side taking $f$, $x$, and $h$ as three parameters. "
   ]
  },
  {
   "cell_type": "code",
   "execution_count": 18,
   "metadata": {},
   "outputs": [],
   "source": [
    "def g(f,x,h):\n",
    "    \"Compute the difference quotient for the function f at point x and x+h\"\n",
    "    return (f(x+h)-f(x))/h"
   ]
  },
  {
   "cell_type": "markdown",
   "metadata": {},
   "source": [
    "Lets try this out for $f(x)=\\sin(x)$ (which is a function defined in numpy). We know the derivative of $\\sin(x)$ is $\\cos(x)$, so differentiating $\\sin(x)$ at $x=\\frac14\\pi$ should give as result $\\cos(\\frac14\\pi)=\\frac12\\sqrt2$."
   ]
  },
  {
   "cell_type": "code",
   "execution_count": 19,
   "metadata": {
    "scrolled": true
   },
   "outputs": [
    {
     "name": "stdout",
     "output_type": "stream",
     "text": [
      "0.7067531099742563\n",
      "0.7071032456451575\n",
      "0.7071067453789937\n",
      "0.7071068175434903\n",
      "0.7071067811865476\n"
     ]
    }
   ],
   "source": [
    "print(g(np.sin,np.pi/4,0.001))\n",
    "print(g(np.sin,np.pi/4,0.00001))\n",
    "print(g(np.sin,np.pi/4,0.0000001))\n",
    "print(g(np.sin,np.pi/4,0.000000001))\n",
    "print(0.5**0.5)"
   ]
  },
  {
   "cell_type": "markdown",
   "metadata": {},
   "source": [
    "Note that we must call `g()` using the function `f` as a parameter and *not* using `f(x)`, which will give an error!\n",
    "\n",
    "You should figure out why this is the case."
   ]
  },
  {
   "cell_type": "code",
   "execution_count": 20,
   "metadata": {},
   "outputs": [],
   "source": [
    "#g(np.sin(x),np.pi/4,0.001)"
   ]
  },
  {
   "cell_type": "markdown",
   "metadata": {},
   "source": [
    "### A longer example"
   ]
  },
  {
   "cell_type": "markdown",
   "metadata": {},
   "source": [
    "There is a nice formula to compute the area $A$ of a triangle from its side length $a$, $b$, and $c$ due to [Heron](http://en.wikipedia.org/wiki/Heron%27s_formula):\n",
    "$$A=\\sqrt{s(s-a)(s-b)(s-c)}\\quad\\text{where}\\quad s=\\frac{a+b+c}2\\;.$$"
   ]
  },
  {
   "cell_type": "markdown",
   "metadata": {},
   "source": [
    "We want to write a function `area_triangle` that takes as its arguments the points $A$, $B$, and $C$ of the triangle given as tuples of Cartesian coordinates."
   ]
  },
  {
   "cell_type": "code",
   "execution_count": 21,
   "metadata": {},
   "outputs": [],
   "source": [
    "def area_triangle(A,B,C):\n",
    "    '''Compute the area of a triangle with given vertices.\n",
    "\n",
    "    Parameters\n",
    "    ----------\n",
    "        A1, A2, A3: tuples of numbers\n",
    "            Cartesian coordinates of the vertices of the triangle\n",
    "\n",
    "    Returns\n",
    "    -------\n",
    "        float\n",
    "            Area of the triangle computed by Heron's formula.\n",
    "\n",
    "    Examples\n",
    "    --------\n",
    "        >>> area_triangle((0,0),(3,0),(0,4))\n",
    "        6.0\n",
    "        >>> area_triangle((-1,2),(-3,-1),(4,1))\n",
    "        8.500000000000005\n",
    "    '''\n",
    "    # Compute the length of side a\n",
    "    a = ((B[0]-C[0])**2+(B[1]-C[1])**2)**0.5\n",
    "    \n",
    "    # Compute the length of side b\n",
    "    b = ((C[0]-A[0])**2+(C[1]-A[1])**2)**0.5\n",
    "    \n",
    "    # Compute the length of side c\n",
    "    c = ((A[0]-B[0])**2+(A[1]-B[1])**2)**0.5\n",
    "\n",
    "    # Compute the semiperimeter s\n",
    "    s = (a+b+c)/2\n",
    "    \n",
    "    # Compute the area\n",
    "    area = (s*(s-a)*(s-b)*(s-c))**0.5\n",
    "\n",
    "    return area"
   ]
  },
  {
   "cell_type": "markdown",
   "metadata": {},
   "source": [
    "Lets test this on a several simple cases (where you can compute the area in your head):"
   ]
  },
  {
   "cell_type": "code",
   "execution_count": 22,
   "metadata": {
    "scrolled": true
   },
   "outputs": [
    {
     "name": "stdout",
     "output_type": "stream",
     "text": [
      "30.0\n",
      "12.0\n"
     ]
    }
   ],
   "source": [
    "print(area_triangle((0,0),(12,0),(0,5)))\n",
    "print(area_triangle((0,0),(8,0),(4,3)))"
   ]
  },
  {
   "cell_type": "markdown",
   "metadata": {},
   "source": [
    "### Local versus global variables"
   ]
  },
  {
   "cell_type": "markdown",
   "metadata": {},
   "source": [
    "Just as we had discussed last week in the context of *list comprehensions*, local variables play an important role when dealing with functions. The following two functions are identical, as the name of the function parameter is only known inside the function. (Sometimes these local variables are also called 'dummy' variables, as their name does not matter, they are just placeholders. You know this from integrating: $\\int_0^1f(x)dx=\\int_0^1f(t)dt$ irrespective of the use of $f$ or $t$."
   ]
  },
  {
   "cell_type": "code",
   "execution_count": 23,
   "metadata": {},
   "outputs": [],
   "source": [
    "def f1(x):\n",
    "    y=2\n",
    "    return x*y\n",
    "\n",
    "def f2(t):\n",
    "    s=2\n",
    "    return s*t"
   ]
  },
  {
   "cell_type": "code",
   "execution_count": 24,
   "metadata": {},
   "outputs": [
    {
     "data": {
      "text/plain": [
       "(6, 6)"
      ]
     },
     "execution_count": 24,
     "metadata": {},
     "output_type": "execute_result"
    }
   ],
   "source": [
    "f1(3),f2(3)"
   ]
  },
  {
   "cell_type": "markdown",
   "metadata": {},
   "source": [
    "None of the variables x,y,s,t used inside the function are known outside. In fact, if there is any variable with the same name defined outside the function, it will remain unaltered."
   ]
  },
  {
   "cell_type": "code",
   "execution_count": 25,
   "metadata": {},
   "outputs": [
    {
     "name": "stdout",
     "output_type": "stream",
     "text": [
      "(x,y)= (-1, 3) outside f3\n",
      "(x,y)= (10, 2) inside f3\n",
      "(x,y)= (-1, 3) outside f3\n",
      "output of f3: 20\n"
     ]
    }
   ],
   "source": [
    "def f3(x):\n",
    "    y=2\n",
    "    print('(x,y)=',(x,y),'inside f3')\n",
    "    return x*y\n",
    "\n",
    "x=-1\n",
    "y=3\n",
    "print('(x,y)=',(x,y),'outside f3')\n",
    "z=f3(10)\n",
    "print('(x,y)=',(x,y),'outside f3')\n",
    "print('output of f3:',z)"
   ]
  },
  {
   "cell_type": "markdown",
   "metadata": {},
   "source": [
    "Note in particular that if we use a function call `g(x)`, changing `x` inside the function does *NOT* have any effect on `x` outside the function."
   ]
  },
  {
   "cell_type": "code",
   "execution_count": 26,
   "metadata": {},
   "outputs": [
    {
     "name": "stdout",
     "output_type": "stream",
     "text": [
      "9\n",
      "81\n",
      "9\n"
     ]
    }
   ],
   "source": [
    "def f4(x):\n",
    "    x=x*x\n",
    "    return x\n",
    "\n",
    "x=9\n",
    "print(x)\n",
    "print(f4(x))\n",
    "print(x)"
   ]
  },
  {
   "cell_type": "markdown",
   "metadata": {},
   "source": [
    "Equally importantly, the value of a variable defined outside the function *is* known inside the function, but cannot be altered by it."
   ]
  },
  {
   "cell_type": "code",
   "execution_count": 27,
   "metadata": {
    "scrolled": false
   },
   "outputs": [
    {
     "name": "stdout",
     "output_type": "stream",
     "text": [
      "10 99\n",
      "-2 99\n",
      "10 99\n"
     ]
    }
   ],
   "source": [
    "def f(x):\n",
    "    print(x,z)\n",
    "    # z=-2 # produces error\n",
    "    x=-2 # does not produce an error\n",
    "    print(x,z)\n",
    "z=99\n",
    "x=10\n",
    "f(x)\n",
    "print(x,z)"
   ]
  },
  {
   "cell_type": "markdown",
   "metadata": {},
   "source": [
    "### The importance of the `return` statement"
   ]
  },
  {
   "cell_type": "markdown",
   "metadata": {},
   "source": [
    "Note that in the last example, `f(x)` did **not** contain a return statement, and while the function prints someting out, it doesn't give any output!"
   ]
  },
  {
   "cell_type": "code",
   "execution_count": 28,
   "metadata": {
    "scrolled": true
   },
   "outputs": [
    {
     "name": "stdout",
     "output_type": "stream",
     "text": [
      "10 99\n",
      "-2 99\n"
     ]
    }
   ],
   "source": [
    "f(x)"
   ]
  },
  {
   "cell_type": "markdown",
   "metadata": {},
   "source": [
    "If we want to have output (for example, to assign the output to another variable) we have to use the `return` statement. We can still assign the non-existing output of a function without a `return` to a variable."
   ]
  },
  {
   "cell_type": "code",
   "execution_count": 29,
   "metadata": {},
   "outputs": [
    {
     "name": "stdout",
     "output_type": "stream",
     "text": [
      "10 99\n",
      "-2 99\n"
     ]
    }
   ],
   "source": [
    "r=f(x)\n",
    "r"
   ]
  },
  {
   "cell_type": "markdown",
   "metadata": {},
   "source": [
    "Note that `r` produced no output either. What is going on? `r` actually has the value `None`, which we can see if we print it."
   ]
  },
  {
   "cell_type": "code",
   "execution_count": 30,
   "metadata": {},
   "outputs": [
    {
     "name": "stdout",
     "output_type": "stream",
     "text": [
      "None\n"
     ]
    }
   ],
   "source": [
    "print(r)"
   ]
  },
  {
   "cell_type": "markdown",
   "metadata": {},
   "source": [
    "Lesson to be learned: if you want output, use a `return` statement:"
   ]
  },
  {
   "cell_type": "code",
   "execution_count": 31,
   "metadata": {},
   "outputs": [
    {
     "name": "stdout",
     "output_type": "stream",
     "text": [
      "10 99\n",
      "-2 99\n",
      "(-2, 99)\n"
     ]
    }
   ],
   "source": [
    "def f_new(x):\n",
    "    print(x,z)\n",
    "    # z=-2 # produces error\n",
    "    x=-2 # does not produce an error\n",
    "    print(x,z)\n",
    "    return x,z\n",
    "z=99\n",
    "x=10\n",
    "out=f_new(x)\n",
    "print(out)"
   ]
  },
  {
   "cell_type": "markdown",
   "metadata": {},
   "source": [
    "## Lambda functions"
   ]
  },
  {
   "cell_type": "markdown",
   "metadata": {},
   "source": [
    "Python knows a programming concept called [Lambda Functions](http://en.wikipedia.org/wiki/Anonymous_function). The name \"Lambda\" is used for historical reasons. It is related to a formal system in mathematical logic called [Lambda Calculus](https://en.wikipedia.org/wiki/Lambda_calculus). Regarding the choice of the name, see [here](https://math.stackexchange.com/questions/64468/why-is-lambda-calculus-named-after-that-specific-greek-letter-why-not-rho-calc)."
   ]
  },
  {
   "cell_type": "markdown",
   "metadata": {},
   "source": [
    "Let us assume that a function has a body that is a simple one line statement, such as in\n",
    "```python\n",
    "def f(x):\n",
    "    return x*x\n",
    "```\n",
    "Instead of this, we can write\n",
    "```python\n",
    "f = lambda x: x*x\n",
    "```\n",
    "with the keyword `lambda`. This is a lambda function, and the advantage is that we can use it without ever giving the function a name, which is why lambda functions are also called anonymous functions."
   ]
  },
  {
   "cell_type": "code",
   "execution_count": 32,
   "metadata": {},
   "outputs": [
    {
     "data": {
      "text/plain": [
       "16"
      ]
     },
     "execution_count": 32,
     "metadata": {},
     "output_type": "execute_result"
    }
   ],
   "source": [
    "(lambda x: x*x)(-4)"
   ]
  },
  {
   "cell_type": "markdown",
   "metadata": {},
   "source": [
    "A detailed discussion of lambda functions is more elaborate, but we will just want to use Lambda functions when convenient. Let us for a moment go back to the function we had defined to compute the difference quotient as an approximation of the derivative of a function (I am choosing this example because we will need it later in this lecture)."
   ]
  },
  {
   "cell_type": "code",
   "execution_count": 33,
   "metadata": {},
   "outputs": [],
   "source": [
    "def g(f,x,h):\n",
    "    \"Compute the difference quotient for the function f at point x and x+h\"\n",
    "    return (f(x+h)-f(x))/h"
   ]
  },
  {
   "cell_type": "markdown",
   "metadata": {},
   "source": [
    "To use it on $f(x)=x^2$, we needed to first define the function `f()`."
   ]
  },
  {
   "cell_type": "code",
   "execution_count": 34,
   "metadata": {},
   "outputs": [
    {
     "data": {
      "text/plain": [
       "4.009999999999891"
      ]
     },
     "execution_count": 34,
     "metadata": {},
     "output_type": "execute_result"
    }
   ],
   "source": [
    "def f(x):\n",
    "    return x**2\n",
    "g(f,2,0.01)"
   ]
  },
  {
   "cell_type": "markdown",
   "metadata": {},
   "source": [
    "Lambda functions allow us to write the same without ever defining `f()`:"
   ]
  },
  {
   "cell_type": "code",
   "execution_count": 35,
   "metadata": {},
   "outputs": [
    {
     "data": {
      "text/plain": [
       "4.009999999999891"
      ]
     },
     "execution_count": 35,
     "metadata": {},
     "output_type": "execute_result"
    }
   ],
   "source": [
    "g(lambda x: x**2,2,0.01)"
   ]
  },
  {
   "cell_type": "markdown",
   "metadata": {},
   "source": [
    "You can use either, but I find lambda functions sometimes more convenient and will use them accordingly. To come back to the average function, defined above, here is what it would look when used as a lambda function:"
   ]
  },
  {
   "cell_type": "code",
   "execution_count": 36,
   "metadata": {},
   "outputs": [
    {
     "data": {
      "text/plain": [
       "4.5"
      ]
     },
     "execution_count": 36,
     "metadata": {},
     "output_type": "execute_result"
    }
   ],
   "source": [
    "(lambda x: sum(x)/len(x))([1,2,3,4,5,6,7,8])"
   ]
  },
  {
   "cell_type": "markdown",
   "metadata": {},
   "source": [
    "## Conclusion and Outlook"
   ]
  },
  {
   "cell_type": "markdown",
   "metadata": {},
   "source": [
    "In this lecture we have discussed functions. Next week we will start with logic.\n"
   ]
  }
 ],
 "metadata": {
  "kernelspec": {
   "display_name": "Python 3",
   "language": "python",
   "name": "python3"
  },
  "language_info": {
   "codemirror_mode": {
    "name": "ipython",
    "version": 3
   },
   "file_extension": ".py",
   "mimetype": "text/x-python",
   "name": "python",
   "nbconvert_exporter": "python",
   "pygments_lexer": "ipython3",
   "version": "3.7.4"
  }
 },
 "nbformat": 4,
 "nbformat_minor": 2
}
