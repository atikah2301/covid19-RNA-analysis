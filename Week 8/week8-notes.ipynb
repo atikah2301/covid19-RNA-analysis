{
 "cells": [
  {
   "cell_type": "markdown",
   "metadata": {
    "slideshow": {
     "slide_type": "-"
    }
   },
   "source": [
    "# MTH5001 Introduction to Computer Programming - Lecture 8\n",
    "Module organisers Dr Lucas Lacasa and Prof. Thomas Prellberg"
   ]
  },
  {
   "cell_type": "markdown",
   "metadata": {},
   "source": [
    "We will now turn towards doing Linear Algebra with Python. As this is such an essential part of mathematics, there are many Linear Algebra functions available in Python. You will find these functions in `scipy.linalg`, with the relevant data type `array` provided by `numpy`. So let us start with importing the relevant modules."
   ]
  },
  {
   "cell_type": "code",
   "execution_count": 1,
   "metadata": {},
   "outputs": [],
   "source": [
    "import numpy as np\n",
    "import scipy.linalg as la"
   ]
  },
  {
   "cell_type": "markdown",
   "metadata": {},
   "source": [
    "## Intermezzo: copying lists (and other composite data)"
   ]
  },
  {
   "cell_type": "markdown",
   "metadata": {},
   "source": [
    "However, before we start dealing with matrices, we need to have a closer look at how Python stores data. Lets consider the following code, in which we have created a list A and assigned A to B."
   ]
  },
  {
   "cell_type": "code",
   "execution_count": 2,
   "metadata": {
    "scrolled": false
   },
   "outputs": [
    {
     "name": "stdout",
     "output_type": "stream",
     "text": [
      "[1, 2, 3, 4] [1, 2, 3, 4]\n"
     ]
    }
   ],
   "source": [
    "A=[1,2,3,4]\n",
    "B=A\n",
    "print(A,B)"
   ]
  },
  {
   "cell_type": "markdown",
   "metadata": {},
   "source": [
    "Lets now modify A and B by changing some list entries."
   ]
  },
  {
   "cell_type": "code",
   "execution_count": 3,
   "metadata": {},
   "outputs": [
    {
     "name": "stdout",
     "output_type": "stream",
     "text": [
      "[-1, 2, 3, -4] [-1, 2, 3, -4]\n"
     ]
    }
   ],
   "source": [
    "A[0]=-1\n",
    "B[3]=-4\n",
    "print(A,B)"
   ]
  },
  {
   "cell_type": "markdown",
   "metadata": {},
   "source": [
    "You see that the change in A has affected B and the change in B has affected A. This is because A and B are actually the identical list: when B is created by the statement `B=A` Python does not actually copy the whole content of A and assigns that to B, but simply ensures that A and B refer to the **same place** in the computer memory. The function `id()` makes this visible - it returns a number representing the location of that memory."
   ]
  },
  {
   "cell_type": "code",
   "execution_count": 4,
   "metadata": {},
   "outputs": [
    {
     "name": "stdout",
     "output_type": "stream",
     "text": [
      "1405164410048 1405164410048\n"
     ]
    }
   ],
   "source": [
    "print(id(A),id(B))"
   ]
  },
  {
   "cell_type": "markdown",
   "metadata": {},
   "source": [
    "This is different from simple, non-composite data (i.e. data that is not a collection of other things, but single integers, floats, complex numbers, etc.), which does get copied over when you create a new variable. In this case, b remains unaffected when you change the content of a."
   ]
  },
  {
   "cell_type": "code",
   "execution_count": 5,
   "metadata": {},
   "outputs": [
    {
     "name": "stdout",
     "output_type": "stream",
     "text": [
      "2 10.0\n"
     ]
    }
   ],
   "source": [
    "a=10.0\n",
    "b=a\n",
    "a=2\n",
    "print(a,b)"
   ]
  },
  {
   "cell_type": "markdown",
   "metadata": {},
   "source": [
    "Now a and b are stored in different places of the computer memory."
   ]
  },
  {
   "cell_type": "code",
   "execution_count": 6,
   "metadata": {},
   "outputs": [
    {
     "name": "stdout",
     "output_type": "stream",
     "text": [
      "140705357637440 1405145914896\n"
     ]
    }
   ],
   "source": [
    "print(id(a),id(b))"
   ]
  },
  {
   "cell_type": "markdown",
   "metadata": {},
   "source": [
    "The reason for this is efficiency. Most of the time when dealing with really large objects (such as a 1000x1000 matrix with a million entries) you want to avoid creating copies of whole chunks of memory."
   ]
  },
  {
   "cell_type": "markdown",
   "metadata": {},
   "source": [
    "### Equality versus object identity"
   ]
  },
  {
   "cell_type": "markdown",
   "metadata": {},
   "source": [
    "The above is the reason why in the table of comparisons I showed you a few weeks ago there was an entry called object identity, comparing objects using \n",
    "```python \n",
    "a is b\n",
    "```\n",
    "If you have been thinking along, you may already be able to guess what the difference between `a is b` (identity) and `a==b` (equality) is.\n",
    "\n",
    "Lets create two separate lists with equal entries:"
   ]
  },
  {
   "cell_type": "code",
   "execution_count": 7,
   "metadata": {},
   "outputs": [
    {
     "name": "stdout",
     "output_type": "stream",
     "text": [
      "C is D: False\n",
      "C == D: True\n"
     ]
    }
   ],
   "source": [
    "C=[1,2,3]\n",
    "D=[1,2,3]\n",
    "print ('C is D:', C is D)\n",
    "print ('C == D:', C==D)"
   ]
  },
  {
   "cell_type": "markdown",
   "metadata": {},
   "source": [
    "This means that in this case, even though the content of C equals the content of D, C and D are actually different lists, in that they are stored in different places in the memory."
   ]
  },
  {
   "cell_type": "code",
   "execution_count": 8,
   "metadata": {},
   "outputs": [
    {
     "name": "stdout",
     "output_type": "stream",
     "text": [
      "1405164421568 1405139978048\n"
     ]
    }
   ],
   "source": [
    "print(id(C),id(D))"
   ]
  },
  {
   "cell_type": "markdown",
   "metadata": {},
   "source": [
    "Unfortunately there is an apparent anomaly when cosidering simple data types. Lets look again at the example above, but check for object identity."
   ]
  },
  {
   "cell_type": "code",
   "execution_count": 9,
   "metadata": {},
   "outputs": [
    {
     "name": "stdout",
     "output_type": "stream",
     "text": [
      "True\n",
      "False\n"
     ]
    }
   ],
   "source": [
    "a=10.0\n",
    "b=a\n",
    "print(a is b)\n",
    "a=2\n",
    "print(a is b)"
   ]
  },
  {
   "cell_type": "markdown",
   "metadata": {},
   "source": [
    "This looks like some inconsistency, as I have just told you that a and b are stored in different locations of computer memory. I really need to be more precise: what is stored in computer memory is actually the value `10.0`, and a and b simply point to where this value is stored. Hence `a is b` is still true after the assignment `b=a` and becomes false once `a` is modified using `a=2`: Now the value `2` is stored elsewhere in the computer memory and a now points to where that value is stored."
   ]
  },
  {
   "cell_type": "markdown",
   "metadata": {},
   "source": [
    "Lets give another example of this."
   ]
  },
  {
   "cell_type": "code",
   "execution_count": 10,
   "metadata": {},
   "outputs": [
    {
     "name": "stdout",
     "output_type": "stream",
     "text": [
      "1405163897584\n",
      "1405163898032\n",
      "1405163897808\n"
     ]
    }
   ],
   "source": [
    "x=997\n",
    "print(id(x))\n",
    "x+=1\n",
    "print(id(x))\n",
    "y=997\n",
    "print(id(y))"
   ]
  },
  {
   "cell_type": "markdown",
   "metadata": {},
   "source": [
    "The value 997 is stored at the address XYZ and `x` points to that address. When `x` is increased by 1, the value 998 is stored at the address PQR and `x` now points to that new address. Subsequently, when `y` is assigned the value 997, Python creates a new instance of the value 997 at yet another address UVW (Note: these addresses will be different for each of you, as this depends on the computer you use as well as any other programs you are running concurrently.) "
   ]
  },
  {
   "cell_type": "markdown",
   "metadata": {},
   "source": [
    "Finally, some often used values might be recycled, as the following example shows, where 997 has been replaced by 1."
   ]
  },
  {
   "cell_type": "code",
   "execution_count": 11,
   "metadata": {},
   "outputs": [
    {
     "name": "stdout",
     "output_type": "stream",
     "text": [
      "140705357637408\n",
      "140705357637440\n",
      "140705357637408\n"
     ]
    }
   ],
   "source": [
    "x=1\n",
    "print(id(x))\n",
    "x+=1\n",
    "print(id(x))\n",
    "y=1\n",
    "print(id(y))"
   ]
  },
  {
   "cell_type": "markdown",
   "metadata": {},
   "source": [
    "Note that now `y` points to the same location as `x` did initially."
   ]
  },
  {
   "cell_type": "markdown",
   "metadata": {},
   "source": [
    "You don't really need to know all the intricate details of this section, but you need to be aware of it so you can avoid making mistakes such as trying to copy data by assignment. We'll deal with how to do this correctly in the next section."
   ]
  },
  {
   "cell_type": "markdown",
   "metadata": {},
   "source": [
    "### Creating copies of lists"
   ]
  },
  {
   "cell_type": "markdown",
   "metadata": {},
   "source": [
    "Trying to copy lists (and other composite data) by assignment is a frequent programming mistake made by beginners. If you really want to create a true copy of data, and if 'B=A' does not work for that, what can you do?"
   ]
  },
  {
   "cell_type": "markdown",
   "metadata": {},
   "source": [
    "There are actually a few ways you can help yourself. The \"correct\" way in Python 3 is to use the method `.copy()` for duplicating data."
   ]
  },
  {
   "cell_type": "code",
   "execution_count": 12,
   "metadata": {},
   "outputs": [
    {
     "name": "stdout",
     "output_type": "stream",
     "text": [
      "A is B: False\n",
      "A == B: True\n"
     ]
    }
   ],
   "source": [
    "A=[1,2]\n",
    "B=A.copy()\n",
    "print ('A is B:', A is B)\n",
    "print ('A == B:', A==B)\n"
   ]
  },
  {
   "cell_type": "markdown",
   "metadata": {},
   "source": [
    "There are two other ways you will sometimes see in written code. Slicing, for example, creates a copy, so slicing with `[:]` will work."
   ]
  },
  {
   "cell_type": "code",
   "execution_count": 13,
   "metadata": {
    "scrolled": true
   },
   "outputs": [
    {
     "name": "stdout",
     "output_type": "stream",
     "text": [
      "C is D: False\n",
      "C == D: True\n"
     ]
    }
   ],
   "source": [
    "C=[1,2]\n",
    "D=C[:]\n",
    "print ('C is D:', C is D)\n",
    "print ('C == D:', C==D)"
   ]
  },
  {
   "cell_type": "markdown",
   "metadata": {},
   "source": [
    "And finally, using the function `list()` on a list also creates a copy."
   ]
  },
  {
   "cell_type": "code",
   "execution_count": 14,
   "metadata": {},
   "outputs": [
    {
     "name": "stdout",
     "output_type": "stream",
     "text": [
      "C is D: False\n",
      "C == D: True\n"
     ]
    }
   ],
   "source": [
    "C=[4,5]\n",
    "D=list(C)\n",
    "print ('C is D:', C is D)\n",
    "print ('C == D:', C==D)"
   ]
  },
  {
   "cell_type": "markdown",
   "metadata": {},
   "source": [
    "## Nested Lists, Arrays, Matrices, and All That"
   ]
  },
  {
   "cell_type": "markdown",
   "metadata": {},
   "source": [
    "### Array data type"
   ]
  },
  {
   "cell_type": "markdown",
   "metadata": {},
   "source": [
    "The module `numpy` provides the data type `ndarray` for $n$-dimensional arrays. In what follows, we will mainly consider two-dimensional arrays, i.e. matrices."
   ]
  },
  {
   "cell_type": "markdown",
   "metadata": {},
   "source": [
    "**A word of caution:** Python also knows a type `array` as part of the module `array`, and also a (deprecated) type `matrix` as part of the module `numpy`. Mixing data of these different types is a bad idea, and I *strongly* urge you to stay with the array type `ndarray` defined in `numpy`."
   ]
  },
  {
   "cell_type": "markdown",
   "metadata": {},
   "source": [
    "With the function `numpy.array` we can create an array from a range, tuple, or (nested) list."
   ]
  },
  {
   "cell_type": "code",
   "execution_count": 15,
   "metadata": {},
   "outputs": [
    {
     "name": "stdout",
     "output_type": "stream",
     "text": [
      "[0, 1, 2, 3, 4, 5]\n",
      "[0 1 2 3 4 5]\n"
     ]
    }
   ],
   "source": [
    "l=[0,1,2,3,4,5]\n",
    "a=np.array(l)\n",
    "print(l)\n",
    "print(a)"
   ]
  },
  {
   "cell_type": "markdown",
   "metadata": {},
   "source": [
    "You see that when printed out, this looks slightly differently than for lists. Let us repeat this for two-dimensional arrays, where the array is printed out like a matrix."
   ]
  },
  {
   "cell_type": "code",
   "execution_count": 16,
   "metadata": {},
   "outputs": [
    {
     "name": "stdout",
     "output_type": "stream",
     "text": [
      "[[0, 1, 2], [3, 4, 5]]\n",
      "[[0 1 2]\n",
      " [3 4 5]]\n"
     ]
    }
   ],
   "source": [
    "l=[[0,1,2],[3,4,5]]\n",
    "a=np.array(l)\n",
    "print(l)\n",
    "print(a)"
   ]
  },
  {
   "cell_type": "markdown",
   "metadata": {},
   "source": [
    "As usual, we can query the data type with `type()`."
   ]
  },
  {
   "cell_type": "code",
   "execution_count": 17,
   "metadata": {},
   "outputs": [
    {
     "data": {
      "text/plain": [
       "numpy.ndarray"
      ]
     },
     "execution_count": 17,
     "metadata": {},
     "output_type": "execute_result"
    }
   ],
   "source": [
    "type(a)"
   ]
  },
  {
   "cell_type": "markdown",
   "metadata": {},
   "source": [
    "While arrays look like nested lists, they have some more restrictive features when compared with nested lists, to enable faster access and computation. For example, numpy attempts to keep the data types homogeneous as in the next example, where the integer `2` got replaced by the floating point `2.`."
   ]
  },
  {
   "cell_type": "code",
   "execution_count": 18,
   "metadata": {},
   "outputs": [
    {
     "name": "stdout",
     "output_type": "stream",
     "text": [
      "[[0 1 2]\n",
      " [3 4 5]]\n",
      "[[0. 1. 2.]\n",
      " [3. 4. 5.]]\n"
     ]
    }
   ],
   "source": [
    "a_int=np.array([[0,1,2],[3,4,5]])\n",
    "a_float=np.array([[0,1,2.],[3,4,5]])\n",
    "print(a_int)\n",
    "print(a_float)"
   ]
  },
  {
   "cell_type": "markdown",
   "metadata": {},
   "source": [
    "We can query the *data* type of the array by using the `.dtype` attribute"
   ]
  },
  {
   "cell_type": "code",
   "execution_count": 19,
   "metadata": {},
   "outputs": [
    {
     "data": {
      "text/plain": [
       "(dtype('int32'), dtype('float64'))"
      ]
     },
     "execution_count": 19,
     "metadata": {},
     "output_type": "execute_result"
    }
   ],
   "source": [
    "a_int.dtype, a_float.dtype"
   ]
  },
  {
   "cell_type": "markdown",
   "metadata": {},
   "source": [
    "Note that data types of array entries differ from standard Python data types, again mainly to make computations easier and faster to perform. You can find out more [here](https://docs.scipy.org/doc/numpy/user/basics.types.html)."
   ]
  },
  {
   "cell_type": "markdown",
   "metadata": {},
   "source": [
    "### Creating Arrays"
   ]
  },
  {
   "cell_type": "markdown",
   "metadata": {},
   "source": [
    "We have already created arrays by converting a (nested) list to an array by using the function `numpy.array()`. Early on in the lectures I already sneaked in a one-dimensional array when I used the function `numpy.linspace()`. You may recall I used it to create evenly spaced $x$-coordinates for plotting. What I really did was create an array with this function."
   ]
  },
  {
   "cell_type": "code",
   "execution_count": 20,
   "metadata": {},
   "outputs": [
    {
     "name": "stdout",
     "output_type": "stream",
     "text": [
      "[ 0.  2.  4.  6.  8. 10.]\n"
     ]
    },
    {
     "data": {
      "text/plain": [
       "numpy.ndarray"
      ]
     },
     "execution_count": 20,
     "metadata": {},
     "output_type": "execute_result"
    }
   ],
   "source": [
    "a=np.linspace(0,10,6)\n",
    "print(a)\n",
    "type(a)"
   ]
  },
  {
   "cell_type": "markdown",
   "metadata": {},
   "source": [
    "We can also create arrays pre-filled with zeros, ones, or any other value using `numpy.zeros()`, `numpy.ones()`, or `numpy.full()`, respectively."
   ]
  },
  {
   "cell_type": "code",
   "execution_count": 21,
   "metadata": {},
   "outputs": [
    {
     "name": "stdout",
     "output_type": "stream",
     "text": [
      "[0. 0. 0. 0.]\n"
     ]
    }
   ],
   "source": [
    "a=np.zeros(4)\n",
    "print(a)"
   ]
  },
  {
   "cell_type": "code",
   "execution_count": 22,
   "metadata": {},
   "outputs": [
    {
     "name": "stdout",
     "output_type": "stream",
     "text": [
      "[[0. 0. 0. 0. 0.]\n",
      " [0. 0. 0. 0. 0.]\n",
      " [0. 0. 0. 0. 0.]]\n"
     ]
    }
   ],
   "source": [
    "a=np.zeros((3,5))\n",
    "print(a)"
   ]
  },
  {
   "cell_type": "code",
   "execution_count": 23,
   "metadata": {},
   "outputs": [
    {
     "name": "stdout",
     "output_type": "stream",
     "text": [
      "[[1. 1. 1.]\n",
      " [1. 1. 1.]\n",
      " [1. 1. 1.]\n",
      " [1. 1. 1.]\n",
      " [1. 1. 1.]]\n"
     ]
    }
   ],
   "source": [
    "a=np.ones((5,3))\n",
    "print(a)"
   ]
  },
  {
   "cell_type": "code",
   "execution_count": 24,
   "metadata": {},
   "outputs": [
    {
     "name": "stdout",
     "output_type": "stream",
     "text": [
      "[[3 3 3 3]\n",
      " [3 3 3 3]]\n"
     ]
    }
   ],
   "source": [
    "a=np.full((2,4),3)\n",
    "print(a)"
   ]
  },
  {
   "cell_type": "markdown",
   "metadata": {},
   "source": [
    "Finally, we can create a square shaped array with ones on the diagonal (i.e. an identity matrix) using the function `numpy.eye()`."
   ]
  },
  {
   "cell_type": "code",
   "execution_count": 25,
   "metadata": {},
   "outputs": [
    {
     "name": "stdout",
     "output_type": "stream",
     "text": [
      "[[1. 0. 0. 0. 0. 0. 0.]\n",
      " [0. 1. 0. 0. 0. 0. 0.]\n",
      " [0. 0. 1. 0. 0. 0. 0.]\n",
      " [0. 0. 0. 1. 0. 0. 0.]\n",
      " [0. 0. 0. 0. 1. 0. 0.]\n",
      " [0. 0. 0. 0. 0. 1. 0.]\n",
      " [0. 0. 0. 0. 0. 0. 1.]]\n"
     ]
    }
   ],
   "source": [
    "a=np.eye(7)\n",
    "print(a)"
   ]
  },
  {
   "cell_type": "markdown",
   "metadata": {},
   "source": [
    "### Dimension, Shape, and Size"
   ]
  },
  {
   "cell_type": "markdown",
   "metadata": {},
   "source": [
    "The attribute `.ndim` returns the dimension of an array, and the attribute `.shape` returns the tuple describing the number of rows, columns, etc., and the attribute `.size` returns the total number of entries"
   ]
  },
  {
   "cell_type": "code",
   "execution_count": 26,
   "metadata": {},
   "outputs": [
    {
     "name": "stdout",
     "output_type": "stream",
     "text": [
      "[0. 0. 0. 0. 0. 0. 0. 0. 0. 0.]\n",
      "1 (10,) 10\n"
     ]
    }
   ],
   "source": [
    "a=np.zeros(10)\n",
    "print(a)\n",
    "print(a.ndim,a.shape,a.size)"
   ]
  },
  {
   "cell_type": "code",
   "execution_count": 27,
   "metadata": {},
   "outputs": [
    {
     "name": "stdout",
     "output_type": "stream",
     "text": [
      "[[ 1  2  3  4  5]\n",
      " [ 6  7  8  9 10]]\n",
      "2 (2, 5) 10\n"
     ]
    }
   ],
   "source": [
    "a=np.array([[1,2,3,4,5],[6,7,8,9,10]])\n",
    "print(a)\n",
    "print(a.ndim,a.shape,a.size)"
   ]
  },
  {
   "cell_type": "code",
   "execution_count": 28,
   "metadata": {},
   "outputs": [
    {
     "name": "stdout",
     "output_type": "stream",
     "text": [
      "[[[2.71828183 2.71828183 2.71828183 2.71828183]\n",
      "  [2.71828183 2.71828183 2.71828183 2.71828183]]\n",
      "\n",
      " [[2.71828183 2.71828183 2.71828183 2.71828183]\n",
      "  [2.71828183 2.71828183 2.71828183 2.71828183]]\n",
      "\n",
      " [[2.71828183 2.71828183 2.71828183 2.71828183]\n",
      "  [2.71828183 2.71828183 2.71828183 2.71828183]]]\n",
      "3 (3, 2, 4) 24\n"
     ]
    }
   ],
   "source": [
    "a=np.full((3,2,4),np.exp(1))\n",
    "print(a)\n",
    "print(a.ndim,a.shape,a.size)"
   ]
  },
  {
   "cell_type": "markdown",
   "metadata": {},
   "source": [
    "### Slicing and Indexing"
   ]
  },
  {
   "cell_type": "markdown",
   "metadata": {},
   "source": [
    "Indexing and slicing of arrays works just as for plain lists, including the use of negative indices. Numpy's indexing is however more versatile. For example, not only `a[i][j]`, but also `a[i,j]` is allowed."
   ]
  },
  {
   "cell_type": "code",
   "execution_count": 29,
   "metadata": {},
   "outputs": [
    {
     "name": "stdout",
     "output_type": "stream",
     "text": [
      "[[ 1  2  3]\n",
      " [ 4  5  6]\n",
      " [ 7  8  9]\n",
      " [10 11 12]]\n",
      "8\n",
      "8\n"
     ]
    }
   ],
   "source": [
    "a=np.array([[1,2,3],[4,5,6],[7,8,9],[10,11,12]])\n",
    "print(a)\n",
    "print(a[2,1])\n",
    "print(a[2][1])"
   ]
  },
  {
   "cell_type": "markdown",
   "metadata": {},
   "source": [
    "Accessing rows is also just as with lists, and accessing columnns also works (as opposed to lists, where this concept does not make sense). We simply put placeholders `:` into the position of the index corresponding to the data that we want to extract."
   ]
  },
  {
   "cell_type": "code",
   "execution_count": 30,
   "metadata": {},
   "outputs": [
    {
     "name": "stdout",
     "output_type": "stream",
     "text": [
      "[[ 1  2  3]\n",
      " [ 4  5  6]\n",
      " [ 7  8  9]\n",
      " [10 11 12]]\n",
      "[7 8 9]\n",
      "[7 8 9]\n",
      "[ 2  5  8 11]\n"
     ]
    }
   ],
   "source": [
    "a=np.array([[1,2,3],[4,5,6],[7,8,9],[10,11,12]])\n",
    "print(a)\n",
    "print(a[2])\n",
    "print(a[2,:])\n",
    "print(a[:,1])"
   ]
  },
  {
   "cell_type": "markdown",
   "metadata": {},
   "source": [
    "Note that the last result is also given as a one-dimensional array, i.e. a row. If we want an array that resembles a column, we can use `numpy.reshape()`."
   ]
  },
  {
   "cell_type": "code",
   "execution_count": 31,
   "metadata": {},
   "outputs": [
    {
     "name": "stdout",
     "output_type": "stream",
     "text": [
      "[ 2  5  8 11]\n",
      "[[ 2]\n",
      " [ 5]\n",
      " [ 8]\n",
      " [11]]\n"
     ]
    }
   ],
   "source": [
    "print(a[:,1])\n",
    "print(np.reshape(a[:,1],(4,1)))"
   ]
  },
  {
   "cell_type": "markdown",
   "metadata": {},
   "source": [
    "The indexing extends to extracting a subarray (slicing)."
   ]
  },
  {
   "cell_type": "code",
   "execution_count": 32,
   "metadata": {},
   "outputs": [
    {
     "name": "stdout",
     "output_type": "stream",
     "text": [
      "[[ 0  1  2  3  4  5  6  7  8  9 10 11 12 13 14 15 16 17 18 19]\n",
      " [20 21 22 23 24 25 26 27 28 29 30 31 32 33 34 35 36 37 38 39]\n",
      " [40 41 42 43 44 45 46 47 48 49 50 51 52 53 54 55 56 57 58 59]\n",
      " [60 61 62 63 64 65 66 67 68 69 70 71 72 73 74 75 76 77 78 79]\n",
      " [80 81 82 83 84 85 86 87 88 89 90 91 92 93 94 95 96 97 98 99]]\n",
      "\n",
      "[[50 51 52 53 54]\n",
      " [70 71 72 73 74]]\n"
     ]
    }
   ],
   "source": [
    "a=np.reshape(np.array(range(100)),(5,20))\n",
    "print(a)\n",
    "print()\n",
    "print(a[2:4,10:15])"
   ]
  },
  {
   "cell_type": "markdown",
   "metadata": {},
   "source": [
    "In the above I have used the `numpy.reshape()` function to change a linear array with $100$ entries to a square array of shape $5\\times 20$. "
   ]
  },
  {
   "cell_type": "markdown",
   "metadata": {},
   "source": [
    "### Array Operations"
   ]
  },
  {
   "cell_type": "markdown",
   "metadata": {},
   "source": [
    "Arithmetic operators on arrays apply **elementwise**. A new array is created and filled with the result.\n",
    "In particular `*` multiplies elementwise (a process for matrices also known as the Hadamard product), which has nothing to do with a product of matrices."
   ]
  },
  {
   "cell_type": "code",
   "execution_count": 33,
   "metadata": {},
   "outputs": [
    {
     "name": "stdout",
     "output_type": "stream",
     "text": [
      "[[1 2 3]\n",
      " [4 5 6]\n",
      " [7 8 9]]\n",
      "[[1. 0. 0.]\n",
      " [0. 1. 0.]\n",
      " [0. 0. 1.]]\n",
      "[[1. 1. 1.]\n",
      " [1. 1. 1.]\n",
      " [1. 1. 1.]]\n",
      "a+c\n",
      "[[ 2.  2.  3.]\n",
      " [ 4.  6.  6.]\n",
      " [ 7.  8. 10.]]\n",
      "a*b\n",
      "[[1. 0. 0.]\n",
      " [0. 5. 0.]\n",
      " [0. 0. 9.]]\n",
      "b/a\n",
      "[[1.         0.         0.        ]\n",
      " [0.         0.2        0.        ]\n",
      " [0.         0.         0.11111111]]\n",
      "a**2\n",
      "[[ 1  4  9]\n",
      " [16 25 36]\n",
      " [49 64 81]]\n"
     ]
    }
   ],
   "source": [
    "a=np.array([[1,2,3],[4,5,6],[7,8,9]])\n",
    "b=np.eye(3)\n",
    "c=np.ones((3,3))\n",
    "print(a)\n",
    "print(b)\n",
    "print(c)\n",
    "print('a+c')\n",
    "print(a+b)\n",
    "print('a*b')\n",
    "print(a*b)\n",
    "print('b/a')\n",
    "print(b/a)\n",
    "print('a**2')\n",
    "print(a**2)"
   ]
  },
  {
   "cell_type": "markdown",
   "metadata": {},
   "source": [
    "There are many functions in `numpy` that work on arrays, such as `numpy.min` or `numpy.sum`. The nice thing is that we can also apply these commands along the rows or columns."
   ]
  },
  {
   "cell_type": "code",
   "execution_count": 34,
   "metadata": {},
   "outputs": [
    {
     "name": "stdout",
     "output_type": "stream",
     "text": [
      "[[1 2 3]\n",
      " [4 5 6]\n",
      " [7 8 9]]\n",
      "45\n",
      "[12 15 18]\n",
      "[ 6 15 24]\n"
     ]
    }
   ],
   "source": [
    "print(a)\n",
    "print(np.sum(a))\n",
    "print(np.sum(a,axis=0))\n",
    "print(np.sum(a,axis=1))"
   ]
  },
  {
   "cell_type": "markdown",
   "metadata": {},
   "source": [
    "Note that the last result is also given as a one-dimensional array, i.e. a row. If we want an array that resembles a column, we can again use `numpy.reshape()`."
   ]
  },
  {
   "cell_type": "code",
   "execution_count": 35,
   "metadata": {},
   "outputs": [
    {
     "name": "stdout",
     "output_type": "stream",
     "text": [
      "[ 6 15 24]\n",
      "[[ 6]\n",
      " [15]\n",
      " [24]]\n"
     ]
    }
   ],
   "source": [
    "print(np.sum(a,axis=1))\n",
    "print(np.reshape(np.sum(a,axis=1),(3,1)))"
   ]
  },
  {
   "cell_type": "markdown",
   "metadata": {},
   "source": [
    "Note the difference between `np.sum` and `sum`: `np.sum` sums all the entries, `sum` sums up the columns."
   ]
  },
  {
   "cell_type": "code",
   "execution_count": 36,
   "metadata": {},
   "outputs": [
    {
     "name": "stdout",
     "output_type": "stream",
     "text": [
      "45\n",
      "[12 15 18]\n",
      "[12 15 18]\n"
     ]
    }
   ],
   "source": [
    "print(np.sum(a))\n",
    "print(sum(a))\n",
    "print(np.sum(a,axis=0))"
   ]
  },
  {
   "cell_type": "markdown",
   "metadata": {},
   "source": [
    "### Matrix Operations"
   ]
  },
  {
   "cell_type": "markdown",
   "metadata": {},
   "source": [
    "I want to distinguish these, as these are no longer elementwise operations, but operate on the whole array by viewing it as a matrix. Matrix multiplication is done with the operator `@`."
   ]
  },
  {
   "cell_type": "code",
   "execution_count": 37,
   "metadata": {},
   "outputs": [
    {
     "name": "stdout",
     "output_type": "stream",
     "text": [
      "[[1 2 3]\n",
      " [4 5 6]\n",
      " [7 8 9]]\n",
      "[[1 2]\n",
      " [3 4]\n",
      " [5 6]]\n",
      "[[ 22  28]\n",
      " [ 49  64]\n",
      " [ 76 100]]\n"
     ]
    }
   ],
   "source": [
    "a=np.array([[1,2,3],[4,5,6],[7,8,9]])\n",
    "b=np.array([[1,2],[3,4],[5,6]])\n",
    "print(a)\n",
    "print(b)\n",
    "print(a@b)"
   ]
  },
  {
   "cell_type": "markdown",
   "metadata": {},
   "source": [
    "Python actually allows you a bit of flexibility, as it interprets a one-dimensional arrays as column or vectors when doing matrix multiplication, as needed from the context. So be careful."
   ]
  },
  {
   "cell_type": "code",
   "execution_count": 38,
   "metadata": {},
   "outputs": [
    {
     "name": "stdout",
     "output_type": "stream",
     "text": [
      "a: [[1 2]\n",
      " [2 3]\n",
      " [3 4]]\n",
      "b: [-1  2]\n",
      "c: [3 1 1]\n",
      "\n",
      "a@b: [3 4 5]\n",
      "c@a: [ 8 13]\n"
     ]
    }
   ],
   "source": [
    "a=np.array([[1,2],[2,3],[3,4]])\n",
    "b=np.array([-1,2])\n",
    "c=np.array([3,1,1])\n",
    "print('a:',a)\n",
    "print('b:',b)\n",
    "print('c:',c)\n",
    "print()\n",
    "print('a@b:',a@b)\n",
    "print('c@a:',c@a)\n",
    "# print(b@c) # does not work, size mismatch"
   ]
  },
  {
   "cell_type": "markdown",
   "metadata": {},
   "source": [
    "Powers of matrices are computed via `numpy.linalg.matrix_power()`, there is no symbolic operator like `**`. "
   ]
  },
  {
   "cell_type": "code",
   "execution_count": 39,
   "metadata": {
    "scrolled": true
   },
   "outputs": [
    {
     "name": "stdout",
     "output_type": "stream",
     "text": [
      "[[21 34]\n",
      " [34 55]]\n"
     ]
    }
   ],
   "source": [
    "a=np.array([[1,2],[2,3]])\n",
    "from numpy.linalg import matrix_power as mpow\n",
    "print(mpow(a,3))"
   ]
  },
  {
   "cell_type": "markdown",
   "metadata": {},
   "source": [
    "(Note that this function is in `numpy.linalg` as opposed to `scipy.linalg`. For the difference between these two versions of linalg see https://docs.scipy.org/doc/scipy/reference/linalg.html.)"
   ]
  },
  {
   "cell_type": "markdown",
   "metadata": {},
   "source": [
    "The transpose of a matrix can be computed by appending to it `.T`"
   ]
  },
  {
   "cell_type": "code",
   "execution_count": 40,
   "metadata": {},
   "outputs": [
    {
     "name": "stdout",
     "output_type": "stream",
     "text": [
      "[[1 2]\n",
      " [2 3]]\n"
     ]
    }
   ],
   "source": [
    "print(a.T)"
   ]
  },
  {
   "cell_type": "code",
   "execution_count": 41,
   "metadata": {},
   "outputs": [
    {
     "name": "stdout",
     "output_type": "stream",
     "text": [
      "[[1 2]\n",
      " [3 4]]\n"
     ]
    }
   ],
   "source": [
    "a=np.array([[1,2],[3,4]])\n",
    "print(a)"
   ]
  },
  {
   "cell_type": "markdown",
   "metadata": {},
   "source": [
    "The inverse of a matrix can be computed using `scipy.linalg.inv` (or using `numpy.linalg.matrix_power()`, introduced above, with exponent $-1$)."
   ]
  },
  {
   "cell_type": "code",
   "execution_count": 42,
   "metadata": {},
   "outputs": [
    {
     "name": "stdout",
     "output_type": "stream",
     "text": [
      "[[1 2]\n",
      " [3 4]]\n",
      "[[-2.   1. ]\n",
      " [ 1.5 -0.5]]\n"
     ]
    }
   ],
   "source": [
    "a=np.array([[1,2],[3,4]])\n",
    "print(a)\n",
    "print(la.inv(a))"
   ]
  },
  {
   "cell_type": "markdown",
   "metadata": {},
   "source": [
    "## Solving Linear Systems"
   ]
  },
  {
   "cell_type": "markdown",
   "metadata": {},
   "source": [
    "We are now in a position to solve linear systems such as $$Ax=b.$$ \n",
    "If the matrix $A$ is invertible, we could simply compute $x=A^{-1}b$. Let us look at a randomly chosen example."
   ]
  },
  {
   "cell_type": "code",
   "execution_count": 43,
   "metadata": {},
   "outputs": [
    {
     "name": "stdout",
     "output_type": "stream",
     "text": [
      "A= [[ 1.11050523  1.02720735  1.44468845  0.4005472 ]\n",
      " [-0.2050765  -0.42704018  0.54623482 -0.86418437]\n",
      " [-0.30467611  0.77858748  0.67821877 -0.53731029]\n",
      " [-1.54731068  0.18668606  0.08042919 -0.51886406]]\n",
      "b= [[0.981697  ]\n",
      " [1.10459688]\n",
      " [0.98681622]\n",
      " [0.64966489]]\n"
     ]
    }
   ],
   "source": [
    "A=np.random.normal(size=(4,4))\n",
    "b=np.random.normal(size=(4,1))\n",
    "print('A=',A)\n",
    "print('b=',b)"
   ]
  },
  {
   "cell_type": "markdown",
   "metadata": {},
   "source": [
    "Is A invertible? Let us check by computing the determinant."
   ]
  },
  {
   "cell_type": "code",
   "execution_count": 44,
   "metadata": {},
   "outputs": [
    {
     "name": "stdout",
     "output_type": "stream",
     "text": [
      "-1.3311671701454495\n"
     ]
    }
   ],
   "source": [
    "print(la.det(A))"
   ]
  },
  {
   "cell_type": "markdown",
   "metadata": {},
   "source": [
    "Let us solve for $x$."
   ]
  },
  {
   "cell_type": "code",
   "execution_count": 45,
   "metadata": {},
   "outputs": [
    {
     "name": "stdout",
     "output_type": "stream",
     "text": [
      "[[-0.19646231]\n",
      " [-0.08243479]\n",
      " [ 1.03749837]\n",
      " [-0.53505524]]\n"
     ]
    }
   ],
   "source": [
    "Ainv=la.inv(A)\n",
    "x_soln=Ainv@b\n",
    "print(x_soln)"
   ]
  },
  {
   "cell_type": "markdown",
   "metadata": {},
   "source": [
    "Let us check this answer by computing $Ax-b$. The answer should be (close to) zero."
   ]
  },
  {
   "cell_type": "code",
   "execution_count": 46,
   "metadata": {},
   "outputs": [
    {
     "name": "stdout",
     "output_type": "stream",
     "text": [
      "[[ 5.55111512e-16]\n",
      " [-2.22044605e-16]\n",
      " [ 0.00000000e+00]\n",
      " [ 0.00000000e+00]]\n"
     ]
    }
   ],
   "source": [
    "print(A@x_soln-b)"
   ]
  },
  {
   "cell_type": "markdown",
   "metadata": {},
   "source": [
    "Instead of computing `scipy.linalg.inv(A)@b`, there is a better (i.e. faster and numerically more reliable) way to do this by using the provided command `scipy.linalg.solve(A,b)`."
   ]
  },
  {
   "cell_type": "code",
   "execution_count": 47,
   "metadata": {},
   "outputs": [
    {
     "name": "stdout",
     "output_type": "stream",
     "text": [
      "[[-0.19646231]\n",
      " [-0.08243479]\n",
      " [ 1.03749837]\n",
      " [-0.53505524]]\n"
     ]
    }
   ],
   "source": [
    "x_soln2=la.solve(A,b)\n",
    "print(x_soln2)"
   ]
  },
  {
   "cell_type": "markdown",
   "metadata": {},
   "source": [
    "The computation is done slightly differently, but the two solutions are numerically the same."
   ]
  },
  {
   "cell_type": "code",
   "execution_count": 48,
   "metadata": {},
   "outputs": [
    {
     "name": "stdout",
     "output_type": "stream",
     "text": [
      "[[ 1.66533454e-16]\n",
      " [-1.38777878e-17]\n",
      " [-2.22044605e-16]\n",
      " [-3.33066907e-16]]\n"
     ]
    }
   ],
   "source": [
    "print(x_soln2-x_soln)"
   ]
  },
  {
   "cell_type": "markdown",
   "metadata": {},
   "source": [
    "Let us try to repeat this with \"slightly\" larger matrices."
   ]
  },
  {
   "cell_type": "code",
   "execution_count": 49,
   "metadata": {},
   "outputs": [],
   "source": [
    "A=np.random.normal(size=(1000,1000))\n",
    "b=np.random.normal(size=(1000,1))\n",
    "x_soln=la.inv(A)@b\n",
    "x_soln2=la.solve(A,b)"
   ]
  },
  {
   "cell_type": "markdown",
   "metadata": {},
   "source": [
    "How good are the two results?"
   ]
  },
  {
   "cell_type": "code",
   "execution_count": 50,
   "metadata": {},
   "outputs": [
    {
     "name": "stdout",
     "output_type": "stream",
     "text": [
      "5.274003456179344e-12\n",
      "1.0449419107771973e-12\n"
     ]
    }
   ],
   "source": [
    "print(np.max(np.abs(A@x_soln-b)))\n",
    "print(np.max(np.abs(A@x_soln2-b)))"
   ]
  },
  {
   "cell_type": "markdown",
   "metadata": {},
   "source": [
    "So how long does each computation take? We can use `%%timeit` to find out."
   ]
  },
  {
   "cell_type": "code",
   "execution_count": 51,
   "metadata": {},
   "outputs": [
    {
     "name": "stdout",
     "output_type": "stream",
     "text": [
      "30.2 ms ± 278 µs per loop (mean ± std. dev. of 7 runs, 10 loops each)\n"
     ]
    }
   ],
   "source": [
    "%%timeit\n",
    "x_soln=la.inv(A)@b"
   ]
  },
  {
   "cell_type": "code",
   "execution_count": 52,
   "metadata": {},
   "outputs": [
    {
     "name": "stdout",
     "output_type": "stream",
     "text": [
      "21.2 ms ± 1.33 ms per loop (mean ± std. dev. of 7 runs, 10 loops each)\n"
     ]
    }
   ],
   "source": [
    "%%timeit\n",
    "x_soln2=la.solve(A,b)"
   ]
  },
  {
   "cell_type": "markdown",
   "metadata": {},
   "source": [
    "Solving with `scipy.linalg.solve` is more accurate and about twice as fast."
   ]
  },
  {
   "cell_type": "markdown",
   "metadata": {},
   "source": [
    "## Eigenvalues and Eigenvectors"
   ]
  },
  {
   "cell_type": "markdown",
   "metadata": {},
   "source": [
    "Computation of Eigenvalues and Eigenvectors is also simply done. The function `scipy.linalg.eig(A)` returns a tuple `(eigenvalues,eigenvectors)` containing a one-dimensional array of Eigenvalues and a two-dimensional array of associated Eigenvectors. Eigenvalues are given as complex numbers, as Eigenvalues are generally complex valued for a general matrix."
   ]
  },
  {
   "cell_type": "markdown",
   "metadata": {},
   "source": [
    "Let us first look at a symmetric $2\\times2$ matrix, which has only real Eigenvalues."
   ]
  },
  {
   "cell_type": "code",
   "execution_count": 53,
   "metadata": {},
   "outputs": [
    {
     "name": "stdout",
     "output_type": "stream",
     "text": [
      "[[ 1  2]\n",
      " [ 0 -3]]\n"
     ]
    }
   ],
   "source": [
    "A=np.array([[1,2],[0,-3]])\n",
    "print(A)"
   ]
  },
  {
   "cell_type": "code",
   "execution_count": 54,
   "metadata": {},
   "outputs": [
    {
     "name": "stdout",
     "output_type": "stream",
     "text": [
      "[ 1.+0.j -3.+0.j]\n",
      "\n",
      "[[ 1.         -0.4472136 ]\n",
      " [ 0.          0.89442719]]\n"
     ]
    }
   ],
   "source": [
    "eval_A,evec_A=la.eig(A)\n",
    "print(eval_A)\n",
    "print()\n",
    "print(evec_A)"
   ]
  },
  {
   "cell_type": "markdown",
   "metadata": {},
   "source": [
    "Let us test the result. Every eigenvector $v$  has to satisfy $Av=\\lambda v$ with the associated eigenvalue $\\lambda$. First we check whether $|A-\\lambda I|=0$ for all eigenvalues."
   ]
  },
  {
   "cell_type": "code",
   "execution_count": 55,
   "metadata": {},
   "outputs": [
    {
     "name": "stdout",
     "output_type": "stream",
     "text": [
      "0j\n",
      "0j\n"
     ]
    }
   ],
   "source": [
    "print(la.det(A-eval_A[0]*np.eye(2)))\n",
    "print(la.det(A-eval_A[1]*np.eye(2)))"
   ]
  },
  {
   "cell_type": "markdown",
   "metadata": {},
   "source": [
    "Next, we test whether the Eigenvectors have been computed correctly."
   ]
  },
  {
   "cell_type": "code",
   "execution_count": 56,
   "metadata": {},
   "outputs": [
    {
     "name": "stdout",
     "output_type": "stream",
     "text": [
      "[0.+0.j 0.+0.j]\n",
      "[0.+0.j 0.+0.j]\n"
     ]
    }
   ],
   "source": [
    "print((A-eval_A[0]*np.eye(2))@evec_A[:,0])\n",
    "print((A-eval_A[1]*np.eye(2))@evec_A[:,1])"
   ]
  },
  {
   "cell_type": "markdown",
   "metadata": {},
   "source": [
    "This seems all fine. Let us try a non-symmetric $3\\times3$ matrix."
   ]
  },
  {
   "cell_type": "code",
   "execution_count": 57,
   "metadata": {},
   "outputs": [
    {
     "name": "stdout",
     "output_type": "stream",
     "text": [
      "[[ 0.91365479  0.6253193  -0.62979077]\n",
      " [-2.07297439  2.46969275  1.02902531]\n",
      " [ 1.66509772  1.04214407 -0.49151424]]\n"
     ]
    }
   ],
   "source": [
    "A=np.random.normal(size=(3,3))\n",
    "#A=(A+A.T)/2\n",
    "print(A)"
   ]
  },
  {
   "cell_type": "markdown",
   "metadata": {},
   "source": [
    "Now the Eigenvalues are complex valued"
   ]
  },
  {
   "cell_type": "code",
   "execution_count": 58,
   "metadata": {},
   "outputs": [
    {
     "name": "stdout",
     "output_type": "stream",
     "text": [
      "[0.18950071+0.93688165j 0.18950071-0.93688165j 2.5128319 +0.j        ]\n",
      "\n",
      "[[ 0.40104776+0.31143531j  0.40104776-0.31143531j  0.18622038+0.j        ]\n",
      " [-0.10446941+0.24020869j -0.10446941-0.24020869j  0.89170954+0.j        ]\n",
      " [ 0.82070376+0.j          0.82070376-0.j          0.41252402+0.j        ]]\n"
     ]
    }
   ],
   "source": [
    "eval_A,evec_A=la.eig(A)\n",
    "print(eval_A)\n",
    "print()\n",
    "print(evec_A)"
   ]
  },
  {
   "cell_type": "code",
   "execution_count": 59,
   "metadata": {},
   "outputs": [
    {
     "name": "stdout",
     "output_type": "stream",
     "text": [
      "[-2.22044605e-16-2.49800181e-16j  3.33066907e-16-1.11022302e-16j\n",
      "  8.88178420e-16+5.55111512e-16j]\n",
      "[-2.22044605e-16+2.49800181e-16j  3.33066907e-16+1.11022302e-16j\n",
      "  8.88178420e-16-5.55111512e-16j]\n",
      "[-8.88178420e-16+0.j -6.10622664e-16+0.j  4.44089210e-16+0.j]\n"
     ]
    }
   ],
   "source": [
    "print((A-eval_A[0]*np.eye(3))@evec_A[:,0])\n",
    "print((A-eval_A[1]*np.eye(3))@evec_A[:,1])\n",
    "print((A-eval_A[2]*np.eye(3))@evec_A[:,2])"
   ]
  },
  {
   "cell_type": "markdown",
   "metadata": {},
   "source": [
    "Again, our checks have been successful."
   ]
  },
  {
   "cell_type": "markdown",
   "metadata": {},
   "source": [
    "## Eigenvalue statistics of large matrices"
   ]
  },
  {
   "cell_type": "markdown",
   "metadata": {},
   "source": [
    "I now want to present a numerical experiment involving the computation of Eigenvalues for a large matrix. Consider a real-valued symmetric matrix with entries randomly chosen, constructed as below."
   ]
  },
  {
   "cell_type": "code",
   "execution_count": 60,
   "metadata": {},
   "outputs": [
    {
     "name": "stdout",
     "output_type": "stream",
     "text": [
      "[[ 1.88520577  1.73099513  0.40908917  0.6408741  -0.17587777]\n",
      " [ 1.73099513 -0.76050576 -1.29380247 -0.39098819 -0.44410793]\n",
      " [ 0.40908917 -1.29380247  1.23719999 -0.20504732 -0.1930293 ]\n",
      " [ 0.6408741  -0.39098819 -0.20504732 -0.38483163 -0.07382914]\n",
      " [-0.17587777 -0.44410793 -0.1930293  -0.07382914 -0.07766563]]\n"
     ]
    }
   ],
   "source": [
    "A=np.random.normal(size=(5,5))\n",
    "A=(A+A.T)/2\n",
    "print(A)"
   ]
  },
  {
   "cell_type": "markdown",
   "metadata": {},
   "source": [
    "The eigenvalues are real, as the matrix is symmetric. They are given as complex numbers, hence we extract the real part."
   ]
  },
  {
   "cell_type": "code",
   "execution_count": 61,
   "metadata": {},
   "outputs": [
    {
     "name": "stdout",
     "output_type": "stream",
     "text": [
      "[-2.42981173  2.86730468  1.74612331 -0.01826455 -0.26594896]\n"
     ]
    }
   ],
   "source": [
    "print(np.real(la.eig(A)[0]))"
   ]
  },
  {
   "cell_type": "markdown",
   "metadata": {},
   "source": [
    "I want us to look at the eigenvalues for a really large matrix of dimension $1000$."
   ]
  },
  {
   "cell_type": "code",
   "execution_count": 62,
   "metadata": {},
   "outputs": [
    {
     "name": "stdout",
     "output_type": "stream",
     "text": [
      "[[ 0.3723547  -1.50869411  0.33270585 ... -0.84082405 -0.37480482\n",
      "   0.12761956]\n",
      " [-1.50869411  0.47015307  0.39968033 ... -0.71852756 -0.24282684\n",
      "   0.19560015]\n",
      " [ 0.33270585  0.39968033  1.53630633 ... -0.58017841 -0.42643223\n",
      "   0.93095853]\n",
      " ...\n",
      " [-0.84082405 -0.71852756 -0.58017841 ...  0.73380985 -1.06766429\n",
      "  -0.23685504]\n",
      " [-0.37480482 -0.24282684 -0.42643223 ... -1.06766429  0.74568639\n",
      "   0.346761  ]\n",
      " [ 0.12761956  0.19560015  0.93095853 ... -0.23685504  0.346761\n",
      "  -2.33749675]]\n"
     ]
    }
   ],
   "source": [
    "A=np.random.normal(size=(1000,1000))\n",
    "A=(A+A.T)/2\n",
    "print(A)"
   ]
  },
  {
   "cell_type": "code",
   "execution_count": 63,
   "metadata": {},
   "outputs": [],
   "source": [
    "evals=np.real(la.eig(A)[0])\n",
    "#print(evals)"
   ]
  },
  {
   "cell_type": "markdown",
   "metadata": {},
   "source": [
    "Python can easily do this, but how do I interpret these 1000 Eigenvalues? Let us look at a histogram (going back to week 1!) of how the eigenvalues are distributed along the real line."
   ]
  },
  {
   "cell_type": "code",
   "execution_count": 64,
   "metadata": {},
   "outputs": [
    {
     "data": {
      "image/png": "[encoded data removed]",
      "text/plain": [
       "<Figure size 432x288 with 1 Axes>"
      ]
     },
     "metadata": {
      "needs_background": "light"
     },
     "output_type": "display_data"
    }
   ],
   "source": [
    "import matplotlib.pyplot as plt \n",
    "plt.hist(evals, bins=40);\n",
    "plt.xlabel('x')\n",
    "plt.ylabel('count')\n",
    "#plt.axis('scaled')\n",
    "plt.show()"
   ]
  },
  {
   "cell_type": "markdown",
   "metadata": {},
   "source": [
    "This looks suspiciously like a semi-circle, and it turns out that you are observing the famous [semicircle distribution](https://en.wikipedia.org/wiki/Wigner_semicircle_distribution) first [proposed](https://en.wikipedia.org/wiki/Wigner_surmise) by Eugene Wigner to understand energies of heavy atoms."
   ]
  },
  {
   "cell_type": "markdown",
   "metadata": {},
   "source": [
    "The above matrices were constructed using normally distributed matrix entries. Does that matter? Lets find out by choosing random zeros and ones instead."
   ]
  },
  {
   "cell_type": "code",
   "execution_count": 65,
   "metadata": {},
   "outputs": [
    {
     "name": "stdout",
     "output_type": "stream",
     "text": [
      "[[ 0.   0.   0.  ...  0.5 -0.5  0.5]\n",
      " [ 0.  -1.   1.  ...  0.   0.5  0.5]\n",
      " [ 0.   1.   1.  ... -0.5  0.   1. ]\n",
      " ...\n",
      " [ 0.5  0.  -0.5 ...  1.   0.   0. ]\n",
      " [-0.5  0.5  0.  ...  0.   1.  -1. ]\n",
      " [ 0.5  0.5  1.  ...  0.  -1.   1. ]]\n"
     ]
    },
    {
     "data": {
      "image/png": "[encoded data removed]",
      "text/plain": [
       "<Figure size 432x288 with 1 Axes>"
      ]
     },
     "metadata": {
      "needs_background": "light"
     },
     "output_type": "display_data"
    }
   ],
   "source": [
    "A=np.random.randint(-1,2,size=(1000,1000))\n",
    "A=(A+A.T)/2\n",
    "print(A)\n",
    "\n",
    "evals=np.real(la.eig(A)[0])\n",
    "#print(evals)\n",
    "\n",
    "import matplotlib.pyplot as plt \n",
    "plt.hist(evals, bins=40);\n",
    "plt.xlabel('x')\n",
    "plt.ylabel('count')\n",
    "#plt.axis('scaled')\n",
    "plt.show()"
   ]
  },
  {
   "cell_type": "markdown",
   "metadata": {},
   "source": [
    "This looks fairly much the same. There are good reasons for this. For more, please look at https://en.wikipedia.org/wiki/Random_matrix."
   ]
  },
  {
   "cell_type": "markdown",
   "metadata": {},
   "source": [
    "## Conclusion and Outlook"
   ]
  },
  {
   "cell_type": "markdown",
   "metadata": {},
   "source": [
    "In this lecture we introduced the basics of doing Linear Algebra with Python."
   ]
  }
 ],
 "metadata": {
  "kernelspec": {
   "display_name": "Python 3",
   "language": "python",
   "name": "python3"
  },
  "language_info": {
   "codemirror_mode": {
    "name": "ipython",
    "version": 3
   },
   "file_extension": ".py",
   "mimetype": "text/x-python",
   "name": "python",
   "nbconvert_exporter": "python",
   "pygments_lexer": "ipython3",
   "version": "3.8.5"
  }
 },
 "nbformat": 4,
 "nbformat_minor": 2
}
