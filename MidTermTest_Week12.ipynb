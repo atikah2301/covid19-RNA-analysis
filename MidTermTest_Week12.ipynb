{
 "cells": [
  {
   "cell_type": "markdown",
   "metadata": {},
   "source": [
    "## Mid Term Test - Week 12 - Answers & Rough work\n",
    "\n",
    "### Q1 - Multiple Choice - Explaining Errors"
   ]
  },
  {
   "cell_type": "markdown",
   "metadata": {},
   "source": [
    "### Q2 - Write Code - my_partition()"
   ]
  },
  {
   "cell_type": "code",
   "execution_count": 90,
   "metadata": {},
   "outputs": [
    {
     "data": {
      "text/plain": [
       "7"
      ]
     },
     "execution_count": 90,
     "metadata": {},
     "output_type": "execute_result"
    }
   ],
   "source": [
    "# implement a function called my_partition()\n",
    "# input is an integer, c\n",
    "# if c is odd, return 0\n",
    "# if c is even & <= 11, return -1\n",
    "# else, compute primes a and b s.t. c=a+b\n",
    "# return the max of a and b\n",
    "\n",
    "def my_partition(c):\n",
    "    if c%2==1:\n",
    "        return 0\n",
    "    elif c%2==0 and c<=11:\n",
    "        return -1\n",
    "    else:\n",
    "        numlist = [i for i in range(2,c+1)]\n",
    "        numlist.reverse()\n",
    "        for i in numlist:\n",
    "            if all([i%j!=0 for j in range(2,i)]):\n",
    "                if c-i!=1 and all([(c-i)%k!=0 for k in range(2,c-i)]):\n",
    "                    return i\n",
    "                    break\n",
    "\n",
    "my_partition(12)"
   ]
  },
  {
   "cell_type": "code",
   "execution_count": null,
   "metadata": {},
   "outputs": [],
   "source": [
    "# more efficient code\n",
    "\n",
    "def my_partition(c):\n",
    "    if c % 2 == 1:\n",
    "        return 0\n",
    "    if c <= 11:\n",
    "        return -1\n",
    "    numlist = [i for i in range(c+1, 2, -1)]\n",
    "    for i in numlist:\n",
    "        if c-i == 1:\n",
    "            continue\n",
    "        if all([i % j != 0 for j in range(2, i)]) and \\\n",
    "           all([(c-i) % k != 0 for k in range(2, c-i)]):\n",
    "            return i"
   ]
  },
  {
   "cell_type": "markdown",
   "metadata": {},
   "source": [
    "Other notes: \n",
    "- Check for evenness is not necessary, as if it is not odd then it must be even. I made the 'elif' an 'if' here because its clearer to me, but either way works.\n",
    "- Loop in decreasing order - removes need for reverse(). Alternative method is reversed(range(2, C+1)).\n",
    "- 'else' not needed, as the program flow will be identical with or without the presence of 'else'. Removing it is better because then we have 1 less level of indentation.\n",
    "- Moved the cheapest conditional to the top of the for loop. By doing this, if the conditional comes out to false, we save having to go through checking all of the numbers and seeing if they are prime.\n",
    "- 'all' expressions can be moved into the same conditional.\n",
    "- Final 'break' not needed as it will never run since it comes after a 'return' statement."
   ]
  },
  {
   "cell_type": "code",
   "execution_count": 87,
   "metadata": {},
   "outputs": [
    {
     "name": "stdout",
     "output_type": "stream",
     "text": [
      "[16, 15, 14, 13, 12, 11, 10, 9, 8, 7, 6, 5, 4, 3, 2]\n",
      "13 is prime\n",
      "3 is also prime, therefore partition is 13\n"
     ]
    }
   ],
   "source": [
    "# testing the code\n",
    "c = 16\n",
    "numlist = [i for i in range(2,c+1)]\n",
    "numlist.reverse()\n",
    "print(numlist)\n",
    "for i in numlist: # checking 12,11,10,9...\n",
    "    if all([i%j!=0 for j in range(2,i)]): #if a is prime\n",
    "        print(i,\"is prime\")\n",
    "        if c-i!=1 and all([(c-i)%k!=0 for k in range(2,c-i)]): #and if b is prime\n",
    "            print(c-i,\"is also prime, therefore partition is\",i)\n",
    "            break"
   ]
  },
  {
   "cell_type": "markdown",
   "metadata": {},
   "source": [
    "### Q3 - Write code - my_integral()"
   ]
  },
  {
   "cell_type": "code",
   "execution_count": 120,
   "metadata": {},
   "outputs": [
    {
     "name": "stdout",
     "output_type": "stream",
     "text": [
      "0.33\n"
     ]
    }
   ],
   "source": [
    "def my_integral(f,a,b,n): #lambda function, interval borders, subdivisions\n",
    "    h = abs(a-b)/n #size of subintervals\n",
    "    x = [a+(h*i) for i in range(0,n+1)]\n",
    "    return sum([(f(x[j])+f(x[j+1]))*h/2 for j in range(n)])\n",
    "    \n",
    "print(round(my_integral(lambda x:x**2,0,1,10000),2))\n",
    "    "
   ]
  },
  {
   "cell_type": "markdown",
   "metadata": {},
   "source": [
    "### Q4 - Write code - lossy_crypto()"
   ]
  },
  {
   "cell_type": "code",
   "execution_count": 10,
   "metadata": {},
   "outputs": [
    {
     "data": {
      "text/plain": [
       "'efxllaerehtsxhtsx'"
      ]
     },
     "execution_count": 10,
     "metadata": {},
     "output_type": "execute_result"
    }
   ],
   "source": [
    "def lossy_crypto(text):\n",
    "    text = text.replace(\"I\",\"x\")\n",
    "    text = text.replace(\"i\",\"x\")\n",
    "    text = text.replace(\" \",\"\")\n",
    "    text = text.replace(\".\",\"\")\n",
    "    text = text.replace(\"!\",\"\")\n",
    "    text = text.replace(\"?\",\"\")\n",
    "    text = text.replace(\",\",\"\")\n",
    "    text = text.replace(\":\",\"\")\n",
    "    text = text.replace(\";\",\"\")\n",
    "    text = text[::-1]\n",
    "    return text\n",
    "\n",
    "lossy_crypto('Is this the real life?')"
   ]
  },
  {
   "cell_type": "markdown",
   "metadata": {},
   "source": [
    "### Q7 - Write code - my_Newton()"
   ]
  },
  {
   "cell_type": "markdown",
   "metadata": {},
   "source": [
    "##### Root finding\n",
    "- define my_Newton(f,g,x0,tau,eps)\n",
    "- arguments: a function f, its derivative g (g(x)=f'(x)) and scalars x0, tau, eps\n",
    "- implement Newton method for root finding, iterate it to find an approximation to the root of f(x)\n",
    "- x0 as the starting point\n",
    "\n",
    "##### Convergence criterion\n",
    "The iteration stops once either:\n",
    "- (1) relative difference between successive approximations is sufficiently small, i.e. abs(x_n+1 - x_n)/x_n < tau\n",
    "- Or, (2) the approximations themselves are sufficiently accurate, i.e. f(xn) < eps\n",
    "\n",
    "##### Return values\n",
    "- if the method converged, return the approximation of the root\n",
    "- if the method did not converge, print \"does not converge\", then return 1234\n",
    "- if any absolute derivative value is at any point smaller than eps, print \"null derivative\", then return 1234\n",
    "\n",
    "##### Additionally\n",
    "- if loop iterates over 50 times, print \"does not converge\""
   ]
  },
  {
   "cell_type": "code",
   "execution_count": 30,
   "metadata": {},
   "outputs": [
    {
     "name": "stdout",
     "output_type": "stream",
     "text": [
      "2.377\n"
     ]
    }
   ],
   "source": [
    "def my_Newton(f,g,x0,tau,eps):\n",
    "    xn = x0 # at n=1\n",
    "    for i in range(50): # if (2) is met, the loop will end itself\n",
    "        xn1 = xn - f(xn)/g(xn)\n",
    "        if abs(g(xn))<eps:\n",
    "            print(\"null derivative\")\n",
    "            return 1234\n",
    "        if abs((xn1-xn)/xn)<tau and abs(f(xn))<eps:\n",
    "            return xn    \n",
    "        xn = xn1\n",
    "    print(\"does not converge\")\n",
    "    return 1234\n",
    "\n",
    "print(round(my_Newton(lambda x:x**3-2*x**2-3*x+5,lambda x:3*x*x - 4*x -3,2.5,0.0001,1e-10),3))"
   ]
  }
 ],
 "metadata": {
  "kernelspec": {
   "display_name": "Python 3",
   "language": "python",
   "name": "python3"
  },
  "language_info": {
   "codemirror_mode": {
    "name": "ipython",
    "version": 3
   },
   "file_extension": ".py",
   "mimetype": "text/x-python",
   "name": "python",
   "nbconvert_exporter": "python",
   "pygments_lexer": "ipython3",
   "version": "3.7.3"
  }
 },
 "nbformat": 4,
 "nbformat_minor": 4
}
