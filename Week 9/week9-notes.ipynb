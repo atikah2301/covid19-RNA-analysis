{
 "cells": [
  {
   "cell_type": "markdown",
   "metadata": {
    "slideshow": {
     "slide_type": "-"
    }
   },
   "source": [
    "# MTH5001 Introduction to Computer Programming - Lecture 9\n",
    "Module organisers Dr Lucas Lacasa and Prof. Thomas Prellberg"
   ]
  },
  {
   "cell_type": "markdown",
   "metadata": {},
   "source": [
    "So far, we have used Python as an isolated sandbox to work in. What is sorely missing is a way to interact with the external world, i.e. to be able to input and output data. In this lecture we will look how Python deals with data input and output, from reading and writing basic text to the manipulation of data frames."
   ]
  },
  {
   "cell_type": "code",
   "execution_count": 1,
   "metadata": {},
   "outputs": [],
   "source": [
    "import numpy as np\n",
    "import matplotlib.pyplot as plt"
   ]
  },
  {
   "cell_type": "markdown",
   "metadata": {},
   "source": [
    "## Strings"
   ]
  },
  {
   "cell_type": "markdown",
   "metadata": {},
   "source": [
    "A string in Python is a sequence of characters. We have already informally encountered strings when we used the `print()` function to give out text strings such as \n",
    "```python\n",
    "print(\"exact root found\")\n",
    "```\n",
    "And you might have noticed that Python allows different delimiters of strings: \\',\",\\'\\'\\', and \"\"\" are all allowed, with the latter allowing a string to extend across multiple lines and include linebreaks, as when we wrote document strings in functions."
   ]
  },
  {
   "cell_type": "code",
   "execution_count": 2,
   "metadata": {},
   "outputs": [
    {
     "name": "stdout",
     "output_type": "stream",
     "text": [
      "Hello\n",
      "\n",
      "Hello\n",
      "\n",
      "Hello\n",
      "\n",
      "Hello\n",
      "   World!\n"
     ]
    }
   ],
   "source": [
    "print(\"Hello\")\n",
    "print()\n",
    "print('Hello')\n",
    "print()\n",
    "print('''Hello''')\n",
    "print()\n",
    "print(\"\"\"Hello\n",
    "   World!\"\"\")\n"
   ]
  },
  {
   "cell_type": "markdown",
   "metadata": {},
   "source": [
    "Any character can appear in a string, but if we want to include special characters in a string while writing Python code, we sometimes need to use special character sequences using a backslash `\\` to include it in a string."
   ]
  },
  {
   "cell_type": "code",
   "execution_count": 3,
   "metadata": {},
   "outputs": [
    {
     "name": "stdout",
     "output_type": "stream",
     "text": [
      "'Hello'\n",
      "\n",
      "Hello\tWorld\n",
      "\n",
      "Hello\n",
      "World\n",
      "\n",
      "Hello\\World\n",
      "\n"
     ]
    },
    {
     "data": {
      "text/plain": [
       "'Hello\\nWorld'"
      ]
     },
     "execution_count": 3,
     "metadata": {},
     "output_type": "execute_result"
    }
   ],
   "source": [
    "print('\\'Hello\\'') #single quotes \\'\n",
    "print()\n",
    "print('Hello\\tWorld')  #tab \\'\n",
    "print()\n",
    "print('Hello\\nWorld')  #new line \\n\n",
    "print()\n",
    "print('Hello\\\\World')  #backslash \\\\\n",
    "print()\n",
    "'Hello\\nWorld' # note that the string looks different when not printed"
   ]
  },
  {
   "cell_type": "code",
   "execution_count": 4,
   "metadata": {},
   "outputs": [
    {
     "data": {
      "text/plain": [
       "'\\n'"
      ]
     },
     "execution_count": 4,
     "metadata": {},
     "output_type": "execute_result"
    }
   ],
   "source": [
    "'Hello\\nWorld'[5] # newline is a single character"
   ]
  },
  {
   "cell_type": "markdown",
   "metadata": {},
   "source": [
    "### Indexing strings"
   ]
  },
  {
   "cell_type": "markdown",
   "metadata": {},
   "source": [
    "Strings behave like other iterables, i.e. we can access single characters and substrings by indexing."
   ]
  },
  {
   "cell_type": "code",
   "execution_count": 5,
   "metadata": {},
   "outputs": [
    {
     "name": "stdout",
     "output_type": "stream",
     "text": [
      "W\n",
      "\n",
      "Hello\n",
      "\n",
      "World\n",
      "\n",
      "!dlroW olleH\n",
      "\n",
      "loWr\n"
     ]
    }
   ],
   "source": [
    "my_string=\"Hello World!\"\n",
    "print(my_string[6])\n",
    "print()\n",
    "print(my_string[0:5])\n",
    "print()\n",
    "print(my_string[-6:-1])\n",
    "print()\n",
    "print(my_string[::-1])\n",
    "print()\n",
    "print(my_string[2:9:2])"
   ]
  },
  {
   "cell_type": "markdown",
   "metadata": {},
   "source": [
    "We can also use strings in for loops."
   ]
  },
  {
   "cell_type": "code",
   "execution_count": 6,
   "metadata": {},
   "outputs": [
    {
     "name": "stdout",
     "output_type": "stream",
     "text": [
      "H\n",
      "e\n",
      "l\n",
      "l\n",
      "o\n",
      " \n",
      "W\n",
      "o\n",
      "r\n",
      "l\n",
      "d\n",
      "!\n"
     ]
    }
   ],
   "source": [
    "for letter in my_string:\n",
    "    print(letter)"
   ]
  },
  {
   "cell_type": "markdown",
   "metadata": {},
   "source": [
    "However, strings are immutable, i.e. we cannot change parts of a string once it is defined, so they behave more like tuples than lists."
   ]
  },
  {
   "cell_type": "code",
   "execution_count": 7,
   "metadata": {},
   "outputs": [],
   "source": [
    "# this will produce an error\n",
    "#my_string[6]='w'"
   ]
  },
  {
   "cell_type": "markdown",
   "metadata": {},
   "source": [
    "Once a string has been assigned, there is basically only one way to remove it, using the keyword `del` (which can be used to remove anything else we have defined as well)."
   ]
  },
  {
   "cell_type": "code",
   "execution_count": 8,
   "metadata": {},
   "outputs": [],
   "source": [
    "del my_string\n",
    "#print(my_string)"
   ]
  },
  {
   "cell_type": "markdown",
   "metadata": {},
   "source": [
    "### String operations"
   ]
  },
  {
   "cell_type": "markdown",
   "metadata": {},
   "source": [
    "Strings can be concatenated with `+`, and muliplication by an integer $n$ using `*` gives $n$-fold concatenation."
   ]
  },
  {
   "cell_type": "code",
   "execution_count": 9,
   "metadata": {},
   "outputs": [
    {
     "name": "stdout",
     "output_type": "stream",
     "text": [
      "Hello World!\n",
      "Hello Hello Hello \n"
     ]
    }
   ],
   "source": [
    "print('Hello '+'World!')\n",
    "print(3*'Hello ')"
   ]
  },
  {
   "cell_type": "markdown",
   "metadata": {},
   "source": [
    "Functions we already used with other enumerables work with strings as well."
   ]
  },
  {
   "cell_type": "code",
   "execution_count": 10,
   "metadata": {},
   "outputs": [
    {
     "name": "stdout",
     "output_type": "stream",
     "text": [
      "5\n",
      "[(0, 'W'), (1, 'o'), (2, 'r'), (3, 'l'), (4, 'd')]\n"
     ]
    }
   ],
   "source": [
    "print(len('Hello'))\n",
    "print(list(enumerate('World')))"
   ]
  },
  {
   "cell_type": "markdown",
   "metadata": {},
   "source": [
    "### String methods"
   ]
  },
  {
   "cell_type": "markdown",
   "metadata": {},
   "source": [
    "There are many ways to change strings in Python. A good listing of all the methods can be found [here](https://www.programiz.com/python-programming/strings-method). You may have to use this quite a few times when working with strings in the lab. I will just give you a few examples here."
   ]
  },
  {
   "cell_type": "code",
   "execution_count": 11,
   "metadata": {},
   "outputs": [
    {
     "name": "stdout",
     "output_type": "stream",
     "text": [
      "hello world!\n",
      "Hello world!\n",
      "**********************************hello world!**********************************\n",
      "['hello', 'world!']\n"
     ]
    }
   ],
   "source": [
    "my_string=\"hello world!\"\n",
    "print(my_string)\n",
    "print(my_string.capitalize())\n",
    "print(my_string.center(80,\"*\"))\n",
    "print(my_string.split())"
   ]
  },
  {
   "cell_type": "markdown",
   "metadata": {},
   "source": [
    "The last method `.split()` is a good way to break down longer text strings into their parts. It takes as optional argument a separator string (the default is an empty space ' '), so if you get a \\*.csv file, you can split using a comma as separator string (remember what csv stands for...)."
   ]
  },
  {
   "cell_type": "code",
   "execution_count": 12,
   "metadata": {},
   "outputs": [
    {
     "name": "stdout",
     "output_type": "stream",
     "text": [
      "['123.45,38.9,Vauxhall']\n",
      "['123.45', '38.9', 'Vauxhall']\n"
     ]
    }
   ],
   "source": [
    "print(\"123.45,38.9,Vauxhall\".split())\n",
    "print(\"123.45,38.9,Vauxhall\".split(','))"
   ]
  },
  {
   "cell_type": "markdown",
   "metadata": {},
   "source": [
    "### Formatting"
   ]
  },
  {
   "cell_type": "markdown",
   "metadata": {},
   "source": [
    "Formatting is a great way to produce good looking output. You can put placeholders `{}` into a string which are being filled by the arguments of `.format()`. The placeholders can contain formatting specifications, which is very useful for formatting numbers. I will only give you a few examples here, you should consult [here](https://www.programiz.com/python-programming/methods/string/format) if you need to know more."
   ]
  },
  {
   "cell_type": "code",
   "execution_count": 13,
   "metadata": {},
   "outputs": [
    {
     "name": "stdout",
     "output_type": "stream",
     "text": [
      "Hello happy world!\n",
      "Binary representation of 12 is 1100\n",
      "Exponent representation: 1.566345e+03\n",
      "One third is: 0.333, and one quarter is: 0.250\n"
     ]
    }
   ],
   "source": [
    "print(\"Hello {0} world!\".format(\"happy\"))\n",
    "print(\"Binary representation of {0} is {0:b}\".format(12))\n",
    "print(\"Exponent representation: {0:e}\".format(1566.345))\n",
    "print(\"One third is: {0:.3f}, and one quarter is: {1:.3f}\".format(1/3,1/4))"
   ]
  },
  {
   "cell_type": "markdown",
   "metadata": {},
   "source": [
    "For those of you who know the programming language C, there is also a way to use C-style formatting."
   ]
  },
  {
   "cell_type": "code",
   "execution_count": 14,
   "metadata": {},
   "outputs": [
    {
     "name": "stdout",
     "output_type": "stream",
     "text": [
      "The value of Pi to three digits is 3.14\n"
     ]
    }
   ],
   "source": [
    "x=np.pi\n",
    "print('The value of Pi to three digits is %4.2f' %x)"
   ]
  },
  {
   "cell_type": "markdown",
   "metadata": {},
   "source": [
    "## File Input/Output"
   ]
  },
  {
   "cell_type": "markdown",
   "metadata": {},
   "source": [
    "### Opening and closing files"
   ]
  },
  {
   "cell_type": "markdown",
   "metadata": {},
   "source": [
    "Files are named locations on external memory where data is stored. To access a file for reading or writing we need to open it, and when we are finished we need to close it again."
   ]
  },
  {
   "cell_type": "markdown",
   "metadata": {},
   "source": [
    "In Python, this is done with the built-in function `open()` and the method `.close()`. The function `open()` returns a file object, which we assign to a variable to be able to access it for read or write operations."
   ]
  },
  {
   "cell_type": "code",
   "execution_count": 15,
   "metadata": {},
   "outputs": [],
   "source": [
    "f=open(\"test.txt\",'w') #open file in current directory\n",
    "### perform file operations\n",
    "f.close()"
   ]
  },
  {
   "cell_type": "markdown",
   "metadata": {},
   "source": [
    "The default mode is to open the file for reading. Other modes can be specified when opening a file. Here, we shall use `r` (read, default), `w` (write), and `a` (append). For other modes, see [here](https://docs.python.org/3/tutorial/inputoutput.html#reading-and-writing-files):\n",
    "\n",
    "`r` opens a file for reading (default). If the file does not exist, the operation fails.\n",
    "\n",
    "`w` opens a file for writing. If the file exists, it gets overwritten. If the file does not exist, it gets created.\n",
    "\n",
    "`a` opens a file for appending. If the file exists, anything written to it gets appended to the end of the file. If the file does not exist, it gets created.\n",
    "\n"
   ]
  },
  {
   "cell_type": "markdown",
   "metadata": {},
   "source": [
    "The way data gets stored in a file is platform dependent. If you want files you create to be readable on different platforms, you need to specify the encoding explicitly. I suggest you use\n",
    "```python\n",
    "f=open(\"test.txt\",'r',encoding='utf-8')\n",
    "```"
   ]
  },
  {
   "cell_type": "markdown",
   "metadata": {},
   "source": [
    "If an open file gets not closed correctly, data in it might become corrupted. (This is why you should never just switch off a computer, but rather shut it down.) When developing a code, this can happen if the code you are writing contains errors and execution of the code gets terminated before the .close() is executed. It is therefore safer to open a file using the `with` statement as follows.\n",
    "```python\n",
    "with open(\"test.txt\") as f:\n",
    "    ### perform file operations\n",
    "```\n",
    "In this way, the `.close()` method is performed internally when the code block inside `with` is exited."
   ]
  },
  {
   "cell_type": "markdown",
   "metadata": {},
   "source": [
    "### Reading and writing files"
   ]
  },
  {
   "cell_type": "markdown",
   "metadata": {},
   "source": [
    "Files essentially contain text strings called lines. `readlines()`, returns the whole file as a list of strings, and `writelines(lines)` writes `lines` to the file, where `lines` is a list of strings. Similarly, `readline()` reads a single line, and `write(line)` writes the string `line` to the file.\n",
    "\n",
    "Lines are slightly different from strings in that they normally contain a newline character at their end (unless it is the last line of a file, in which case this may be missing)."
   ]
  },
  {
   "cell_type": "markdown",
   "metadata": {},
   "source": [
    " Lets look at an example."
   ]
  },
  {
   "cell_type": "code",
   "execution_count": 16,
   "metadata": {},
   "outputs": [],
   "source": [
    "data=['Professor Thomas Prellberg\\n',\n",
    "       'Professor of Mathematics\\n',\n",
    "       'Email: t.prellberg@qmul.ac.uk\\n',\n",
    "       'Telephone: +44 (0)20 7882 5490\\n',\n",
    "       'Room Number: Mathematics Building, Room: MB523\\n'\n",
    "       'Website: http://www.maths.qmul.ac.uk/~tp/\\n']\n",
    "with open(\"test.txt\",'w') as f:\n",
    "        f.writelines(data)"
   ]
  },
  {
   "cell_type": "markdown",
   "metadata": {},
   "source": [
    "The above writes the content of `data` to a file named test.txt. Lets read this file and check its content."
   ]
  },
  {
   "cell_type": "code",
   "execution_count": 17,
   "metadata": {},
   "outputs": [
    {
     "name": "stdout",
     "output_type": "stream",
     "text": [
      "['Professor Thomas Prellberg\\n', 'Professor of Mathematics\\n', 'Email: t.prellberg@qmul.ac.uk\\n', 'Telephone: +44 (0)20 7882 5490\\n', 'Room Number: Mathematics Building, Room: MB523\\n', 'Website: http://www.maths.qmul.ac.uk/~tp/\\n']\n"
     ]
    }
   ],
   "source": [
    "with open(\"test.txt\",'r') as f:\n",
    "    data1=f.readlines()\n",
    "print(data1)"
   ]
  },
  {
   "cell_type": "markdown",
   "metadata": {},
   "source": [
    "If the newline character is missing, strings are concatenated when using `writelines()`."
   ]
  },
  {
   "cell_type": "code",
   "execution_count": 18,
   "metadata": {},
   "outputs": [
    {
     "name": "stdout",
     "output_type": "stream",
     "text": [
      "['Professor Thomas Prellberg\\n', 'Professor of Mathematics\\n', 'Email: t.prellberg@qmul.ac.uk\\n', 'Telephone: +44 (0)20 7882 5490\\n', 'Room Number: Mathematics Building, Room: MB523\\n', 'Website: http://www.maths.qmul.ac.uk/~tp/\\n', 'Office Hours: Monday 11:30-12:30 during term times, also by email appointment\\n']\n"
     ]
    }
   ],
   "source": [
    "office_hours=['Office Hours: Monday 11:30-12:30 ',\n",
    "              'during term times, also by email appointment\\n']\n",
    "with open(\"test.txt\",'a') as f:\n",
    "    f.writelines(office_hours)\n",
    "with open(\"test.txt\",'r') as f:\n",
    "    data1=f.readlines()\n",
    "print(data1)"
   ]
  },
  {
   "cell_type": "markdown",
   "metadata": {},
   "source": [
    "Note that the appended two strings have been joined to one line."
   ]
  },
  {
   "cell_type": "markdown",
   "metadata": {},
   "source": [
    "A file itself can be used as an iterable, i.e. we can go through all the lines in a file in a for loop, which is very convenient!"
   ]
  },
  {
   "cell_type": "code",
   "execution_count": 19,
   "metadata": {},
   "outputs": [
    {
     "name": "stdout",
     "output_type": "stream",
     "text": [
      "Professor Thomas Prellberg\n",
      "\n",
      "Professor of Mathematics\n",
      "\n",
      "Email: t.prellberg@qmul.ac.uk\n",
      "\n",
      "Telephone: +44 (0)20 7882 5490\n",
      "\n",
      "Room Number: Mathematics Building, Room: MB523\n",
      "\n",
      "Website: http://www.maths.qmul.ac.uk/~tp/\n",
      "\n",
      "Office Hours: Monday 11:30-12:30 during term times, also by email appointment\n",
      "\n"
     ]
    }
   ],
   "source": [
    "with open(\"test.txt\",'r') as f:\n",
    "    for line in f:\n",
    "        print(line)"
   ]
  },
  {
   "cell_type": "markdown",
   "metadata": {},
   "source": [
    "Note how here the print statement produces blank lines due to the presence of newline character. Lets remove these. We can either remove the last character in each line using the index `[:-1]` or by using the method `.rstrip()`, which also removes trailing spaces."
   ]
  },
  {
   "cell_type": "code",
   "execution_count": 20,
   "metadata": {},
   "outputs": [
    {
     "name": "stdout",
     "output_type": "stream",
     "text": [
      "Professor Thomas Prellberg\n",
      "Professor of Mathematics\n",
      "Email: t.prellberg@qmul.ac.uk\n",
      "Telephone: +44 (0)20 7882 5490\n",
      "Room Number: Mathematics Building, Room: MB523\n",
      "Website: http://www.maths.qmul.ac.uk/~tp/\n",
      "Office Hours: Monday 11:30-12:30 during term times, also by email appointment\n"
     ]
    }
   ],
   "source": [
    "with open(\"test.txt\",'r') as f:\n",
    "    for line in f:\n",
    "        print(line.rstrip())"
   ]
  },
  {
   "cell_type": "markdown",
   "metadata": {},
   "source": [
    "### Reading and writing numerical data"
   ]
  },
  {
   "cell_type": "markdown",
   "metadata": {},
   "source": [
    "Now that we know how to read and write to files, there is one thing missing. We can only read and write text strings, and when we want to deal with numerical data we still need to do a conversion between strings and numbers. No matter which programming language you use, this can be quite cumbersome."
   ]
  },
  {
   "cell_type": "code",
   "execution_count": 21,
   "metadata": {},
   "outputs": [
    {
     "name": "stdout",
     "output_type": "stream",
     "text": [
      "3.141592653589793 == 3.141592653589793 is True\n"
     ]
    }
   ],
   "source": [
    "Pi=np.pi\n",
    "with open(\"test.txt\",'w') as f:\n",
    "    f.write(str(Pi))\n",
    "    #f.write(Pi) produces error message\n",
    "with open(\"test.txt\",'r') as f:\n",
    "    X=float(f.readline())\n",
    "print(\"{0} == {1} is {2}\".format(Pi,X,X==Pi))"
   ]
  },
  {
   "cell_type": "markdown",
   "metadata": {},
   "source": [
    "This looks easy but if someone gives you a file with numerical data a lot of stuff can go wrong. Lets say the data is in lines which contain spaces and also some other characters (comma, semicolon, etc) to separate the individual numbers. How can we deal with that? There are several ways to do this, such as parsing a text string using [regular expressions](https://en.wikipedia.org/wiki/Regular_expression) after importing the module [re](https://docs.python.org/3/library/re.html). I will not go into details about this here."
   ]
  },
  {
   "cell_type": "markdown",
   "metadata": {},
   "source": [
    "### Reading and writing numpy data"
   ]
  },
  {
   "cell_type": "markdown",
   "metadata": {},
   "source": [
    "If your data is in a *standard* format, it is much easier to work with file input/output. For example, a single numpy array can be read and written with the functions `numpy.loadtxt()` and `numpy.savetxt()`. The nice thing is that you don't have to worry about opening or closing files, it is done for you. You just have to specify the filename and the array."
   ]
  },
  {
   "cell_type": "code",
   "execution_count": 22,
   "metadata": {},
   "outputs": [
    {
     "name": "stdout",
     "output_type": "stream",
     "text": [
      "[[0.60042033 0.71768793 0.94979746]\n",
      " [0.25595959 0.85289103 0.59640932]\n",
      " [0.06810877 0.76033715 0.67310098]\n",
      " [0.85306371 0.39097312 0.88452736]\n",
      " [0.8160931  0.26858904 0.26096682]]\n"
     ]
    }
   ],
   "source": [
    "A=np.random.random((5,3))\n",
    "print(A)\n",
    "np.savetxt(\"test.txt\",A)"
   ]
  },
  {
   "cell_type": "markdown",
   "metadata": {},
   "source": [
    "As this is a plain text file, we can see what it looks like using `readlines()`."
   ]
  },
  {
   "cell_type": "code",
   "execution_count": 23,
   "metadata": {},
   "outputs": [
    {
     "name": "stdout",
     "output_type": "stream",
     "text": [
      "6.004203312655297387e-01 7.176879333857041354e-01 9.497974571157400403e-01\n",
      "2.559595861806229777e-01 8.528910346211568960e-01 5.964093229034969079e-01\n",
      "6.810876914177099728e-02 7.603371466051349614e-01 6.731009770345586229e-01\n",
      "8.530637055321537154e-01 3.909731158504874404e-01 8.845273608902666229e-01\n",
      "8.160931017293241441e-01 2.685890415746222670e-01 2.609668247112350015e-01\n"
     ]
    }
   ],
   "source": [
    "with open(\"test.txt\",'r') as f:\n",
    "    for line in f:\n",
    "        print(line.rstrip())"
   ]
  },
  {
   "cell_type": "markdown",
   "metadata": {},
   "source": [
    "Lets load this as a new array instead."
   ]
  },
  {
   "cell_type": "code",
   "execution_count": 24,
   "metadata": {},
   "outputs": [
    {
     "name": "stdout",
     "output_type": "stream",
     "text": [
      "[[0.60042033 0.71768793 0.94979746]\n",
      " [0.25595959 0.85289103 0.59640932]\n",
      " [0.06810877 0.76033715 0.67310098]\n",
      " [0.85306371 0.39097312 0.88452736]\n",
      " [0.8160931  0.26858904 0.26096682]]\n"
     ]
    }
   ],
   "source": [
    "B=np.loadtxt(\"test.txt\")\n",
    "print(B)"
   ]
  },
  {
   "cell_type": "markdown",
   "metadata": {},
   "source": [
    "Element-wise comparison shows equality of both arrays."
   ]
  },
  {
   "cell_type": "code",
   "execution_count": 25,
   "metadata": {},
   "outputs": [
    {
     "name": "stdout",
     "output_type": "stream",
     "text": [
      "[[ True  True  True]\n",
      " [ True  True  True]\n",
      " [ True  True  True]\n",
      " [ True  True  True]\n",
      " [ True  True  True]]\n"
     ]
    }
   ],
   "source": [
    "print(A==B)"
   ]
  },
  {
   "cell_type": "markdown",
   "metadata": {},
   "source": [
    "The advantage of the method described here is that the data is stored as a plain text file, which you can easily read. See [here](https://www.python-course.eu/numpy_reading_writing.php) for alternatives involving e.g. binary data."
   ]
  },
  {
   "cell_type": "markdown",
   "metadata": {},
   "source": [
    "## Pandas"
   ]
  },
  {
   "cell_type": "markdown",
   "metadata": {},
   "source": [
    "When it comes to Python, Pandas are not cuddly animals but rather Pandas is the name of the *Python Data Analysis Library*, and if you want to do modern data analytics with Python, you will hardly manage to avoid [Pandas](https://pandas.pydata.org/). Its [DataFrame](http://pandas.pydata.org/pandas-docs/stable/reference/frame.html) object is becoming a standard for spreadsheet data. For example, there are ready-made tools available to directly access statistical or financial data from the web. These services are provided by the World Bank, OECD, Eurostat, Nasdaq, and many more."
   ]
  },
  {
   "cell_type": "code",
   "execution_count": 26,
   "metadata": {},
   "outputs": [],
   "source": [
    "import pandas as pd"
   ]
  },
  {
   "cell_type": "markdown",
   "metadata": {},
   "source": [
    "### An example: reading currency exchange data"
   ]
  },
  {
   "cell_type": "markdown",
   "metadata": {},
   "source": [
    "Lets say you want to analyse the USDGBP exchange rates for the last 5 years. It turns out that you can load this data directly from the web using tools from the `pandas_datareader`. In this case, we are accessing data provided by the Federal Reserve Bank of St. Louis, which are updated weekly."
   ]
  },
  {
   "cell_type": "code",
   "execution_count": 27,
   "metadata": {},
   "outputs": [
    {
     "name": "stdout",
     "output_type": "stream",
     "text": [
      "            DEXUSUK\n",
      "DATE               \n",
      "2016-03-15   1.4166\n",
      "2016-03-16   1.4100\n",
      "2016-03-17   1.4490\n",
      "2016-03-18   1.4514\n",
      "2016-03-21   1.4402\n",
      "...             ...\n",
      "2021-03-01   1.3938\n",
      "2021-03-02   1.3962\n",
      "2021-03-03   1.3978\n",
      "2021-03-04   1.3999\n",
      "2021-03-05   1.3817\n",
      "\n",
      "[1299 rows x 1 columns]\n"
     ]
    },
    {
     "data": {
      "text/plain": [
       "pandas.core.frame.DataFrame"
      ]
     },
     "execution_count": 27,
     "metadata": {},
     "output_type": "execute_result"
    }
   ],
   "source": [
    "import pandas_datareader.data as web\n",
    "USUKrates=web.DataReader('DEXUSUK', 'fred')\n",
    "print(USUKrates)\n",
    "type(USUKrates)"
   ]
  },
  {
   "cell_type": "markdown",
   "metadata": {},
   "source": [
    "The result of this operation is a currency exchange table stored in a DataFrame. The DataFrame comes with many useful methods; for example, the data in a DataFrame can easily be plotted by simply using the method `.plot()`, and we can ask for a simple description using `.describe()`"
   ]
  },
  {
   "cell_type": "code",
   "execution_count": 28,
   "metadata": {},
   "outputs": [
    {
     "data": {
      "image/png": "[encoded data removed]",
      "text/plain": [
       "<Figure size 432x288 with 1 Axes>"
      ]
     },
     "metadata": {
      "needs_background": "light"
     },
     "output_type": "display_data"
    },
    {
     "name": "stdout",
     "output_type": "stream",
     "text": [
      "           DEXUSUK\n",
      "count  1241.000000\n",
      "mean      1.305649\n",
      "std       0.057355\n",
      "min       1.149200\n",
      "25%       1.267400\n",
      "50%       1.300700\n",
      "75%       1.328500\n",
      "max       1.480000\n"
     ]
    }
   ],
   "source": [
    "USUKrates.plot()\n",
    "plt.show()\n",
    "print(USUKrates.describe())"
   ]
  },
  {
   "cell_type": "markdown",
   "metadata": {},
   "source": [
    "Data obtained like this is not necessarily 'clean'. For example, you see a few gaps/jumps in the plot above due to a few NaN's (not a number), presumably because data was not available on certain dates. Let's clean it up (remove the NaN's) and smooth it by computing a moving average (i.e. the average over $n$ consecutive data points)."
   ]
  },
  {
   "cell_type": "code",
   "execution_count": 29,
   "metadata": {},
   "outputs": [
    {
     "data": {
      "image/png": "[encoded data removed]",
      "text/plain": [
       "<Figure size 432x288 with 1 Axes>"
      ]
     },
     "metadata": {
      "needs_background": "light"
     },
     "output_type": "display_data"
    }
   ],
   "source": [
    "USUKratesClean=USUKrates.copy().dropna()\n",
    "USUKratesClean['moving average']=USUKratesClean['DEXUSUK'].rolling(window=60).mean()\n",
    "USUKratesClean.plot()\n",
    "plt.show()"
   ]
  },
  {
   "cell_type": "markdown",
   "metadata": {},
   "source": [
    "### DataFrames"
   ]
  },
  {
   "cell_type": "markdown",
   "metadata": {},
   "source": [
    "So what precisely is a DataFrame object? It is essentially a two-dimensional spreadsheet just as in Excel, i.e. it is an array with row and column labels. Lets look at our example. We use `.head()` and `.tail()` to look at the beginning and end of the DataFrame. (Note that `.tail()` conveniently prints out the column labels.)"
   ]
  },
  {
   "cell_type": "code",
   "execution_count": 30,
   "metadata": {},
   "outputs": [
    {
     "name": "stdout",
     "output_type": "stream",
     "text": [
      "            DEXUSUK  moving average\n",
      "DATE                               \n",
      "2016-03-15   1.4166             NaN\n",
      "2016-03-16   1.4100             NaN\n",
      "2016-03-17   1.4490             NaN\n",
      "2016-03-18   1.4514             NaN\n",
      "2016-03-21   1.4402             NaN\n",
      "\n",
      "            DEXUSUK  moving average\n",
      "DATE                               \n",
      "2021-03-01   1.3938        1.364025\n",
      "2021-03-02   1.3962        1.365065\n",
      "2021-03-03   1.3978        1.366042\n",
      "2021-03-04   1.3999        1.367127\n",
      "2021-03-05   1.3817        1.367662\n"
     ]
    }
   ],
   "source": [
    "print(USUKratesClean.head())\n",
    "print()\n",
    "print(USUKratesClean.tail())"
   ]
  },
  {
   "cell_type": "markdown",
   "metadata": {},
   "source": [
    "We already encountered `.describe()` above. But now we have two data columns."
   ]
  },
  {
   "cell_type": "code",
   "execution_count": 31,
   "metadata": {},
   "outputs": [
    {
     "name": "stdout",
     "output_type": "stream",
     "text": [
      "           DEXUSUK  moving average\n",
      "count  1241.000000     1182.000000\n",
      "mean      1.305649        1.300637\n",
      "std       0.057355        0.047553\n",
      "min       1.149200        1.228577\n",
      "25%       1.267400        1.265567\n",
      "50%       1.300700        1.298109\n",
      "75%       1.328500        1.320588\n",
      "max       1.480000        1.442542\n"
     ]
    }
   ],
   "source": [
    "print(USUKratesClean.describe())"
   ]
  },
  {
   "cell_type": "markdown",
   "metadata": {},
   "source": [
    "Lets look at the column and row labels. The methods `.columns` and `.index` give out these labels and also provide other detailed information."
   ]
  },
  {
   "cell_type": "code",
   "execution_count": 32,
   "metadata": {},
   "outputs": [
    {
     "name": "stdout",
     "output_type": "stream",
     "text": [
      "Index(['DEXUSUK', 'moving average'], dtype='object')\n"
     ]
    }
   ],
   "source": [
    "print(USUKratesClean.columns)"
   ]
  },
  {
   "cell_type": "code",
   "execution_count": 33,
   "metadata": {},
   "outputs": [
    {
     "name": "stdout",
     "output_type": "stream",
     "text": [
      "DatetimeIndex(['2016-03-15', '2016-03-16', '2016-03-17', '2016-03-18',\n",
      "               '2016-03-21', '2016-03-22', '2016-03-23', '2016-03-24',\n",
      "               '2016-03-25', '2016-03-28',\n",
      "               ...\n",
      "               '2021-02-22', '2021-02-23', '2021-02-24', '2021-02-25',\n",
      "               '2021-02-26', '2021-03-01', '2021-03-02', '2021-03-03',\n",
      "               '2021-03-04', '2021-03-05'],\n",
      "              dtype='datetime64[ns]', name='DATE', length=1241, freq=None)\n"
     ]
    }
   ],
   "source": [
    "print(USUKratesClean.index)"
   ]
  },
  {
   "cell_type": "markdown",
   "metadata": {},
   "source": [
    "### DataFrames and Numpy Arrays"
   ]
  },
  {
   "cell_type": "markdown",
   "metadata": {},
   "source": [
    "DataFrames and Numpy Arrays are integrated. We can convert the content of DataFrames to a numpy array."
   ]
  },
  {
   "cell_type": "code",
   "execution_count": 34,
   "metadata": {},
   "outputs": [
    {
     "name": "stdout",
     "output_type": "stream",
     "text": [
      "[[1.4166            nan]\n",
      " [1.41              nan]\n",
      " [1.449             nan]\n",
      " ...\n",
      " [1.3978     1.36604167]\n",
      " [1.3999     1.36712667]\n",
      " [1.3817     1.36766167]]\n"
     ]
    }
   ],
   "source": [
    "USUKrates_array=USUKratesClean.values\n",
    "print(USUKrates_array)"
   ]
  },
  {
   "cell_type": "markdown",
   "metadata": {},
   "source": [
    "Conversely, we can also create a DataFrame from a numpy array."
   ]
  },
  {
   "cell_type": "code",
   "execution_count": 35,
   "metadata": {},
   "outputs": [
    {
     "name": "stdout",
     "output_type": "stream",
     "text": [
      "        0   1\n",
      "0  1.4166 NaN\n",
      "1  1.4100 NaN\n",
      "2  1.4490 NaN\n",
      "3  1.4514 NaN\n",
      "4  1.4402 NaN\n"
     ]
    }
   ],
   "source": [
    "USUKrates_df=pd.DataFrame(USUKrates_array)\n",
    "print(USUKrates_df.head())"
   ]
  },
  {
   "cell_type": "markdown",
   "metadata": {},
   "source": [
    "Note that indices have been assigned to be row and column labels."
   ]
  },
  {
   "cell_type": "markdown",
   "metadata": {},
   "source": [
    "### DataFrame input/output"
   ]
  },
  {
   "cell_type": "markdown",
   "metadata": {},
   "source": [
    "Finally, DataFrames can be simply loaded from or saved as .csv files."
   ]
  },
  {
   "cell_type": "code",
   "execution_count": 36,
   "metadata": {
    "scrolled": true
   },
   "outputs": [
    {
     "name": "stdout",
     "output_type": "stream",
     "text": [
      "            DATE  DEXUSUK\n",
      "0     2016-03-15   1.4166\n",
      "1     2016-03-16   1.4100\n",
      "2     2016-03-17   1.4490\n",
      "3     2016-03-18   1.4514\n",
      "4     2016-03-21   1.4402\n",
      "...          ...      ...\n",
      "1294  2021-03-01   1.3938\n",
      "1295  2021-03-02   1.3962\n",
      "1296  2021-03-03   1.3978\n",
      "1297  2021-03-04   1.3999\n",
      "1298  2021-03-05   1.3817\n",
      "\n",
      "[1299 rows x 2 columns]\n"
     ]
    }
   ],
   "source": [
    "USUKrates.to_csv('foo.csv')\n",
    "df_test=pd.read_csv('foo.csv')\n",
    "print(df_test)"
   ]
  },
  {
   "cell_type": "markdown",
   "metadata": {},
   "source": [
    "## A current example: real-time Covid-19 data"
   ]
  },
  {
   "cell_type": "markdown",
   "metadata": {},
   "source": [
    "The last year has unfortunately created another time series of data that is currently much more relevant than currency exchange rates. It turns out that up-to-date data are readily available, courtesy of [Johns Hopkins University](https://gisanddata.maps.arcgis.com/apps/opsdashboard/index.html#/bda7594740fd40299423467b48e9ecf6)."
   ]
  },
  {
   "cell_type": "code",
   "execution_count": 37,
   "metadata": {},
   "outputs": [],
   "source": [
    "ConfirmedCases=pd.read_csv('https://raw.githubusercontent.com/CSSEGISandData/COVID-19/master/csse_covid_19_data/csse_covid_19_time_series/time_series_covid19_confirmed_global.csv')\n",
    "Deaths=pd.read_csv('https://raw.githubusercontent.com/CSSEGISandData/COVID-19/master/csse_covid_19_data/csse_covid_19_time_series/time_series_covid19_deaths_global.csv')\n"
   ]
  },
  {
   "cell_type": "markdown",
   "metadata": {},
   "source": [
    "So what does this look like?"
   ]
  },
  {
   "cell_type": "code",
   "execution_count": 38,
   "metadata": {
    "scrolled": false
   },
   "outputs": [
    {
     "data": {
      "text/html": [
       "<div>\n",
       "<style scoped>\n",
       "    .dataframe tbody tr th:only-of-type {\n",
       "        vertical-align: middle;\n",
       "    }\n",
       "\n",
       "    .dataframe tbody tr th {\n",
       "        vertical-align: top;\n",
       "    }\n",
       "\n",
       "    .dataframe thead th {\n",
       "        text-align: right;\n",
       "    }\n",
       "</style>\n",
       "<table border=\"1\" class=\"dataframe\">\n",
       "  <thead>\n",
       "    <tr style=\"text-align: right;\">\n",
       "      <th></th>\n",
       "      <th>Province/State</th>\n",
       "      <th>Country/Region</th>\n",
       "      <th>Lat</th>\n",
       "      <th>Long</th>\n",
       "      <th>1/22/20</th>\n",
       "      <th>1/23/20</th>\n",
       "      <th>1/24/20</th>\n",
       "      <th>1/25/20</th>\n",
       "      <th>1/26/20</th>\n",
       "      <th>1/27/20</th>\n",
       "      <th>...</th>\n",
       "      <th>3/4/21</th>\n",
       "      <th>3/5/21</th>\n",
       "      <th>3/6/21</th>\n",
       "      <th>3/7/21</th>\n",
       "      <th>3/8/21</th>\n",
       "      <th>3/9/21</th>\n",
       "      <th>3/10/21</th>\n",
       "      <th>3/11/21</th>\n",
       "      <th>3/12/21</th>\n",
       "      <th>3/13/21</th>\n",
       "    </tr>\n",
       "  </thead>\n",
       "  <tbody>\n",
       "    <tr>\n",
       "      <th>0</th>\n",
       "      <td>NaN</td>\n",
       "      <td>Afghanistan</td>\n",
       "      <td>33.939110</td>\n",
       "      <td>67.709953</td>\n",
       "      <td>0</td>\n",
       "      <td>0</td>\n",
       "      <td>0</td>\n",
       "      <td>0</td>\n",
       "      <td>0</td>\n",
       "      <td>0</td>\n",
       "      <td>...</td>\n",
       "      <td>2446</td>\n",
       "      <td>2449</td>\n",
       "      <td>2449</td>\n",
       "      <td>2449</td>\n",
       "      <td>2451</td>\n",
       "      <td>2451</td>\n",
       "      <td>2451</td>\n",
       "      <td>2451</td>\n",
       "      <td>2454</td>\n",
       "      <td>2454</td>\n",
       "    </tr>\n",
       "    <tr>\n",
       "      <th>1</th>\n",
       "      <td>NaN</td>\n",
       "      <td>Albania</td>\n",
       "      <td>41.153300</td>\n",
       "      <td>20.168300</td>\n",
       "      <td>0</td>\n",
       "      <td>0</td>\n",
       "      <td>0</td>\n",
       "      <td>0</td>\n",
       "      <td>0</td>\n",
       "      <td>0</td>\n",
       "      <td>...</td>\n",
       "      <td>1876</td>\n",
       "      <td>1897</td>\n",
       "      <td>1918</td>\n",
       "      <td>1939</td>\n",
       "      <td>1956</td>\n",
       "      <td>1969</td>\n",
       "      <td>1986</td>\n",
       "      <td>2002</td>\n",
       "      <td>2018</td>\n",
       "      <td>2030</td>\n",
       "    </tr>\n",
       "    <tr>\n",
       "      <th>2</th>\n",
       "      <td>NaN</td>\n",
       "      <td>Algeria</td>\n",
       "      <td>28.033900</td>\n",
       "      <td>1.659600</td>\n",
       "      <td>0</td>\n",
       "      <td>0</td>\n",
       "      <td>0</td>\n",
       "      <td>0</td>\n",
       "      <td>0</td>\n",
       "      <td>0</td>\n",
       "      <td>...</td>\n",
       "      <td>3002</td>\n",
       "      <td>3007</td>\n",
       "      <td>3010</td>\n",
       "      <td>3013</td>\n",
       "      <td>3018</td>\n",
       "      <td>3022</td>\n",
       "      <td>3026</td>\n",
       "      <td>3028</td>\n",
       "      <td>3031</td>\n",
       "      <td>3034</td>\n",
       "    </tr>\n",
       "    <tr>\n",
       "      <th>3</th>\n",
       "      <td>NaN</td>\n",
       "      <td>Andorra</td>\n",
       "      <td>42.506300</td>\n",
       "      <td>1.521800</td>\n",
       "      <td>0</td>\n",
       "      <td>0</td>\n",
       "      <td>0</td>\n",
       "      <td>0</td>\n",
       "      <td>0</td>\n",
       "      <td>0</td>\n",
       "      <td>...</td>\n",
       "      <td>112</td>\n",
       "      <td>112</td>\n",
       "      <td>112</td>\n",
       "      <td>112</td>\n",
       "      <td>112</td>\n",
       "      <td>112</td>\n",
       "      <td>112</td>\n",
       "      <td>112</td>\n",
       "      <td>112</td>\n",
       "      <td>112</td>\n",
       "    </tr>\n",
       "    <tr>\n",
       "      <th>4</th>\n",
       "      <td>NaN</td>\n",
       "      <td>Angola</td>\n",
       "      <td>-11.202700</td>\n",
       "      <td>17.873900</td>\n",
       "      <td>0</td>\n",
       "      <td>0</td>\n",
       "      <td>0</td>\n",
       "      <td>0</td>\n",
       "      <td>0</td>\n",
       "      <td>0</td>\n",
       "      <td>...</td>\n",
       "      <td>511</td>\n",
       "      <td>511</td>\n",
       "      <td>512</td>\n",
       "      <td>514</td>\n",
       "      <td>515</td>\n",
       "      <td>516</td>\n",
       "      <td>516</td>\n",
       "      <td>517</td>\n",
       "      <td>519</td>\n",
       "      <td>520</td>\n",
       "    </tr>\n",
       "    <tr>\n",
       "      <th>...</th>\n",
       "      <td>...</td>\n",
       "      <td>...</td>\n",
       "      <td>...</td>\n",
       "      <td>...</td>\n",
       "      <td>...</td>\n",
       "      <td>...</td>\n",
       "      <td>...</td>\n",
       "      <td>...</td>\n",
       "      <td>...</td>\n",
       "      <td>...</td>\n",
       "      <td>...</td>\n",
       "      <td>...</td>\n",
       "      <td>...</td>\n",
       "      <td>...</td>\n",
       "      <td>...</td>\n",
       "      <td>...</td>\n",
       "      <td>...</td>\n",
       "      <td>...</td>\n",
       "      <td>...</td>\n",
       "      <td>...</td>\n",
       "      <td>...</td>\n",
       "    </tr>\n",
       "    <tr>\n",
       "      <th>269</th>\n",
       "      <td>NaN</td>\n",
       "      <td>Vietnam</td>\n",
       "      <td>14.058324</td>\n",
       "      <td>108.277199</td>\n",
       "      <td>0</td>\n",
       "      <td>0</td>\n",
       "      <td>0</td>\n",
       "      <td>0</td>\n",
       "      <td>0</td>\n",
       "      <td>0</td>\n",
       "      <td>...</td>\n",
       "      <td>35</td>\n",
       "      <td>35</td>\n",
       "      <td>35</td>\n",
       "      <td>35</td>\n",
       "      <td>35</td>\n",
       "      <td>35</td>\n",
       "      <td>35</td>\n",
       "      <td>35</td>\n",
       "      <td>35</td>\n",
       "      <td>35</td>\n",
       "    </tr>\n",
       "    <tr>\n",
       "      <th>270</th>\n",
       "      <td>NaN</td>\n",
       "      <td>West Bank and Gaza</td>\n",
       "      <td>31.952200</td>\n",
       "      <td>35.233200</td>\n",
       "      <td>0</td>\n",
       "      <td>0</td>\n",
       "      <td>0</td>\n",
       "      <td>0</td>\n",
       "      <td>0</td>\n",
       "      <td>0</td>\n",
       "      <td>...</td>\n",
       "      <td>2091</td>\n",
       "      <td>2110</td>\n",
       "      <td>2127</td>\n",
       "      <td>2140</td>\n",
       "      <td>2157</td>\n",
       "      <td>2170</td>\n",
       "      <td>2193</td>\n",
       "      <td>2211</td>\n",
       "      <td>2228</td>\n",
       "      <td>2255</td>\n",
       "    </tr>\n",
       "    <tr>\n",
       "      <th>271</th>\n",
       "      <td>NaN</td>\n",
       "      <td>Yemen</td>\n",
       "      <td>15.552727</td>\n",
       "      <td>48.516388</td>\n",
       "      <td>0</td>\n",
       "      <td>0</td>\n",
       "      <td>0</td>\n",
       "      <td>0</td>\n",
       "      <td>0</td>\n",
       "      <td>0</td>\n",
       "      <td>...</td>\n",
       "      <td>645</td>\n",
       "      <td>648</td>\n",
       "      <td>650</td>\n",
       "      <td>651</td>\n",
       "      <td>653</td>\n",
       "      <td>654</td>\n",
       "      <td>661</td>\n",
       "      <td>667</td>\n",
       "      <td>679</td>\n",
       "      <td>683</td>\n",
       "    </tr>\n",
       "    <tr>\n",
       "      <th>272</th>\n",
       "      <td>NaN</td>\n",
       "      <td>Zambia</td>\n",
       "      <td>-13.133897</td>\n",
       "      <td>27.849332</td>\n",
       "      <td>0</td>\n",
       "      <td>0</td>\n",
       "      <td>0</td>\n",
       "      <td>0</td>\n",
       "      <td>0</td>\n",
       "      <td>0</td>\n",
       "      <td>...</td>\n",
       "      <td>1109</td>\n",
       "      <td>1113</td>\n",
       "      <td>1116</td>\n",
       "      <td>1124</td>\n",
       "      <td>1132</td>\n",
       "      <td>1137</td>\n",
       "      <td>1140</td>\n",
       "      <td>1148</td>\n",
       "      <td>1149</td>\n",
       "      <td>1153</td>\n",
       "    </tr>\n",
       "    <tr>\n",
       "      <th>273</th>\n",
       "      <td>NaN</td>\n",
       "      <td>Zimbabwe</td>\n",
       "      <td>-19.015438</td>\n",
       "      <td>29.154857</td>\n",
       "      <td>0</td>\n",
       "      <td>0</td>\n",
       "      <td>0</td>\n",
       "      <td>0</td>\n",
       "      <td>0</td>\n",
       "      <td>0</td>\n",
       "      <td>...</td>\n",
       "      <td>1483</td>\n",
       "      <td>1484</td>\n",
       "      <td>1485</td>\n",
       "      <td>1485</td>\n",
       "      <td>1487</td>\n",
       "      <td>1489</td>\n",
       "      <td>1489</td>\n",
       "      <td>1492</td>\n",
       "      <td>1496</td>\n",
       "      <td>1501</td>\n",
       "    </tr>\n",
       "  </tbody>\n",
       "</table>\n",
       "<p>274 rows × 421 columns</p>\n",
       "</div>"
      ],
      "text/plain": [
       "    Province/State      Country/Region        Lat        Long  1/22/20  \\\n",
       "0              NaN         Afghanistan  33.939110   67.709953        0   \n",
       "1              NaN             Albania  41.153300   20.168300        0   \n",
       "2              NaN             Algeria  28.033900    1.659600        0   \n",
       "3              NaN             Andorra  42.506300    1.521800        0   \n",
       "4              NaN              Angola -11.202700   17.873900        0   \n",
       "..             ...                 ...        ...         ...      ...   \n",
       "269            NaN             Vietnam  14.058324  108.277199        0   \n",
       "270            NaN  West Bank and Gaza  31.952200   35.233200        0   \n",
       "271            NaN               Yemen  15.552727   48.516388        0   \n",
       "272            NaN              Zambia -13.133897   27.849332        0   \n",
       "273            NaN            Zimbabwe -19.015438   29.154857        0   \n",
       "\n",
       "     1/23/20  1/24/20  1/25/20  1/26/20  1/27/20  ...  3/4/21  3/5/21  3/6/21  \\\n",
       "0          0        0        0        0        0  ...    2446    2449    2449   \n",
       "1          0        0        0        0        0  ...    1876    1897    1918   \n",
       "2          0        0        0        0        0  ...    3002    3007    3010   \n",
       "3          0        0        0        0        0  ...     112     112     112   \n",
       "4          0        0        0        0        0  ...     511     511     512   \n",
       "..       ...      ...      ...      ...      ...  ...     ...     ...     ...   \n",
       "269        0        0        0        0        0  ...      35      35      35   \n",
       "270        0        0        0        0        0  ...    2091    2110    2127   \n",
       "271        0        0        0        0        0  ...     645     648     650   \n",
       "272        0        0        0        0        0  ...    1109    1113    1116   \n",
       "273        0        0        0        0        0  ...    1483    1484    1485   \n",
       "\n",
       "     3/7/21  3/8/21  3/9/21  3/10/21  3/11/21  3/12/21  3/13/21  \n",
       "0      2449    2451    2451     2451     2451     2454     2454  \n",
       "1      1939    1956    1969     1986     2002     2018     2030  \n",
       "2      3013    3018    3022     3026     3028     3031     3034  \n",
       "3       112     112     112      112      112      112      112  \n",
       "4       514     515     516      516      517      519      520  \n",
       "..      ...     ...     ...      ...      ...      ...      ...  \n",
       "269      35      35      35       35       35       35       35  \n",
       "270    2140    2157    2170     2193     2211     2228     2255  \n",
       "271     651     653     654      661      667      679      683  \n",
       "272    1124    1132    1137     1140     1148     1149     1153  \n",
       "273    1485    1487    1489     1489     1492     1496     1501  \n",
       "\n",
       "[274 rows x 421 columns]"
      ]
     },
     "execution_count": 38,
     "metadata": {},
     "output_type": "execute_result"
    }
   ],
   "source": [
    "Deaths"
   ]
  },
  {
   "cell_type": "markdown",
   "metadata": {},
   "source": [
    "This is broken down by Province/State, which we may not want if we are only interested in countries. Let us sum over the this, drop the location information, and also transpose the data in preparation for plotting."
   ]
  },
  {
   "cell_type": "code",
   "execution_count": 39,
   "metadata": {
    "scrolled": true
   },
   "outputs": [
    {
     "data": {
      "text/html": [
       "<div>\n",
       "<style scoped>\n",
       "    .dataframe tbody tr th:only-of-type {\n",
       "        vertical-align: middle;\n",
       "    }\n",
       "\n",
       "    .dataframe tbody tr th {\n",
       "        vertical-align: top;\n",
       "    }\n",
       "\n",
       "    .dataframe thead th {\n",
       "        text-align: right;\n",
       "    }\n",
       "</style>\n",
       "<table border=\"1\" class=\"dataframe\">\n",
       "  <thead>\n",
       "    <tr style=\"text-align: right;\">\n",
       "      <th>Country/Region</th>\n",
       "      <th>Afghanistan</th>\n",
       "      <th>Albania</th>\n",
       "      <th>Algeria</th>\n",
       "      <th>Andorra</th>\n",
       "      <th>Angola</th>\n",
       "      <th>Antigua and Barbuda</th>\n",
       "      <th>Argentina</th>\n",
       "      <th>Armenia</th>\n",
       "      <th>Australia</th>\n",
       "      <th>Austria</th>\n",
       "      <th>...</th>\n",
       "      <th>United Kingdom</th>\n",
       "      <th>Uruguay</th>\n",
       "      <th>Uzbekistan</th>\n",
       "      <th>Vanuatu</th>\n",
       "      <th>Venezuela</th>\n",
       "      <th>Vietnam</th>\n",
       "      <th>West Bank and Gaza</th>\n",
       "      <th>Yemen</th>\n",
       "      <th>Zambia</th>\n",
       "      <th>Zimbabwe</th>\n",
       "    </tr>\n",
       "  </thead>\n",
       "  <tbody>\n",
       "    <tr>\n",
       "      <th>3/9/21</th>\n",
       "      <td>55876</td>\n",
       "      <td>114209</td>\n",
       "      <td>114543</td>\n",
       "      <td>11089</td>\n",
       "      <td>21114</td>\n",
       "      <td>862</td>\n",
       "      <td>2162001</td>\n",
       "      <td>175198</td>\n",
       "      <td>29074</td>\n",
       "      <td>479391</td>\n",
       "      <td>...</td>\n",
       "      <td>4241858</td>\n",
       "      <td>65527</td>\n",
       "      <td>80247</td>\n",
       "      <td>3</td>\n",
       "      <td>143321</td>\n",
       "      <td>2526</td>\n",
       "      <td>200382</td>\n",
       "      <td>2586</td>\n",
       "      <td>82897</td>\n",
       "      <td>36321</td>\n",
       "    </tr>\n",
       "    <tr>\n",
       "      <th>3/10/21</th>\n",
       "      <td>55894</td>\n",
       "      <td>114840</td>\n",
       "      <td>114681</td>\n",
       "      <td>11130</td>\n",
       "      <td>21161</td>\n",
       "      <td>882</td>\n",
       "      <td>2169694</td>\n",
       "      <td>175538</td>\n",
       "      <td>29090</td>\n",
       "      <td>481919</td>\n",
       "      <td>...</td>\n",
       "      <td>4247879</td>\n",
       "      <td>66484</td>\n",
       "      <td>80268</td>\n",
       "      <td>3</td>\n",
       "      <td>143321</td>\n",
       "      <td>2529</td>\n",
       "      <td>202378</td>\n",
       "      <td>2627</td>\n",
       "      <td>83333</td>\n",
       "      <td>36341</td>\n",
       "    </tr>\n",
       "    <tr>\n",
       "      <th>3/11/21</th>\n",
       "      <td>55917</td>\n",
       "      <td>115442</td>\n",
       "      <td>114851</td>\n",
       "      <td>11130</td>\n",
       "      <td>21205</td>\n",
       "      <td>882</td>\n",
       "      <td>2177898</td>\n",
       "      <td>176286</td>\n",
       "      <td>29102</td>\n",
       "      <td>484916</td>\n",
       "      <td>...</td>\n",
       "      <td>4254714</td>\n",
       "      <td>67717</td>\n",
       "      <td>80392</td>\n",
       "      <td>3</td>\n",
       "      <td>144277</td>\n",
       "      <td>2533</td>\n",
       "      <td>203669</td>\n",
       "      <td>2667</td>\n",
       "      <td>83913</td>\n",
       "      <td>36377</td>\n",
       "    </tr>\n",
       "    <tr>\n",
       "      <th>3/12/21</th>\n",
       "      <td>55959</td>\n",
       "      <td>116123</td>\n",
       "      <td>115008</td>\n",
       "      <td>11199</td>\n",
       "      <td>21265</td>\n",
       "      <td>945</td>\n",
       "      <td>2185747</td>\n",
       "      <td>177104</td>\n",
       "      <td>29112</td>\n",
       "      <td>488042</td>\n",
       "      <td>...</td>\n",
       "      <td>4261398</td>\n",
       "      <td>69074</td>\n",
       "      <td>80392</td>\n",
       "      <td>3</td>\n",
       "      <td>144786</td>\n",
       "      <td>2550</td>\n",
       "      <td>205652</td>\n",
       "      <td>2729</td>\n",
       "      <td>84240</td>\n",
       "      <td>36423</td>\n",
       "    </tr>\n",
       "    <tr>\n",
       "      <th>3/13/21</th>\n",
       "      <td>55959</td>\n",
       "      <td>116821</td>\n",
       "      <td>115143</td>\n",
       "      <td>11228</td>\n",
       "      <td>21323</td>\n",
       "      <td>962</td>\n",
       "      <td>2192025</td>\n",
       "      <td>177899</td>\n",
       "      <td>29117</td>\n",
       "      <td>491065</td>\n",
       "      <td>...</td>\n",
       "      <td>4267015</td>\n",
       "      <td>70133</td>\n",
       "      <td>80481</td>\n",
       "      <td>3</td>\n",
       "      <td>145379</td>\n",
       "      <td>2553</td>\n",
       "      <td>207436</td>\n",
       "      <td>2771</td>\n",
       "      <td>84474</td>\n",
       "      <td>36471</td>\n",
       "    </tr>\n",
       "  </tbody>\n",
       "</table>\n",
       "<p>5 rows × 192 columns</p>\n",
       "</div>"
      ],
      "text/plain": [
       "Country/Region  Afghanistan  Albania  Algeria  Andorra  Angola  \\\n",
       "3/9/21                55876   114209   114543    11089   21114   \n",
       "3/10/21               55894   114840   114681    11130   21161   \n",
       "3/11/21               55917   115442   114851    11130   21205   \n",
       "3/12/21               55959   116123   115008    11199   21265   \n",
       "3/13/21               55959   116821   115143    11228   21323   \n",
       "\n",
       "Country/Region  Antigua and Barbuda  Argentina  Armenia  Australia  Austria  \\\n",
       "3/9/21                          862    2162001   175198      29074   479391   \n",
       "3/10/21                         882    2169694   175538      29090   481919   \n",
       "3/11/21                         882    2177898   176286      29102   484916   \n",
       "3/12/21                         945    2185747   177104      29112   488042   \n",
       "3/13/21                         962    2192025   177899      29117   491065   \n",
       "\n",
       "Country/Region  ...  United Kingdom  Uruguay  Uzbekistan  Vanuatu  Venezuela  \\\n",
       "3/9/21          ...         4241858    65527       80247        3     143321   \n",
       "3/10/21         ...         4247879    66484       80268        3     143321   \n",
       "3/11/21         ...         4254714    67717       80392        3     144277   \n",
       "3/12/21         ...         4261398    69074       80392        3     144786   \n",
       "3/13/21         ...         4267015    70133       80481        3     145379   \n",
       "\n",
       "Country/Region  Vietnam  West Bank and Gaza  Yemen  Zambia  Zimbabwe  \n",
       "3/9/21             2526              200382   2586   82897     36321  \n",
       "3/10/21            2529              202378   2627   83333     36341  \n",
       "3/11/21            2533              203669   2667   83913     36377  \n",
       "3/12/21            2550              205652   2729   84240     36423  \n",
       "3/13/21            2553              207436   2771   84474     36471  \n",
       "\n",
       "[5 rows x 192 columns]"
      ]
     },
     "execution_count": 39,
     "metadata": {},
     "output_type": "execute_result"
    }
   ],
   "source": [
    "def groupedbycountry(df):\n",
    "    dfbycountry=df.groupby(['Country/Region']).sum()\n",
    "    return dfbycountry.drop(columns=['Lat','Long']).T\n",
    "\n",
    "ConfirmedCasesByCountry=groupedbycountry(ConfirmedCases)\n",
    "DeathsByCountry=groupedbycountry(Deaths)\n",
    "#RecoveriesByCountry=groupedbycountry(Recoveries)\n",
    "\n",
    "ConfirmedCasesByCountry.tail()"
   ]
  },
  {
   "cell_type": "markdown",
   "metadata": {},
   "source": [
    "Now we are nearly ready to plot the time series. Let us first look at the combined data for the UK."
   ]
  },
  {
   "cell_type": "code",
   "execution_count": 40,
   "metadata": {
    "scrolled": false
   },
   "outputs": [
    {
     "data": {
      "text/html": [
       "<div>\n",
       "<style scoped>\n",
       "    .dataframe tbody tr th:only-of-type {\n",
       "        vertical-align: middle;\n",
       "    }\n",
       "\n",
       "    .dataframe tbody tr th {\n",
       "        vertical-align: top;\n",
       "    }\n",
       "\n",
       "    .dataframe thead th {\n",
       "        text-align: right;\n",
       "    }\n",
       "</style>\n",
       "<table border=\"1\" class=\"dataframe\">\n",
       "  <thead>\n",
       "    <tr style=\"text-align: right;\">\n",
       "      <th></th>\n",
       "      <th>Confirmed</th>\n",
       "      <th>Deaths</th>\n",
       "    </tr>\n",
       "  </thead>\n",
       "  <tbody>\n",
       "    <tr>\n",
       "      <th>1/22/20</th>\n",
       "      <td>0</td>\n",
       "      <td>0</td>\n",
       "    </tr>\n",
       "    <tr>\n",
       "      <th>1/23/20</th>\n",
       "      <td>0</td>\n",
       "      <td>0</td>\n",
       "    </tr>\n",
       "    <tr>\n",
       "      <th>1/24/20</th>\n",
       "      <td>0</td>\n",
       "      <td>0</td>\n",
       "    </tr>\n",
       "    <tr>\n",
       "      <th>1/25/20</th>\n",
       "      <td>0</td>\n",
       "      <td>0</td>\n",
       "    </tr>\n",
       "    <tr>\n",
       "      <th>1/26/20</th>\n",
       "      <td>0</td>\n",
       "      <td>0</td>\n",
       "    </tr>\n",
       "    <tr>\n",
       "      <th>...</th>\n",
       "      <td>...</td>\n",
       "      <td>...</td>\n",
       "    </tr>\n",
       "    <tr>\n",
       "      <th>3/9/21</th>\n",
       "      <td>4241858</td>\n",
       "      <td>125032</td>\n",
       "    </tr>\n",
       "    <tr>\n",
       "      <th>3/10/21</th>\n",
       "      <td>4247879</td>\n",
       "      <td>125222</td>\n",
       "    </tr>\n",
       "    <tr>\n",
       "      <th>3/11/21</th>\n",
       "      <td>4254714</td>\n",
       "      <td>125403</td>\n",
       "    </tr>\n",
       "    <tr>\n",
       "      <th>3/12/21</th>\n",
       "      <td>4261398</td>\n",
       "      <td>125579</td>\n",
       "    </tr>\n",
       "    <tr>\n",
       "      <th>3/13/21</th>\n",
       "      <td>4267015</td>\n",
       "      <td>125701</td>\n",
       "    </tr>\n",
       "  </tbody>\n",
       "</table>\n",
       "<p>417 rows × 2 columns</p>\n",
       "</div>"
      ],
      "text/plain": [
       "         Confirmed  Deaths\n",
       "1/22/20          0       0\n",
       "1/23/20          0       0\n",
       "1/24/20          0       0\n",
       "1/25/20          0       0\n",
       "1/26/20          0       0\n",
       "...            ...     ...\n",
       "3/9/21     4241858  125032\n",
       "3/10/21    4247879  125222\n",
       "3/11/21    4254714  125403\n",
       "3/12/21    4261398  125579\n",
       "3/13/21    4267015  125701\n",
       "\n",
       "[417 rows x 2 columns]"
      ]
     },
     "execution_count": 40,
     "metadata": {},
     "output_type": "execute_result"
    }
   ],
   "source": [
    "UKdata=ConfirmedCasesByCountry.copy()[['United Kingdom']]\n",
    "UKdata.columns=['Confirmed']\n",
    "UKdata['Deaths']=DeathsByCountry['United Kingdom']\n",
    "UKdata"
   ]
  },
  {
   "cell_type": "markdown",
   "metadata": {},
   "source": [
    "Let us have a look at this."
   ]
  },
  {
   "cell_type": "code",
   "execution_count": 41,
   "metadata": {},
   "outputs": [
    {
     "data": {
      "image/png": "[encoded data removed]",
      "text/plain": [
       "<Figure size 432x288 with 1 Axes>"
      ]
     },
     "metadata": {
      "needs_background": "light"
     },
     "output_type": "display_data"
    }
   ],
   "source": [
    "UKdata.plot()\n",
    "plt.show()"
   ]
  },
  {
   "cell_type": "markdown",
   "metadata": {},
   "source": [
    "A logarithmic scale clearly shows the exponential growth at the beginning."
   ]
  },
  {
   "cell_type": "code",
   "execution_count": 42,
   "metadata": {
    "scrolled": true
   },
   "outputs": [
    {
     "data": {
      "image/png": "[encoded data removed]",
      "text/plain": [
       "<Figure size 432x288 with 1 Axes>"
      ]
     },
     "metadata": {
      "needs_background": "light"
     },
     "output_type": "display_data"
    }
   ],
   "source": [
    "UKdata.plot(logy=True)\n",
    "plt.show()"
   ]
  },
  {
   "cell_type": "markdown",
   "metadata": {},
   "source": [
    "More important are daily changes, which we can get by using `.diff()`."
   ]
  },
  {
   "cell_type": "code",
   "execution_count": 43,
   "metadata": {
    "scrolled": true
   },
   "outputs": [
    {
     "data": {
      "image/png": "[encoded data removed]",
      "text/plain": [
       "<Figure size 432x288 with 1 Axes>"
      ]
     },
     "metadata": {
      "needs_background": "light"
     },
     "output_type": "display_data"
    }
   ],
   "source": [
    "UKdata.diff().plot(logy=True)\n",
    "plt.show()"
   ]
  },
  {
   "cell_type": "markdown",
   "metadata": {},
   "source": [
    "Or maybe we should look at smoothed values across a week (remember `rolling(window=7).mean()` from the financial data)."
   ]
  },
  {
   "cell_type": "code",
   "execution_count": 44,
   "metadata": {
    "scrolled": true
   },
   "outputs": [
    {
     "data": {
      "image/png": "[encoded data removed]",
      "text/plain": [
       "<Figure size 432x288 with 1 Axes>"
      ]
     },
     "metadata": {
      "needs_background": "light"
     },
     "output_type": "display_data"
    }
   ],
   "source": [
    "UKdata.diff().rolling(window=7).mean().plot(logy=True)\n",
    "plt.show()"
   ]
  },
  {
   "cell_type": "markdown",
   "metadata": {},
   "source": [
    "Or just the deaths on a non-logarithmic scale."
   ]
  },
  {
   "cell_type": "code",
   "execution_count": 45,
   "metadata": {},
   "outputs": [
    {
     "data": {
      "image/png": "[encoded data removed]",
      "text/plain": [
       "<Figure size 432x288 with 1 Axes>"
      ]
     },
     "metadata": {
      "needs_background": "light"
     },
     "output_type": "display_data"
    }
   ],
   "source": [
    "UKdata[['Deaths']].diff().rolling(window=7).mean().plot()\n",
    "plt.show()"
   ]
  },
  {
   "cell_type": "markdown",
   "metadata": {},
   "source": [
    "Lets look at just the deaths in some countries with large numbers of infections."
   ]
  },
  {
   "cell_type": "code",
   "execution_count": 46,
   "metadata": {},
   "outputs": [
    {
     "data": {
      "image/png": "[encoded data removed]",
      "text/plain": [
       "<Figure size 432x288 with 1 Axes>"
      ]
     },
     "metadata": {
      "needs_background": "light"
     },
     "output_type": "display_data"
    }
   ],
   "source": [
    "DeathsByCountry[['United Kingdom','US','Mexico','Brazil','India']].plot()\n",
    "plt.show()"
   ]
  },
  {
   "cell_type": "code",
   "execution_count": 47,
   "metadata": {
    "scrolled": false
   },
   "outputs": [
    {
     "data": {
      "image/png": "[encoded data removed]",
      "text/plain": [
       "<Figure size 432x288 with 1 Axes>"
      ]
     },
     "metadata": {
      "needs_background": "light"
     },
     "output_type": "display_data"
    }
   ],
   "source": [
    "DeathsByCountry[['United Kingdom','US','Mexico','Brazil','India']].diff().rolling(window=7).mean().plot()\n",
    "plt.show()"
   ]
  },
  {
   "cell_type": "markdown",
   "metadata": {},
   "source": [
    "Or we may be interested in the worldwide death rate, averaged over a window of 4 weeks."
   ]
  },
  {
   "cell_type": "code",
   "execution_count": 48,
   "metadata": {
    "scrolled": false
   },
   "outputs": [
    {
     "data": {
      "image/png": "[encoded data removed]",
      "text/plain": [
       "<Figure size 432x288 with 1 Axes>"
      ]
     },
     "metadata": {
      "needs_background": "light"
     },
     "output_type": "display_data"
    }
   ],
   "source": [
    "DeathsByCountry.sum(axis=1).diff().rolling(window=28).mean().plot()\n",
    "plt.show()"
   ]
  },
  {
   "cell_type": "markdown",
   "metadata": {},
   "source": [
    "Feel free to explore more yourself - you have the tools now!"
   ]
  },
  {
   "cell_type": "markdown",
   "metadata": {},
   "source": [
    "## Conclusion and Outlook"
   ]
  },
  {
   "cell_type": "markdown",
   "metadata": {},
   "source": [
    "In this lecture we introduced the mechanics of doing input/output with Python and introduced Pandas DataFrames. In the next lecture we will present more applications of Pandas."
   ]
  }
 ],
 "metadata": {
  "kernelspec": {
   "display_name": "Python 3",
   "language": "python",
   "name": "python3"
  },
  "language_info": {
   "codemirror_mode": {
    "name": "ipython",
    "version": 3
   },
   "file_extension": ".py",
   "mimetype": "text/x-python",
   "name": "python",
   "nbconvert_exporter": "python",
   "pygments_lexer": "ipython3",
   "version": "3.8.5"
  }
 },
 "nbformat": 4,
 "nbformat_minor": 2
}
