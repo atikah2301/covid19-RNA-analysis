{
 "cells": [
  {
   "cell_type": "markdown",
   "metadata": {
    "slideshow": {
     "slide_type": "-"
    }
   },
   "source": [
    "# MTH5001 Introduction to Computer Programming - Lecture 11\n",
    "Module organisers Dr Lucas Lacasa and Prof. Thomas Prellberg"
   ]
  },
  {
   "cell_type": "markdown",
   "metadata": {},
   "source": [
    "The last lecture deals with some optional extra material that may come in useful, maybe (?) for the project."
   ]
  },
  {
   "cell_type": "markdown",
   "metadata": {},
   "source": [
    "## Multiple statements in one line?"
   ]
  },
  {
   "cell_type": "markdown",
   "metadata": {},
   "source": [
    "One central feature in Python is that, unlike most some other programming languages, you do not need to separate statements with special characters like semicolons or need to use brackets to indicate code blocks. Let's take some simple Python function:\n",
    "```Python\n",
    "def max(num1, num2):\n",
    "    if num1 > num2:\n",
    "        result = num1\n",
    "    else:\n",
    "        result = num2\n",
    "    return result\n",
    "```\n",
    "As you know, statements are separated by having precisely one statement on each line, and code blocks are structured by indentation. In C, the same code looks as follows:\n",
    "```C\n",
    "int max(int num1, int num2) {\n",
    "   int result;\n",
    "   if (num1 > num2)\n",
    "      result = num1;\n",
    "   else\n",
    "      result = num2;\n",
    "   return result; \n",
    "}\n",
    "```\n",
    "Besides the need to declare variables and their types before using them, in C statements are separated by semicolons, and code blocks containing more than one statement are connected by bracketing. This makes indenting entirely optional; the above code can be written on one single line as follows:\n",
    "```C\n",
    "int max(int num1, int num2) { int result; if (num1 > num2) result = num1; else result = num2; return result; }\n",
    "```\n",
    "or indeed as follows:\n",
    "```C      \n",
    "                  int \n",
    "                 max (\n",
    "               int num1,\n",
    "              int num2) {\n",
    "             int result; if \n",
    "           (num1>num2) result \n",
    "          = num1; else result = \n",
    "          num2; return result;}\n",
    "```"
   ]
  },
  {
   "cell_type": "markdown",
   "metadata": {},
   "source": [
    "While the last example looks just silly (and makes the code very difficult to read), sometimes there is some advantage in having fewer lines of code. Python does allow you to have several statements on a single line *provided there are no nested code blocks*. In that case, statements need to be separated by a semicolon.\n",
    "\n",
    "If you have a code block containing many single statements in sequence, then you can do it. For example,"
   ]
  },
  {
   "cell_type": "code",
   "execution_count": 1,
   "metadata": {},
   "outputs": [
    {
     "name": "stdout",
     "output_type": "stream",
     "text": [
      "1\n",
      "2\n",
      "1+2=3\n"
     ]
    }
   ],
   "source": [
    "a=int(input())\n",
    "b=int(input())\n",
    "c=a+b\n",
    "s=\"{0}+{1}={2}\"\n",
    "print(s.format(a,b,c))"
   ]
  },
  {
   "cell_type": "markdown",
   "metadata": {},
   "source": [
    "is equivalent to"
   ]
  },
  {
   "cell_type": "code",
   "execution_count": 2,
   "metadata": {
    "scrolled": true
   },
   "outputs": [
    {
     "name": "stdout",
     "output_type": "stream",
     "text": [
      "1\n",
      "2\n",
      "1+2=3\n"
     ]
    }
   ],
   "source": [
    "a=int(input()); b=int(input()); c=a+b; s=\"{0}+{1}={2}\"; print(s.format(a,b,c))"
   ]
  },
  {
   "cell_type": "markdown",
   "metadata": {},
   "source": [
    "Moreover, you can combine a code block with the preceding keyword statement (the line ending with a ':'), so that the initial example could be written as follows:"
   ]
  },
  {
   "cell_type": "code",
   "execution_count": 3,
   "metadata": {},
   "outputs": [],
   "source": [
    "def max(num1, num2):\n",
    "    if num1 > num2: result = num1\n",
    "    else: result = num2\n",
    "    return result"
   ]
  },
  {
   "cell_type": "markdown",
   "metadata": {},
   "source": [
    "While slightly more compact than the original, I find this definitely less readable. You will have noticed that throughout the entire module I have refrained from doing these things, as it generally is not necessary and can lead to harder to read code."
   ]
  },
  {
   "cell_type": "markdown",
   "metadata": {},
   "source": [
    "## Inline `if`, or ternary (conditional) operator"
   ]
  },
  {
   "cell_type": "markdown",
   "metadata": {},
   "source": [
    "Sometimes you can simplify if statements in your code by realising that you can use a special Python feature called a ternary operator. This is useful when you want to select one of two values depending on some condition. For example, the function\n",
    "```Python\n",
    "def max(num1, num2):\n",
    "    if num1 > num2:\n",
    "        result = num1\n",
    "    else:\n",
    "        result = num2\n",
    "    return result\n",
    "```\n",
    "above can be written as follows:"
   ]
  },
  {
   "cell_type": "code",
   "execution_count": 4,
   "metadata": {},
   "outputs": [],
   "source": [
    "def max(num1, num2):\n",
    "    result = num1 if num1 > num2 else num2\n",
    "    return result"
   ]
  },
  {
   "cell_type": "markdown",
   "metadata": {},
   "source": [
    "So what is going on? The syntax is\n",
    "```Python\n",
    "value1 if condition else value2\n",
    "```\n",
    "and evaluates to value1 if the condition is true, otherwise it evaluates to value2. Note that there is no assignment made here, this happens after the evaluation is done. In fact, using this construction, we can further simplify our function to be written as follows."
   ]
  },
  {
   "cell_type": "code",
   "execution_count": 5,
   "metadata": {},
   "outputs": [],
   "source": [
    "def max(num1, num2): return num1 if num1 > num2 else num2"
   ]
  },
  {
   "cell_type": "markdown",
   "metadata": {},
   "source": [
    "Nesting the ternary operator can be used to replace if-elif-elif-...-else constructions. Let's assume we want to input a single character and want to change all the lowercase vowels a,e,i,o,u to uppercase A,E,I,O,U, respectively, and change them to X if the character is not a lowercase vowel. We could write this as follows."
   ]
  },
  {
   "cell_type": "code",
   "execution_count": 6,
   "metadata": {
    "scrolled": false
   },
   "outputs": [
    {
     "name": "stdout",
     "output_type": "stream",
     "text": [
      "a\n",
      "A\n"
     ]
    }
   ],
   "source": [
    "c=input()\n",
    "if c==\"a\":\n",
    "    x=\"A\"\n",
    "elif c==\"e\":\n",
    "    x=\"E\"\n",
    "elif c==\"i\":\n",
    "    x=\"I\"\n",
    "elif c==\"o\":\n",
    "    x=\"O\"\n",
    "elif c==\"u\":\n",
    "    x=\"U\"\n",
    "else:\n",
    "    x=\"X\"\n",
    "print(x)"
   ]
  },
  {
   "cell_type": "markdown",
   "metadata": {},
   "source": [
    "The equivalent code, using nesting of ternary operators, works as follows."
   ]
  },
  {
   "cell_type": "code",
   "execution_count": 7,
   "metadata": {
    "scrolled": true
   },
   "outputs": [
    {
     "name": "stdout",
     "output_type": "stream",
     "text": [
      "a\n",
      "A\n"
     ]
    }
   ],
   "source": [
    "c=input()\n",
    "print(\"A\" if c==\"a\" else \"E\" if c==\"e\" else \"I\" if c==\"i\" else \"O\" if c==\"o\" else \"U\" if c==\"u\" else \"X\")"
   ]
  },
  {
   "cell_type": "markdown",
   "metadata": {},
   "source": [
    "As there is no assignment done, this is also immensely useful in list comprehensions. Let's assume we input a string and want to do the encoding for every letter of that string."
   ]
  },
  {
   "cell_type": "code",
   "execution_count": 8,
   "metadata": {
    "scrolled": true
   },
   "outputs": [
    {
     "name": "stdout",
     "output_type": "stream",
     "text": [
      "['X', 'X', 'I', 'X', 'X', 'I', 'X', 'X', 'X', 'O', 'X', 'X', 'O', 'O', 'X', 'X']\n"
     ]
    }
   ],
   "source": [
    "s=\"This is so cool!\"\n",
    "print([\"A\" if c==\"a\" else \"E\" if c==\"e\" else \"I\" if c==\"i\" else \"O\" if c==\"o\" else \"U\" if c==\"u\" else \"X\" for c in s])"
   ]
  },
  {
   "cell_type": "markdown",
   "metadata": {},
   "source": [
    "## Use of `if` as a filter in list comprehensions"
   ]
  },
  {
   "cell_type": "markdown",
   "metadata": {},
   "source": [
    "Finally, I should point out another use of if in list comprehensions, namely as a filter. For example, if we only want to return the vowels, we can do it as follows."
   ]
  },
  {
   "cell_type": "code",
   "execution_count": 9,
   "metadata": {},
   "outputs": [
    {
     "name": "stdout",
     "output_type": "stream",
     "text": [
      "['i', 'i', 'o', 'o', 'o']\n"
     ]
    }
   ],
   "source": [
    "s=\"This is so cool!\"\n",
    "print([c for c in s if c in \"aeiou\"])"
   ]
  },
  {
   "cell_type": "markdown",
   "metadata": {},
   "source": [
    "Note that if we want to do the mapping as well as the filtering, we have to do both, so `if`'s appear before and after the `for`."
   ]
  },
  {
   "cell_type": "code",
   "execution_count": 10,
   "metadata": {
    "scrolled": true
   },
   "outputs": [
    {
     "name": "stdout",
     "output_type": "stream",
     "text": [
      "['I', 'I', 'O', 'O', 'O']\n"
     ]
    }
   ],
   "source": [
    "s=\"This is so cool!\"\n",
    "print([\"A\" if c==\"a\" else \"E\" if c==\"e\" else \"I\" if c==\"i\" else \"O\" if c==\"o\" else \"U\" if c==\"u\" else \"X\" \n",
    "       for c in s if c in \"aeiou\"])"
   ]
  },
  {
   "cell_type": "markdown",
   "metadata": {},
   "source": [
    "Note that this means that we have now seen three *different* uses of `if` in Python:\n",
    "1. conditional statement\n",
    "2. ternary operator\n",
    "3. filter"
   ]
  },
  {
   "cell_type": "markdown",
   "metadata": {},
   "source": [
    "## Dictionaries"
   ]
  },
  {
   "cell_type": "markdown",
   "metadata": {},
   "source": [
    "The above chain construction of if's is not really satisfying if the number of cases becomes large, so you may wonder if there is a better way of coding this, and here is where dictionaries become useful.\n",
    "\n",
    "A dictionary is basically a collection of objects such as a list or tuple, but with the additional property that every entry is paired with a key by which it can be indexed:\n",
    "```python\n",
    "d = {key0: value0, key1: value1, key3: value3, ..., keyn: valuen}\n",
    "```\n",
    "Once a dictionary is defined, the individual entries are accessible by index, so that `d[key1]` gives `value1`.\n",
    "You can add (or update) entries to dictionaries using assignments\n",
    "```python\n",
    "d[newkey]=newvalue\n",
    "```\n",
    "or delete them\n",
    "```python\n",
    "del d[key3]\n",
    "```\n",
    "Finally, we can find out if a key exists in a dictionary using \n",
    "```python\n",
    "key in d\n",
    "```\n",
    "There are many more things you can do with a dictionary, but this will suffice for what I want to show you. "
   ]
  },
  {
   "cell_type": "markdown",
   "metadata": {},
   "source": [
    "Let's see how to write the above vowel substitution\n",
    "```python\n",
    "\"A\" if c==\"a\" else \"E\" if c==\"e\" else \"I\" if c==\"i\" else \"O\" if c==\"o\" else \"U\" if c==\"u\" else \"X\"\n",
    "```\n",
    "with a dictionary, in which we write all the substitution rules (with the exception of the `else \"X\"`):\n",
    "```python\n",
    "dic = {\"a\": \"A\", \"e\": \"E\", \"i\": \"I\", \"o\": \"O\", \"u\": \"U\"}\n",
    "```\n",
    "We can now simply use c as an index\n",
    "```python\n",
    "dic[c]\n",
    "```\n",
    "provided the value of c exists as key in dic. The code is therefore the following:"
   ]
  },
  {
   "cell_type": "code",
   "execution_count": 11,
   "metadata": {},
   "outputs": [
    {
     "name": "stdout",
     "output_type": "stream",
     "text": [
      "a\n",
      "A\n"
     ]
    }
   ],
   "source": [
    "dic = {\"a\": \"A\", \"e\": \"E\", \"i\": \"I\", \"o\": \"O\", \"u\": \"U\"}\n",
    "c=input()\n",
    "print(dic [c] if c in dic else \"X\")"
   ]
  },
  {
   "cell_type": "markdown",
   "metadata": {},
   "source": [
    "The list comprehension from above becomes much more readable, in my opinion. Instead of\n",
    "```python\n",
    "s=\"This is so cool!\"\n",
    "print([\"A\" if c==\"a\" else \"E\" if c==\"e\" else \"I\" if c==\"i\" else \"O\" if c==\"o\" else \"U\" if c==\"u\" else \"X\" for c in s])\n",
    "print([\"A\" if c==\"a\" else \"E\" if c==\"e\" else \"I\" if c==\"i\" else \"O\" if c==\"o\" else \"U\" if c==\"u\" else \"X\" \n",
    "       for c in s if c in \"aeiou\"])\n",
    "```\n",
    "we simply write"
   ]
  },
  {
   "cell_type": "code",
   "execution_count": 12,
   "metadata": {},
   "outputs": [
    {
     "name": "stdout",
     "output_type": "stream",
     "text": [
      "['X', 'X', 'I', 'X', 'X', 'I', 'X', 'X', 'X', 'O', 'X', 'X', 'O', 'O', 'X', 'X']\n",
      "['I', 'I', 'O', 'O', 'O']\n"
     ]
    }
   ],
   "source": [
    "s=\"This is so cool!\"\n",
    "dic = {\"a\": \"A\", \"e\": \"E\", \"i\": \"I\", \"o\": \"O\", \"u\": \"U\"}\n",
    "print([dic[c] if c in dic else \"X\" for c in s])\n",
    "print([dic[c] for c in s if c in dic])"
   ]
  },
  {
   "cell_type": "markdown",
   "metadata": {},
   "source": [
    "There's much more to this, but we're running out of time in this module..."
   ]
  },
  {
   "cell_type": "markdown",
   "metadata": {},
   "source": [
    "## The `*` operator, or \"cool tricks with unpacking\""
   ]
  },
  {
   "cell_type": "markdown",
   "metadata": {},
   "source": [
    "... and I still want to return to one last topic, namely unpacking. You will recall that we have encountered code like\n",
    "```python\n",
    "a,b=[\"first\",\"second\"]\n",
    "```\n",
    "which automatically unpacks the right hand side of the assignment and assigns each item individually. This is quite convenient, and it can be done with all sorts of iterables, such as strings:"
   ]
  },
  {
   "cell_type": "code",
   "execution_count": 13,
   "metadata": {},
   "outputs": [
    {
     "name": "stdout",
     "output_type": "stream",
     "text": [
      "and a n d\n"
     ]
    }
   ],
   "source": [
    "a=\"and\"\n",
    "b,c,d=\"and\"\n",
    "print(a,b,c,d)\n",
    "# b,c=\"and\" # error, number of items needs to match"
   ]
  },
  {
   "cell_type": "markdown",
   "metadata": {},
   "source": [
    "What if we want to do this if the number of items does not match? Here, the `*` operator comes to the rescue:"
   ]
  },
  {
   "cell_type": "code",
   "execution_count": 14,
   "metadata": {},
   "outputs": [
    {
     "name": "stdout",
     "output_type": "stream",
     "text": [
      "[12, 13, 14, 15]\n"
     ]
    }
   ],
   "source": [
    "*a,=(12,13,14,15)\n",
    "print(a)"
   ]
  },
  {
   "cell_type": "markdown",
   "metadata": {},
   "source": [
    "What is happening here? The operator `*` packs all the unpacked items from the right hand side together in a list and assigns that list to `a`. It looks slightly strange because of the trailing comma, but we need to write the left hand side as a tuple to work. Of course we could have achieved the same with\n",
    "```python\n",
    "a=list((12,13,14,15))\n",
    "```\n",
    "but the operator `*` is more versatile: we can add additional variables around the variable marked with `*`, as long as there is only one `*` on the list (otherwise the operation is not well defined)."
   ]
  },
  {
   "cell_type": "code",
   "execution_count": 15,
   "metadata": {
    "scrolled": true
   },
   "outputs": [
    {
     "name": "stdout",
     "output_type": "stream",
     "text": [
      "12 13 [14, 15, 16] 17 18 19\n",
      "12 13 [14] 15 16 17\n",
      "12 13 [] 14 15 16\n"
     ]
    }
   ],
   "source": [
    "a,b,*c,d,e,f=(12,13,14,15,16,17,18,19)\n",
    "print(a,b,c,d,e,f)\n",
    "a,b,*c,d,e,f=(12,13,14,15,16,17)\n",
    "print(a,b,c,d,e,f)\n",
    "a,b,*c,d,e,f=(12,13,14,15,16)\n",
    "print(a,b,c,d,e,f)\n",
    "# a,b,*c,d,e,f=(12,13,14,15) # error, not enough number of items "
   ]
  },
  {
   "cell_type": "markdown",
   "metadata": {},
   "source": [
    "Of course this could also be done with slicing of lists, for example the first statement of the previous code box is equivalent to:"
   ]
  },
  {
   "cell_type": "code",
   "execution_count": 16,
   "metadata": {},
   "outputs": [
    {
     "name": "stdout",
     "output_type": "stream",
     "text": [
      "12 13 [14, 15, 16] 17 18 19\n"
     ]
    }
   ],
   "source": [
    "s=(12,13,14,15,16,17,18,19)\n",
    "a=s[0]; b=s[1]; c=list(s[2:-3]); d=s[-3]; e=s[-2]; f=s[-1]\n",
    "print(a,b,c,d,e,f)"
   ]
  },
  {
   "cell_type": "markdown",
   "metadata": {},
   "source": [
    "Conversely, we can use the `*` operator to merge these variables: \\*c unpacks c into individual items when used on the right hand side:"
   ]
  },
  {
   "cell_type": "code",
   "execution_count": 17,
   "metadata": {
    "scrolled": true
   },
   "outputs": [
    {
     "name": "stdout",
     "output_type": "stream",
     "text": [
      "[12, 13, 14, 15, 16, 17, 18, 19]\n"
     ]
    }
   ],
   "source": [
    "s=[a,b,*c,d,e,f]\n",
    "print(s)"
   ]
  },
  {
   "cell_type": "markdown",
   "metadata": {},
   "source": [
    "### A final application: from list of points to lists of coordinates and back"
   ]
  },
  {
   "cell_type": "markdown",
   "metadata": {},
   "source": [
    "You will have noticed by now that the `*` operator is used in the project when defining the function\n",
    "```python\n",
    "def linear_fit_test(z):\n",
    "    a,b=np.polyfit(*zip(*z), 1)\n",
    "    return a,b\n",
    "```\n",
    "While you don't need to understand this to use it to test your code, we are now in a position to actually explain what is happening here. It has to do with the conversion from a list of points to lists of coordinates, as we will explain now."
   ]
  },
  {
   "cell_type": "markdown",
   "metadata": {},
   "source": [
    "From earlier lectures you will recall that the following conversion was needed when changing beween different representations of points, for example when plotting using matplotlib."
   ]
  },
  {
   "cell_type": "code",
   "execution_count": 18,
   "metadata": {},
   "outputs": [
    {
     "name": "stdout",
     "output_type": "stream",
     "text": [
      "[(0, 10), (3, 16), (-1, 15), (2, -11)]\n",
      "[0, 3, -1, 2] [10, 16, 15, -11]\n",
      "[(0, 10), (3, 16), (-1, 15), (2, -11)]\n"
     ]
    }
   ],
   "source": [
    "points=[(0,10),(3,16),(-1,15),(2,-11)]\n",
    "xcoords=[point[0] for point in points]\n",
    "ycoords=[point[1] for point in points]\n",
    "newpoints=list(zip(xcoords,ycoords))\n",
    "print(points)\n",
    "print(xcoords,ycoords)\n",
    "print(newpoints)"
   ]
  },
  {
   "cell_type": "markdown",
   "metadata": {},
   "source": [
    "We can do the first step more elegantly (and in a more \"pythonic\" way) using the `*` operator:"
   ]
  },
  {
   "cell_type": "code",
   "execution_count": 19,
   "metadata": {
    "scrolled": false
   },
   "outputs": [
    {
     "name": "stdout",
     "output_type": "stream",
     "text": [
      "[0, 3, -1, 2] [10, 16, 15, -11]\n"
     ]
    }
   ],
   "source": [
    "xcoords2,ycoords2=zip(*points)\n",
    "print(xcoords,ycoords)"
   ]
  },
  {
   "cell_type": "markdown",
   "metadata": {},
   "source": [
    "When you hand this over to a function (as done with the `print()` above) you can do the unpacking directly:"
   ]
  },
  {
   "cell_type": "code",
   "execution_count": 20,
   "metadata": {},
   "outputs": [
    {
     "name": "stdout",
     "output_type": "stream",
     "text": [
      "(0, 3, -1, 2) (10, 16, 15, -11)\n"
     ]
    }
   ],
   "source": [
    "print(*zip(*points))"
   ]
  },
  {
   "cell_type": "markdown",
   "metadata": {},
   "source": [
    "Well, ok, this gives you tuples and not lists, so I am simplifying a bit (unpacking the generator depends on context, if you must know). However, this can now be used to transform between both representations by simply repeating the process. Using the above introduced unpacking with `*a,=`, we get"
   ]
  },
  {
   "cell_type": "code",
   "execution_count": 21,
   "metadata": {},
   "outputs": [
    {
     "name": "stdout",
     "output_type": "stream",
     "text": [
      "(0, 10) (3, 16) (-1, 15) (2, -11)\n",
      "(0, 3, -1, 2) (10, 16, 15, -11)\n",
      "(0, 10) (3, 16) (-1, 15) (2, -11)\n",
      "(0, 3, -1, 2) (10, 16, 15, -11)\n"
     ]
    }
   ],
   "source": [
    "print(*points)\n",
    "*coords,=zip(*points)\n",
    "print(*coords)\n",
    "*newpoints,=zip(*coords)\n",
    "print(*newpoints)\n",
    "*newcoords,=zip(*newpoints)\n",
    "print(*newcoords)"
   ]
  },
  {
   "cell_type": "markdown",
   "metadata": {},
   "source": [
    "Alternatively, nesting `*zip()` in a function call such as `print()` looks as follows:"
   ]
  },
  {
   "cell_type": "code",
   "execution_count": 22,
   "metadata": {
    "scrolled": false
   },
   "outputs": [
    {
     "name": "stdout",
     "output_type": "stream",
     "text": [
      "(0, 10) (3, 16) (-1, 15) (2, -11)\n",
      "(0, 3, -1, 2) (10, 16, 15, -11)\n",
      "(0, 10) (3, 16) (-1, 15) (2, -11)\n",
      "(0, 3, -1, 2) (10, 16, 15, -11)\n"
     ]
    }
   ],
   "source": [
    "print(*points)\n",
    "print(*zip(*points))\n",
    "print(*zip(*zip(*points)))\n",
    "print(*zip(*zip(*zip(*points))))"
   ]
  },
  {
   "cell_type": "markdown",
   "metadata": {},
   "source": [
    "This nicely explains the code used in the function\n",
    "```python\n",
    "def linear_fit_test(z):\n",
    "    a,b=np.polyfit(*zip(*z), 1)\n",
    "    return a,b\n",
    "```\n",
    "as `*zip(*z)` simply changes a list of points to lists of coordinates as needed for `np.poly_fit()`.\n",
    "\n",
    "The really cool thing is that you can go back by applying the same operation twice: I conclude with the mathematical observation that `*zip()` acts as an involution."
   ]
  },
  {
   "cell_type": "markdown",
   "metadata": {},
   "source": [
    "## Conclusion"
   ]
  },
  {
   "cell_type": "markdown",
   "metadata": {},
   "source": [
    "That's the end of the lectures. I wish you well for the project."
   ]
  }
 ],
 "metadata": {
  "kernelspec": {
   "display_name": "Python 3",
   "language": "python",
   "name": "python3"
  },
  "language_info": {
   "codemirror_mode": {
    "name": "ipython",
    "version": 3
   },
   "file_extension": ".py",
   "mimetype": "text/x-python",
   "name": "python",
   "nbconvert_exporter": "python",
   "pygments_lexer": "ipython3",
   "version": "3.8.5"
  }
 },
 "nbformat": 4,
 "nbformat_minor": 2
}
