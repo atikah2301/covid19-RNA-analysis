{
 "cells": [
  {
   "cell_type": "markdown",
   "metadata": {
    "slideshow": {
     "slide_type": "-"
    }
   },
   "source": [
    "# MTH5001 Introduction to Computer Programming - Lab 8\n",
    "Dr Lucas Lacasa and Prof. Thomas Prellberg\n",
    "\n",
    "## Exercises"
   ]
  },
  {
   "cell_type": "markdown",
   "metadata": {},
   "source": [
    "While you have seen that `scipy.linalg.solve()` can easily solve systems of linear equations, it is really a black box. In these exercises, we will slowly build up Python Code to enable us to do [Gaussian elimination](https://en.wikipedia.org/wiki/Gaussian_elimination). Having set the Linear Algebra exam in January, you should remember this well. For the coding, we will in particular need the use of the [elementary matrices](https://en.wikipedia.org/wiki/Elementary_matrix#Elementary_row_operations)."
   ]
  },
  {
   "cell_type": "code",
   "execution_count": 1,
   "metadata": {},
   "outputs": [],
   "source": [
    "import numpy as np\n",
    "import scipy.linalg as la"
   ]
  },
  {
   "cell_type": "markdown",
   "metadata": {},
   "source": [
    "### Exercise 1: Implementing Elementary Row Operations"
   ]
  },
  {
   "cell_type": "markdown",
   "metadata": {},
   "source": [
    "We need to code some elementary operations for matrices. Lets write some code that enables us to\n",
    "1. add $k$ times row $j$ to row $i$\n",
    "2. multiply row $i$ by scalar $s$\n",
    "3. switch rows $i$ and $j$\n",
    "\n",
    "Each of these elementary row operations can be coded as a matrix multiplication by an [elementary matrix](https://en.wikipedia.org/wiki/Elementary_matrix#Elementary_row_operations)."
   ]
  },
  {
   "cell_type": "markdown",
   "metadata": {},
   "source": [
    "For example, if $A$ is a $3\\times3$ matrix and we want to add twice row 2 to row 0, then the elementary matrix for this is\n",
    "$$E=\\left[\\begin{matrix}\n",
    "1&0&2\\\\ 0&1&0\\\\ 0&0&1\n",
    "\\end{matrix}\\right]$$\n",
    "Lets verify this for the matrix\n",
    "$$A=\\left[\\begin{matrix}\n",
    "1&1&2\\\\ -1&3&1\\\\ 0&5&2\n",
    "\\end{matrix}\\right]$$"
   ]
  },
  {
   "cell_type": "code",
   "execution_count": 2,
   "metadata": {},
   "outputs": [
    {
     "name": "stdout",
     "output_type": "stream",
     "text": [
      "[[ 1  1  2]\n",
      " [-1  3  1]\n",
      " [ 0  5  2]]\n",
      "\n",
      "[[1 0 2]\n",
      " [0 1 0]\n",
      " [0 0 1]]\n",
      "\n",
      "[[ 1 11  6]\n",
      " [-1  3  1]\n",
      " [ 0  5  2]]\n"
     ]
    }
   ],
   "source": [
    "A=np.array([[1,1,2],[-1,3,1],[0,5,2]])\n",
    "print(A)\n",
    "print()\n",
    "E=np.array([[1,0,2],[0,1,0],[0,0,1]])\n",
    "print(E)\n",
    "print()\n",
    "print(E@A)"
   ]
  },
  {
   "cell_type": "markdown",
   "metadata": {
    "scrolled": true
   },
   "source": [
    "To multiply row 1 by $-3$ is done by\n",
    "$$E=\\left[\\begin{matrix}\n",
    "1&0&0\\\\ 0&-3&0\\\\ 0&0&0\n",
    "\\end{matrix}\\right]$$"
   ]
  },
  {
   "cell_type": "code",
   "execution_count": 3,
   "metadata": {},
   "outputs": [
    {
     "name": "stdout",
     "output_type": "stream",
     "text": [
      "[[ 1  1  2]\n",
      " [-1  3  1]\n",
      " [ 0  5  2]]\n",
      "\n",
      "[[ 1  0  0]\n",
      " [ 0 -3  0]\n",
      " [ 0  0  1]]\n",
      "\n",
      "[[ 1  1  2]\n",
      " [ 3 -9 -3]\n",
      " [ 0  5  2]]\n"
     ]
    }
   ],
   "source": [
    "A=np.array([[1,1,2],[-1,3,1],[0,5,2]])\n",
    "print(A)\n",
    "print()\n",
    "E=np.array([[1,0,0],[0,-3,0],[0,0,1]])\n",
    "print(E)\n",
    "print()\n",
    "print(E@A)"
   ]
  },
  {
   "cell_type": "markdown",
   "metadata": {},
   "source": [
    "And to switch row 1 and row 2 is done with\n",
    "$$E=\\left[\\begin{matrix}\n",
    "1&0&0\\\\ 0&0&1\\\\ 0&1&0\n",
    "\\end{matrix}\\right]$$"
   ]
  },
  {
   "cell_type": "code",
   "execution_count": 4,
   "metadata": {},
   "outputs": [
    {
     "name": "stdout",
     "output_type": "stream",
     "text": [
      "[[ 1  1  2]\n",
      " [-1  3  1]\n",
      " [ 0  5  2]]\n",
      "\n",
      "[[1 0 0]\n",
      " [0 0 1]\n",
      " [0 1 0]]\n",
      "\n",
      "[[ 1  1  2]\n",
      " [ 0  5  2]\n",
      " [-1  3  1]]\n"
     ]
    }
   ],
   "source": [
    "A=np.array([[1,1,2],[-1,3,1],[0,5,2]])\n",
    "print(A)\n",
    "print()\n",
    "E=np.array([[1,0,0],[0,0,1],[0,1,0]])\n",
    "print(E)\n",
    "print()\n",
    "print(E@A)"
   ]
  },
  {
   "cell_type": "markdown",
   "metadata": {},
   "source": [
    "Make sure you understand how the matrices $E$ are determined. In exercises 1.a, 1.b, and 1.c, you should write the appropriate $E$ and compute your answer by multiplying $E$ with the matrix."
   ]
  },
  {
   "cell_type": "markdown",
   "metadata": {},
   "source": [
    "#### Exercise 1.a.: Write a function `add_row(A,s,i,j)` that takes as input parameters a numpy array representing the matrix $A$, a number $s$,  and integers $i$ and $j$ and returns the numpy array resulting from adding $s$ times row $j$ to row $i$.\n",
    "\n",
    "You do not need to check whether the indices $i$ and $j$ are valid, but you should make sure that you get the correct output for $i=j$.\n",
    "\n",
    "For example, adding double the second row to the first row of\n",
    "$$A=\\left[\\begin{matrix}\n",
    "2&1\\\\ 3&4\n",
    "\\end{matrix}\\right]$$\n",
    "gives\n",
    "$$A=\\left[\\begin{matrix}\n",
    "8&9\\\\ 3&4\n",
    "\\end{matrix}\\right]$$"
   ]
  },
  {
   "cell_type": "code",
   "execution_count": null,
   "metadata": {
    "collapsed": true
   },
   "outputs": [],
   "source": []
  },
  {
   "cell_type": "markdown",
   "metadata": {},
   "source": [
    "#### Exercise 1.b.: Write a function `scale_row(A,s,i)` that takes as input parameters a numpy array representing the matrix $A$, a number $s$,  and an integers $i$ and returns the numpy array resulting from multiplying $s$ row $i$ by $s$.\n",
    "\n",
    "You do not need to check whether the indices $i$ and $j$ are valid.\n",
    "\n",
    "For example, multiplying the second row by $-0.5$ for\n",
    "$$A=\\left[\\begin{matrix}\n",
    "2&1\\\\ 3&4\n",
    "\\end{matrix}\\right]$$\n",
    "gives\n",
    "$$A=\\left[\\begin{matrix}\n",
    "2&1\\\\ -1.5&-2\n",
    "\\end{matrix}\\right]$$"
   ]
  },
  {
   "cell_type": "code",
   "execution_count": null,
   "metadata": {
    "collapsed": true
   },
   "outputs": [],
   "source": []
  },
  {
   "cell_type": "markdown",
   "metadata": {},
   "source": [
    "#### Exercise 1.c.: Write a function `switch_rows(A,i,j)` that takes as input parameters a numpy array representing the matrix $A$,  integers $i$ and $j$, and returns the numpy array resulting from switching rows $i$ and $j$.\n",
    "\n",
    "You do not need to check whether the indices $i$ and $j$ are valid, but you should make sure that you get the correct output for $i=j$.\n",
    "\n",
    "For example, switching the first and second rows of \n",
    "$$A=\\left[\\begin{matrix}\n",
    "2&1\\\\ 3&4\n",
    "\\end{matrix}\\right]$$\n",
    "gives\n",
    "$$A=\\left[\\begin{matrix}\n",
    "3&4\\\\ 2&1\n",
    "\\end{matrix}\\right]$$"
   ]
  },
  {
   "cell_type": "code",
   "execution_count": null,
   "metadata": {
    "collapsed": true
   },
   "outputs": [],
   "source": []
  },
  {
   "cell_type": "markdown",
   "metadata": {},
   "source": [
    "### Exercise 2.: Compute an inverse matrix using elementary row operations."
   ]
  },
  {
   "cell_type": "markdown",
   "metadata": {},
   "source": [
    "You should be able to recall how to compute an inverse matrix using elementary row operations. First do it by hand using the three functions defined above."
   ]
  },
  {
   "cell_type": "markdown",
   "metadata": {},
   "source": [
    "To get you started, I'll show you how to augment matrix $A$ by another matrix $M$. This is called stacking, and we didn't cover it in the lecture. To combine two arrays horizontally, you can use `numpy.hstack(A,M)` as follows."
   ]
  },
  {
   "cell_type": "code",
   "execution_count": 5,
   "metadata": {},
   "outputs": [
    {
     "name": "stdout",
     "output_type": "stream",
     "text": [
      "[[ 1  1  2]\n",
      " [-1 -1  1]\n",
      " [ 0  5  2]]\n",
      "\n",
      "[[1. 0. 0.]\n",
      " [0. 1. 0.]\n",
      " [0. 0. 1.]]\n",
      "\n",
      "[[ 1.  1.  2.  1.  0.  0.]\n",
      " [-1. -1.  1.  0.  1.  0.]\n",
      " [ 0.  5.  2.  0.  0.  1.]]\n"
     ]
    }
   ],
   "source": [
    "A=np.array([[1,1,2],[-1,-1,1],[0,5,2]])\n",
    "print(A)\n",
    "print()\n",
    "M=np.eye(3)\n",
    "print(M)\n",
    "print()\n",
    "AM=np.hstack([A,M])\n",
    "print(AM)"
   ]
  },
  {
   "cell_type": "markdown",
   "metadata": {},
   "source": [
    "I'll show you the steps."
   ]
  },
  {
   "cell_type": "code",
   "execution_count": null,
   "metadata": {
    "collapsed": true
   },
   "outputs": [],
   "source": [
    "AM=add_row(AM,1,1,0)\n",
    "print(AM)"
   ]
  },
  {
   "cell_type": "code",
   "execution_count": null,
   "metadata": {
    "collapsed": true
   },
   "outputs": [],
   "source": [
    "AM=switch_rows(AM,1,2)\n",
    "print(AM)"
   ]
  },
  {
   "cell_type": "code",
   "execution_count": null,
   "metadata": {
    "collapsed": true
   },
   "outputs": [],
   "source": [
    "AM=scale_row(AM,1/5,1)\n",
    "print(AM)"
   ]
  },
  {
   "cell_type": "code",
   "execution_count": null,
   "metadata": {
    "collapsed": true
   },
   "outputs": [],
   "source": [
    "AM=scale_row(AM,1/3,2)\n",
    "print(AM)"
   ]
  },
  {
   "cell_type": "markdown",
   "metadata": {},
   "source": [
    "Now the matrix on the left-hand side is in upper triangular form."
   ]
  },
  {
   "cell_type": "markdown",
   "metadata": {},
   "source": [
    "#### Exercise 2.a.: Continue this process until the left-hand side is an identity matrix."
   ]
  },
  {
   "cell_type": "code",
   "execution_count": null,
   "metadata": {
    "collapsed": true
   },
   "outputs": [],
   "source": []
  },
  {
   "cell_type": "code",
   "execution_count": null,
   "metadata": {
    "collapsed": true
   },
   "outputs": [],
   "source": []
  },
  {
   "cell_type": "code",
   "execution_count": null,
   "metadata": {
    "collapsed": true
   },
   "outputs": [],
   "source": []
  },
  {
   "cell_type": "markdown",
   "metadata": {},
   "source": [
    "#### Exercise 2.b.: Assign the right-hand side matrix to a variable called $M$. Check whether the resulting matrix is the inverse by multiplying $M$ with the original matrix $A$."
   ]
  },
  {
   "cell_type": "code",
   "execution_count": null,
   "metadata": {
    "collapsed": true,
    "scrolled": true
   },
   "outputs": [],
   "source": []
  },
  {
   "cell_type": "markdown",
   "metadata": {},
   "source": [
    "### Exercise 3: Compute the inverse of a Matrix $A$."
   ]
  },
  {
   "cell_type": "markdown",
   "metadata": {},
   "source": [
    "The above manual procedure can be written as an algorithm. I will give you the algorithm and then leave it up to you to turn this into workable Python code. We shall assume that the matrix $A$ is invertible, so we don't need to test for the cases when our algorithm would fail.\n",
    "\n",
    "Note that the algorithm is deliberately kept a bit chatty. This is to train you practice how to teach the computer to do the right steps.\n",
    "\n",
    "1. Construct the augmented matrix.\n",
    "1. Construct the row echelon form: for each row (indexed by $i$): \n",
    "    1. Check if $a_{ii}$ is zero. If it is, find row $j$ below for which $a_{ji}$ is non-zero and switch rows $i$ and $j$ (you can use `switch_rows()`).\n",
    "    1. Scale row $i$ such that $a_{ii}$ becomes one (you can use `scale_row()`).\n",
    "    1. Add multiples of row $i$ to all rows below so that $a_{ji}$ becomes zero (you can use `add_row()`).\n",
    "1. Create zeros above the diagonal: for each row (indexed by $i$):\n",
    "    1. Add multiples of row $i$ to all rows above so that $a_{ji}$ becomes zero (you can use `add_row()`).\n",
    "1. Return the second half of the augmented matrix.\n",
    "\n",
    "Note that this is not the best algorithm. The built-in routines in numpy have matrix inversions that are much more efficient and numerically stable.\n"
   ]
  },
  {
   "cell_type": "markdown",
   "metadata": {},
   "source": [
    "#### Exercise 3.a.: Write a function `inverse_matrix(A)` that computes the inverse of a matrix $A$ using Gauss elimination.\n",
    "\n",
    "You may assume that the matrix is invertible."
   ]
  },
  {
   "cell_type": "code",
   "execution_count": null,
   "metadata": {
    "collapsed": true
   },
   "outputs": [],
   "source": []
  },
  {
   "cell_type": "code",
   "execution_count": null,
   "metadata": {
    "collapsed": true
   },
   "outputs": [],
   "source": []
  },
  {
   "cell_type": "markdown",
   "metadata": {},
   "source": [
    "### Exercise 4.: Compare the spectra of \"random\" matrices."
   ]
  },
  {
   "cell_type": "markdown",
   "metadata": {},
   "source": [
    "Consider a large real-valued matrix with entries randomly chosen from a normal distribution. What can we say about the spectrum of this matrix?"
   ]
  },
  {
   "cell_type": "code",
   "execution_count": 6,
   "metadata": {},
   "outputs": [],
   "source": [
    "N=1000\n",
    "A=np.random.normal(size=(N,N))\n",
    "evals=la.eig(A)[0]\n",
    "#print(evals)"
   ]
  },
  {
   "cell_type": "markdown",
   "metadata": {},
   "source": [
    "Python can easily compute a list of all complex eigenvalues. But can we visualise this?"
   ]
  },
  {
   "cell_type": "code",
   "execution_count": 7,
   "metadata": {},
   "outputs": [
    {
     "data": {
      "image/png": "[encoded data removed]",
      "text/plain": [
       "<Figure size 432x288 with 1 Axes>"
      ]
     },
     "metadata": {
      "needs_background": "light"
     },
     "output_type": "display_data"
    }
   ],
   "source": [
    "import matplotlib.pyplot as plt \n",
    "x=np.real(evals)\n",
    "y=np.imag(evals)\n",
    "plt.scatter(x,y)\n",
    "plt.axis('scaled')\n",
    "plt.show()"
   ]
  },
  {
   "cell_type": "markdown",
   "metadata": {},
   "source": [
    "It looks like the eigenvalues are distributed fairly uniformly inside a disk."
   ]
  },
  {
   "cell_type": "markdown",
   "metadata": {},
   "source": [
    "On the other hand, if the matrix is symmetric ($B=B^T$), the eigenvalues are all real."
   ]
  },
  {
   "cell_type": "code",
   "execution_count": 8,
   "metadata": {},
   "outputs": [
    {
     "data": {
      "image/png": "[encoded data removed]",
      "text/plain": [
       "<Figure size 432x288 with 1 Axes>"
      ]
     },
     "metadata": {
      "needs_background": "light"
     },
     "output_type": "display_data"
    }
   ],
   "source": [
    "B=np.random.normal(size=(N,N))\n",
    "for i in range(N):\n",
    "    for j in range(i+1,N):\n",
    "        B[i,j]=B[j,i]\n",
    "evals2=la.eig(B)[0]\n",
    "#print(evals2)\n",
    "x2=np.real(evals2)\n",
    "y2=np.imag(evals2)\n",
    "plt.scatter(x,y,color='blue')\n",
    "plt.scatter(x2,y2,color='red')\n",
    "plt.axis('scaled')\n",
    "plt.show()"
   ]
  },
  {
   "cell_type": "markdown",
   "metadata": {},
   "source": [
    "And as we saw in the lecture, the eigenvalue distribution along the real line could be computed using a histogram."
   ]
  },
  {
   "cell_type": "code",
   "execution_count": 9,
   "metadata": {},
   "outputs": [
    {
     "data": {
      "image/png": "[encoded data removed]",
      "text/plain": [
       "<Figure size 432x288 with 1 Axes>"
      ]
     },
     "metadata": {
      "needs_background": "light"
     },
     "output_type": "display_data"
    }
   ],
   "source": [
    "plt.hist(np.real(evals2), bins=40);\n",
    "plt.xlabel('x')\n",
    "plt.ylabel('count')\n",
    "#plt.axis('scaled')\n",
    "plt.show()"
   ]
  },
  {
   "cell_type": "markdown",
   "metadata": {},
   "source": [
    "You will now look at some other cases."
   ]
  },
  {
   "cell_type": "markdown",
   "metadata": {},
   "source": [
    "#### Exercise 4.a.: Plot the spectrum of a random skew-symmetric matrix ($C=-C^T$) on the same graph as the spectrum of a random symmetric matrix ($B=B^T$) and a random matrix $A$ without symmetry. Describe what you see."
   ]
  },
  {
   "cell_type": "code",
   "execution_count": null,
   "metadata": {
    "collapsed": true
   },
   "outputs": [],
   "source": []
  },
  {
   "cell_type": "markdown",
   "metadata": {},
   "source": [
    "#### Exercise 4.b.: Draw the spectrum of $(A+B)$ and $A+C$. Describe what you see."
   ]
  },
  {
   "cell_type": "code",
   "execution_count": null,
   "metadata": {
    "collapsed": true
   },
   "outputs": [],
   "source": []
  },
  {
   "cell_type": "markdown",
   "metadata": {},
   "source": [
    "#### Exercise 4.c.: Investigate the spectrum of $A A^T$ for a random matrix $A$ without symmetry. Describe what you see."
   ]
  },
  {
   "cell_type": "code",
   "execution_count": null,
   "metadata": {
    "collapsed": true,
    "scrolled": true
   },
   "outputs": [],
   "source": []
  },
  {
   "cell_type": "markdown",
   "metadata": {},
   "source": [
    "## Submit your Jupyter Notebook to QMPLUS"
   ]
  },
  {
   "cell_type": "markdown",
   "metadata": {},
   "source": [
    "Once you are done, save the jupyter notebook and submit it to QMPLUS under Lab Report Week 4."
   ]
  }
 ],
 "metadata": {
  "kernelspec": {
   "display_name": "Python 3",
   "language": "python",
   "name": "python3"
  },
  "language_info": {
   "codemirror_mode": {
    "name": "ipython",
    "version": 3
   },
   "file_extension": ".py",
   "mimetype": "text/x-python",
   "name": "python",
   "nbconvert_exporter": "python",
   "pygments_lexer": "ipython3",
   "version": "3.8.5"
  }
 },
 "nbformat": 4,
 "nbformat_minor": 2
}
