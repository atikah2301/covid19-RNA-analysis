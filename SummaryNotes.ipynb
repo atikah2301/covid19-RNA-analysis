{
 "cells": [
  {
   "cell_type": "markdown",
   "metadata": {},
   "source": [
    "# Week 1 Summary Notes"
   ]
  },
  {
   "cell_type": "markdown",
   "metadata": {},
   "source": [
    "## Calculations"
   ]
  },
  {
   "cell_type": "code",
   "execution_count": null,
   "metadata": {
    "scrolled": false
   },
   "outputs": [],
   "source": [
    "2**3 # indices"
   ]
  },
  {
   "cell_type": "code",
   "execution_count": null,
   "metadata": {},
   "outputs": [],
   "source": [
    "10%3 # modulo"
   ]
  },
  {
   "cell_type": "code",
   "execution_count": null,
   "metadata": {},
   "outputs": [],
   "source": [
    "10//3 # floor division"
   ]
  },
  {
   "cell_type": "code",
   "execution_count": null,
   "metadata": {},
   "outputs": [],
   "source": [
    "1.0e-4 # standard form"
   ]
  },
  {
   "cell_type": "code",
   "execution_count": null,
   "metadata": {},
   "outputs": [],
   "source": [
    "complex(3,1) # complex numbers\n",
    "(3+1j) # note: 1j, not j"
   ]
  },
  {
   "cell_type": "code",
   "execution_count": null,
   "metadata": {},
   "outputs": [],
   "source": [
    "import numpy as np\n",
    "np.prod([1,3,5]) # products"
   ]
  },
  {
   "cell_type": "code",
   "execution_count": null,
   "metadata": {},
   "outputs": [],
   "source": [
    "sum(1,3,5)"
   ]
  },
  {
   "cell_type": "markdown",
   "metadata": {},
   "source": [
    "Calculations with small numbers\n",
    "* since floats in python are 16 digit numbers, we can't divide by a number with more than 16 distinct consecutive digits\n",
    "* i.e., we can only use numbers which can be written in standard form, where the mantissa is at most 16 digits long\n",
    "* if we attempt to use these detailed numbers, python will round them"
   ]
  },
  {
   "cell_type": "code",
   "execution_count": 22,
   "metadata": {},
   "outputs": [
    {
     "data": {
      "text/plain": [
       "1.2"
      ]
     },
     "execution_count": 22,
     "metadata": {},
     "output_type": "execute_result"
    }
   ],
   "source": [
    "1.200000000000000000001"
   ]
  },
  {
   "cell_type": "markdown",
   "metadata": {},
   "source": [
    "## Libraries: _math_, _matplotlib_, _numpy_, _sympy_"
   ]
  },
  {
   "cell_type": "code",
   "execution_count": 5,
   "metadata": {},
   "outputs": [
    {
     "name": "stdout",
     "output_type": "stream",
     "text": [
      "3.141592653589793\n"
     ]
    },
    {
     "data": {
      "text/plain": [
       "-1.0"
      ]
     },
     "execution_count": 5,
     "metadata": {},
     "output_type": "execute_result"
    }
   ],
   "source": [
    "import math\n",
    "print(math.pi)\n",
    "math.cos(math.pi)"
   ]
  },
  {
   "cell_type": "markdown",
   "metadata": {},
   "source": [
    "* Import smaller parts of libraries instead of the entire thing in order to speed up the run time of the code using \"libraryname.module\"\n",
    "* Give libraries a nickname using \"as\""
   ]
  },
  {
   "cell_type": "code",
   "execution_count": 42,
   "metadata": {},
   "outputs": [],
   "source": [
    "import matplotlib.pyplot as plt\n",
    "import numpy as np\n",
    "import sympy as sp # for sp.totient()"
   ]
  },
  {
   "cell_type": "markdown",
   "metadata": {},
   "source": [
    "* Different libraries may appear to have the same functions due to those functions having the same name\n",
    "* E.g. math and numpy both have cos()\n",
    "* However, they do not have the samq qualities or features entirely\n",
    "* E.g. math.cos() can't take list inputs but numpy.cos() can"
   ]
  },
  {
   "cell_type": "code",
   "execution_count": 11,
   "metadata": {
    "collapsed": true
   },
   "outputs": [
    {
     "ename": "TypeError",
     "evalue": "must be real number, not list",
     "output_type": "error",
     "traceback": [
      "\u001b[1;31m---------------------------------------------------------------------------\u001b[0m",
      "\u001b[1;31mTypeError\u001b[0m                                 Traceback (most recent call last)",
      "\u001b[1;32m<ipython-input-11-9a0165f935f8>\u001b[0m in \u001b[0;36m<module>\u001b[1;34m\u001b[0m\n\u001b[0;32m      1\u001b[0m \u001b[0mpi_\u001b[0m \u001b[1;33m=\u001b[0m \u001b[0mmath\u001b[0m\u001b[1;33m.\u001b[0m\u001b[0mpi\u001b[0m\u001b[1;33m\u001b[0m\u001b[1;33m\u001b[0m\u001b[0m\n\u001b[1;32m----> 2\u001b[1;33m \u001b[0mmath\u001b[0m\u001b[1;33m.\u001b[0m\u001b[0mcos\u001b[0m\u001b[1;33m(\u001b[0m\u001b[1;33m[\u001b[0m\u001b[1;36m0\u001b[0m\u001b[1;33m,\u001b[0m \u001b[0mpi_\u001b[0m\u001b[1;33m]\u001b[0m\u001b[1;33m)\u001b[0m \u001b[1;31m# produced error \"cos() takes exactly 1 argument\"\u001b[0m\u001b[1;33m\u001b[0m\u001b[1;33m\u001b[0m\u001b[0m\n\u001b[0m",
      "\u001b[1;31mTypeError\u001b[0m: must be real number, not list"
     ]
    }
   ],
   "source": [
    "pi_ = math.pi\n",
    "math.cos(0, pi_) # error \"cos() takes exactly 1 argument\"\n",
    "math.cos([0, pi_]) # error \"TypeError: must be a number, not list\""
   ]
  },
  {
   "cell_type": "code",
   "execution_count": 10,
   "metadata": {},
   "outputs": [
    {
     "data": {
      "text/plain": [
       "array([ 1., -1.])"
      ]
     },
     "execution_count": 10,
     "metadata": {},
     "output_type": "execute_result"
    }
   ],
   "source": [
    "np.cos([0, pi_]) # returns output as an array!"
   ]
  },
  {
   "cell_type": "markdown",
   "metadata": {},
   "source": [
    "* To avoid this type of confusion, it is recommended to **not** import and rename indiviudal functions unless you know the specifics of how it works\n",
    "* E.g. importing pi from math as myPi, to shorten \"math.pi\" to \"myPi\""
   ]
  },
  {
   "cell_type": "code",
   "execution_count": null,
   "metadata": {},
   "outputs": [],
   "source": [
    "from math import pi as myPi "
   ]
  },
  {
   "cell_type": "markdown",
   "metadata": {},
   "source": [
    "#### Differences between _math_ and _numpy_\n",
    "\n",
    "* _numpy_ contains almost everything that _math_ has (except factorial!)\n",
    "* _numpy_, for the most part, extends upon _math_"
   ]
  },
  {
   "cell_type": "markdown",
   "metadata": {},
   "source": [
    "## Basic Plots"
   ]
  },
  {
   "cell_type": "markdown",
   "metadata": {},
   "source": [
    "* [Documentation on ALL plt.plot() attributes](https://matplotlib.org/3.1.1/api/_as_gen/matplotlib.pyplot.plot.html?highlight=plot#matplotlib.pyplot.plot)  \n",
    "* [Plotting a circle](https://moonbooks.org/Articles/How-to-plot-a-circle-in-python-using-matplotlib-/)"
   ]
  },
  {
   "cell_type": "markdown",
   "metadata": {},
   "source": [
    "* Each plot made using matplotlib (plt) starts with a Figure\n",
    "* The Figure keeps track of the Axes, Canvas, and some Artists\n",
    "* Artists are each component of a plot, and are drawn onto the Canvas\n",
    "* Axes is the blank geometric \"space\" in which the plot exists\n",
    " * It contains each axis and sets limits\n",
    "\n"
   ]
  },
  {
   "cell_type": "code",
   "execution_count": 39,
   "metadata": {},
   "outputs": [
    {
     "data": {
      "image/png": "[encoded data removed]",
      "text/plain": [
       "<Figure size 432x288 with 1 Axes>"
      ]
     },
     "metadata": {
      "needs_background": "light"
     },
     "output_type": "display_data"
    }
   ],
   "source": [
    "import matplotlib.pyplot as plt ; import numpy as np\n",
    "# \"get current axes\"\n",
    "# spines are the top, bottom, left, right boundaries of a canvas\n",
    "ax = plt.gca()\n",
    "ax.spines['bottom'].set_position(('data', 0))\n",
    "ax.spines['left'].set_position(('data', 0))\n",
    "ax.spines['right'].set_color('none')\n",
    "ax.spines['top'].set_color('none')\n",
    "\n",
    "# variable x assigned to horizontal axis\n",
    "# np.linspace(lower limit, upper limit x, number of markers for plot)\n",
    "x = np.linspace(-2, 2, 100) \n",
    "y = np.exp(-x**2) * np.cos(2*np.pi*x)\n",
    "plt.ylim([-1.5,1.5])\n",
    "\n",
    "plt.plot(x, y, label='Decaying Cosine',\n",
    "        color='cyan', linestyle='dashed', linewidth=2, alpha=2,\n",
    "        marker='o', markersize='5',\n",
    "        markerfacecolor='white', markeredgecolor='pink')\n",
    "        # alpha = transparency of line\n",
    "    \n",
    "plt.grid(linestyle='--')\n",
    "plt.xlabel('x') \n",
    "plt.ylabel('f (x)')\n",
    "plt.title(\"My Basic Plot\")\n",
    "plt.legend() \n",
    "plt.show()\n"
   ]
  },
  {
   "cell_type": "markdown",
   "metadata": {},
   "source": [
    "##### Implicit or Parametric Plot"
   ]
  },
  {
   "cell_type": "code",
   "execution_count": 41,
   "metadata": {},
   "outputs": [
    {
     "data": {
      "image/png": "[encoded data removed]",
      "text/plain": [
       "<Figure size 432x288 with 1 Axes>"
      ]
     },
     "metadata": {
      "needs_background": "light"
     },
     "output_type": "display_data"
    }
   ],
   "source": [
    "import matplotlib.pyplot as plt ; import numpy as np\n",
    "t = np.linspace(0, 2*np.pi, 100)\n",
    "r = np.sqrt(1.0)\n",
    "x1 = r*np.cos(t)\n",
    "x2 = r*np.sin(t)\n",
    "\n",
    "fig, ax = plt.subplots(1)\n",
    "ax.plot(x1, x2)\n",
    "ax.set_aspect(1)\n",
    "plt.xlim(-1.25,1.25)\n",
    "plt.ylim(-1.25,1.25)\n",
    "plt.show()"
   ]
  },
  {
   "cell_type": "markdown",
   "metadata": {},
   "source": [
    "## Lists, Tuples, Ranges, Arrays, Generators"
   ]
  },
  {
   "cell_type": "markdown",
   "metadata": {},
   "source": [
    "#### Adding lists: concatenation vs element-wise addition\n",
    "\n",
    "Lists can be concatenated using \"+\" but to add lists to each other element-wise, there are [different methods](https://stackoverflow.com/questions/18713321/element-wise-addition-of-2-lists):\n",
    "* Using zip() or map()\n",
    "* Using numpy's arrays, which have vector properties"
   ]
  },
  {
   "cell_type": "code",
   "execution_count": 22,
   "metadata": {},
   "outputs": [
    {
     "data": {
      "text/plain": [
       "[1, 2, 3, 4, 5, 6]"
      ]
     },
     "execution_count": 22,
     "metadata": {},
     "output_type": "execute_result"
    }
   ],
   "source": [
    "x = [1,2,3]; y = [4,5,6]; x + y"
   ]
  },
  {
   "cell_type": "code",
   "execution_count": 7,
   "metadata": {},
   "outputs": [
    {
     "data": {
      "text/plain": [
       "array([5, 7, 9])"
      ]
     },
     "execution_count": 7,
     "metadata": {},
     "output_type": "execute_result"
    }
   ],
   "source": [
    "import numpy as np; x=np.array([1,2,3]); y=np.array([4,5,6]); x+y"
   ]
  },
  {
   "cell_type": "markdown",
   "metadata": {},
   "source": [
    "#### Multiplying Lists"
   ]
  },
  {
   "cell_type": "code",
   "execution_count": 5,
   "metadata": {},
   "outputs": [
    {
     "data": {
      "text/plain": [
       "40"
      ]
     },
     "execution_count": 5,
     "metadata": {},
     "output_type": "execute_result"
    }
   ],
   "source": [
    "import numpy as np; np.prod([1,2,5,4])"
   ]
  },
  {
   "cell_type": "markdown",
   "metadata": {},
   "source": [
    "#### Adding Elements to Lists"
   ]
  },
  {
   "cell_type": "code",
   "execution_count": 6,
   "metadata": {},
   "outputs": [
    {
     "data": {
      "text/plain": [
       "[1, 2, 3, 4, 5]"
      ]
     },
     "execution_count": 6,
     "metadata": {},
     "output_type": "execute_result"
    }
   ],
   "source": [
    "x = [1,2,3,4]; x.append(5); x"
   ]
  },
  {
   "cell_type": "markdown",
   "metadata": {},
   "source": [
    "#### Generating sequences of numbers\n",
    "\n",
    "* Generate a linear sequence easily by converting a range to list\n",
    "* Generate output sequence for any other function by using  \n",
    "\"\\[_expression_ for _variable_ in _iterable_\\]\""
   ]
  },
  {
   "cell_type": "code",
   "execution_count": 4,
   "metadata": {},
   "outputs": [
    {
     "name": "stdout",
     "output_type": "stream",
     "text": [
      "(0, 5, 10, 15, 20, 25, 30, 35, 40, 45, 50, 55, 60, 65, 70, 75)\n"
     ]
    }
   ],
   "source": [
    "print(tuple(range(0,80,5))) # multiples of 5, list converted to tuple"
   ]
  },
  {
   "cell_type": "code",
   "execution_count": 34,
   "metadata": {},
   "outputs": [
    {
     "name": "stdout",
     "output_type": "stream",
     "text": [
      "[0, 1, 4, 9, 16, 25, 36, 49, 64, 81]\n"
     ]
    }
   ],
   "source": [
    "print([x**2 for x in range(0,10)]) # square numbers using a generator"
   ]
  },
  {
   "cell_type": "code",
   "execution_count": 5,
   "metadata": {},
   "outputs": [
    {
     "data": {
      "text/plain": [
       "[0, 2, 8, 18, 32, 50, 72, 98, 128, 162]"
      ]
     },
     "execution_count": 5,
     "metadata": {},
     "output_type": "execute_result"
    }
   ],
   "source": [
    "[2*i for i in [j**2 for j in range(10)]] # generator inside a generator"
   ]
  },
  {
   "cell_type": "code",
   "execution_count": 6,
   "metadata": {},
   "outputs": [
    {
     "name": "stdout",
     "output_type": "stream",
     "text": [
      "range(0, 10)\n"
     ]
    }
   ],
   "source": [
    "print(range(10)) # range on its own is NOT a \"list\", but is an iterable!"
   ]
  },
  {
   "cell_type": "markdown",
   "metadata": {},
   "source": [
    "#### Unpacking\n",
    "\n",
    "You can assign each value from a list, tuple, or array to variables"
   ]
  },
  {
   "cell_type": "code",
   "execution_count": 30,
   "metadata": {},
   "outputs": [
    {
     "name": "stdout",
     "output_type": "stream",
     "text": [
      "('Tuesday', 9)\n"
     ]
    }
   ],
   "source": [
    "today = (\"Tuesday\",2,\"February\",2021)\n",
    "day,date,month,year = today\n",
    "next_week = day, date+7; print(next_week)"
   ]
  },
  {
   "cell_type": "markdown",
   "metadata": {},
   "source": [
    "#### Sequence functions\n",
    "\n"
   ]
  },
  {
   "cell_type": "markdown",
   "metadata": {},
   "source": [
    "| Function | Returns..|\n",
    "|----------|------------|\n",
    "|`max(seq)` or `min(seq)`| max/min value in `sequence`|\n",
    "|`sum(seq)`| int or float sum of all elements in `sequence`|\n",
    "|`len(seq)`| int counting all elements in `sequence`|\n"
   ]
  },
  {
   "cell_type": "markdown",
   "metadata": {},
   "source": [
    "**zip()**: \n",
    "* joins iterables of any type and length together, element-wise\n",
    "* needs to be convered to a specified iterable type e.g. using list()\n",
    "* each new element of the single iterable is a tuple"
   ]
  },
  {
   "cell_type": "code",
   "execution_count": 25,
   "metadata": {},
   "outputs": [
    {
     "name": "stdout",
     "output_type": "stream",
     "text": [
      "[(1, 4), (2, 5), (3, 6)]\n"
     ]
    }
   ],
   "source": [
    "print(list(zip((1,2,3),[4,5,6]))) # zip"
   ]
  },
  {
   "cell_type": "markdown",
   "metadata": {},
   "source": [
    "**reversed()**:\n",
    "* reverses the order of elements in an iterable\n",
    "* needs to be convered to a specified iterable type e.g. using tuple()"
   ]
  },
  {
   "cell_type": "code",
   "execution_count": 24,
   "metadata": {},
   "outputs": [
    {
     "name": "stdout",
     "output_type": "stream",
     "text": [
      "(4, 3, 2, 1)\n"
     ]
    }
   ],
   "source": [
    "print(tuple(reversed([1,2,3,4])))"
   ]
  },
  {
   "cell_type": "markdown",
   "metadata": {},
   "source": [
    "**sorted()**\n",
    "* works on iterables of any type \n",
    "* works on elements of any type"
   ]
  },
  {
   "cell_type": "code",
   "execution_count": 36,
   "metadata": {},
   "outputs": [
    {
     "name": "stdout",
     "output_type": "stream",
     "text": [
      "('apple', 'banana', 'carrot', 'cherry')\n",
      "[5, 6, 7, 8, 10]\n"
     ]
    }
   ],
   "source": [
    "print(tuple(sorted(('apple','carrot','banana', 'cherry')))) # alphabetical\n",
    "print(list(sorted([10,8,5,7,6]))) # numerically ascending"
   ]
  },
  {
   "cell_type": "markdown",
   "metadata": {},
   "source": [
    "**enumerate()**\n",
    "* creates an iterable object of tuples pairing each element to a number\n",
    "* could be useful when working with dictionaries, to use as keys"
   ]
  },
  {
   "cell_type": "code",
   "execution_count": 1,
   "metadata": {},
   "outputs": [
    {
     "name": "stdout",
     "output_type": "stream",
     "text": [
      "{0: 'apple', 1: 'carrot', 2: 'banana', 3: 'cherry'}\n"
     ]
    }
   ],
   "source": [
    "print(dict(enumerate(['apple','carrot','banana', 'cherry'])))"
   ]
  },
  {
   "cell_type": "markdown",
   "metadata": {},
   "source": [
    "## Useful functions and commands"
   ]
  },
  {
   "cell_type": "markdown",
   "metadata": {},
   "source": [
    "| Function | Returns..|\n",
    "|----------|------------|\n",
    "|`abs(x)`|\tabsolute value of `x` (or magnitude if `x` is complex)|\n",
    "|`type(x)`|\tdata type of `x` as its class (use print() or str() to display clearly)|"
   ]
  },
  {
   "cell_type": "code",
   "execution_count": 7,
   "metadata": {
    "collapsed": true
   },
   "outputs": [
    {
     "name": "stdout",
     "output_type": "stream",
     "text": [
      "Variable   Type      Data/Info\n",
      "------------------------------\n",
      "math       module    <module 'math' (built-in)>\n"
     ]
    }
   ],
   "source": [
    "# display all variables\n",
    "whos"
   ]
  },
  {
   "cell_type": "markdown",
   "metadata": {},
   "source": [
    "* When defining a new function, use triple quotes to add documentation notes\n",
    "* Use ? to access the documentation of any function"
   ]
  },
  {
   "cell_type": "code",
   "execution_count": 1,
   "metadata": {},
   "outputs": [],
   "source": [
    "def average(x):\n",
    "    \"\"\"Compute average of sequence x\n",
    "    Paramters: x, any iterable with numerical values\n",
    "    Returns: the numerical mean\"\"\"\n",
    "    x_sum=sum(x); x_len=len(x); return x_sum/x_len\n",
    "\n",
    "?average"
   ]
  },
  {
   "cell_type": "markdown",
   "metadata": {},
   "source": [
    "##### Lambda Functions \n",
    "* aka Anonymous Functions, since they don't need a name\n",
    "* instead of defining a function, then calling it, do it one step!\n",
    "* is also an alternative way of defining functions as usual"
   ]
  },
  {
   "cell_type": "code",
   "execution_count": 4,
   "metadata": {},
   "outputs": [
    {
     "data": {
      "text/plain": [
       "9"
      ]
     },
     "execution_count": 4,
     "metadata": {},
     "output_type": "execute_result"
    }
   ],
   "source": [
    "(lambda x: x**2)(3)"
   ]
  },
  {
   "cell_type": "code",
   "execution_count": 3,
   "metadata": {},
   "outputs": [
    {
     "data": {
      "text/plain": [
       "9"
      ]
     },
     "execution_count": 3,
     "metadata": {},
     "output_type": "execute_result"
    }
   ],
   "source": [
    "f = lambda x: x**2\n",
    "f(3)"
   ]
  },
  {
   "cell_type": "markdown",
   "metadata": {},
   "source": [
    "## Logic\n",
    "\n",
    "* loops (while) and conditional statements (if) encapsulate code that is only run following a \"true\" boolean value\n",
    "* the expression to be evaluated can come in many forms\n",
    "* for example, 0, 0.0, [], \"\" are evaluted as \"false\"\n",
    "* so the statement \"while x:\" means \"while x is not 0\" where x is a number"
   ]
  },
  {
   "cell_type": "markdown",
   "metadata": {},
   "source": [
    "## Loops\n",
    "\n",
    "##### For Loops\n",
    "* list comprehension types are for constructing lists in one line\n",
    "* ordinary for loops use a counter variable and iterate a finite amount\n",
    "* they iterate over the elements of an iterable, e.g. string or range\n",
    "* unlike list comps., variables including the counter are GLOBAL variables, not local, so they can be accesses outside of the loop\n"
   ]
  },
  {
   "cell_type": "code",
   "execution_count": 3,
   "metadata": {},
   "outputs": [
    {
     "name": "stdout",
     "output_type": "stream",
     "text": [
      "7 9\n"
     ]
    }
   ],
   "source": [
    "for i in range(8): # counter variable, i\n",
    "    k=i+2 # another variable\n",
    "print(i,k) # both accessible outside of loop!"
   ]
  },
  {
   "cell_type": "markdown",
   "metadata": {},
   "source": [
    "##### While Loops\n",
    "* can be used as a for loop if needed (just requires more code)\n",
    "* if the expression evaluates to True in all cases, then loop is infinite"
   ]
  }
 ],
 "metadata": {
  "kernelspec": {
   "display_name": "Python 3",
   "language": "python",
   "name": "python3"
  },
  "language_info": {
   "codemirror_mode": {
    "name": "ipython",
    "version": 3
   },
   "file_extension": ".py",
   "mimetype": "text/x-python",
   "name": "python",
   "nbconvert_exporter": "python",
   "pygments_lexer": "ipython3",
   "version": "3.7.3"
  }
 },
 "nbformat": 4,
 "nbformat_minor": 4
}
