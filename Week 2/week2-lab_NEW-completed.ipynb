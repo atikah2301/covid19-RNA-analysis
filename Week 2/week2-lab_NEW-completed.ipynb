{
 "cells": [
  {
   "cell_type": "markdown",
   "metadata": {
    "slideshow": {
     "slide_type": "-"
    }
   },
   "source": [
    "# MTH5001 Introduction to Computer Programming - Lab 2\n",
    "Dr Lucas Lacasa and Prof. Thomas Prellberg"
   ]
  },
  {
   "cell_type": "markdown",
   "metadata": {
    "scrolled": true
   },
   "source": [
    "## Exercises on number manipulation"
   ]
  },
  {
   "cell_type": "markdown",
   "metadata": {},
   "source": [
    "Don't forget to import modules when needed. It's best to use `numpy` instead of `math`. Nearly everything in `math` is also in `numpy`, but `numpy` is more versatile. For example, `math.exp()` does not allow complex numbers, but `numpy.exp()` does."
   ]
  },
  {
   "cell_type": "code",
   "execution_count": 1,
   "metadata": {},
   "outputs": [],
   "source": [
    "import numpy as np"
   ]
  },
  {
   "cell_type": "markdown",
   "metadata": {},
   "source": [
    "### Exercise 1: Compute $\\exp(i\\pi)$."
   ]
  },
  {
   "cell_type": "code",
   "execution_count": 2,
   "metadata": {},
   "outputs": [
    {
     "data": {
      "text/plain": [
       "(-1+1.2246467991473532e-16j)"
      ]
     },
     "execution_count": 2,
     "metadata": {},
     "output_type": "execute_result"
    }
   ],
   "source": [
    "np.exp(1j*np.pi)"
   ]
  },
  {
   "cell_type": "markdown",
   "metadata": {},
   "source": [
    "### Computing numerical Approximations to Numbers and Functions"
   ]
  },
  {
   "cell_type": "markdown",
   "metadata": {},
   "source": [
    "In what follows we will use Python to numerically compute approximations given by finite truncations of infinite series or product expansions, or infinite continued fractions. As an example, I will numerically evaluate the [Taylor Series](http://en.wikipedia.org/wiki/Taylor_series) of $1/(1-x)$, which is given by the geometric series\n",
    "$$1/(1-x)=\\sum_{k=0}^\\infty x^k=1+x+x^2+x^3+\\ldots\\;.$$\n",
    "This series converges for $|x|<1$."
   ]
  },
  {
   "cell_type": "markdown",
   "metadata": {},
   "source": [
    "To compute the Taylor polynomials of degree $5$ and $6$, we need to evaluate $1+x+x^2+x^3+x^4+x^5$ and $1+x+x^2+x^3+x^4+x^5+x^6$ at $x=1/2$. This should be a good approximation to $1/(1-1/2)=2$, which we can compare the result to."
   ]
  },
  {
   "cell_type": "code",
   "execution_count": 3,
   "metadata": {},
   "outputs": [
    {
     "name": "stdout",
     "output_type": "stream",
     "text": [
      "1.96875\n",
      "1.984375\n",
      "2\n"
     ]
    }
   ],
   "source": [
    "print(1+1/2+(1/2)**2+(1/2)**3+(1/2)**4+(1/2)**5)\n",
    "print(1+1/2+(1/2)**2+(1/2)**3+(1/2)**4+(1/2)**5+(1/2)**6)\n",
    "print(2)"
   ]
  },
  {
   "cell_type": "markdown",
   "metadata": {},
   "source": [
    "Using our knowledge of graphical plotting routines from the last exercise sheet, we can also visualise that Taylor polynomials of larger order give better approximations, as long as $|x|<1$."
   ]
  },
  {
   "cell_type": "code",
   "execution_count": 4,
   "metadata": {},
   "outputs": [
    {
     "data": {
      "image/png": "[encoded data removed]",
      "text/plain": [
       "<Figure size 432x288 with 1 Axes>"
      ]
     },
     "metadata": {
      "needs_background": "light"
     },
     "output_type": "display_data"
    }
   ],
   "source": [
    "import matplotlib.pyplot as plt\n",
    "x = np.linspace(-1.1, 1.1, 100)\n",
    "\n",
    "plt.plot(x,1+x+x**2+x**3+x**4,label='degree 4')\n",
    "plt.plot(x,1+x+x**2+x**3+x**4+x**5,label='degree 5')\n",
    "plt.plot(x,1+x+x**2+x**3+x**4+x**5+x**6,label='degree 6')\n",
    "\n",
    "plt.plot(x,1/(1-x),color='black',label='1/(1-x)')\n",
    "\n",
    "plt.ylim([-2,6]); plt.xlabel('x'); plt.ylabel('y')\n",
    "plt.title('Taylor polynomial approximations to 1/(1-x)')\n",
    "plt.legend(); plt.show()"
   ]
  },
  {
   "cell_type": "markdown",
   "metadata": {},
   "source": [
    "### Exercise 2: Compute a Taylor Series"
   ]
  },
  {
   "cell_type": "markdown",
   "metadata": {},
   "source": [
    "The Taylor Series of $\\exp x$ is given by \n",
    "$$\\exp x=\\sum_{k=0}^\\infty\\frac{x^k}{k!}\\;.$$\n",
    "Compute the Taylor polynomials of degree $5$, $6$, and $7$ evaluated at $x=1.5$, and compare the result with $\\exp(1.5)$.\n",
    "\n",
    "Remember that you can use print() to print several results within the same code box."
   ]
  },
  {
   "cell_type": "code",
   "execution_count": 5,
   "metadata": {},
   "outputs": [
    {
     "name": "stdout",
     "output_type": "stream",
     "text": [
      "approximation at degree 5: 4.46171875 \n",
      "\n",
      "approximation at degree 6: 4.4775390625 \n",
      "\n",
      "approximation at degree 7: 4.480929129464286 \n",
      "\n",
      "most precises value of exp(1.5) 4.4816890703380645\n"
     ]
    }
   ],
   "source": [
    "import math; import numpy as np; fact = math.factorial\n",
    "\n",
    "def taylor(x, degree):\n",
    "    return [x**k/fact(k) for k in range(0,degree+1)]\n",
    "a=1.5\n",
    "for i in range(5,8):\n",
    "    print(f\"approximation at degree {i}: {sum(taylor(a, i))} \\n\")\n",
    "\n",
    "print(f\"most precises value of exp({a})\",np.exp(a))"
   ]
  },
  {
   "cell_type": "markdown",
   "metadata": {},
   "source": [
    "For small values of $k$, you can compute $k!$ in your head and enter the result directly into Python. However, Python also provides `math.factorial()` to do it for you (this function is not included in `numpy`). If you need to use `math.factorial()` several times in a formula, the expression becomes quite complicated. So it is helpful to assign `fac=math.factorial`. Do this, and compute $10!$ and $20!$ using `fac(10)` and `fac(20)`."
   ]
  },
  {
   "cell_type": "code",
   "execution_count": 6,
   "metadata": {},
   "outputs": [
    {
     "name": "stdout",
     "output_type": "stream",
     "text": [
      "3628800\n",
      "2432902008176640000\n"
     ]
    }
   ],
   "source": [
    "import math; fac=math.factorial; print(fac(10)); print(fac(20))"
   ]
  },
  {
   "cell_type": "code",
   "execution_count": 7,
   "metadata": {},
   "outputs": [
    {
     "name": "stdout",
     "output_type": "stream",
     "text": [
      "3628800\n",
      "2432902008176640000\n"
     ]
    }
   ],
   "source": [
    "from math import factorial as fac; print(fac(10)); print(fac(20))\n",
    "# not recommended due to confusion with other libraries e.g. numpy"
   ]
  },
  {
   "cell_type": "markdown",
   "metadata": {},
   "source": [
    "Using the factorial function, compute the Taylor polynomials of degree $8$, $9$, and $10$ evaluated at $x=1.5$, $x=2.5$, and $x=1+i$ and compare with the result from the infinite sum. To save you typing, and to make the code more readable, you should assign the value of $x$ using an assignment like `x=1.5`. Remember that you can use `print()` to print several results within the same code box."
   ]
  },
  {
   "cell_type": "code",
   "execution_count": 8,
   "metadata": {},
   "outputs": [
    {
     "name": "stdout",
     "output_type": "stream",
     "text": [
      "approximation at degree 8: 4.48156476702009 \n",
      "\n",
      "approximation at degree 9: 4.481670706612723 \n",
      "\n",
      "approximation at degree 10: 4.481686597551619 \n",
      "\n",
      "   most precise value of exp(1.5): 4.4816890703380645 \n",
      "\n",
      "approximation at degree 8: 12.168602837456596 \n",
      "\n",
      "approximation at degree 9: 12.179115120485767 \n",
      "\n",
      "approximation at degree 10: 12.18174319124306 \n",
      "\n",
      "   most precise value of exp(2.5): 12.182493960703473 \n",
      "\n",
      "approximation at degree 8: (1.4686507936507935+2.2873015873015876j) \n",
      "\n",
      "approximation at degree 9: (1.468694885361552+2.287345679012346j) \n",
      "\n",
      "approximation at degree 10: (1.468694885361552+2.2873544973544977j) \n",
      "\n",
      "   most precise value of exp((1+1j)): (1.4686939399158851+2.2873552871788423j) \n",
      "\n"
     ]
    }
   ],
   "source": [
    "import math; import numpy as np; fact = math.factorial\n",
    "\n",
    "def taylor(x, degree):\n",
    "    return [x**k/fact(k) for k in range(0,degree+1)]\n",
    "\n",
    "def t_approx(a, degree_range_start, degree_range_end):\n",
    "    for i in range(degree_range_start, degree_range_end +1):\n",
    "        print(f\"approximation at degree {i}: {sum(taylor(a, i))} \\n\")\n",
    "    print(f\"   most precise value of exp({a}): {np.exp(a)} \\n\")\n",
    "    \n",
    "t_approx(1.5, 8, 10); t_approx(2.5, 8, 10); t_approx(1+1j, 8, 10)"
   ]
  },
  {
   "cell_type": "markdown",
   "metadata": {},
   "source": [
    "### Exercise 3: Compute the Riemann Zeta Function"
   ]
  },
  {
   "cell_type": "markdown",
   "metadata": {},
   "source": [
    "The [Riemann zeta function](http://en.wikipedia.org/wiki/Riemann_zeta_function) is given by the infinite series\n",
    "$$\\zeta(s)=\\sum_{n=1}^\\infty\\frac1{n^s}\\;.$$\n",
    "$\\zeta(s)$ also can be expressed as an infinite product over all primes,\n",
    "$$\\zeta(s)=\\prod_p\\left(\\frac1{1-p^{-s}}\\right)\\;,$$\n",
    "where the product is over the primes $p=2,3,5,7,11,13,\\ldots$.\n",
    "\n",
    "Using these expressions, compute both the $6$th partial sum and the $6$th partial product for $s=2$ and $s=4$ (i.e. truncate the infinite sum or product after six terms) and compare to the exact values\n",
    "$$\\zeta(2)=\\frac{\\pi^2}6\\;,\\;\\zeta(4)=\\frac{\\pi^4}{90}\\;.$$"
   ]
  },
  {
   "cell_type": "code",
   "execution_count": 9,
   "metadata": {},
   "outputs": [
    {
     "name": "stdout",
     "output_type": "stream",
     "text": [
      "1.4913888888888889\n",
      "1.6179176613136572\n",
      "1.6449340668482264\n",
      "1.0811235339506173\n",
      "1.0822933039823095\n",
      "1.082323233711138\n"
     ]
    }
   ],
   "source": [
    "import numpy as np;\n",
    "\n",
    "def zeta_sum(n,s):\n",
    "    print(sum([1/n**s for n in range(1,n+1)]))\n",
    "\n",
    "def zeta_prod(p,s):\n",
    "    primes = [2,3,5,7,11,13]\n",
    "    print(np.prod([1/(1-p**(-s)) for p in primes[0:p]]))\n",
    "\n",
    "zeta_sum(6,2); zeta_prod(6,2); print(np.pi**2/6) \n",
    "zeta_sum(6,4); zeta_prod(6,4); print(np.pi**4/90) "
   ]
  },
  {
   "cell_type": "markdown",
   "metadata": {},
   "source": [
    "While you may have developed some feeling for infinite series during your studies, infinite products will still feel quite daunting. So I suggest you plot partial products with $4$, $5$, and $6$ factors, and compare to the plot of the Riemann zeta function. This function can be imported from the module `scipy`. I suggest using the code\n",
    "\n",
    "`import scipy.special\n",
    "zeta=scipy.special.zeta`\n",
    "\n",
    "For the plot, I suggest an $x$-range of $[1,5]$ and a $y$-range of $[1,5]$"
   ]
  },
  {
   "cell_type": "code",
   "execution_count": 10,
   "metadata": {},
   "outputs": [
    {
     "data": {
      "image/png": "[encoded data removed]",
      "text/plain": [
       "<Figure size 432x288 with 1 Axes>"
      ]
     },
     "metadata": {
      "needs_background": "light"
     },
     "output_type": "display_data"
    }
   ],
   "source": [
    "import matplotlib.pyplot as plt\n",
    "import numpy as np\n",
    "import scipy.special\n",
    "\n",
    "# function to generate individual zeta approximations\n",
    "def zeta_value(p,s):\n",
    "    primes = [2,3,5,7,11,13]\n",
    "    return np.prod([1/(1-p**(-s)) for p in primes[0:p]])\n",
    "\n",
    "# function to generate and store a list of zeta approximations,\n",
    "# at a fixed value of p, while s varies within the the range of x\n",
    "def zeta_p(p,x):\n",
    "    arr = []\n",
    "    for i in x:\n",
    "        value = zeta_value(p,i)\n",
    "        arr.append(value)\n",
    "    return np.array(arr) # create an array with same dimensions as x\n",
    "\n",
    "x = np.linspace(1,5,100)\n",
    "zeta = scipy.special.zeta\n",
    "\n",
    "plt.plot(x,zeta(x),label='Zeta',color='red', lw=1)\n",
    "plt.plot(x,zeta_p(6,x),label='6 Factors',color='orange', lw=0.75)\n",
    "plt.plot(x,zeta_p(5,x),label='5 Factors',color='green', lw=0.75)\n",
    "plt.plot(x,zeta_p(4,x),label='4 Factors',color='purple', lw=0.75)\n",
    "\n",
    "plt.ylim([1,5]);plt.legend();plt.show()"
   ]
  },
  {
   "cell_type": "markdown",
   "metadata": {},
   "source": [
    "### Exercise 4: Continued Fraction"
   ]
  },
  {
   "cell_type": "markdown",
   "metadata": {},
   "source": [
    "The golden ratio $\\rho=\\frac{1+\\sqrt5}2$ is given by\n",
    "$$\\rho=1+\\cfrac1{1+\\cfrac1{1+\\cfrac1{1+\\cfrac1{1+\\ldots}}}}\\;.$$\n",
    "To approximate $\\rho$, compute the partial continued fraction\n",
    "$$1+\\cfrac1{1+\\cfrac1{1+\\cfrac1{1+\\cfrac1{1+\\cfrac11}}}}$$\n",
    "and compare with the exact value."
   ]
  },
  {
   "cell_type": "code",
   "execution_count": 11,
   "metadata": {},
   "outputs": [
    {
     "name": "stdout",
     "output_type": "stream",
     "text": [
      "calculate nth convergent, n=5\n",
      "exactl value: 1.618033988749895\n",
      "approximation: 1.625\n",
      "difference: 0.0069660112501050975\n"
     ]
    }
   ],
   "source": [
    "import numpy as np\n",
    "rho = (1+np.sqrt(5))/2\n",
    "\n",
    "# convergents are constructed by fibonacci numbers\n",
    "def fib(n):\n",
    "    if n==1 or n==2:\n",
    "        return 1\n",
    "    else:\n",
    "        x_1 = 1\n",
    "        x_2 = 1\n",
    "        for i in range(n-2):\n",
    "            x_3 = x_1 + x_2\n",
    "            x_1 = x_2\n",
    "            x_2 = x_3\n",
    "        return x_3\n",
    "\n",
    "def convergent(n): # includes 0, n = number of fractions\n",
    "    return fib(n+2)/fib(n+1)\n",
    "\n",
    "a = int(input(\"calculate nth convergent, n=\")) # in this case, 5\n",
    "print(f\"exactl value: {rho}\")\n",
    "print(f\"approximation: {convergent(a)}\")\n",
    "print(f\"difference: {abs(rho-convergent(a))}\")"
   ]
  },
  {
   "cell_type": "markdown",
   "metadata": {},
   "source": [
    "**Advanced:** Now extend this calculation to estimate\n",
    "$$f(x)=x+\\cfrac1{x+\\cfrac1{x+\\cfrac1{x+\\cfrac1{x+\\ldots}}}}\\;.$$\n",
    "Can you guess what the exact result is for $x=2$ and $x=4$?"
   ]
  },
  {
   "cell_type": "code",
   "execution_count": 13,
   "metadata": {},
   "outputs": [
    {
     "name": "stdout",
     "output_type": "stream",
     "text": [
      "x=2\n",
      "n=4\n"
     ]
    },
    {
     "data": {
      "text/plain": [
       "2.413793103448276"
      ]
     },
     "execution_count": 13,
     "metadata": {},
     "output_type": "execute_result"
    }
   ],
   "source": [
    "import numpy as np\n",
    "# calculate approximations to infinite continuted fractions\n",
    "# of the form [x:x,x,x...]\n",
    "\n",
    "# fib_ext(2,n) = 1,2,5,12,29,\n",
    "# fib_ext(4,n) = 1,4,17,72,305\n",
    "def fib_ext(x,n):\n",
    "    if n==1:\n",
    "        return 1\n",
    "    if n==2:\n",
    "        return x\n",
    "    else:\n",
    "        x_1 = 1\n",
    "        x_2 = x\n",
    "        for i in range(n-2):\n",
    "            x_3 = x_1 + x*x_2\n",
    "            x_1 = x_2\n",
    "            x_2 = x_3\n",
    "        return x_3\n",
    "\n",
    "def converg(): # includes 0, n = number of fractions\n",
    "    x = int(input(\"x=\"))\n",
    "    n = int(input(\"n=\"))\n",
    "    return fib_ext(x,n+2)/fib_ext(x,n+1)\n",
    "\n",
    "converg()\n",
    "# when x=4, 1000th convergent is 4.23606797749979\n",
    "# when x=2, 1000th convergent is 2.414213562373095"
   ]
  },
  {
   "cell_type": "markdown",
   "metadata": {},
   "source": [
    "## Exercises related to week 2 (sequences)"
   ]
  },
  {
   "cell_type": "markdown",
   "metadata": {},
   "source": [
    "### Exercise 1: Some simple finite sums over the integers\n",
    "\n",
    "In line with the content of the last lecture, we will first construct some simple sequences with the aim of summing these and using this to discover some nice numerical patterns.\n",
    "\n",
    "As an example of what I have in mind, lets construct sequences of the first $n$ odd numbers for various values of $n$. The easiest way is to simply use the range object to create a list with entries starting at $1$ and increasing by $2$ and ending when the entries get larger than $2n-1$.\n"
   ]
  },
  {
   "cell_type": "code",
   "execution_count": null,
   "metadata": {},
   "outputs": [],
   "source": [
    "n=15\n",
    "list1=list(range(1,2*n,2))\n",
    "print(list1)\n",
    "print(len(list1))"
   ]
  },
  {
   "cell_type": "markdown",
   "metadata": {},
   "source": [
    "An alternative is to use list comprehension, which easily generalises to other cases where we have an explicit formula for computing the $k$-th list entry. In this case, using the formula $f(k)=2k+1$ generates the odd numbers $1,3,5,\\ldots$  for $k=0,1,2,\\ldots$."
   ]
  },
  {
   "cell_type": "code",
   "execution_count": null,
   "metadata": {},
   "outputs": [],
   "source": [
    "n=15\n",
    "print([2*k+1 for k in range(n)])"
   ]
  },
  {
   "cell_type": "markdown",
   "metadata": {},
   "source": [
    "Now we can add the first $n$ numbers and see if we can find a pattern."
   ]
  },
  {
   "cell_type": "code",
   "execution_count": null,
   "metadata": {},
   "outputs": [],
   "source": [
    "print(sum([2*k+1 for k in range(1)]))\n",
    "print(sum([2*k+1 for k in range(2)]))\n",
    "print(sum([2*k+1 for k in range(3)]))\n",
    "print(sum([2*k+1 for k in range(4)]))"
   ]
  },
  {
   "cell_type": "markdown",
   "metadata": {},
   "source": [
    "This works, but is really cumbersome. How about treating `sum([2*k+1 for k in range(n)])` as a formula for generating another list? **Please make sure you study the next line thoroughly until you really understand what is going on here.** For example, notice that each element of the resulting list is the sum of another list."
   ]
  },
  {
   "cell_type": "code",
   "execution_count": null,
   "metadata": {},
   "outputs": [],
   "source": [
    "print([sum([2*k+1 for k in range(n)]) for n in range(20)])"
   ]
  },
  {
   "cell_type": "markdown",
   "metadata": {},
   "source": [
    "Do you recognise a pattern? The numbers in this list are all squares, so we should compare this with a list of the first 20 squares to confirm that we have a match."
   ]
  },
  {
   "cell_type": "code",
   "execution_count": null,
   "metadata": {},
   "outputs": [],
   "source": [
    "print([n**2 for n in range(20)])"
   ]
  },
  {
   "cell_type": "markdown",
   "metadata": {},
   "source": [
    "#### Exercise 1.a: Generate a list of the first $n$ numbers of the form $3k(k+1)+1$ for $n=15$ and $n=20$.\n"
   ]
  },
  {
   "cell_type": "code",
   "execution_count": 14,
   "metadata": {},
   "outputs": [
    {
     "name": "stdout",
     "output_type": "stream",
     "text": [
      "[1, 7, 19, 37, 61, 91, 127, 169, 217, 271, 331, 397, 469, 547, 631, 721]\n",
      "[1, 7, 19, 37, 61, 91, 127, 169, 217, 271, 331, 397, 469, 547, 631, 721, 817, 919, 1027, 1141, 1261]\n"
     ]
    }
   ],
   "source": [
    "print([3*k*(k+1)+1 for k in range(15+1)])\n",
    "print([3*k*(k+1)+1 for k in range(20+1)])"
   ]
  },
  {
   "cell_type": "markdown",
   "metadata": {},
   "source": [
    "#### Exercise 1.b: Generate a list that contains the sum of the above lists of length $n$ with $n$ ranging from $0$ to $19$.\n",
    "\n",
    "(You will need to have understood the example given above to be able to do this.)"
   ]
  },
  {
   "cell_type": "code",
   "execution_count": 15,
   "metadata": {},
   "outputs": [
    {
     "name": "stdout",
     "output_type": "stream",
     "text": [
      "[1, 8, 27, 64, 125, 216, 343, 512, 729, 1000, 1331, 1728, 2197, 2744, 3375, 4096, 4913, 5832, 6859, 8000]\n"
     ]
    }
   ],
   "source": [
    "sum_list = []\n",
    "for i in range(0,19+1):\n",
    "    sum_list.append(sum([3*k*(k+1)+1 for k in range(i+1)]))\n",
    "print(sum_list)"
   ]
  },
  {
   "cell_type": "markdown",
   "metadata": {},
   "source": [
    "#### Exercise 1.c: Guess an explicit formula and use this to generate this list directly."
   ]
  },
  {
   "cell_type": "code",
   "execution_count": 16,
   "metadata": {},
   "outputs": [
    {
     "name": "stdout",
     "output_type": "stream",
     "text": [
      "[1, 8, 27, 64, 125, 216, 343, 512, 729, 1000, 1331, 1728, 2197, 2744, 3375, 4096, 4913, 5832, 6859, 8000]\n",
      "4096\n",
      "4096\n"
     ]
    }
   ],
   "source": [
    "sum_list = []\n",
    "for i in range(0,19+1):\n",
    "    sum_list.append(sum([3*k*(k+1)+1 for k in range(i+1)]))\n",
    "print(sum_list)\n",
    "\n",
    "print(sum([3*k*(k+1)+1 for k in range(15+1)]))\n",
    "print(sum_list[15]) # these values are equal for n=15, as expected"
   ]
  }
 ],
 "metadata": {
  "kernelspec": {
   "display_name": "Python 3",
   "language": "python",
   "name": "python3"
  },
  "language_info": {
   "codemirror_mode": {
    "name": "ipython",
    "version": 3
   },
   "file_extension": ".py",
   "mimetype": "text/x-python",
   "name": "python",
   "nbconvert_exporter": "python",
   "pygments_lexer": "ipython3",
   "version": "3.7.3"
  }
 },
 "nbformat": 4,
 "nbformat_minor": 2
}
